{
 "cells": [
  {
   "cell_type": "markdown",
   "metadata": {},
   "source": [
    "# Goals\n",
    "I want to get `legacy_cleaning.py` up and running. I've just downloaded some \"prototype data\" that are much smaller but, hopefully, representative of what we're trying to do. I want `legacy_cleaning` to be a script that I can trust to deploy in various situations."
   ]
  },
  {
   "cell_type": "code",
   "execution_count": 1,
   "metadata": {},
   "outputs": [],
   "source": [
    "import os\n",
    "import astropy.table\n",
    "import numpy as np\n",
    "import matplotlib.pyplot as plt"
   ]
  },
  {
   "cell_type": "markdown",
   "metadata": {},
   "source": [
    "## Step 1: confirm the data look sensible\n",
    "\n",
    "The following cells help me feel that the data are sensible!"
   ]
  },
  {
   "cell_type": "code",
   "execution_count": 2,
   "metadata": {},
   "outputs": [],
   "source": [
    "path_to_prototype = \"/Users/tsrice/Documents/Variability_Project_2020/wuvars/Data/Raw_Downloads/prototype/\"\n",
    "prototype_data = astropy.table.Table.read(\n",
    "    os.path.join(path_to_prototype, \"wserv7_nodupes_timeslice.lt56200_magslice.jhk.btw.13.16.fits.gz\")\n",
    ")"
   ]
  },
  {
   "cell_type": "code",
   "execution_count": 3,
   "metadata": {},
   "outputs": [
    {
     "data": {
      "text/html": [
       "<i>Table masked=True length=106682</i>\n",
       "<table id=\"table140585553196112\" class=\"table-striped table-bordered table-condensed\">\n",
       "<thead><tr><th>SOURCEID</th><th>MEANMJDOBS</th><th>RA</th><th>DEC</th><th>JMHPNT</th><th>JMHPNTERR</th><th>HMKPNT</th><th>HMKPNTERR</th><th>JAPERMAG3</th><th>JAPERMAG3ERR</th><th>HAPERMAG3</th><th>HAPERMAG3ERR</th><th>KAPERMAG3</th><th>KAPERMAG3ERR</th><th>JPPERRBITS</th><th>HPPERRBITS</th><th>KPPERRBITS</th><th>MERGEDCLASS</th><th>PSTAR</th></tr></thead>\n",
       "<thead><tr><th></th><th></th><th>RADIANS</th><th>RADIANS</th><th></th><th></th><th></th><th></th><th></th><th></th><th></th><th></th><th></th><th></th><th></th><th></th><th></th><th></th><th></th></tr></thead>\n",
       "<thead><tr><th>int64</th><th>float64</th><th>float64</th><th>float64</th><th>float32</th><th>float32</th><th>float32</th><th>float32</th><th>float32</th><th>float32</th><th>float32</th><th>float32</th><th>float32</th><th>float32</th><th>int32</th><th>int32</th><th>int32</th><th>int16</th><th>float32</th></tr></thead>\n",
       "<tr><td>44508746088509</td><td>56141.56834</td><td>0.9067662499021771</td><td>0.5498945417026391</td><td>0.7855768</td><td>0.014900262</td><td>0.45006752</td><td>0.013445248</td><td>16.059698</td><td>0.012241712</td><td>15.274121</td><td>0.0084946025</td><td>14.824054</td><td>0.01042192</td><td>0</td><td>0</td><td>0</td><td>1</td><td>0.05247814</td></tr>\n",
       "<tr><td>44508746088509</td><td>56142.6255667</td><td>0.906766239295348</td><td>0.5498945203564145</td><td>0.79457664</td><td>0.016060924</td><td>0.43710995</td><td>0.013979988</td><td>16.060896</td><td>0.012674993</td><td>15.266319</td><td>0.009863968</td><td>14.829209</td><td>0.009906675</td><td>0</td><td>0</td><td>0</td><td>1</td><td>0.00017140902</td></tr>\n",
       "<tr><td>44508746088509</td><td>56143.6297867</td><td>0.9067662499368763</td><td>0.5498944472693994</td><td>0.8305254</td><td>0.014078787</td><td>0.46103477</td><td>0.01241253</td><td>16.099815</td><td>0.011897254</td><td>15.26929</td><td>0.007527787</td><td>14.808255</td><td>0.009869313</td><td>0</td><td>0</td><td>0</td><td>-1</td><td>0.9996572</td></tr>\n",
       "<tr><td>44508746088509</td><td>56144.63299</td><td>0.9067662568227853</td><td>0.5498945226397617</td><td>0.7989149</td><td>0.015385462</td><td>0.47395325</td><td>0.013682403</td><td>16.082125</td><td>0.012503811</td><td>15.28321</td><td>0.008964772</td><td>14.809257</td><td>0.010336392</td><td>0</td><td>0</td><td>0</td><td>1</td><td>0.00017140902</td></tr>\n",
       "<tr><td>44508746088509</td><td>56145.6278067</td><td>0.9067662129919383</td><td>0.5498945668489168</td><td>0.78741455</td><td>0.013868969</td><td>0.46978092</td><td>0.012871371</td><td>16.083097</td><td>0.011332418</td><td>15.295683</td><td>0.007995286</td><td>14.825902</td><td>0.010087001</td><td>0</td><td>0</td><td>0</td><td>1</td><td>0.00017140902</td></tr>\n",
       "<tr><td>44508746088509</td><td>56146.6273033</td><td>0.9067662161398168</td><td>0.5498945169166516</td><td>0.77418613</td><td>0.014778867</td><td>0.48217106</td><td>0.013156028</td><td>16.052792</td><td>0.012087477</td><td>15.278605</td><td>0.008503401</td><td>14.796434</td><td>0.010038588</td><td>0</td><td>0</td><td>0</td><td>1</td><td>0.00017140902</td></tr>\n",
       "<tr><td>44508746088509</td><td>56147.62863</td><td>0.9067662217603977</td><td>0.5498945042170618</td><td>0.8049612</td><td>0.014596688</td><td>0.44035912</td><td>0.012461293</td><td>16.066078</td><td>0.012161224</td><td>15.261117</td><td>0.008072664</td><td>14.820758</td><td>0.009492939</td><td>0</td><td>0</td><td>0</td><td>-1</td><td>0.9996572</td></tr>\n",
       "<tr><td>44508746088509</td><td>56148.58222</td><td>0.9067662800363483</td><td>0.5498945750577019</td><td>0.8191366</td><td>0.015335078</td><td>0.44674873</td><td>0.013755733</td><td>16.075792</td><td>0.012773916</td><td>15.256656</td><td>0.008484792</td><td>14.809907</td><td>0.010827212</td><td>0</td><td>0</td><td>0</td><td>1</td><td>0.052478142</td></tr>\n",
       "<tr><td>44508746088509</td><td>56148.58898</td><td>0.9067663233797368</td><td>0.5498944396717612</td><td>-999999500.0</td><td>-999999500.0</td><td>-999999500.0</td><td>-999999500.0</td><td>-999999500.0</td><td>-999999500.0</td><td>-999999500.0</td><td>-999999500.0</td><td>14.8356905</td><td>0.01068372</td><td>0</td><td>0</td><td>0</td><td>1</td><td>0.05</td></tr>\n",
       "<tr><td>...</td><td>...</td><td>...</td><td>...</td><td>...</td><td>...</td><td>...</td><td>...</td><td>...</td><td>...</td><td>...</td><td>...</td><td>...</td><td>...</td><td>...</td><td>...</td><td>...</td><td>...</td><td>...</td></tr>\n",
       "<tr><td>44508746137680</td><td>56187.6386067</td><td>0.9067236356205889</td><td>0.5411966986543135</td><td>0.86185265</td><td>0.011936379</td><td>0.4254055</td><td>0.010795056</td><td>15.984391</td><td>0.009861847</td><td>15.122539</td><td>0.006724663</td><td>14.697133</td><td>0.008444652</td><td>0</td><td>0</td><td>0</td><td>-1</td><td>0.9996572</td></tr>\n",
       "<tr><td>44508746137680</td><td>56192.63846</td><td>0.9067235791586153</td><td>0.5411966730646885</td><td>0.846735</td><td>0.011595713</td><td>0.46152782</td><td>0.010112115</td><td>15.990414</td><td>0.009687332</td><td>15.143679</td><td>0.0063730804</td><td>14.682151</td><td>0.007851033</td><td>0</td><td>0</td><td>0</td><td>-1</td><td>0.9996572</td></tr>\n",
       "<tr><td>44508746137680</td><td>56193.6408133</td><td>0.9067236060923205</td><td>0.5411966758180231</td><td>0.8316469</td><td>0.012880552</td><td>0.44664097</td><td>0.0109021375</td><td>15.968989</td><td>0.010628515</td><td>15.137342</td><td>0.0072762137</td><td>14.6907015</td><td>0.008118701</td><td>0</td><td>0</td><td>0</td><td>-1</td><td>0.9996572</td></tr>\n",
       "<tr><td>44508746137680</td><td>56194.38604</td><td>0.9067236396271314</td><td>0.5411968163985551</td><td>-999999500.0</td><td>-999999500.0</td><td>-999999500.0</td><td>-999999500.0</td><td>16.055168</td><td>0.020189911</td><td>-999999500.0</td><td>-999999500.0</td><td>-999999500.0</td><td>-999999500.0</td><td>0</td><td>0</td><td>0</td><td>-1</td><td>0.9</td></tr>\n",
       "<tr><td>44508746137680</td><td>56194.41678</td><td>0.9067236567193481</td><td>0.5411966769292197</td><td>0.88828087</td><td>0.02134032</td><td>0.4222145</td><td>0.012632549</td><td>15.988428</td><td>0.019643385</td><td>15.100147</td><td>0.008339467</td><td>14.677933</td><td>0.009488654</td><td>0</td><td>0</td><td>0</td><td>-1</td><td>0.9996572</td></tr>\n",
       "<tr><td>44508746137680</td><td>56195.6449367</td><td>0.9067236224758339</td><td>0.5411966532937982</td><td>0.84204197</td><td>0.013149511</td><td>0.4385643</td><td>0.010855027</td><td>15.9645</td><td>0.01100855</td><td>15.122458</td><td>0.007191763</td><td>14.683894</td><td>0.008130815</td><td>0</td><td>0</td><td>0</td><td>-1</td><td>0.9996572</td></tr>\n",
       "<tr><td>44508746137680</td><td>56196.6425633</td><td>0.9067235955777109</td><td>0.5411966757092324</td><td>0.8724432</td><td>0.013619836</td><td>0.43946362</td><td>0.011009712</td><td>15.992687</td><td>0.01167663</td><td>15.120244</td><td>0.0070111523</td><td>14.68078</td><td>0.008488669</td><td>0</td><td>0</td><td>0</td><td>-1</td><td>0.9996572</td></tr>\n",
       "<tr><td>44508746137680</td><td>56197.63757</td><td>0.9067235976394662</td><td>0.5411967219207974</td><td>0.85921574</td><td>0.013253019</td><td>0.43823242</td><td>0.01138591</td><td>15.9796</td><td>0.010611376</td><td>15.120384</td><td>0.00793985</td><td>14.682152</td><td>0.008160744</td><td>0</td><td>0</td><td>0</td><td>-1</td><td>0.9996572</td></tr>\n",
       "<tr><td>44508746137680</td><td>56198.4429833</td><td>0.906723634766434</td><td>0.5411966976127578</td><td>0.8459959</td><td>0.014376845</td><td>0.44388008</td><td>0.011791585</td><td>15.97198</td><td>0.011959967</td><td>15.125984</td><td>0.0079782745</td><td>14.682104</td><td>0.008682662</td><td>0</td><td>0</td><td>0</td><td>-1</td><td>0.9996572</td></tr>\n",
       "<tr><td>44508746137680</td><td>56199.6369867</td><td>0.9067235820345669</td><td>0.5411966945292224</td><td>0.8578615</td><td>0.012931403</td><td>0.45170593</td><td>0.011425346</td><td>15.997898</td><td>0.010358724</td><td>15.140037</td><td>0.0077406727</td><td>14.688331</td><td>0.008403602</td><td>0</td><td>0</td><td>0</td><td>-1</td><td>0.9996572</td></tr>\n",
       "</table>"
      ],
      "text/plain": [
       "<Table masked=True length=106682>\n",
       "   SOURCEID      MEANMJDOBS          RA         ... MERGEDCLASS     PSTAR    \n",
       "                                  RADIANS       ...                          \n",
       "    int64         float64         float64       ...    int16       float32   \n",
       "-------------- ------------- ------------------ ... ----------- -------------\n",
       "44508746088509   56141.56834 0.9067662499021771 ...           1    0.05247814\n",
       "44508746088509 56142.6255667  0.906766239295348 ...           1 0.00017140902\n",
       "44508746088509 56143.6297867 0.9067662499368763 ...          -1     0.9996572\n",
       "44508746088509   56144.63299 0.9067662568227853 ...           1 0.00017140902\n",
       "44508746088509 56145.6278067 0.9067662129919383 ...           1 0.00017140902\n",
       "44508746088509 56146.6273033 0.9067662161398168 ...           1 0.00017140902\n",
       "44508746088509   56147.62863 0.9067662217603977 ...          -1     0.9996572\n",
       "44508746088509   56148.58222 0.9067662800363483 ...           1   0.052478142\n",
       "44508746088509   56148.58898 0.9067663233797368 ...           1          0.05\n",
       "           ...           ...                ... ...         ...           ...\n",
       "44508746137680 56187.6386067 0.9067236356205889 ...          -1     0.9996572\n",
       "44508746137680   56192.63846 0.9067235791586153 ...          -1     0.9996572\n",
       "44508746137680 56193.6408133 0.9067236060923205 ...          -1     0.9996572\n",
       "44508746137680   56194.38604 0.9067236396271314 ...          -1           0.9\n",
       "44508746137680   56194.41678 0.9067236567193481 ...          -1     0.9996572\n",
       "44508746137680 56195.6449367 0.9067236224758339 ...          -1     0.9996572\n",
       "44508746137680 56196.6425633 0.9067235955777109 ...          -1     0.9996572\n",
       "44508746137680   56197.63757 0.9067235976394662 ...          -1     0.9996572\n",
       "44508746137680 56198.4429833  0.906723634766434 ...          -1     0.9996572\n",
       "44508746137680 56199.6369867 0.9067235820345669 ...          -1     0.9996572"
      ]
     },
     "execution_count": 3,
     "metadata": {},
     "output_type": "execute_result"
    }
   ],
   "source": [
    "prototype_data"
   ]
  },
  {
   "cell_type": "code",
   "execution_count": 4,
   "metadata": {},
   "outputs": [
    {
     "data": {
      "text/plain": [
       "[<matplotlib.lines.Line2D at 0x7fdca1426210>]"
      ]
     },
     "execution_count": 4,
     "metadata": {},
     "output_type": "execute_result"
    },
    {
     "data": {
      "image/png": "[encoded data removed]",
      "text/plain": [
       "<Figure size 432x288 with 1 Axes>"
      ]
     },
     "metadata": {
      "needs_background": "light"
     },
     "output_type": "display_data"
    }
   ],
   "source": [
    "plt.plot(prototype_data['RA'], prototype_data['DEC'], 'k,', alpha=0.1)"
   ]
  },
  {
   "cell_type": "code",
   "execution_count": 5,
   "metadata": {},
   "outputs": [
    {
     "data": {
      "text/plain": [
       "[<matplotlib.lines.Line2D at 0x7fdca1ae1a90>]"
      ]
     },
     "execution_count": 5,
     "metadata": {},
     "output_type": "execute_result"
    },
    {
     "data": {
      "image/png": "[encoded data removed]",
      "text/plain": [
       "<Figure size 432x288 with 1 Axes>"
      ]
     },
     "metadata": {
      "needs_background": "light"
     },
     "output_type": "display_data"
    }
   ],
   "source": [
    "plt.plot(prototype_data['MEANMJDOBS'], 'k,')"
   ]
  },
  {
   "cell_type": "code",
   "execution_count": 6,
   "metadata": {},
   "outputs": [
    {
     "data": {
      "text/html": [
       "&lt;MaskedColumn name=&apos;SOURCEID&apos; dtype=&apos;int64&apos; length=2147&gt;\n",
       "<table>\n",
       "<tr><td>44508746088509</td></tr>\n",
       "<tr><td>44508746088532</td></tr>\n",
       "<tr><td>44508746088539</td></tr>\n",
       "<tr><td>44508746088586</td></tr>\n",
       "<tr><td>44508746088587</td></tr>\n",
       "<tr><td>44508746088600</td></tr>\n",
       "<tr><td>44508746088627</td></tr>\n",
       "<tr><td>44508746088635</td></tr>\n",
       "<tr><td>44508746088648</td></tr>\n",
       "<tr><td>44508746088680</td></tr>\n",
       "<tr><td>44508746088689</td></tr>\n",
       "<tr><td>44508746088707</td></tr>\n",
       "<tr><td>...</td></tr>\n",
       "<tr><td>44508746137508</td></tr>\n",
       "<tr><td>44508746137512</td></tr>\n",
       "<tr><td>44508746137532</td></tr>\n",
       "<tr><td>44508746137533</td></tr>\n",
       "<tr><td>44508746137553</td></tr>\n",
       "<tr><td>44508746137561</td></tr>\n",
       "<tr><td>44508746137571</td></tr>\n",
       "<tr><td>44508746137584</td></tr>\n",
       "<tr><td>44508746137593</td></tr>\n",
       "<tr><td>44508746137607</td></tr>\n",
       "<tr><td>44508746137609</td></tr>\n",
       "<tr><td>44508746137680</td></tr>\n",
       "</table>"
      ],
      "text/plain": [
       "<MaskedColumn name='SOURCEID' dtype='int64' length=2147>\n",
       "44508746088509\n",
       "44508746088532\n",
       "44508746088539\n",
       "44508746088586\n",
       "44508746088587\n",
       "44508746088600\n",
       "44508746088627\n",
       "44508746088635\n",
       "44508746088648\n",
       "44508746088680\n",
       "44508746088689\n",
       "44508746088707\n",
       "           ...\n",
       "44508746137508\n",
       "44508746137512\n",
       "44508746137532\n",
       "44508746137533\n",
       "44508746137553\n",
       "44508746137561\n",
       "44508746137571\n",
       "44508746137584\n",
       "44508746137593\n",
       "44508746137607\n",
       "44508746137609\n",
       "44508746137680"
      ]
     },
     "execution_count": 6,
     "metadata": {},
     "output_type": "execute_result"
    }
   ],
   "source": [
    "np.unique(prototype_data['SOURCEID'])"
   ]
  },
  {
   "cell_type": "markdown",
   "metadata": {},
   "source": [
    "## Step 2: Start prototyping\n",
    "\n",
    "I want to pass in the data path and the output path. Then I want to create the intermediate steps."
   ]
  },
  {
   "cell_type": "code",
   "execution_count": 50,
   "metadata": {},
   "outputs": [],
   "source": [
    "%run ../legacy_cleaning.py"
   ]
  },
  {
   "cell_type": "code",
   "execution_count": 51,
   "metadata": {},
   "outputs": [
    {
     "name": "stdout",
     "output_type": "stream",
     "text": [
      "Input:  /Users/tsrice/Documents/Variability_Project_2020/wuvars/Data/Raw_Downloads/prototype/wserv7_nodupes_timeslice.lt56200_magslice.jhk.btw.13.16.fits.gz\n",
      "Output:  /Users/tsrice/Documents/Variability_Project_2020/wuvars/Data/reduction_artifacts/prototypes/\n",
      "Name:  DUMMY\n",
      "Auto-detected table type: fits\n",
      "Auto-detected table type: hdf5\n"
     ]
    },
    {
     "name": "stderr",
     "output_type": "stream",
     "text": [
      "/Users/tsrice/opt/anaconda3/lib/python3.7/site-packages/atpy/decorators.py:56: ResourceWarning: unclosed file <_io.BufferedReader name='/Users/tsrice/Documents/Variability_Project_2020/wuvars/Data/reduction_artifacts/prototypes/summary_spreadsheet.h5'>\n",
      "  header = open(filename, 'rb').read(4)\n"
     ]
    },
    {
     "name": "stdout",
     "output_type": "stream",
     "text": [
      "nullified timestamp 56142.629473 J band (quality: 0.94)\n",
      "nullified timestamp 56148.583743 J band (quality: 0.73)\n",
      "nullified timestamp 56148.586805 J band (quality: 0.00)\n",
      "nullified timestamp 56148.588980 J band (quality: 0.00)\n",
      "nullified timestamp 56149.628700 J band (quality: 0.84)\n",
      "nullified timestamp 56149.630740 J band (quality: 0.00)\n",
      "nullified timestamp 56149.631363 J band (quality: 0.95)\n",
      "nullified timestamp 56150.633297 J band (quality: 0.95)\n",
      "nullified timestamp 56151.632577 J band (quality: 0.38)\n",
      "nullified timestamp 56151.635160 J band (quality: 0.00)\n",
      "nullified timestamp 56156.635750 J band (quality: 0.00)\n",
      "nullified timestamp 56157.596205 J band (quality: 0.92)\n",
      "nullified timestamp 56157.601880 J band (quality: 0.94)\n",
      "nullified timestamp 56157.604040 J band (quality: 0.00)\n",
      "nullified timestamp 56157.604827 J band (quality: 0.94)\n",
      "nullified timestamp 56158.562037 J band (quality: 0.74)\n",
      "nullified timestamp 56163.635083 J band (quality: 0.32)\n",
      "nullified timestamp 56163.637560 J band (quality: 0.00)\n",
      "nullified timestamp 56164.632977 J band (quality: 0.53)\n",
      "nullified timestamp 56166.637393 J band (quality: 0.36)\n",
      "nullified timestamp 56166.637405 J band (quality: 0.43)\n",
      "nullified timestamp 56167.629265 J band (quality: 0.52)\n",
      "nullified timestamp 56167.631763 J band (quality: 0.43)\n",
      "nullified timestamp 56167.634270 J band (quality: 0.00)\n",
      "nullified timestamp 56168.517310 J band (quality: 0.67)\n",
      "nullified timestamp 56168.519875 J band (quality: 0.00)\n",
      "nullified timestamp 56168.520427 J band (quality: 0.71)\n",
      "nullified timestamp 56169.585413 J band (quality: 0.84)\n",
      "nullified timestamp 56169.586987 J band (quality: 0.30)\n",
      "nullified timestamp 56169.588360 J band (quality: 0.00)\n",
      "nullified timestamp 56169.588500 J band (quality: 0.70)\n",
      "nullified timestamp 56169.590955 J band (quality: 0.54)\n",
      "nullified timestamp 56169.591073 J band (quality: 0.55)\n",
      "nullified timestamp 56169.592525 J band (quality: 0.00)\n",
      "nullified timestamp 56169.595680 J band (quality: 0.00)\n",
      "nullified timestamp 56170.598113 J band (quality: 0.94)\n",
      "nullified timestamp 56170.599403 J band (quality: 0.59)\n",
      "nullified timestamp 56170.600910 J band (quality: 0.85)\n",
      "nullified timestamp 56170.602600 J band (quality: 0.00)\n",
      "nullified timestamp 56170.605710 J band (quality: 0.00)\n",
      "nullified timestamp 56171.617177 J band (quality: 0.93)\n",
      "nullified timestamp 56171.619185 J band (quality: 0.00)\n",
      "nullified timestamp 56173.585137 J band (quality: 0.66)\n",
      "nullified timestamp 56173.588065 J band (quality: 0.00)\n",
      "nullified timestamp 56174.635440 J band (quality: 0.00)\n",
      "nullified timestamp 56178.627853 J band (quality: 0.93)\n",
      "nullified timestamp 56179.600947 J band (quality: 0.49)\n",
      "nullified timestamp 56179.601020 J band (quality: 0.44)\n",
      "nullified timestamp 56179.603640 J band (quality: 0.00)\n",
      "nullified timestamp 56180.492963 J band (quality: 0.42)\n",
      "nullified timestamp 56180.495515 J band (quality: 0.00)\n",
      "nullified timestamp 56181.491940 J band (quality: 0.36)\n",
      "nullified timestamp 56181.494465 J band (quality: 0.00)\n",
      "nullified timestamp 56182.642387 J band (quality: 0.22)\n",
      "nullified timestamp 56182.642425 J band (quality: 0.15)\n",
      "nullified timestamp 56182.647510 J band (quality: 0.00)\n",
      "nullified timestamp 56193.643213 J band (quality: 0.77)\n",
      "nullified timestamp 56194.386040 J band (quality: 0.63)\n",
      "nullified timestamp 56194.387210 J band (quality: 0.89)\n",
      "nullified timestamp 56194.387410 J band (quality: 0.95)\n",
      "nullified timestamp 56194.388340 J band (quality: 0.15)\n",
      "nullified timestamp 56194.416780 J band (quality: 0.90)\n",
      "nullified timestamp 56194.417940 J band (quality: 0.94)\n",
      "nullified timestamp 56194.419077 J band (quality: 0.38)\n",
      "nullified timestamp 56194.421750 J band (quality: 0.00)\n",
      "nullified timestamp 56195.647267 J band (quality: 0.37)\n",
      "nullified timestamp 56195.649785 J band (quality: 0.00)\n",
      "nullified timestamp 56196.644883 J band (quality: 0.89)\n",
      "nullified timestamp 56197.639903 J band (quality: 0.81)\n",
      "nullified timestamp 56142.626927 H band (quality: 0.87)\n",
      "nullified timestamp 56148.588980 H band (quality: 0.00)\n",
      "nullified timestamp 56150.632980 H band (quality: 0.55)\n",
      "nullified timestamp 56150.635630 H band (quality: 0.34)\n",
      "nullified timestamp 56150.635690 H band (quality: 0.00)\n",
      "nullified timestamp 56151.632577 H band (quality: 0.86)\n",
      "nullified timestamp 56151.635160 H band (quality: 0.92)\n",
      "nullified timestamp 56157.604040 H band (quality: 0.95)\n",
      "nullified timestamp 56157.604827 H band (quality: 0.84)\n",
      "nullified timestamp 56158.564833 H band (quality: 0.90)\n",
      "nullified timestamp 56164.632977 H band (quality: 0.82)\n",
      "nullified timestamp 56165.621020 H band (quality: 0.00)\n",
      "nullified timestamp 56165.626307 H band (quality: 0.34)\n",
      "nullified timestamp 56166.637393 H band (quality: 0.62)\n",
      "nullified timestamp 56166.637405 H band (quality: 0.00)\n",
      "nullified timestamp 56167.631763 H band (quality: 0.92)\n",
      "nullified timestamp 56168.517310 H band (quality: 0.95)\n",
      "nullified timestamp 56169.585413 H band (quality: 0.91)\n",
      "nullified timestamp 56169.586987 H band (quality: 0.94)\n",
      "nullified timestamp 56169.588360 H band (quality: 0.82)\n",
      "nullified timestamp 56169.590955 H band (quality: 0.00)\n",
      "nullified timestamp 56169.591073 H band (quality: 0.62)\n",
      "nullified timestamp 56169.592525 H band (quality: 0.90)\n",
      "nullified timestamp 56169.595680 H band (quality: 0.78)\n",
      "nullified timestamp 56173.587595 H band (quality: 0.00)\n",
      "nullified timestamp 56178.630177 H band (quality: 0.90)\n",
      "nullified timestamp 56179.600947 H band (quality: 0.43)\n",
      "nullified timestamp 56179.601020 H band (quality: 0.00)\n",
      "nullified timestamp 56179.603640 H band (quality: 0.53)\n",
      "nullified timestamp 56181.491940 H band (quality: 0.91)\n",
      "nullified timestamp 56182.642387 H band (quality: 0.66)\n",
      "nullified timestamp 56182.642425 H band (quality: 0.00)\n",
      "nullified timestamp 56182.647510 H band (quality: 0.00)\n",
      "nullified timestamp 56185.609423 H band (quality: 0.66)\n",
      "nullified timestamp 56193.643213 H band (quality: 0.75)\n",
      "nullified timestamp 56194.386040 H band (quality: 0.00)\n",
      "nullified timestamp 56194.387210 H band (quality: 0.00)\n",
      "nullified timestamp 56194.388340 H band (quality: 0.00)\n",
      "nullified timestamp 56194.419077 H band (quality: 0.80)\n",
      "nullified timestamp 56194.421750 H band (quality: 0.81)\n",
      "nullified timestamp 56195.649785 H band (quality: 0.94)\n",
      "nullified timestamp 56144.636767 K band (quality: 0.80)\n",
      "nullified timestamp 56148.583743 K band (quality: 0.81)\n",
      "nullified timestamp 56148.586805 K band (quality: 0.85)\n",
      "nullified timestamp 56149.624705 K band (quality: 0.00)\n",
      "nullified timestamp 56149.628700 K band (quality: 0.00)\n",
      "nullified timestamp 56149.631363 K band (quality: 0.47)\n",
      "nullified timestamp 56150.632980 K band (quality: 0.00)\n",
      "nullified timestamp 56150.635630 K band (quality: 0.51)\n",
      "nullified timestamp 56150.635690 K band (quality: 0.47)\n",
      "nullified timestamp 56151.632577 K band (quality: 0.80)\n",
      "nullified timestamp 56151.635160 K band (quality: 0.85)\n",
      "nullified timestamp 56156.629145 K band (quality: 0.00)\n",
      "nullified timestamp 56157.596205 K band (quality: 0.00)\n",
      "nullified timestamp 56157.601880 K band (quality: 0.92)\n",
      "nullified timestamp 56161.632697 K band (quality: 0.88)\n",
      "nullified timestamp 56164.632977 K band (quality: 0.83)\n",
      "nullified timestamp 56165.621020 K band (quality: 0.00)\n",
      "nullified timestamp 56165.626307 K band (quality: 0.54)\n",
      "nullified timestamp 56166.637393 K band (quality: 0.40)\n",
      "nullified timestamp 56166.637405 K band (quality: 0.41)\n",
      "nullified timestamp 56167.629265 K band (quality: 0.00)\n",
      "nullified timestamp 56167.631763 K band (quality: 0.51)\n",
      "nullified timestamp 56167.634270 K band (quality: 0.53)\n",
      "nullified timestamp 56168.512320 K band (quality: 0.00)\n",
      "nullified timestamp 56169.585413 K band (quality: 0.87)\n",
      "nullified timestamp 56169.586987 K band (quality: 0.49)\n",
      "nullified timestamp 56169.588360 K band (quality: 0.00)\n",
      "nullified timestamp 56169.588500 K band (quality: 0.87)\n",
      "nullified timestamp 56169.590955 K band (quality: 0.85)\n",
      "nullified timestamp 56169.591073 K band (quality: 0.76)\n",
      "nullified timestamp 56169.592525 K band (quality: 0.59)\n",
      "nullified timestamp 56169.595680 K band (quality: 0.83)\n",
      "nullified timestamp 56170.605710 K band (quality: 0.62)\n",
      "nullified timestamp 56171.612450 K band (quality: 0.00)\n",
      "nullified timestamp 56171.619185 K band (quality: 0.90)\n",
      "nullified timestamp 56174.628780 K band (quality: 0.00)\n",
      "nullified timestamp 56178.630177 K band (quality: 0.77)\n"
     ]
    },
    {
     "name": "stdout",
     "output_type": "stream",
     "text": [
      "nullified timestamp 56179.600947 K band (quality: 0.89)\n",
      "nullified timestamp 56179.601020 K band (quality: 0.88)\n",
      "nullified timestamp 56179.603640 K band (quality: 0.91)\n",
      "nullified timestamp 56180.492963 K band (quality: 0.93)\n",
      "nullified timestamp 56180.495515 K band (quality: 0.94)\n",
      "nullified timestamp 56181.494465 K band (quality: 0.94)\n",
      "nullified timestamp 56182.642387 K band (quality: 0.83)\n",
      "nullified timestamp 56182.642425 K band (quality: 0.74)\n",
      "nullified timestamp 56182.647510 K band (quality: 0.83)\n",
      "nullified timestamp 56193.643213 K band (quality: 0.61)\n",
      "nullified timestamp 56194.386040 K band (quality: 0.00)\n",
      "nullified timestamp 56194.387210 K band (quality: 0.00)\n",
      "nullified timestamp 56194.387410 K band (quality: 0.00)\n",
      "nullified timestamp 56194.388340 K band (quality: 0.00)\n",
      "nullified timestamp 56194.419077 K band (quality: 0.94)\n",
      "nullified timestamp 56195.647267 K band (quality: 0.33)\n",
      "nullified timestamp 56195.649785 K band (quality: 0.32)\n",
      "scrubbed 367 sources at J band\n",
      "scrubbed 278 sources at H band\n",
      "scrubbed 272 sources at K band\n",
      "Auto-detected table type: hdf5\n",
      "Auto-detected table type: hdf5\n",
      "Auto-detected table type: hdf5\n"
     ]
    }
   ],
   "source": [
    "path_to_prototype = \"/Users/tsrice/Documents/Variability_Project_2020/wuvars/Data/Raw_Downloads/prototype/\"\n",
    "prototype_input_file = os.path.join(path_to_prototype, \"wserv7_nodupes_timeslice.lt56200_magslice.jhk.btw.13.16.fits.gz\")\n",
    "\n",
    "prototype_output_path = \"/Users/tsrice/Documents/Variability_Project_2020/wuvars/Data/reduction_artifacts/prototypes/\"\n",
    "\n",
    "do_it(prototype_input_file, prototype_output_path, 'DUMMY', minimum_nights=15)\n"
   ]
  },
  {
   "cell_type": "code",
   "execution_count": 12,
   "metadata": {},
   "outputs": [
    {
     "name": "stdout",
     "output_type": "stream",
     "text": [
      "> \u001b[0;32m/Users/tsrice/Documents/Variability_Project_2020/wuvars/reduction/prototypes/h5py/h5t.pyx\u001b[0m(1717)\u001b[0;36mh5py.h5t.py_create\u001b[0;34m()\u001b[0m\n",
      "\n",
      "ipdb> c\n"
     ]
    }
   ],
   "source": []
  },
  {
   "cell_type": "code",
   "execution_count": 34,
   "metadata": {},
   "outputs": [
    {
     "name": "stdout",
     "output_type": "stream",
     "text": [
      "Auto-detected table type: fits\n"
     ]
    }
   ],
   "source": [
    "data = atpy.Table(prototype_input_file)\n"
   ]
  },
  {
   "cell_type": "code",
   "execution_count": 19,
   "metadata": {},
   "outputs": [
    {
     "data": {
      "text/plain": [
       "array([b'FITSWriter: database:WSERV7v20140528', b'14/08/20 20:57',\n",
       "       b'SQL Query',\n",
       "       b'select    b.SOURCEID, MEANMJDOBS, s.RA, s.DEC, JMHPNT, JMHPNTERR,',\n",
       "       b'HMKPNT, HMKPNTERR, JAPERMAG3, JAPERMAG3ERR, HAPERMAG3, HAPERMAG3ERR,',\n",
       "       b'KAPERMAG3, KAPERMAG3ERR, JPPERRBITS, HPPERRBITS, KPPERRBITS,',\n",
       "       b'MERGEDCLASS, PSTAR from    wserv7SourceXSynopticSourceBestMatch as b,',\n",
       "       b'wserv7SynopticMergeLog as l,    wserv7SynopticSource as s,',\n",
       "       b'wserv7Variability as v,    wserv7MergeLog as ml where',\n",
       "       b'b.synFrameSetID=s.synFrameSetID and    b.synSeqNum=s.synSeqNum and',\n",
       "       b'b.synFrameSetID=l.synFrameSetID and      s.RA > 0 and',\n",
       "       b'v.sourceID=b.sourceID and    (v.knGoodObs>=70 or v.hnGoodObs>=70 or',\n",
       "       b'v.jnGoodObs>=70) and   ml.frameSetID=v.frameSetID and',\n",
       "       b'dbo.fGreatCircleDist(ml.ra,ml.dec,l.ra,l.dec)<2 and',\n",
       "       b'MEANMJDOBS<56200 and    (v.jMedianMag BETWEEN 13 and 17) and',\n",
       "       b'(v.hMedianMag BETWEEN 13 and 17) and   (v.kMedianMag BETWEEN 13 and',\n",
       "       b'17)  order by SOURCEID, MEANMJDOBS'], dtype='|S69')"
      ]
     },
     "execution_count": 19,
     "metadata": {},
     "output_type": "execute_result"
    }
   ],
   "source": [
    "data.comments = np.string_(data.comments)\n",
    "data.comments"
   ]
  },
  {
   "cell_type": "code",
   "execution_count": 47,
   "metadata": {},
   "outputs": [
    {
     "name": "stdout",
     "output_type": "stream",
     "text": [
      "SOURCEID\n",
      "[44508746088509 44508746088509 44508746088509 ... 44508746137680\n",
      " 44508746137680 44508746137680]\n",
      "MEANMJDOBS\n",
      "[56141.56834   56142.6255667 56143.6297867 ... 56197.63757   56198.4429833\n",
      " 56199.6369867]\n",
      "RA\n",
      "[0.90676625 0.90676624 0.90676625 ... 0.9067236  0.90672363 0.90672358]\n",
      "DEC\n",
      "[0.54989454 0.54989452 0.54989445 ... 0.54119672 0.5411967  0.54119669]\n",
      "JMHPNT\n",
      "[0.7855768  0.79457664 0.8305254  ... 0.85921574 0.8459959  0.8578615 ]\n",
      "JMHPNTERR\n",
      "[0.01490026 0.01606092 0.01407879 ... 0.01325302 0.01437685 0.0129314 ]\n",
      "HMKPNT\n",
      "[0.45006752 0.43710995 0.46103477 ... 0.43823242 0.44388008 0.45170593]\n",
      "HMKPNTERR\n",
      "[0.01344525 0.01397999 0.01241253 ... 0.01138591 0.01179159 0.01142535]\n",
      "JAPERMAG3\n",
      "[16.059698 16.060896 16.099815 ... 15.9796   15.97198  15.997898]\n",
      "JAPERMAG3ERR\n",
      "[0.01224171 0.01267499 0.01189725 ... 0.01061138 0.01195997 0.01035872]\n",
      "HAPERMAG3\n",
      "[15.274121 15.266319 15.26929  ... 15.120384 15.125984 15.140037]\n",
      "HAPERMAG3ERR\n",
      "[0.0084946  0.00986397 0.00752779 ... 0.00793985 0.00797827 0.00774067]\n",
      "KAPERMAG3\n",
      "[14.824054 14.829209 14.808255 ... 14.682152 14.682104 14.688331]\n",
      "KAPERMAG3ERR\n",
      "[0.01042192 0.00990667 0.00986931 ... 0.00816074 0.00868266 0.0084036 ]\n",
      "JPPERRBITS\n",
      "[0 0 0 ... 0 0 0]\n",
      "HPPERRBITS\n",
      "[0 0 0 ... 0 0 0]\n",
      "KPPERRBITS\n",
      "[0 0 0 ... 0 0 0]\n",
      "MERGEDCLASS\n",
      "[ 1  1 -1 ... -1 -1 -1]\n",
      "PSTAR\n",
      "[5.2478138e-02 1.7140902e-04 9.9965721e-01 ... 9.9965721e-01 9.9965721e-01\n",
      " 9.9965721e-01]\n",
      "Auto-detected table type: hdf5\n"
     ]
    }
   ],
   "source": [
    "new_data = atpy.Table()\n",
    "for col in data.columns:\n",
    "    print(col)\n",
    "    print(data[col])\n",
    "    new_data.add_column(col, data[col])\n",
    "new_data.write('test_hdf5.h5', overwrite=True)\n"
   ]
  },
  {
   "cell_type": "code",
   "execution_count": 40,
   "metadata": {},
   "outputs": [
    {
     "data": {
      "text/plain": [
       "['', '', '', '', '', '', '', '', '', '', '', '', '', '', '', '', '']"
      ]
     },
     "execution_count": 40,
     "metadata": {},
     "output_type": "execute_result"
    }
   ],
   "source": [
    "data.comments\n",
    "# for i, item in enumerate(data.comments):\n",
    "#     data.comments[i] = ''"
   ]
  },
  {
   "cell_type": "code",
   "execution_count": 49,
   "metadata": {},
   "outputs": [
    {
     "name": "stdout",
     "output_type": "stream",
     "text": [
      "Table has no name\n",
      "------------------------------------------\n",
      "|         Name |    Unit | Type | Format |\n",
      "------------------------------------------\n",
      "|     SOURCEID |         |  >i8 |    22i |\n",
      "|   MEANMJDOBS |         |  >f8 | 25.17e |\n",
      "|           RA | RADIANS |  >f8 | 25.17e |\n",
      "|          DEC | RADIANS |  >f8 | 25.17e |\n",
      "|       JMHPNT |         |  >f4 |  16.8e |\n",
      "|    JMHPNTERR |         |  >f4 |  16.8e |\n",
      "|       HMKPNT |         |  >f4 |  16.8e |\n",
      "|    HMKPNTERR |         |  >f4 |  16.8e |\n",
      "|    JAPERMAG3 |         |  >f4 |  16.8e |\n",
      "| JAPERMAG3ERR |         |  >f4 |  16.8e |\n",
      "|    HAPERMAG3 |         |  >f4 |  16.8e |\n",
      "| HAPERMAG3ERR |         |  >f4 |  16.8e |\n",
      "|    KAPERMAG3 |         |  >f4 |  16.8e |\n",
      "| KAPERMAG3ERR |         |  >f4 |  16.8e |\n",
      "|   JPPERRBITS |         |  >i4 |    12i |\n",
      "|   HPPERRBITS |         |  >i4 |    12i |\n",
      "|   KPPERRBITS |         |  >i4 |    12i |\n",
      "|  MERGEDCLASS |         |  >i2 |     5i |\n",
      "|        PSTAR |         |  >f4 |  16.8e |\n",
      "------------------------------------------\n"
     ]
    }
   ],
   "source": [
    "data.describe()"
   ]
  },
  {
   "cell_type": "code",
   "execution_count": 48,
   "metadata": {},
   "outputs": [
    {
     "name": "stdout",
     "output_type": "stream",
     "text": [
      "Table has no name\n",
      "---------------------------------------\n",
      "|         Name | Unit | Type | Format |\n",
      "---------------------------------------\n",
      "|     SOURCEID |      |  >i8 |    22i |\n",
      "|   MEANMJDOBS |      |  >f8 | 25.17e |\n",
      "|           RA |      |  >f8 | 25.17e |\n",
      "|          DEC |      |  >f8 | 25.17e |\n",
      "|       JMHPNT |      |  >f4 |  16.8e |\n",
      "|    JMHPNTERR |      |  >f4 |  16.8e |\n",
      "|       HMKPNT |      |  >f4 |  16.8e |\n",
      "|    HMKPNTERR |      |  >f4 |  16.8e |\n",
      "|    JAPERMAG3 |      |  >f4 |  16.8e |\n",
      "| JAPERMAG3ERR |      |  >f4 |  16.8e |\n",
      "|    HAPERMAG3 |      |  >f4 |  16.8e |\n",
      "| HAPERMAG3ERR |      |  >f4 |  16.8e |\n",
      "|    KAPERMAG3 |      |  >f4 |  16.8e |\n",
      "| KAPERMAG3ERR |      |  >f4 |  16.8e |\n",
      "|   JPPERRBITS |      |  >i4 |    12i |\n",
      "|   HPPERRBITS |      |  >i4 |    12i |\n",
      "|   KPPERRBITS |      |  >i4 |    12i |\n",
      "|  MERGEDCLASS |      |  >i2 |     5i |\n",
      "|        PSTAR |      |  >f4 |  16.8e |\n",
      "---------------------------------------\n"
     ]
    }
   ],
   "source": [
    "new_data.describe()"
   ]
  },
  {
   "cell_type": "markdown",
   "metadata": {},
   "source": [
    "## Step 3. Verify."
   ]
  },
  {
   "cell_type": "code",
   "execution_count": 141,
   "metadata": {},
   "outputs": [
    {
     "name": "stdout",
     "output_type": "stream",
     "text": [
      "Auto-detected table type: hdf5\n"
     ]
    },
    {
     "name": "stderr",
     "output_type": "stream",
     "text": [
      "/Users/tsrice/opt/anaconda3/lib/python3.7/site-packages/atpy/decorators.py:56: ResourceWarning: unclosed file <_io.BufferedReader name='/Users/tsrice/Documents/Variability_Project_2020/wuvars/Data/reduction_artifacts/prototypes/DUMMY_graded_clipped0.95_scrubbed0.1_dusted0.5.h5'>\n",
      "  header = open(filename, 'rb').read(4)\n"
     ]
    },
    {
     "data": {
      "image/png": "[encoded data removed]",
      "text/plain": [
       "<Figure size 576x288 with 1 Axes>"
      ]
     },
     "metadata": {
      "needs_background": "light"
     },
     "output_type": "display_data"
    }
   ],
   "source": [
    "cleaned_data = atpy.Table(os.path.join(prototype_output_path, 'DUMMY_graded_clipped0.95_scrubbed0.1_dusted0.5.h5'))\n",
    "\n",
    "some_star = np.unique(data['SOURCEID'])[1003]\n",
    "\n",
    "some_star_old_data = data.where((data.SOURCEID == some_star) & (data.JAPERMAG3 > 0))\n",
    "some_star_new_data = cleaned_data.where((cleaned_data.SOURCEID == some_star) & (cleaned_data.JAPERMAG3 > 0))\n",
    "\n",
    "od = some_star_old_data\n",
    "nd = some_star_new_data\n",
    "\n",
    "plt.figure(figsize=(8,4))\n",
    "plt.errorbar(od.MEANMJDOBS, od.JAPERMAG3, yerr=od.JAPERMAG3ERR, fmt='b.', alpha=0.5, label='removed data')\n",
    "plt.errorbar(nd.MEANMJDOBS, nd.JAPERMAG3, yerr=nd.JAPERMAG3ERR, fmt='r.')\n",
    "plt.ylim(16.5,15.8)\n",
    "plt.legend()\n",
    "plt.title(f'WSERV7: SOURCEID = {some_star}')\n",
    "plt.ylabel(\"J magnitude\")\n",
    "plt.xlabel(\"Modified Julian Date\")\n",
    "\n",
    "plt.savefig(\"reference_star_1.png\")"
   ]
  },
  {
   "cell_type": "code",
   "execution_count": 142,
   "metadata": {},
   "outputs": [
    {
     "name": "stdout",
     "output_type": "stream",
     "text": [
      "Auto-detected table type: hdf5\n"
     ]
    },
    {
     "name": "stderr",
     "output_type": "stream",
     "text": [
      "/Users/tsrice/opt/anaconda3/lib/python3.7/site-packages/atpy/decorators.py:56: ResourceWarning: unclosed file <_io.BufferedReader name='/Users/tsrice/Documents/Variability_Project_2020/wuvars/Data/reduction_artifacts/prototypes/DUMMY_graded_clipped0.95_scrubbed0.1_dusted0.5.h5'>\n",
      "  header = open(filename, 'rb').read(4)\n"
     ]
    },
    {
     "data": {
      "image/png": "[encoded data removed]",
      "text/plain": [
       "<Figure size 576x288 with 1 Axes>"
      ]
     },
     "metadata": {
      "needs_background": "light"
     },
     "output_type": "display_data"
    }
   ],
   "source": [
    "cleaned_data = atpy.Table(os.path.join(prototype_output_path, 'DUMMY_graded_clipped0.95_scrubbed0.1_dusted0.5.h5'))\n",
    "\n",
    "some_star = np.unique(data['SOURCEID'])[1004]\n",
    "\n",
    "some_star_old_data = data.where((data.SOURCEID == some_star) & (data.JAPERMAG3 > 0))\n",
    "some_star_new_data = cleaned_data.where((cleaned_data.SOURCEID == some_star) & (cleaned_data.JAPERMAG3 > 0))\n",
    "\n",
    "od = some_star_old_data\n",
    "nd = some_star_new_data\n",
    "\n",
    "plt.figure(figsize=(8,4))\n",
    "plt.errorbar(od.MEANMJDOBS, od.JAPERMAG3, yerr=od.JAPERMAG3ERR, fmt='b.', alpha=0.5, label='removed data')\n",
    "plt.errorbar(nd.MEANMJDOBS, nd.JAPERMAG3, yerr=nd.JAPERMAG3ERR, fmt='r.')\n",
    "plt.ylim(17.4,16.2)\n",
    "plt.legend()\n",
    "plt.title(f'WSERV7: SOURCEID = {some_star}')\n",
    "plt.ylabel(\"J magnitude\")\n",
    "plt.xlabel(\"Modified Julian Date\")\n",
    "\n",
    "plt.savefig(\"reference_star_2.png\")"
   ]
  },
  {
   "cell_type": "code",
   "execution_count": 143,
   "metadata": {},
   "outputs": [
    {
     "name": "stdout",
     "output_type": "stream",
     "text": [
      "Auto-detected table type: hdf5\n"
     ]
    },
    {
     "name": "stderr",
     "output_type": "stream",
     "text": [
      "/Users/tsrice/opt/anaconda3/lib/python3.7/site-packages/atpy/decorators.py:56: ResourceWarning: unclosed file <_io.BufferedReader name='/Users/tsrice/Documents/Variability_Project_2020/wuvars/Data/reduction_artifacts/prototypes/DUMMY_graded_clipped0.95_scrubbed0.1_dusted0.5.h5'>\n",
      "  header = open(filename, 'rb').read(4)\n"
     ]
    },
    {
     "data": {
      "image/png": "[encoded data removed]",
      "text/plain": [
       "<Figure size 576x288 with 1 Axes>"
      ]
     },
     "metadata": {
      "needs_background": "light"
     },
     "output_type": "display_data"
    }
   ],
   "source": [
    "cleaned_data = atpy.Table(os.path.join(prototype_output_path, 'DUMMY_graded_clipped0.95_scrubbed0.1_dusted0.5.h5'))\n",
    "\n",
    "some_star = np.unique(data['SOURCEID'])[1005]\n",
    "\n",
    "some_star_old_data = data.where((data.SOURCEID == some_star) & (data.JAPERMAG3 > 0))\n",
    "some_star_new_data = cleaned_data.where((cleaned_data.SOURCEID == some_star) & (cleaned_data.JAPERMAG3 > 0))\n",
    "\n",
    "od = some_star_old_data\n",
    "nd = some_star_new_data\n",
    "\n",
    "plt.figure(figsize=(8,4))\n",
    "plt.errorbar(od.MEANMJDOBS, od.JAPERMAG3, yerr=od.JAPERMAG3ERR, fmt='b.', alpha=0.5, label='removed data')\n",
    "plt.errorbar(nd.MEANMJDOBS, nd.JAPERMAG3, yerr=nd.JAPERMAG3ERR, fmt='r.')\n",
    "# plt.ylim(17.4,16.2)\n",
    "plt.ylim(16.3,15.8)\n",
    "plt.legend()\n",
    "plt.title(f'WSERV7: SOURCEID = {some_star}')\n",
    "plt.ylabel(\"J magnitude\")\n",
    "plt.xlabel(\"Modified Julian Date\")\n",
    "\n",
    "plt.savefig(\"reference_star_3.png\")"
   ]
  },
  {
   "cell_type": "code",
   "execution_count": 144,
   "metadata": {},
   "outputs": [
    {
     "name": "stdout",
     "output_type": "stream",
     "text": [
      "Auto-detected table type: hdf5\n"
     ]
    },
    {
     "name": "stderr",
     "output_type": "stream",
     "text": [
      "/Users/tsrice/opt/anaconda3/lib/python3.7/site-packages/atpy/decorators.py:56: ResourceWarning: unclosed file <_io.BufferedReader name='/Users/tsrice/Documents/Variability_Project_2020/wuvars/Data/reduction_artifacts/prototypes/DUMMY_graded_clipped0.95_scrubbed0.1_dusted0.5.h5'>\n",
      "  header = open(filename, 'rb').read(4)\n"
     ]
    },
    {
     "data": {
      "image/png": "[encoded data removed]",
      "text/plain": [
       "<Figure size 576x288 with 1 Axes>"
      ]
     },
     "metadata": {
      "needs_background": "light"
     },
     "output_type": "display_data"
    }
   ],
   "source": [
    "cleaned_data = atpy.Table(os.path.join(prototype_output_path, 'DUMMY_graded_clipped0.95_scrubbed0.1_dusted0.5.h5'))\n",
    "\n",
    "some_star = np.unique(data['SOURCEID'])[2005]\n",
    "\n",
    "some_star_old_data = data.where((data.SOURCEID == some_star) & (data.JAPERMAG3 > 0))\n",
    "some_star_new_data = cleaned_data.where((cleaned_data.SOURCEID == some_star) & (cleaned_data.JAPERMAG3 > 0))\n",
    "\n",
    "od = some_star_old_data\n",
    "nd = some_star_new_data\n",
    "\n",
    "plt.figure(figsize=(8,4))\n",
    "plt.errorbar(od.MEANMJDOBS, od.JAPERMAG3, yerr=od.JAPERMAG3ERR, fmt='b.', alpha=0.5, label='removed data')\n",
    "plt.errorbar(nd.MEANMJDOBS, nd.JAPERMAG3, yerr=nd.JAPERMAG3ERR, fmt='r.')\n",
    "# plt.ylim(17.4,16.2)\n",
    "plt.ylim(15.5,16.0)\n",
    "plt.legend()\n",
    "plt.title(f'WSERV7: SOURCEID = {some_star}')\n",
    "plt.ylabel(\"J magnitude\")\n",
    "plt.xlabel(\"Modified Julian Date\")\n",
    "\n",
    "plt.savefig(\"reference_star_4.png\")"
   ]
  },
  {
   "cell_type": "code",
   "execution_count": 145,
   "metadata": {},
   "outputs": [
    {
     "name": "stdout",
     "output_type": "stream",
     "text": [
      "Auto-detected table type: hdf5\n"
     ]
    },
    {
     "name": "stderr",
     "output_type": "stream",
     "text": [
      "/Users/tsrice/opt/anaconda3/lib/python3.7/site-packages/atpy/decorators.py:56: ResourceWarning: unclosed file <_io.BufferedReader name='/Users/tsrice/Documents/Variability_Project_2020/wuvars/Data/reduction_artifacts/prototypes/DUMMY_graded_clipped0.95_scrubbed0.1_dusted0.5.h5'>\n",
      "  header = open(filename, 'rb').read(4)\n"
     ]
    },
    {
     "data": {
      "image/png": "[encoded data removed]",
      "text/plain": [
       "<Figure size 576x288 with 1 Axes>"
      ]
     },
     "metadata": {
      "needs_background": "light"
     },
     "output_type": "display_data"
    }
   ],
   "source": [
    "cleaned_data = atpy.Table(os.path.join(prototype_output_path, 'DUMMY_graded_clipped0.95_scrubbed0.1_dusted0.5.h5'))\n",
    "\n",
    "some_star = np.unique(data['SOURCEID'])[12]\n",
    "\n",
    "some_star_old_data = data.where((data.SOURCEID == some_star) & (data.JAPERMAG3 > 0))\n",
    "some_star_new_data = cleaned_data.where((cleaned_data.SOURCEID == some_star) & (cleaned_data.JAPERMAG3 > 0))\n",
    "\n",
    "od = some_star_old_data\n",
    "nd = some_star_new_data\n",
    "\n",
    "plt.figure(figsize=(8,4))\n",
    "plt.errorbar(od.MEANMJDOBS, od.JAPERMAG3, yerr=od.JAPERMAG3ERR, fmt='b.', alpha=0.5, label='removed data')\n",
    "plt.errorbar(nd.MEANMJDOBS, nd.JAPERMAG3, yerr=nd.JAPERMAG3ERR, fmt='r.')\n",
    "# plt.ylim(17.4,16.2)\n",
    "plt.ylim(15.5,15.3)\n",
    "plt.legend()\n",
    "plt.title(f'WSERV7: SOURCEID = {some_star}')\n",
    "plt.ylabel(\"J magnitude\")\n",
    "plt.xlabel(\"Modified Julian Date\")\n",
    "\n",
    "plt.savefig(\"reference_star_5.png\")"
   ]
  },
  {
   "cell_type": "code",
   "execution_count": 147,
   "metadata": {},
   "outputs": [
    {
     "name": "stdout",
     "output_type": "stream",
     "text": [
      "Auto-detected table type: hdf5\n"
     ]
    },
    {
     "name": "stderr",
     "output_type": "stream",
     "text": [
      "/Users/tsrice/opt/anaconda3/lib/python3.7/site-packages/atpy/decorators.py:56: ResourceWarning: unclosed file <_io.BufferedReader name='/Users/tsrice/Documents/Variability_Project_2020/wuvars/Data/reduction_artifacts/prototypes/summary_spreadsheet.h5'>\n",
      "  header = open(filename, 'rb').read(4)\n"
     ]
    }
   ],
   "source": [
    "summary_spreadsheet = atpy.Table(os.path.join(prototype_output_path, \"summary_spreadsheet.h5\"))"
   ]
  },
  {
   "cell_type": "code",
   "execution_count": 148,
   "metadata": {},
   "outputs": [
    {
     "data": {
      "text/plain": [
       "(array([1.000e+00, 1.000e+00, 1.000e+00, 0.000e+00, 0.000e+00, 2.000e+00,\n",
       "        1.000e+00, 1.000e+00, 2.510e+02, 1.889e+03]),\n",
       " array([ 0. ,  4.8,  9.6, 14.4, 19.2, 24. , 28.8, 33.6, 38.4, 43.2, 48. ]),\n",
       " <a list of 10 Patch objects>)"
      ]
     },
     "execution_count": 148,
     "metadata": {},
     "output_type": "execute_result"
    },
    {
     "data": {
      "image/png": "[encoded data removed]",
      "text/plain": [
       "<Figure size 432x288 with 1 Axes>"
      ]
     },
     "metadata": {
      "needs_background": "light"
     },
     "output_type": "display_data"
    }
   ],
   "source": [
    "plt.hist(summary_spreadsheet['N_j'])"
   ]
  },
  {
   "cell_type": "code",
   "execution_count": null,
   "metadata": {},
   "outputs": [],
   "source": []
  }
 ],
 "metadata": {
  "kernelspec": {
   "display_name": "Python 3",
   "language": "python",
   "name": "python3"
  },
  "language_info": {
   "codemirror_mode": {
    "name": "ipython",
    "version": 3
   },
   "file_extension": ".py",
   "mimetype": "text/x-python",
   "name": "python",
   "nbconvert_exporter": "python",
   "pygments_lexer": "ipython3",
   "version": "3.7.7"
  }
 },
 "nbformat": 4,
 "nbformat_minor": 4
}
