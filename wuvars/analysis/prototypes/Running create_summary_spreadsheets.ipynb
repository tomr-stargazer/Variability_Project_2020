{
 "cells": [
  {
   "cell_type": "code",
   "execution_count": 4,
   "metadata": {},
   "outputs": [
    {
     "data": {
      "text/plain": [
       "'/Users/tsrice/Documents/Variability_Project_2020/wuvars/analysis/prototypes'"
      ]
     },
     "execution_count": 4,
     "metadata": {},
     "output_type": "execute_result"
    }
   ],
   "source": [
    "pwd"
   ]
  },
  {
   "cell_type": "code",
   "execution_count": 5,
   "metadata": {},
   "outputs": [
    {
     "name": "stdout",
     "output_type": "stream",
     "text": [
      "INPUT / OUTPUT for WSERV11: /Users/tsrice/Documents/Variability_Project_2020/wuvars/Data/reduction_artifacts/wserv11/WSERV11_graded_clipped0.95_scrubbed0.1_dusted0.5.h5 /Users/tsrice/Documents/Variability_Project_2020/wuvars/Data/analysis_artifacts/wserv11/WSERV11_graded_clipped0.95_scrubbed0.1_dusted0.5_summary_spreadsheet.h5\n",
      "Starting at: 2020-10-15 14:00:41.778006\n"
     ]
    },
    {
     "name": "stderr",
     "output_type": "stream",
     "text": [
      "/Users/tsrice/Documents/Variability_Project_2020/wuvars/analysis/variability_selection.py:223: RuntimeWarning: Mean of empty slice\n",
      "  d.append(fn(x[column]))\n",
      "/Users/tsrice/opt/anaconda3/lib/python3.7/site-packages/numpy/lib/nanfunctions.py:1116: RuntimeWarning: All-NaN slice encountered\n",
      "  overwrite_input=overwrite_input)\n",
      "/Users/tsrice/Documents/Variability_Project_2020/wuvars/analysis/variability_selection.py:223: RuntimeWarning: All-NaN axis encountered\n",
      "  d.append(fn(x[column]))\n",
      "/Users/tsrice/opt/anaconda3/lib/python3.7/site-packages/numpy/lib/nanfunctions.py:1667: RuntimeWarning: Degrees of freedom <= 0 for slice.\n",
      "  keepdims=keepdims)\n",
      "/Users/tsrice/Documents/Variability_Project_2020/wuvars/analysis/variability_selection.py:184: RuntimeWarning: All-NaN axis encountered\n",
      "  lambda x: np.nanmax(x) - np.nanmin(x),\n",
      "/Users/tsrice/opt/anaconda3/lib/python3.7/site-packages/numpy/lib/nanfunctions.py:1372: RuntimeWarning: All-NaN slice encountered\n",
      "  overwrite_input=overwrite_input, interpolation=interpolation\n",
      "/Users/tsrice/Documents/Variability_Project_2020/wuvars/analysis/variability_selection.py:140: RuntimeWarning: Mean of empty slice\n",
      "  return 1 / nu * np.nansum((mag - np.nanmean(mag)) ** 2 / err ** 2)\n"
     ]
    },
    {
     "name": "stdout",
     "output_type": "stream",
     "text": [
      "WSERV11 elapsed time:  0:31:09.885124\n",
      "INPUT / OUTPUT for WSERV8: /Users/tsrice/Documents/Variability_Project_2020/wuvars/Data/reduction_artifacts/wserv8/WSERV8_graded_clipped0.95_scrubbed0.1_dusted0.5.h5 /Users/tsrice/Documents/Variability_Project_2020/wuvars/Data/analysis_artifacts/wserv8/WSERV8_graded_clipped0.95_scrubbed0.1_dusted0.5_summary_spreadsheet.h5\n",
      "Starting at: 2020-10-15 14:31:51.664001\n",
      "WSERV8 elapsed time:  0:18:36.254229\n",
      "INPUT / OUTPUT for WSERV7: /Users/tsrice/Documents/Variability_Project_2020/wuvars/Data/reduction_artifacts/wserv7/WSERV7_graded_clipped0.95_scrubbed0.1_dusted0.5.h5 /Users/tsrice/Documents/Variability_Project_2020/wuvars/Data/analysis_artifacts/wserv7/WSERV7_graded_clipped0.95_scrubbed0.1_dusted0.5_summary_spreadsheet.h5\n",
      "Starting at: 2020-10-15 14:50:27.919062\n",
      "WSERV7 elapsed time:  0:14:41.510251\n",
      "INPUT / OUTPUT for WSERV5: /Users/tsrice/Documents/Variability_Project_2020/wuvars/Data/reduction_artifacts/wserv5/WSERV5_graded_clipped0.95_scrubbed0.1_dusted0.5.h5 /Users/tsrice/Documents/Variability_Project_2020/wuvars/Data/analysis_artifacts/wserv5/WSERV5_graded_clipped0.95_scrubbed0.1_dusted0.5_summary_spreadsheet.h5\n",
      "Starting at: 2020-10-15 15:05:09.430121\n",
      "WSERV5 elapsed time:  0:25:11.184795\n",
      "INPUT / OUTPUT for WSERV1: /Users/tsrice/Documents/Variability_Project_2020/wuvars/Data/reduction_artifacts/wserv1/WSERV1_graded_clipped0.95_scrubbed0.1_dusted0.5.h5 /Users/tsrice/Documents/Variability_Project_2020/wuvars/Data/analysis_artifacts/wserv1/WSERV1_graded_clipped0.95_scrubbed0.1_dusted0.5_summary_spreadsheet.h5\n",
      "Starting at: 2020-10-15 15:30:20.616003\n",
      "WSERV1 elapsed time:  2:53:58.793213\n"
     ]
    }
   ],
   "source": [
    "%run ../create_summary_spreadsheets.py"
   ]
  },
  {
   "cell_type": "code",
   "execution_count": null,
   "metadata": {},
   "outputs": [],
   "source": []
  },
  {
   "cell_type": "code",
   "execution_count": null,
   "metadata": {},
   "outputs": [],
   "source": []
  }
 ],
 "metadata": {
  "kernelspec": {
   "display_name": "Python 3",
   "language": "python",
   "name": "python3"
  },
  "language_info": {
   "codemirror_mode": {
    "name": "ipython",
    "version": 3
   },
   "file_extension": ".py",
   "mimetype": "text/x-python",
   "name": "python",
   "nbconvert_exporter": "python",
   "pygments_lexer": "ipython3",
   "version": "3.7.7"
  }
 },
 "nbformat": 4,
 "nbformat_minor": 4
}
