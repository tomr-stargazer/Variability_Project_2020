{
 "cells": [
  {
   "cell_type": "markdown",
   "metadata": {},
   "source": [
    "# Assessing data_nuller\n",
    "\n",
    "I just wrote a function, `variability_selection.data_nuller`, which I hope will help me \"null out\" values appropriately.\n",
    "\n",
    "The old code used to take the approach of constructing a new sub-table for J, H, and K which would trim out any invalid data in each band individually. This uses np.nan for invalid data, which are appropriately skipped over in np.nanmean, etc."
   ]
  },
  {
   "cell_type": "code",
   "execution_count": 1,
   "metadata": {},
   "outputs": [],
   "source": [
    "from wuvars.analysis.variability_selection import data_nuller\n",
    "import os\n",
    "from datetime import datetime\n",
    "import pathlib\n",
    "from astropy.table import Table\n"
   ]
  },
  {
   "cell_type": "code",
   "execution_count": 2,
   "metadata": {},
   "outputs": [],
   "source": [
    "wserv = 5\n",
    "\n",
    "input_root = \"/Users/tsrice/Documents/Variability_Project_2020/wuvars/Data/copied_from_old_projects\"\n",
    "input_path = os.path.join(\n",
    "    input_root,\n",
    "    f\"WSERV{str(wserv)}_fdece_graded_clipped0.8_scrubbed0.1_dusted0.5.fits\",\n",
    ")\n",
    "\n",
    "dat = Table.read(input_path)\n",
    "df = dat.to_pandas()\n"
   ]
  },
  {
   "cell_type": "code",
   "execution_count": 3,
   "metadata": {},
   "outputs": [
    {
     "data": {
      "text/plain": [
       "SOURCEID              0\n",
       "MEANMJDOBS            0\n",
       "RA                    0\n",
       "DEC                   0\n",
       "JMHPNT          1431365\n",
       "JMHPNTERR             0\n",
       "HMKPNT          1011995\n",
       "HMKPNTERR             0\n",
       "JAPERMAG3       1293970\n",
       "JAPERMAG3ERR          0\n",
       "HAPERMAG3        836735\n",
       "HAPERMAG3ERR          0\n",
       "KAPERMAG3        687323\n",
       "KAPERMAG3ERR          0\n",
       "JPPERRBITS            0\n",
       "HPPERRBITS            0\n",
       "KPPERRBITS            0\n",
       "MERGEDCLASS           0\n",
       "PSTAR                 0\n",
       "JGRADE                0\n",
       "HGRADE                0\n",
       "KGRADE                0\n",
       "dtype: int64"
      ]
     },
     "execution_count": 3,
     "metadata": {},
     "output_type": "execute_result"
    }
   ],
   "source": [
    "np.sum(df==-999999488.0)"
   ]
  },
  {
   "cell_type": "code",
   "execution_count": 4,
   "metadata": {},
   "outputs": [
    {
     "data": {
      "text/plain": [
       "0         -999999488.0\n",
       "1         -999999488.0\n",
       "2         -999999488.0\n",
       "3         -999999488.0\n",
       "4         -999999488.0\n",
       "              ...     \n",
       "2380873   -999999488.0\n",
       "2380874   -999999488.0\n",
       "2380875   -999999488.0\n",
       "2380876   -999999488.0\n",
       "2380877   -999999488.0\n",
       "Name: JAPERMAG3, Length: 1339128, dtype: float32"
      ]
     },
     "execution_count": 4,
     "metadata": {},
     "output_type": "execute_result"
    }
   ],
   "source": [
    "null_val = -999999488.0\n",
    "max_flags=256\n",
    "j_nan = (df[\"JAPERMAG3\"] == null_val) | (df[\"JPPERRBITS\"] > max_flags)\n",
    "\n",
    "df[\"JAPERMAG3\"][j_nan]\n",
    "df.loc[j_nan, \"JAPERMAG3\"]"
   ]
  },
  {
   "cell_type": "code",
   "execution_count": 5,
   "metadata": {},
   "outputs": [],
   "source": [
    "data_nuller(df)"
   ]
  },
  {
   "cell_type": "code",
   "execution_count": 6,
   "metadata": {},
   "outputs": [
    {
     "data": {
      "text/plain": [
       "SOURCEID        0\n",
       "MEANMJDOBS      0\n",
       "RA              0\n",
       "DEC             0\n",
       "JMHPNT          0\n",
       "JMHPNTERR       0\n",
       "HMKPNT          0\n",
       "HMKPNTERR       0\n",
       "JAPERMAG3       0\n",
       "JAPERMAG3ERR    0\n",
       "HAPERMAG3       0\n",
       "HAPERMAG3ERR    0\n",
       "KAPERMAG3       0\n",
       "KAPERMAG3ERR    0\n",
       "JPPERRBITS      0\n",
       "HPPERRBITS      0\n",
       "KPPERRBITS      0\n",
       "MERGEDCLASS     0\n",
       "PSTAR           0\n",
       "JGRADE          0\n",
       "HGRADE          0\n",
       "KGRADE          0\n",
       "dtype: int64"
      ]
     },
     "execution_count": 6,
     "metadata": {},
     "output_type": "execute_result"
    }
   ],
   "source": [
    "np.sum(df==-999999488.0)"
   ]
  },
  {
   "cell_type": "code",
   "execution_count": 7,
   "metadata": {},
   "outputs": [
    {
     "data": {
      "text/plain": [
       "SOURCEID              0\n",
       "MEANMJDOBS            0\n",
       "RA                    0\n",
       "DEC                   0\n",
       "JMHPNT          1586831\n",
       "JMHPNTERR       1586831\n",
       "HMKPNT          1230706\n",
       "HMKPNTERR       1230706\n",
       "JAPERMAG3       1339128\n",
       "JAPERMAG3ERR    1339128\n",
       "HAPERMAG3        891495\n",
       "HAPERMAG3ERR     891495\n",
       "KAPERMAG3        744292\n",
       "KAPERMAG3ERR     744292\n",
       "JPPERRBITS      1339128\n",
       "HPPERRBITS       891495\n",
       "KPPERRBITS       744292\n",
       "MERGEDCLASS           0\n",
       "PSTAR                 0\n",
       "JGRADE                0\n",
       "HGRADE                0\n",
       "KGRADE                0\n",
       "dtype: int64"
      ]
     },
     "execution_count": 7,
     "metadata": {},
     "output_type": "execute_result"
    }
   ],
   "source": [
    "np.sum(np.isnan(df))"
   ]
  },
  {
   "cell_type": "markdown",
   "metadata": {},
   "source": [
    "# Thoughts\n",
    "\n",
    "I think it works. Let's roll. (The error messages from SettingWithCopyWarning seem a little alarming; let's git commit what we have and then maybe do something with this...) \n",
    "\n",
    "Actually, looks like I figured it out!"
   ]
  },
  {
   "cell_type": "code",
   "execution_count": null,
   "metadata": {},
   "outputs": [],
   "source": []
  }
 ],
 "metadata": {
  "kernelspec": {
   "display_name": "Python 3",
   "language": "python",
   "name": "python3"
  },
  "language_info": {
   "codemirror_mode": {
    "name": "ipython",
    "version": 3
   },
   "file_extension": ".py",
   "mimetype": "text/x-python",
   "name": "python",
   "nbconvert_exporter": "python",
   "pygments_lexer": "ipython3",
   "version": "3.7.7"
  }
 },
 "nbformat": 4,
 "nbformat_minor": 4
}
