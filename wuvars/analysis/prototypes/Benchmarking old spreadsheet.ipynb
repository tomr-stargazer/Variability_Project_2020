{
 "cells": [
  {
   "cell_type": "markdown",
   "metadata": {},
   "source": [
    "My old night-cleaning code - still testing it. It depends on spreadsheet. We need to confirm whether spreadsheet actually works identically to its old behavior. "
   ]
  },
  {
   "cell_type": "code",
   "execution_count": 1,
   "metadata": {},
   "outputs": [
    {
     "name": "stdout",
     "output_type": "stream",
     "text": [
      "Auto-detected table type: fits\n",
      "Hey, just a heads-up, this is an INTERACTIVE script.\n",
      " You should call the following functions:\n",
      " -test() # To make sure everything's working fine\n",
      "         # before wasting a lot of time.\n",
      " -calculate_stuff() # To calculate stuff.\n",
      " -glue_stuff() # To glue together the calculated stuff.\n",
      "               # Note, this one returns the spreadsheet.\n",
      "\n",
      "New feature: you can pass a number to calculate_stuff() and glue_stuff()\n",
      "(such as 25, 50, 100) as a manual control on how many chunks to split\n",
      "the data into. Make sure to use the same number for both functions!!\n",
      "Auto-detected table type: fits\n",
      "('old data size is ', (113460, 22))\n"
     ]
    }
   ],
   "source": [
    "import atpy\n",
    "import spread3 as sp\n",
    "path = os.path.expanduser('~/Desktop/Bo_Tom/NGC1333/WSERV7/DATA/')\n",
    "path2= path+'spreadsheet/'\n",
    "\n",
    "data = atpy.Table('{0}full_data_errorcorrected_ce.fits'.format(path))\n",
    "\n",
    "from variability_script_perseus import test, calculate_stuff, glue_stuff"
   ]
  },
  {
   "cell_type": "code",
   "execution_count": 75,
   "metadata": {},
   "outputs": [],
   "source": [
    "def calculate_stuff(data=data, splits=10, start=0):\n",
    "    ''' \n",
    "    Runs the spreadsheet, first splitting it into `splits` \n",
    "    spreadsheets and then joining them. \n",
    "    \n",
    "    '''\n",
    "    \n",
    "    if type(splits) is not int or type(start) is not int:\n",
    "        raise TypeError\n",
    "\n",
    "# We are going to split this into 10 smaller pieces through the magic of mod operations! woo.\n",
    "    \n",
    "    split_data = []\n",
    "    spreadsheets = []\n",
    "\n",
    "    for i in range(start, splits):\n",
    "        data_i = data.where(data.SOURCEID % splits == i)\n",
    "        \n",
    "        split_data.append(data_i)\n",
    "        \n",
    "        lookup_i = sp.base_lookup(data_i)\n",
    "        \n",
    "        # The parameter \"-1\" is the season that tells data_cut not to make \n",
    "        # any cuts on the data.\n",
    "        sp_i = sp.spreadsheet_write(data_i, lookup_i, -1, \n",
    "                                    path2+'sp%d.h5'%i, flags=256,\n",
    "                                    per=False, graded=False, rob=True,\n",
    "                                    colorslope=True)\n",
    "        # EEEEE this is a flag to come and find this section of code\n",
    "        \n",
    "        try:\n",
    "            now = datetime.datetime.strftime(datetime.datetime.now(),\n",
    "                                             \"%Y-%m-%d %H:%M:%S\")\n",
    "        except:\n",
    "            now = 'sometime'\n",
    "        print((\"finished chunk %d at %s\" % (i, now)))"
   ]
  },
  {
   "cell_type": "code",
   "execution_count": 76,
   "metadata": {},
   "outputs": [
    {
     "name": "stdout",
     "output_type": "stream",
     "text": [
      "Auto-detected table type: hdf5\n",
      "Wrote output to /Users/tsrice/Desktop/Bo_Tom/NGC1333/WSERV7/DATA/spreadsheet/sp0.h5\n",
      "finished chunk 0 at sometime\n"
     ]
    },
    {
     "name": "stderr",
     "output_type": "stream",
     "text": [
      "/Users/tsrice/opt/anaconda3/lib/python3.7/importlib/__init__.py:127: H5pyDeprecationWarning: The h5py.highlevel module is deprecated, code should import directly from h5py, e.g. 'from h5py import File'.\n",
      "  return _bootstrap._gcd_import(name[level:], package, level)\n"
     ]
    },
    {
     "name": "stdout",
     "output_type": "stream",
     "text": [
      "Auto-detected table type: hdf5\n",
      "Wrote output to /Users/tsrice/Desktop/Bo_Tom/NGC1333/WSERV7/DATA/spreadsheet/sp1.h5\n",
      "finished chunk 1 at sometime\n",
      "Auto-detected table type: hdf5\n",
      "Wrote output to /Users/tsrice/Desktop/Bo_Tom/NGC1333/WSERV7/DATA/spreadsheet/sp2.h5\n",
      "finished chunk 2 at sometime\n",
      "Auto-detected table type: hdf5\n",
      "Wrote output to /Users/tsrice/Desktop/Bo_Tom/NGC1333/WSERV7/DATA/spreadsheet/sp3.h5\n",
      "finished chunk 3 at sometime\n",
      "Auto-detected table type: hdf5\n",
      "Wrote output to /Users/tsrice/Desktop/Bo_Tom/NGC1333/WSERV7/DATA/spreadsheet/sp4.h5\n",
      "finished chunk 4 at sometime\n",
      "Auto-detected table type: hdf5\n",
      "Wrote output to /Users/tsrice/Desktop/Bo_Tom/NGC1333/WSERV7/DATA/spreadsheet/sp5.h5\n",
      "finished chunk 5 at sometime\n",
      "Auto-detected table type: hdf5\n",
      "Wrote output to /Users/tsrice/Desktop/Bo_Tom/NGC1333/WSERV7/DATA/spreadsheet/sp6.h5\n",
      "finished chunk 6 at sometime\n",
      "Auto-detected table type: hdf5\n",
      "Wrote output to /Users/tsrice/Desktop/Bo_Tom/NGC1333/WSERV7/DATA/spreadsheet/sp7.h5\n",
      "finished chunk 7 at sometime\n",
      "Auto-detected table type: hdf5\n",
      "Wrote output to /Users/tsrice/Desktop/Bo_Tom/NGC1333/WSERV7/DATA/spreadsheet/sp8.h5\n",
      "finished chunk 8 at sometime\n",
      "Auto-detected table type: hdf5\n",
      "Wrote output to /Users/tsrice/Desktop/Bo_Tom/NGC1333/WSERV7/DATA/spreadsheet/sp9.h5\n",
      "finished chunk 9 at sometime\n",
      "elapsed time: 2411.8s aka 40.2m\n"
     ]
    }
   ],
   "source": [
    "import time\n",
    "start = time.time()\n",
    "calculate_stuff(data=data)\n",
    "end = time.time()\n",
    "print(f\"elapsed time: {end-start:.1f}s aka {(end-start)/60:.1f}m\")"
   ]
  },
  {
   "cell_type": "code",
   "execution_count": 77,
   "metadata": {},
   "outputs": [],
   "source": [
    "def glue_stuff( splits = 10, start=0 ):\n",
    "    ''' Read in the tables from earlier and glue them together '''\n",
    "\n",
    "    if type(splits) is not int:\n",
    "        raise TypeError\n",
    "\n",
    "    spread = atpy.Table(path2+'sp%d.h5' % start)\n",
    "    \n",
    "    spread_list = []\n",
    " \n",
    "    for i in range(1+start,splits):\n",
    "        other_spread = atpy.Table(path2+'sp%d.h5' %i )\n",
    "        spread.append(other_spread) \n",
    "        \n",
    "    return spread"
   ]
  },
  {
   "cell_type": "code",
   "execution_count": 78,
   "metadata": {},
   "outputs": [
    {
     "name": "stdout",
     "output_type": "stream",
     "text": [
      "Auto-detected table type: hdf5\n"
     ]
    },
    {
     "name": "stderr",
     "output_type": "stream",
     "text": [
      "/Users/tsrice/opt/anaconda3/lib/python3.7/site-packages/atpy/decorators.py:56: ResourceWarning: unclosed file <_io.BufferedReader name='/Users/tsrice/Desktop/Bo_Tom/NGC1333/WSERV7/DATA/spreadsheet/sp0.h5'>\n",
      "  header = open(filename, 'rb').read(4)\n"
     ]
    },
    {
     "name": "stdout",
     "output_type": "stream",
     "text": [
      "Auto-detected table type: hdf5\n"
     ]
    },
    {
     "name": "stderr",
     "output_type": "stream",
     "text": [
      "/Users/tsrice/opt/anaconda3/lib/python3.7/site-packages/atpy/decorators.py:56: ResourceWarning: unclosed file <_io.BufferedReader name='/Users/tsrice/Desktop/Bo_Tom/NGC1333/WSERV7/DATA/spreadsheet/sp1.h5'>\n",
      "  header = open(filename, 'rb').read(4)\n"
     ]
    },
    {
     "name": "stdout",
     "output_type": "stream",
     "text": [
      "Auto-detected table type: hdf5\n"
     ]
    },
    {
     "name": "stderr",
     "output_type": "stream",
     "text": [
      "/Users/tsrice/opt/anaconda3/lib/python3.7/site-packages/atpy/decorators.py:56: ResourceWarning: unclosed file <_io.BufferedReader name='/Users/tsrice/Desktop/Bo_Tom/NGC1333/WSERV7/DATA/spreadsheet/sp2.h5'>\n",
      "  header = open(filename, 'rb').read(4)\n"
     ]
    },
    {
     "name": "stdout",
     "output_type": "stream",
     "text": [
      "Auto-detected table type: hdf5\n"
     ]
    },
    {
     "name": "stderr",
     "output_type": "stream",
     "text": [
      "/Users/tsrice/opt/anaconda3/lib/python3.7/site-packages/atpy/decorators.py:56: ResourceWarning: unclosed file <_io.BufferedReader name='/Users/tsrice/Desktop/Bo_Tom/NGC1333/WSERV7/DATA/spreadsheet/sp3.h5'>\n",
      "  header = open(filename, 'rb').read(4)\n"
     ]
    },
    {
     "name": "stdout",
     "output_type": "stream",
     "text": [
      "Auto-detected table type: hdf5\n"
     ]
    },
    {
     "name": "stderr",
     "output_type": "stream",
     "text": [
      "/Users/tsrice/opt/anaconda3/lib/python3.7/site-packages/atpy/decorators.py:56: ResourceWarning: unclosed file <_io.BufferedReader name='/Users/tsrice/Desktop/Bo_Tom/NGC1333/WSERV7/DATA/spreadsheet/sp4.h5'>\n",
      "  header = open(filename, 'rb').read(4)\n"
     ]
    },
    {
     "name": "stdout",
     "output_type": "stream",
     "text": [
      "Auto-detected table type: hdf5\n"
     ]
    },
    {
     "name": "stderr",
     "output_type": "stream",
     "text": [
      "/Users/tsrice/opt/anaconda3/lib/python3.7/site-packages/atpy/decorators.py:56: ResourceWarning: unclosed file <_io.BufferedReader name='/Users/tsrice/Desktop/Bo_Tom/NGC1333/WSERV7/DATA/spreadsheet/sp5.h5'>\n",
      "  header = open(filename, 'rb').read(4)\n"
     ]
    },
    {
     "name": "stdout",
     "output_type": "stream",
     "text": [
      "Auto-detected table type: hdf5\n"
     ]
    },
    {
     "name": "stderr",
     "output_type": "stream",
     "text": [
      "/Users/tsrice/opt/anaconda3/lib/python3.7/site-packages/atpy/decorators.py:56: ResourceWarning: unclosed file <_io.BufferedReader name='/Users/tsrice/Desktop/Bo_Tom/NGC1333/WSERV7/DATA/spreadsheet/sp6.h5'>\n",
      "  header = open(filename, 'rb').read(4)\n"
     ]
    },
    {
     "name": "stdout",
     "output_type": "stream",
     "text": [
      "Auto-detected table type: hdf5\n"
     ]
    },
    {
     "name": "stderr",
     "output_type": "stream",
     "text": [
      "/Users/tsrice/opt/anaconda3/lib/python3.7/site-packages/atpy/decorators.py:56: ResourceWarning: unclosed file <_io.BufferedReader name='/Users/tsrice/Desktop/Bo_Tom/NGC1333/WSERV7/DATA/spreadsheet/sp7.h5'>\n",
      "  header = open(filename, 'rb').read(4)\n"
     ]
    },
    {
     "name": "stdout",
     "output_type": "stream",
     "text": [
      "Auto-detected table type: hdf5\n"
     ]
    },
    {
     "name": "stderr",
     "output_type": "stream",
     "text": [
      "/Users/tsrice/opt/anaconda3/lib/python3.7/site-packages/atpy/decorators.py:56: ResourceWarning: unclosed file <_io.BufferedReader name='/Users/tsrice/Desktop/Bo_Tom/NGC1333/WSERV7/DATA/spreadsheet/sp8.h5'>\n",
      "  header = open(filename, 'rb').read(4)\n"
     ]
    },
    {
     "name": "stdout",
     "output_type": "stream",
     "text": [
      "Auto-detected table type: hdf5\n"
     ]
    },
    {
     "name": "stderr",
     "output_type": "stream",
     "text": [
      "/Users/tsrice/opt/anaconda3/lib/python3.7/site-packages/atpy/decorators.py:56: ResourceWarning: unclosed file <_io.BufferedReader name='/Users/tsrice/Desktop/Bo_Tom/NGC1333/WSERV7/DATA/spreadsheet/sp9.h5'>\n",
      "  header = open(filename, 'rb').read(4)\n"
     ]
    }
   ],
   "source": [
    "glued_spreadsheet = glue_stuff()"
   ]
  },
  {
   "cell_type": "code",
   "execution_count": 79,
   "metadata": {},
   "outputs": [
    {
     "name": "stdout",
     "output_type": "stream",
     "text": [
      "Auto-detected table type: fits\n"
     ]
    }
   ],
   "source": [
    "loaded_spreadsheet_path = os.path.expanduser(\"~/Desktop/Bo_Tom/NGC1333/WSERV7/\")\n",
    "\n",
    "loaded_spreadsheet = atpy.Table(loaded_spreadsheet_path+\"DATA/spreadsheet/full_data_errorcorrected_ce_spreadsheet.fits\")"
   ]
  },
  {
   "cell_type": "code",
   "execution_count": 80,
   "metadata": {},
   "outputs": [
    {
     "data": {
      "text/plain": [
       "<Table name='SPREADSHEET' rows=21885 fields=153>"
      ]
     },
     "execution_count": 80,
     "metadata": {},
     "output_type": "execute_result"
    }
   ],
   "source": [
    "loaded_spreadsheet"
   ]
  },
  {
   "cell_type": "code",
   "execution_count": 81,
   "metadata": {},
   "outputs": [],
   "source": [
    "glued_spreadsheet.sort('SOURCEID')\n",
    "loaded_spreadsheet.sort('SOURCEID')"
   ]
  },
  {
   "cell_type": "code",
   "execution_count": 91,
   "metadata": {},
   "outputs": [
    {
     "data": {
      "text/plain": [
       "True"
      ]
     },
     "execution_count": 91,
     "metadata": {},
     "output_type": "execute_result"
    }
   ],
   "source": [
    "np.allclose(glued_spreadsheet[\"j_meanr\"], loaded_spreadsheet[\"j_meanr\"])"
   ]
  },
  {
   "cell_type": "code",
   "execution_count": 100,
   "metadata": {},
   "outputs": [
    {
     "data": {
      "text/plain": [
       "True"
      ]
     },
     "execution_count": 100,
     "metadata": {},
     "output_type": "execute_result"
    }
   ],
   "source": [
    "np.allclose(glued_spreadsheet[\"k_meanr\"], loaded_spreadsheet[\"k_meanr\"])"
   ]
  },
  {
   "cell_type": "code",
   "execution_count": 104,
   "metadata": {},
   "outputs": [
    {
     "data": {
      "text/plain": [
       "[<matplotlib.lines.Line2D at 0x7fccee972f90>]"
      ]
     },
     "execution_count": 104,
     "metadata": {},
     "output_type": "execute_result"
    },
    {
     "data": {
      "image/png": "[encoded data removed]",
      "text/plain": [
       "<Figure size 432x288 with 1 Axes>"
      ]
     },
     "metadata": {
      "needs_background": "light"
     },
     "output_type": "display_data"
    }
   ],
   "source": [
    "import matplotlib.pyplot as plt\n",
    "plt.plot(glued_spreadsheet[\"h_meanr\"] - loaded_spreadsheet[\"h_meanr\"])"
   ]
  },
  {
   "cell_type": "code",
   "execution_count": 92,
   "metadata": {},
   "outputs": [
    {
     "data": {
      "text/plain": [
       "{\n",
       "SOURCEID : type=>i8, \n",
       "Name : type=>i8, \n",
       "RA : type=>f8, unit=RADIANS, \n",
       "DEC : type=>f8, unit=RADIANS, \n",
       "N_j : type=>i8, \n",
       "N_h : type=>i8, \n",
       "N_k : type=>i8, \n",
       "pstar_mean : type=>f8, \n",
       "pstar_median : type=>f8, \n",
       "pstar_rms : type=>f8, \n",
       "Stetson : type=>f8, \n",
       "Stetson_choice : type=|S4, \n",
       "Stetson_N : type=>i8, \n",
       "j_mean : type=>f8, \n",
       "j_median : type=>f8, \n",
       "j_rms : type=>f8, \n",
       "j_min : type=>f8, \n",
       "j_max : type=>f8, \n",
       "j_range : type=>f8, \n",
       "j_rchi2 : type=>f8, \n",
       "j_err_mean : type=>f8, \n",
       "j_err_median : type=>f8, \n",
       "j_err_rms : type=>f8, \n",
       "j_err_min : type=>f8, \n",
       "j_err_max : type=>f8, \n",
       "j_err_range : type=>f8, \n",
       "j_meanr : type=>f8, \n",
       "j_medianr : type=>f8, \n",
       "j_rmsr : type=>f8, \n",
       "j_minr : type=>f8, \n",
       "j_maxr : type=>f8, \n",
       "j_ranger : type=>f8, \n",
       "j_err_meanr : type=>f8, \n",
       "j_err_medianr : type=>f8, \n",
       "j_err_rmsr : type=>f8, \n",
       "j_err_minr : type=>f8, \n",
       "j_err_maxr : type=>f8, \n",
       "j_err_ranger : type=>f8, \n",
       "h_mean : type=>f8, \n",
       "h_median : type=>f8, \n",
       "h_rms : type=>f8, \n",
       "h_min : type=>f8, \n",
       "h_max : type=>f8, \n",
       "h_range : type=>f8, \n",
       "h_rchi2 : type=>f8, \n",
       "h_err_mean : type=>f8, \n",
       "h_err_median : type=>f8, \n",
       "h_err_rms : type=>f8, \n",
       "h_err_min : type=>f8, \n",
       "h_err_max : type=>f8, \n",
       "h_err_range : type=>f8, \n",
       "h_meanr : type=>f8, \n",
       "h_medianr : type=>f8, \n",
       "h_rmsr : type=>f8, \n",
       "h_minr : type=>f8, \n",
       "h_maxr : type=>f8, \n",
       "h_ranger : type=>f8, \n",
       "h_err_meanr : type=>f8, \n",
       "h_err_medianr : type=>f8, \n",
       "h_err_rmsr : type=>f8, \n",
       "h_err_minr : type=>f8, \n",
       "h_err_maxr : type=>f8, \n",
       "h_err_ranger : type=>f8, \n",
       "k_mean : type=>f8, \n",
       "k_median : type=>f8, \n",
       "k_rms : type=>f8, \n",
       "k_min : type=>f8, \n",
       "k_max : type=>f8, \n",
       "k_range : type=>f8, \n",
       "k_rchi2 : type=>f8, \n",
       "k_err_mean : type=>f8, \n",
       "k_err_median : type=>f8, \n",
       "k_err_rms : type=>f8, \n",
       "k_err_min : type=>f8, \n",
       "k_err_max : type=>f8, \n",
       "k_err_range : type=>f8, \n",
       "k_meanr : type=>f8, \n",
       "k_medianr : type=>f8, \n",
       "k_rmsr : type=>f8, \n",
       "k_minr : type=>f8, \n",
       "k_maxr : type=>f8, \n",
       "k_ranger : type=>f8, \n",
       "k_err_meanr : type=>f8, \n",
       "k_err_medianr : type=>f8, \n",
       "k_err_rmsr : type=>f8, \n",
       "k_err_minr : type=>f8, \n",
       "k_err_maxr : type=>f8, \n",
       "k_err_ranger : type=>f8, \n",
       "jmh_mean : type=>f8, \n",
       "jmh_median : type=>f8, \n",
       "jmh_rms : type=>f8, \n",
       "jmh_min : type=>f8, \n",
       "jmh_max : type=>f8, \n",
       "jmh_range : type=>f8, \n",
       "jmh_rchi2 : type=>f8, \n",
       "jmh_err_mean : type=>f8, \n",
       "jmh_err_median : type=>f8, \n",
       "jmh_err_rms : type=>f8, \n",
       "jmh_err_min : type=>f8, \n",
       "jmh_err_max : type=>f8, \n",
       "jmh_err_range : type=>f8, \n",
       "jmh_meanr : type=>f8, \n",
       "jmh_medianr : type=>f8, \n",
       "jmh_rmsr : type=>f8, \n",
       "jmh_minr : type=>f8, \n",
       "jmh_maxr : type=>f8, \n",
       "jmh_ranger : type=>f8, \n",
       "jmh_err_meanr : type=>f8, \n",
       "jmh_err_medianr : type=>f8, \n",
       "jmh_err_rmsr : type=>f8, \n",
       "jmh_err_minr : type=>f8, \n",
       "jmh_err_maxr : type=>f8, \n",
       "jmh_err_ranger : type=>f8, \n",
       "hmk_mean : type=>f8, \n",
       "hmk_median : type=>f8, \n",
       "hmk_rms : type=>f8, \n",
       "hmk_min : type=>f8, \n",
       "hmk_max : type=>f8, \n",
       "hmk_range : type=>f8, \n",
       "hmk_rchi2 : type=>f8, \n",
       "hmk_err_mean : type=>f8, \n",
       "hmk_err_median : type=>f8, \n",
       "hmk_err_rms : type=>f8, \n",
       "hmk_err_min : type=>f8, \n",
       "hmk_err_max : type=>f8, \n",
       "hmk_err_range : type=>f8, \n",
       "hmk_meanr : type=>f8, \n",
       "hmk_medianr : type=>f8, \n",
       "hmk_rmsr : type=>f8, \n",
       "hmk_minr : type=>f8, \n",
       "hmk_maxr : type=>f8, \n",
       "hmk_ranger : type=>f8, \n",
       "hmk_err_meanr : type=>f8, \n",
       "hmk_err_medianr : type=>f8, \n",
       "hmk_err_rmsr : type=>f8, \n",
       "hmk_err_minr : type=>f8, \n",
       "hmk_err_maxr : type=>f8, \n",
       "hmk_err_ranger : type=>f8, \n",
       "N_j_noflag : type=>i8, \n",
       "N_h_noflag : type=>i8, \n",
       "N_k_noflag : type=>i8, \n",
       "N_j_info : type=>i8, \n",
       "N_h_info : type=>i8, \n",
       "N_k_info : type=>i8, \n",
       "N_j_warn : type=>i8, \n",
       "N_h_warn : type=>i8, \n",
       "N_k_warn : type=>i8, \n",
       "jjh_slope : type=>f8, \n",
       "jjh_slope_err : type=>f8, \n",
       "khk_slope : type=>f8, \n",
       "khk_slope_err : type=>f8, \n",
       "jhk_slope : type=>f8, \n",
       "jhk_slope_err : type=>f8\n",
       "}"
      ]
     },
     "execution_count": 92,
     "metadata": {},
     "output_type": "execute_result"
    }
   ],
   "source": [
    "loaded_spreadsheet.columns"
   ]
  },
  {
   "cell_type": "code",
   "execution_count": 93,
   "metadata": {},
   "outputs": [],
   "source": [
    "np.allclose?"
   ]
  },
  {
   "cell_type": "code",
   "execution_count": 102,
   "metadata": {},
   "outputs": [
    {
     "data": {
      "text/plain": [
       "<Table name='spreadsheet' rows=21885 fields=153>"
      ]
     },
     "execution_count": 102,
     "metadata": {},
     "output_type": "execute_result"
    }
   ],
   "source": [
    "glued_spreadsheet"
   ]
  },
  {
   "cell_type": "code",
   "execution_count": 107,
   "metadata": {},
   "outputs": [
    {
     "data": {
      "text/plain": [
       "[<matplotlib.lines.Line2D at 0x7fccd24ee190>]"
      ]
     },
     "execution_count": 107,
     "metadata": {},
     "output_type": "execute_result"
    },
    {
     "data": {
      "image/png": "[encoded data removed]",
      "text/plain": [
       "<Figure size 432x288 with 1 Axes>"
      ]
     },
     "metadata": {
      "needs_background": "light"
     },
     "output_type": "display_data"
    }
   ],
   "source": [
    "plt.plot(glued_spreadsheet[\"Stetson\"] - loaded_spreadsheet[\"Stetson\"])"
   ]
  },
  {
   "cell_type": "code",
   "execution_count": 109,
   "metadata": {},
   "outputs": [
    {
     "name": "stdout",
     "output_type": "stream",
     "text": [
      "0.025098904001036922\n",
      "0.020729138720108925\n"
     ]
    }
   ],
   "source": [
    "print( np.median(glued_spreadsheet[\"Stetson\"])) \n",
    "print(np.median(loaded_spreadsheet[\"Stetson\"]))"
   ]
  },
  {
   "cell_type": "code",
   "execution_count": 114,
   "metadata": {},
   "outputs": [
    {
     "data": {
      "text/plain": [
       "[<matplotlib.lines.Line2D at 0x7fccd3f58f90>]"
      ]
     },
     "execution_count": 114,
     "metadata": {},
     "output_type": "execute_result"
    },
    {
     "data": {
      "image/png": "[encoded data removed]",
      "text/plain": [
       "<Figure size 432x288 with 1 Axes>"
      ]
     },
     "metadata": {
      "needs_background": "light"
     },
     "output_type": "display_data"
    }
   ],
   "source": [
    "plt.plot(glued_spreadsheet['N_k'], glued_spreadsheet[\"Stetson\"] - loaded_spreadsheet[\"Stetson\"], 'k.')"
   ]
  },
  {
   "cell_type": "code",
   "execution_count": 111,
   "metadata": {},
   "outputs": [
    {
     "data": {
      "text/plain": [
       "{\n",
       "SOURCEID : type=int64, \n",
       "Name : type=int64, \n",
       "RA : type=float64, \n",
       "DEC : type=float64, \n",
       "N_j : type=int64, \n",
       "N_h : type=int64, \n",
       "N_k : type=int64, \n",
       "pstar_mean : type=float64, \n",
       "pstar_median : type=float64, \n",
       "pstar_rms : type=float64, \n",
       "Stetson : type=float64, \n",
       "Stetson_choice : type=|S4, \n",
       "Stetson_N : type=int64, \n",
       "j_mean : type=float64, \n",
       "j_median : type=float64, \n",
       "j_rms : type=float64, \n",
       "j_min : type=float64, \n",
       "j_max : type=float64, \n",
       "j_range : type=float64, \n",
       "j_rchi2 : type=float64, \n",
       "j_err_mean : type=float64, \n",
       "j_err_median : type=float64, \n",
       "j_err_rms : type=float64, \n",
       "j_err_min : type=float64, \n",
       "j_err_max : type=float64, \n",
       "j_err_range : type=float64, \n",
       "j_meanr : type=float64, \n",
       "j_medianr : type=float64, \n",
       "j_rmsr : type=float64, \n",
       "j_minr : type=float64, \n",
       "j_maxr : type=float64, \n",
       "j_ranger : type=float64, \n",
       "j_err_meanr : type=float64, \n",
       "j_err_medianr : type=float64, \n",
       "j_err_rmsr : type=float64, \n",
       "j_err_minr : type=float64, \n",
       "j_err_maxr : type=float64, \n",
       "j_err_ranger : type=float64, \n",
       "h_mean : type=float64, \n",
       "h_median : type=float64, \n",
       "h_rms : type=float64, \n",
       "h_min : type=float64, \n",
       "h_max : type=float64, \n",
       "h_range : type=float64, \n",
       "h_rchi2 : type=float64, \n",
       "h_err_mean : type=float64, \n",
       "h_err_median : type=float64, \n",
       "h_err_rms : type=float64, \n",
       "h_err_min : type=float64, \n",
       "h_err_max : type=float64, \n",
       "h_err_range : type=float64, \n",
       "h_meanr : type=float64, \n",
       "h_medianr : type=float64, \n",
       "h_rmsr : type=float64, \n",
       "h_minr : type=float64, \n",
       "h_maxr : type=float64, \n",
       "h_ranger : type=float64, \n",
       "h_err_meanr : type=float64, \n",
       "h_err_medianr : type=float64, \n",
       "h_err_rmsr : type=float64, \n",
       "h_err_minr : type=float64, \n",
       "h_err_maxr : type=float64, \n",
       "h_err_ranger : type=float64, \n",
       "k_mean : type=float64, \n",
       "k_median : type=float64, \n",
       "k_rms : type=float64, \n",
       "k_min : type=float64, \n",
       "k_max : type=float64, \n",
       "k_range : type=float64, \n",
       "k_rchi2 : type=float64, \n",
       "k_err_mean : type=float64, \n",
       "k_err_median : type=float64, \n",
       "k_err_rms : type=float64, \n",
       "k_err_min : type=float64, \n",
       "k_err_max : type=float64, \n",
       "k_err_range : type=float64, \n",
       "k_meanr : type=float64, \n",
       "k_medianr : type=float64, \n",
       "k_rmsr : type=float64, \n",
       "k_minr : type=float64, \n",
       "k_maxr : type=float64, \n",
       "k_ranger : type=float64, \n",
       "k_err_meanr : type=float64, \n",
       "k_err_medianr : type=float64, \n",
       "k_err_rmsr : type=float64, \n",
       "k_err_minr : type=float64, \n",
       "k_err_maxr : type=float64, \n",
       "k_err_ranger : type=float64, \n",
       "jmh_mean : type=float64, \n",
       "jmh_median : type=float64, \n",
       "jmh_rms : type=float64, \n",
       "jmh_min : type=float64, \n",
       "jmh_max : type=float64, \n",
       "jmh_range : type=float64, \n",
       "jmh_rchi2 : type=float64, \n",
       "jmh_err_mean : type=float64, \n",
       "jmh_err_median : type=float64, \n",
       "jmh_err_rms : type=float64, \n",
       "jmh_err_min : type=float64, \n",
       "jmh_err_max : type=float64, \n",
       "jmh_err_range : type=float64, \n",
       "jmh_meanr : type=float64, \n",
       "jmh_medianr : type=float64, \n",
       "jmh_rmsr : type=float64, \n",
       "jmh_minr : type=float64, \n",
       "jmh_maxr : type=float64, \n",
       "jmh_ranger : type=float64, \n",
       "jmh_err_meanr : type=float64, \n",
       "jmh_err_medianr : type=float64, \n",
       "jmh_err_rmsr : type=float64, \n",
       "jmh_err_minr : type=float64, \n",
       "jmh_err_maxr : type=float64, \n",
       "jmh_err_ranger : type=float64, \n",
       "hmk_mean : type=float64, \n",
       "hmk_median : type=float64, \n",
       "hmk_rms : type=float64, \n",
       "hmk_min : type=float64, \n",
       "hmk_max : type=float64, \n",
       "hmk_range : type=float64, \n",
       "hmk_rchi2 : type=float64, \n",
       "hmk_err_mean : type=float64, \n",
       "hmk_err_median : type=float64, \n",
       "hmk_err_rms : type=float64, \n",
       "hmk_err_min : type=float64, \n",
       "hmk_err_max : type=float64, \n",
       "hmk_err_range : type=float64, \n",
       "hmk_meanr : type=float64, \n",
       "hmk_medianr : type=float64, \n",
       "hmk_rmsr : type=float64, \n",
       "hmk_minr : type=float64, \n",
       "hmk_maxr : type=float64, \n",
       "hmk_ranger : type=float64, \n",
       "hmk_err_meanr : type=float64, \n",
       "hmk_err_medianr : type=float64, \n",
       "hmk_err_rmsr : type=float64, \n",
       "hmk_err_minr : type=float64, \n",
       "hmk_err_maxr : type=float64, \n",
       "hmk_err_ranger : type=float64, \n",
       "N_j_noflag : type=int64, \n",
       "N_h_noflag : type=int64, \n",
       "N_k_noflag : type=int64, \n",
       "N_j_info : type=int64, \n",
       "N_h_info : type=int64, \n",
       "N_k_info : type=int64, \n",
       "N_j_warn : type=int64, \n",
       "N_h_warn : type=int64, \n",
       "N_k_warn : type=int64, \n",
       "jjh_slope : type=float64, \n",
       "jjh_slope_err : type=float64, \n",
       "khk_slope : type=float64, \n",
       "khk_slope_err : type=float64, \n",
       "jhk_slope : type=float64, \n",
       "jhk_slope_err : type=float64\n",
       "}"
      ]
     },
     "execution_count": 111,
     "metadata": {},
     "output_type": "execute_result"
    }
   ],
   "source": [
    "glued_spreadsheet.columns"
   ]
  },
  {
   "cell_type": "code",
   "execution_count": null,
   "metadata": {},
   "outputs": [],
   "source": []
  }
 ],
 "metadata": {
  "kernelspec": {
   "display_name": "Python 3",
   "language": "python",
   "name": "python3"
  },
  "language_info": {
   "codemirror_mode": {
    "name": "ipython",
    "version": 3
   },
   "file_extension": ".py",
   "mimetype": "text/x-python",
   "name": "python",
   "nbconvert_exporter": "python",
   "pygments_lexer": "ipython3",
   "version": "3.7.7"
  }
 },
 "nbformat": 4,
 "nbformat_minor": 4
}
