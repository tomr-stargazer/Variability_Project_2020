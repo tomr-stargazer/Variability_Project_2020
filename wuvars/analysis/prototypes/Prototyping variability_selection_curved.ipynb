{
 "cells": [
  {
   "cell_type": "markdown",
   "id": "a3aaa020",
   "metadata": {},
   "source": [
    "# The idea\n",
    "\n",
    "We are writing a piece of code that takes two inputs:\n",
    "- a summary spreadsheet, and\n",
    "- the (saved and loaded) output of `stetson_vs_mag`\n",
    "\n",
    "It performs this:\n",
    "- for each K magnitude of an object, \n",
    "- - interpolates the Stetson threshold onto that exact K mag,\n",
    "- - subtracts it from the actual Stetson value\n",
    "\n",
    "and outputs:\n",
    "- an edited version of the spreadsheet with a new column."
   ]
  },
  {
   "cell_type": "code",
   "execution_count": 8,
   "id": "dfd060e7",
   "metadata": {},
   "outputs": [],
   "source": [
    "import numpy as np\n",
    "import matplotlib.pyplot as plt\n",
    "import pandas as pd\n",
    "\n",
    "import warnings\n",
    "warnings.filterwarnings(\"ignore\")\n",
    "\n",
    "from wuvars.data import spreadsheet\n",
    "\n",
    "spread = spreadsheet.load_v2()"
   ]
  },
  {
   "cell_type": "code",
   "execution_count": 2,
   "id": "6f092fde",
   "metadata": {},
   "outputs": [],
   "source": [
    "load_dir = \"/Users/tsrice/Documents/Variability_Project_2020/wuvars/analysis/stetson_v_mag\"\n",
    "\n",
    "# for wserv in [5, 7, 8]:\n",
    "#     r997 = np.load(\n",
    "#         os.path.join(load_dir, f\"WSERV{wserv}_result_grid_997.npy\"),\n",
    "#     )\n",
    "#     r95 = np.load(\n",
    "#         os.path.join(load_dir, f\"WSERV{wserv}_result_grid_95.npy\"),\n",
    "#     )\n",
    "#     r50 = np.load(\n",
    "#         os.path.join(load_dir, f\"WSERV{wserv}_result_grid_50.npy\"),\n",
    "#     )"
   ]
  },
  {
   "cell_type": "code",
   "execution_count": 42,
   "id": "758c6328",
   "metadata": {},
   "outputs": [],
   "source": [
    "%run ../variability_selection_curved.py"
   ]
  },
  {
   "cell_type": "code",
   "execution_count": 43,
   "id": "aed9e96a",
   "metadata": {},
   "outputs": [
    {
     "data": {
      "text/plain": [
       "<function __main__.curve_Stetson(ds, magnitudes, thresholds, suffix, input_column='Stetson_JHK')>"
      ]
     },
     "execution_count": 43,
     "metadata": {},
     "output_type": "execute_result"
    }
   ],
   "source": [
    "curve_Stetson"
   ]
  },
  {
   "cell_type": "code",
   "execution_count": 9,
   "id": "e01008cc",
   "metadata": {},
   "outputs": [],
   "source": [
    "wserv = 7\n",
    "ds = spread[f'wserv{wserv}']\n",
    "r997 = np.load(\n",
    "    os.path.join(load_dir, f\"WSERV{wserv}_result_grid_997.npy\"),\n",
    ")\n",
    "r95 = np.load(\n",
    "    os.path.join(load_dir, f\"WSERV{wserv}_result_grid_95.npy\"),\n",
    ")\n",
    "r50 = np.load(\n",
    "    os.path.join(load_dir, f\"WSERV{wserv}_result_grid_50.npy\"),\n",
    ")\n",
    "\n"
   ]
  },
  {
   "cell_type": "code",
   "execution_count": 44,
   "id": "3d94acc8",
   "metadata": {},
   "outputs": [],
   "source": [
    "curve_Stetson(ds, r997[0], r997[1], '_m_997')\n",
    "curve_Stetson(ds, r95[0], r95[1], '_m_95')"
   ]
  },
  {
   "cell_type": "code",
   "execution_count": null,
   "id": "3e420524",
   "metadata": {},
   "outputs": [],
   "source": []
  },
  {
   "cell_type": "code",
   "execution_count": 45,
   "id": "fd773b4c",
   "metadata": {},
   "outputs": [
    {
     "data": {
      "text/html": [
       "<div>\n",
       "<style scoped>\n",
       "    .dataframe tbody tr th:only-of-type {\n",
       "        vertical-align: middle;\n",
       "    }\n",
       "\n",
       "    .dataframe tbody tr th {\n",
       "        vertical-align: top;\n",
       "    }\n",
       "\n",
       "    .dataframe thead th {\n",
       "        text-align: right;\n",
       "    }\n",
       "</style>\n",
       "<table border=\"1\" class=\"dataframe\">\n",
       "  <thead>\n",
       "    <tr style=\"text-align: right;\">\n",
       "      <th></th>\n",
       "      <th>J_red_chisq</th>\n",
       "      <th>H_red_chisq</th>\n",
       "      <th>K_red_chisq</th>\n",
       "      <th>Stetson_HK</th>\n",
       "      <th>Stetson_JK</th>\n",
       "      <th>Stetson_JH</th>\n",
       "      <th>Stetson_JHK</th>\n",
       "      <th>Stetson_JHK_m_997</th>\n",
       "      <th>Stetson_JHKm_997</th>\n",
       "      <th>Stetson_JHK_m_95</th>\n",
       "    </tr>\n",
       "    <tr>\n",
       "      <th>SOURCEID</th>\n",
       "      <th></th>\n",
       "      <th></th>\n",
       "      <th></th>\n",
       "      <th></th>\n",
       "      <th></th>\n",
       "      <th></th>\n",
       "      <th></th>\n",
       "      <th></th>\n",
       "      <th></th>\n",
       "      <th></th>\n",
       "    </tr>\n",
       "  </thead>\n",
       "  <tbody>\n",
       "    <tr>\n",
       "      <th>44508746088477</th>\n",
       "      <td>-0.0</td>\n",
       "      <td>-0.00000</td>\n",
       "      <td>-0.000000</td>\n",
       "      <td>NaN</td>\n",
       "      <td>NaN</td>\n",
       "      <td>NaN</td>\n",
       "      <td>NaN</td>\n",
       "      <td>NaN</td>\n",
       "      <td>NaN</td>\n",
       "      <td>NaN</td>\n",
       "    </tr>\n",
       "    <tr>\n",
       "      <th>44508746088478</th>\n",
       "      <td>-0.0</td>\n",
       "      <td>-0.00000</td>\n",
       "      <td>-0.000000</td>\n",
       "      <td>NaN</td>\n",
       "      <td>NaN</td>\n",
       "      <td>NaN</td>\n",
       "      <td>NaN</td>\n",
       "      <td>NaN</td>\n",
       "      <td>NaN</td>\n",
       "      <td>NaN</td>\n",
       "    </tr>\n",
       "    <tr>\n",
       "      <th>44508746088482</th>\n",
       "      <td>-0.0</td>\n",
       "      <td>-0.00000</td>\n",
       "      <td>-0.000000</td>\n",
       "      <td>NaN</td>\n",
       "      <td>NaN</td>\n",
       "      <td>NaN</td>\n",
       "      <td>NaN</td>\n",
       "      <td>NaN</td>\n",
       "      <td>NaN</td>\n",
       "      <td>NaN</td>\n",
       "    </tr>\n",
       "    <tr>\n",
       "      <th>44508746088484</th>\n",
       "      <td>-0.0</td>\n",
       "      <td>-0.00000</td>\n",
       "      <td>-0.000000</td>\n",
       "      <td>NaN</td>\n",
       "      <td>NaN</td>\n",
       "      <td>NaN</td>\n",
       "      <td>NaN</td>\n",
       "      <td>NaN</td>\n",
       "      <td>NaN</td>\n",
       "      <td>NaN</td>\n",
       "    </tr>\n",
       "    <tr>\n",
       "      <th>44508746088487</th>\n",
       "      <td>-0.0</td>\n",
       "      <td>-0.00000</td>\n",
       "      <td>-0.000000</td>\n",
       "      <td>NaN</td>\n",
       "      <td>NaN</td>\n",
       "      <td>NaN</td>\n",
       "      <td>NaN</td>\n",
       "      <td>NaN</td>\n",
       "      <td>NaN</td>\n",
       "      <td>NaN</td>\n",
       "    </tr>\n",
       "    <tr>\n",
       "      <th>...</th>\n",
       "      <td>...</td>\n",
       "      <td>...</td>\n",
       "      <td>...</td>\n",
       "      <td>...</td>\n",
       "      <td>...</td>\n",
       "      <td>...</td>\n",
       "      <td>...</td>\n",
       "      <td>...</td>\n",
       "      <td>...</td>\n",
       "      <td>...</td>\n",
       "    </tr>\n",
       "    <tr>\n",
       "      <th>44508746139098</th>\n",
       "      <td>-0.0</td>\n",
       "      <td>-0.00000</td>\n",
       "      <td>1.217973</td>\n",
       "      <td>NaN</td>\n",
       "      <td>NaN</td>\n",
       "      <td>NaN</td>\n",
       "      <td>NaN</td>\n",
       "      <td>NaN</td>\n",
       "      <td>NaN</td>\n",
       "      <td>NaN</td>\n",
       "    </tr>\n",
       "    <tr>\n",
       "      <th>44508746139125</th>\n",
       "      <td>-0.0</td>\n",
       "      <td>1.75644</td>\n",
       "      <td>NaN</td>\n",
       "      <td>NaN</td>\n",
       "      <td>NaN</td>\n",
       "      <td>NaN</td>\n",
       "      <td>NaN</td>\n",
       "      <td>NaN</td>\n",
       "      <td>NaN</td>\n",
       "      <td>NaN</td>\n",
       "    </tr>\n",
       "    <tr>\n",
       "      <th>44508746139158</th>\n",
       "      <td>-0.0</td>\n",
       "      <td>-0.00000</td>\n",
       "      <td>0.755624</td>\n",
       "      <td>NaN</td>\n",
       "      <td>NaN</td>\n",
       "      <td>NaN</td>\n",
       "      <td>NaN</td>\n",
       "      <td>NaN</td>\n",
       "      <td>NaN</td>\n",
       "      <td>NaN</td>\n",
       "    </tr>\n",
       "    <tr>\n",
       "      <th>44508746139174</th>\n",
       "      <td>-0.0</td>\n",
       "      <td>NaN</td>\n",
       "      <td>1.171153</td>\n",
       "      <td>NaN</td>\n",
       "      <td>NaN</td>\n",
       "      <td>NaN</td>\n",
       "      <td>NaN</td>\n",
       "      <td>NaN</td>\n",
       "      <td>NaN</td>\n",
       "      <td>NaN</td>\n",
       "    </tr>\n",
       "    <tr>\n",
       "      <th>44508746139200</th>\n",
       "      <td>-0.0</td>\n",
       "      <td>-0.00000</td>\n",
       "      <td>0.646643</td>\n",
       "      <td>NaN</td>\n",
       "      <td>NaN</td>\n",
       "      <td>NaN</td>\n",
       "      <td>NaN</td>\n",
       "      <td>NaN</td>\n",
       "      <td>NaN</td>\n",
       "      <td>NaN</td>\n",
       "    </tr>\n",
       "  </tbody>\n",
       "</table>\n",
       "<p>21885 rows × 10 columns</p>\n",
       "</div>"
      ],
      "text/plain": [
       "                J_red_chisq  H_red_chisq  K_red_chisq  Stetson_HK  Stetson_JK  \\\n",
       "SOURCEID                                                                        \n",
       "44508746088477         -0.0     -0.00000    -0.000000         NaN         NaN   \n",
       "44508746088478         -0.0     -0.00000    -0.000000         NaN         NaN   \n",
       "44508746088482         -0.0     -0.00000    -0.000000         NaN         NaN   \n",
       "44508746088484         -0.0     -0.00000    -0.000000         NaN         NaN   \n",
       "44508746088487         -0.0     -0.00000    -0.000000         NaN         NaN   \n",
       "...                     ...          ...          ...         ...         ...   \n",
       "44508746139098         -0.0     -0.00000     1.217973         NaN         NaN   \n",
       "44508746139125         -0.0      1.75644          NaN         NaN         NaN   \n",
       "44508746139158         -0.0     -0.00000     0.755624         NaN         NaN   \n",
       "44508746139174         -0.0          NaN     1.171153         NaN         NaN   \n",
       "44508746139200         -0.0     -0.00000     0.646643         NaN         NaN   \n",
       "\n",
       "                Stetson_JH  Stetson_JHK  Stetson_JHK_m_997  Stetson_JHKm_997  \\\n",
       "SOURCEID                                                                       \n",
       "44508746088477         NaN          NaN                NaN               NaN   \n",
       "44508746088478         NaN          NaN                NaN               NaN   \n",
       "44508746088482         NaN          NaN                NaN               NaN   \n",
       "44508746088484         NaN          NaN                NaN               NaN   \n",
       "44508746088487         NaN          NaN                NaN               NaN   \n",
       "...                    ...          ...                ...               ...   \n",
       "44508746139098         NaN          NaN                NaN               NaN   \n",
       "44508746139125         NaN          NaN                NaN               NaN   \n",
       "44508746139158         NaN          NaN                NaN               NaN   \n",
       "44508746139174         NaN          NaN                NaN               NaN   \n",
       "44508746139200         NaN          NaN                NaN               NaN   \n",
       "\n",
       "                Stetson_JHK_m_95  \n",
       "SOURCEID                          \n",
       "44508746088477               NaN  \n",
       "44508746088478               NaN  \n",
       "44508746088482               NaN  \n",
       "44508746088484               NaN  \n",
       "44508746088487               NaN  \n",
       "...                          ...  \n",
       "44508746139098               NaN  \n",
       "44508746139125               NaN  \n",
       "44508746139158               NaN  \n",
       "44508746139174               NaN  \n",
       "44508746139200               NaN  \n",
       "\n",
       "[21885 rows x 10 columns]"
      ]
     },
     "execution_count": 45,
     "metadata": {},
     "output_type": "execute_result"
    }
   ],
   "source": [
    "ds['variability']"
   ]
  },
  {
   "cell_type": "code",
   "execution_count": 28,
   "id": "ce645802",
   "metadata": {},
   "outputs": [],
   "source": [
    "suffix = '_m_997'\n",
    "\n",
    "v_jhk = sv_jhk(ds, Stetson_cutoff=0, suffix=suffix)"
   ]
  },
  {
   "cell_type": "code",
   "execution_count": 46,
   "id": "c20b8112",
   "metadata": {},
   "outputs": [],
   "source": [
    "suffix_95 = '_m_95'\n",
    "\n",
    "v_jhk_cand = sv_jhk(ds, Stetson_cutoff=0, suffix=suffix_95)"
   ]
  },
  {
   "cell_type": "code",
   "execution_count": 29,
   "id": "2d0c2bd7",
   "metadata": {},
   "outputs": [
    {
     "data": {
      "text/plain": [
       "1145"
      ]
     },
     "execution_count": 29,
     "metadata": {},
     "output_type": "execute_result"
    }
   ],
   "source": [
    "np.sum(v_jhk)"
   ]
  },
  {
   "cell_type": "code",
   "execution_count": 51,
   "id": "0b4e28cc",
   "metadata": {},
   "outputs": [
    {
     "data": {
      "text/plain": [
       "230"
      ]
     },
     "execution_count": 51,
     "metadata": {},
     "output_type": "execute_result"
    }
   ],
   "source": [
    "np.sum(v_jhk_cand & q2 & ~v_jhk)"
   ]
  },
  {
   "cell_type": "code",
   "execution_count": 30,
   "id": "be80d5d1",
   "metadata": {},
   "outputs": [],
   "source": [
    "import wuvars.analysis.variability_selection as sv\n",
    "\n",
    "q2 = sv.sq2(ds, 80, 160)"
   ]
  },
  {
   "cell_type": "code",
   "execution_count": 31,
   "id": "0a7ae11f",
   "metadata": {},
   "outputs": [
    {
     "data": {
      "text/plain": [
       "86"
      ]
     },
     "execution_count": 31,
     "metadata": {},
     "output_type": "execute_result"
    }
   ],
   "source": [
    "np.sum(q2 & v_jhk)"
   ]
  },
  {
   "cell_type": "code",
   "execution_count": 32,
   "id": "bc0de36b",
   "metadata": {},
   "outputs": [],
   "source": [
    "old_v_jhk = sv.sv_jhk(ds, Stetson_cutoff=1.6)"
   ]
  },
  {
   "cell_type": "code",
   "execution_count": 33,
   "id": "55777bad",
   "metadata": {},
   "outputs": [
    {
     "data": {
      "text/plain": [
       "71"
      ]
     },
     "execution_count": 33,
     "metadata": {},
     "output_type": "execute_result"
    }
   ],
   "source": [
    "np.sum(q2 & old_v_jhk)"
   ]
  },
  {
   "cell_type": "code",
   "execution_count": 52,
   "id": "d74f44df",
   "metadata": {},
   "outputs": [
    {
     "data": {
      "text/plain": [
       "(0.01, 95.7290582336422)"
      ]
     },
     "execution_count": 52,
     "metadata": {},
     "output_type": "execute_result"
    },
    {
     "data": {
      "image/png": "[encoded data removed]",
      "text/plain": [
       "<Figure size 432x288 with 1 Axes>"
      ]
     },
     "metadata": {
      "needs_background": "light"
     },
     "output_type": "display_data"
    }
   ],
   "source": [
    "# plot the objects selected as new variables in a Stetson vs K mag plot\n",
    "\n",
    "plt.plot(ds[q2]['median']['KAPERMAG3'], ds[q2]['variability']['Stetson_JHK'], 'k.', ms=1)\n",
    "plt.plot(ds[q2 & v_jhk]['median']['KAPERMAG3'], ds[q2 & v_jhk]['variability']['Stetson_JHK'], 'r.', ms=3)\n",
    "plt.plot(ds[q2 & v_jhk_cand & ~v_jhk]['median']['KAPERMAG3'], ds[q2 & v_jhk_cand & ~v_jhk]['variability']['Stetson_JHK'], 'b.', ms=3)\n",
    "\n",
    "plt.plot(r997[0], r997[1], 'r-')\n",
    "plt.plot(r95[0], r95[1], 'b--')\n",
    "\n",
    "plt.semilogy()\n",
    "plt.ylim(1e-2, None)"
   ]
  },
  {
   "cell_type": "code",
   "execution_count": null,
   "id": "72ca704f",
   "metadata": {},
   "outputs": [],
   "source": []
  }
 ],
 "metadata": {
  "kernelspec": {
   "display_name": "Python 3 (ipykernel)",
   "language": "python",
   "name": "python3"
  },
  "language_info": {
   "codemirror_mode": {
    "name": "ipython",
    "version": 3
   },
   "file_extension": ".py",
   "mimetype": "text/x-python",
   "name": "python",
   "nbconvert_exporter": "python",
   "pygments_lexer": "ipython3",
   "version": "3.7.7"
  }
 },
 "nbformat": 4,
 "nbformat_minor": 5
}
