{
 "cells": [
  {
   "cell_type": "markdown",
   "id": "917f8927",
   "metadata": {},
   "source": [
    "# The idea: Sensitivity analysis to mass and extinction\n",
    "\n",
    "At the faint extreme, how sensitive are we to photometric variations in the lowest-mass objects? What are the lowest masses we can study photometric variability in?\n",
    "\n",
    "At what K magnitude do 90% of objects have photometric uncertainty of 0.05 mag or below?\n",
    "**K~16.4**\n",
    "\n",
    "At what K magnitude do 90% of objects have photometric uncertainty of 0.02 mag or below?\n",
    "**K~15.4**\n",
    "\n",
    "\n",
    "At Av=0, what mass does this correspond to? At Av=10? At Av=20? do this for each region.\n",
    "\n",
    "Sensitivity limits per region, as a function of extinction\n"
   ]
  },
  {
   "cell_type": "code",
   "execution_count": 1,
   "id": "7a149d47",
   "metadata": {},
   "outputs": [],
   "source": [
    "k_limit = 16.4\n",
    "\n",
    "def distmod(d):\n",
    "    return 5 * np.log10(d) - 5\n",
    "\n",
    "dist_onc = 386\n",
    "dist_per = 300\n",
    "\n",
    "mu_onc = distmod(dist_onc)\n",
    "mu_per = distmod(dist_per)\n",
    "\n",
    "AVs = [0, 10, 20]\n",
    "\n",
    "# from Rieke & Lebofsky 1985, Table 3\n",
    "AK_from_AV = 0.112\n",
    "\n"
   ]
  },
  {
   "cell_type": "code",
   "execution_count": 11,
   "id": "abda736c",
   "metadata": {},
   "outputs": [
    {
     "name": "stdout",
     "output_type": "stream",
     "text": [
      "ONC: d=386, mu=7.93\n",
      "AV= 0 : M_K = 8.47\n",
      "AV=10 : M_K = 7.35\n",
      "AV=20 : M_K = 6.23\n"
     ]
    }
   ],
   "source": [
    "\n",
    "print(f\"ONC: d={dist_onc}, mu={mu_onc:.2f}\")\n",
    "for AV in AVs:\n",
    "    \n",
    "    # absolute mag of the object in question\n",
    "    M_K = k_limit - mu_onc - (AK_from_AV * AV)\n",
    "    \n",
    "    print(f\"AV={AV:2d} : M_K = {M_K:.2f}\")"
   ]
  },
  {
   "cell_type": "code",
   "execution_count": 10,
   "id": "caf8b405",
   "metadata": {},
   "outputs": [
    {
     "name": "stdout",
     "output_type": "stream",
     "text": [
      "Perseus: d=300, mu=7.39\n",
      "AV= 0 : M_K = 9.01\n",
      "AV=10 : M_K = 7.89\n",
      "AV=20 : M_K = 6.77\n"
     ]
    }
   ],
   "source": [
    "\n",
    "print(f\"Perseus: d={dist_per}, mu={mu_per:.2f}\")\n",
    "\n",
    "for AV in AVs:\n",
    "    \n",
    "    # absolute mag of the object in question\n",
    "    M_K = k_limit - mu_per - (AK_from_AV * AV)\n",
    "    \n",
    "    print(f\"AV={AV:2d} : M_K = {M_K:.2f}\")"
   ]
  },
  {
   "cell_type": "code",
   "execution_count": null,
   "id": "84de4f8a",
   "metadata": {},
   "outputs": [],
   "source": []
  }
 ],
 "metadata": {
  "kernelspec": {
   "display_name": "Python 3",
   "language": "python",
   "name": "python3"
  },
  "language_info": {
   "codemirror_mode": {
    "name": "ipython",
    "version": 3
   },
   "file_extension": ".py",
   "mimetype": "text/x-python",
   "name": "python",
   "nbconvert_exporter": "python",
   "pygments_lexer": "ipython3",
   "version": "3.7.7"
  }
 },
 "nbformat": 4,
 "nbformat_minor": 5
}
