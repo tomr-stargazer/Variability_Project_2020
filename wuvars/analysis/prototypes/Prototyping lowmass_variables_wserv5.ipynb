{
 "cells": [
  {
   "cell_type": "markdown",
   "id": "d0929363",
   "metadata": {},
   "source": [
    "# The big idea\n",
    "\n",
    "Here I am developing and prototyping a script, `lowmass_variables_wserv5.py`, which has the goal of having the list of variables all in one place for WSERV5."
   ]
  },
  {
   "cell_type": "code",
   "execution_count": 4,
   "id": "a52b95f2",
   "metadata": {},
   "outputs": [
    {
     "name": "stdout",
     "output_type": "stream",
     "text": [
      "Total objects in ONC: 336\n",
      "Total periodic objects: 78\n",
      "Fraction periodic: 23.2%\n"
     ]
    }
   ],
   "source": [
    "%run ../lowmass_variables_wserv5.py"
   ]
  },
  {
   "cell_type": "code",
   "execution_count": null,
   "id": "a1693808",
   "metadata": {},
   "outputs": [],
   "source": []
  }
 ],
 "metadata": {
  "kernelspec": {
   "display_name": "Python 3 (ipykernel)",
   "language": "python",
   "name": "python3"
  },
  "language_info": {
   "codemirror_mode": {
    "name": "ipython",
    "version": 3
   },
   "file_extension": ".py",
   "mimetype": "text/x-python",
   "name": "python",
   "nbconvert_exporter": "python",
   "pygments_lexer": "ipython3",
   "version": "3.7.7"
  }
 },
 "nbformat": 4,
 "nbformat_minor": 5
}
