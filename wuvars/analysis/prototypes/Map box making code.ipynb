{
 "cells": [
  {
   "cell_type": "markdown",
   "id": "fde5d09f",
   "metadata": {},
   "source": [
    "# What is this?\n",
    "\n",
    "30 Sep 2024\n",
    "\n",
    "I made a map figure for my Lowell Colloquium talk in which I overlaid a JWST image (the APOD from Sep 12 2024) on the UKIRT field. This code was sort of a \"pathfinder\" for that."
   ]
  },
  {
   "cell_type": "code",
   "execution_count": 1,
   "id": "9ef60f76",
   "metadata": {},
   "outputs": [],
   "source": [
    "import numpy as np\n",
    "import matplotlib.pyplot as plt"
   ]
  },
  {
   "cell_type": "code",
   "execution_count": 2,
   "id": "2b6b6c7e",
   "metadata": {},
   "outputs": [],
   "source": [
    "def box_sequence(ramin, ramax, demin, demax):\n",
    "\n",
    "    ra_sequence = [ramin, ramax, ramax, ramin, ramin]\n",
    "    de_sequence = [demin, demin, demax, demax, demin]\n",
    "\n",
    "    return ra_sequence, de_sequence"
   ]
  },
  {
   "cell_type": "code",
   "execution_count": 3,
   "id": "f171d883",
   "metadata": {},
   "outputs": [],
   "source": [
    "bramin = 51.68\n",
    "bramax = 52.73\n",
    "bdemin = 30.84\n",
    "bdemax = 31.73"
   ]
  },
  {
   "cell_type": "code",
   "execution_count": 4,
   "id": "028a2871",
   "metadata": {},
   "outputs": [],
   "source": [
    "sramin = 52.20\n",
    "sramax = 52.35\n",
    "sdemin = 31.27\n",
    "sdemax = 31.43"
   ]
  },
  {
   "cell_type": "code",
   "execution_count": 10,
   "id": "3a55efdd",
   "metadata": {},
   "outputs": [
    {
     "data": {
      "text/plain": [
       "Text(0, 0.5, 'Dec (deg)')"
      ]
     },
     "execution_count": 10,
     "metadata": {},
     "output_type": "execute_result"
    },
    {
     "data": {
      "image/png": "[encoded data removed]",
      "text/plain": [
       "<Figure size 288x288 with 1 Axes>"
      ]
     },
     "metadata": {
      "needs_background": "light"
     },
     "output_type": "display_data"
    }
   ],
   "source": [
    "plt.figure(figsize=(4,4))\n",
    "plt.plot(*box_sequence(bramin, bramax, bdemin, bdemax))\n",
    "plt.plot(*box_sequence(sramin, sramax, sdemin, sdemax))\n",
    "plt.gca().invert_xaxis()\n",
    "plt.xlabel(\"RA (deg)\")\n",
    "plt.ylabel(\"Dec (deg)\")"
   ]
  },
  {
   "cell_type": "code",
   "execution_count": 11,
   "id": "3a9b305a",
   "metadata": {},
   "outputs": [],
   "source": [
    "# let's find the IC348 coordinates.\n",
    "\n"
   ]
  },
  {
   "cell_type": "code",
   "execution_count": 13,
   "id": "b7e7c04e",
   "metadata": {},
   "outputs": [],
   "source": [
    "from wuvars.data.spreadsheet import load_wserv_v2\n",
    "spread8 = load_wserv_v2(8)"
   ]
  },
  {
   "cell_type": "code",
   "execution_count": 20,
   "id": "ceb81d46",
   "metadata": {},
   "outputs": [],
   "source": [
    "ic_coords = np.degrees(spread8['mean']['RA'].min()), np.degrees(spread8['mean']['RA'].max()), np.degrees(spread8['mean']['DEC'].min()),np.degrees(spread8['mean']['DEC'].max()),\n"
   ]
  },
  {
   "cell_type": "code",
   "execution_count": 22,
   "id": "0ea8ef6b",
   "metadata": {},
   "outputs": [
    {
     "data": {
      "text/plain": [
       "Text(0, 0.5, 'Dec (deg)')"
      ]
     },
     "execution_count": 22,
     "metadata": {},
     "output_type": "execute_result"
    },
    {
     "data": {
      "image/png": "[encoded data removed]",
      "text/plain": [
       "<Figure size 576x288 with 1 Axes>"
      ]
     },
     "metadata": {
      "needs_background": "light"
     },
     "output_type": "display_data"
    }
   ],
   "source": [
    "plt.figure(figsize=(8,4))\n",
    "plt.plot(*box_sequence(bramin, bramax, bdemin, bdemax))\n",
    "plt.plot(*box_sequence(sramin, sramax, sdemin, sdemax))\n",
    "plt.plot(*box_sequence(*ic_coords))\n",
    "plt.gca().invert_xaxis()\n",
    "plt.xlabel(\"RA (deg)\")\n",
    "plt.ylabel(\"Dec (deg)\")"
   ]
  },
  {
   "cell_type": "code",
   "execution_count": 23,
   "id": "d10081dc",
   "metadata": {},
   "outputs": [
    {
     "name": "stdout",
     "output_type": "stream",
     "text": [
      "(55.61903099876549, 56.68231041169733, 31.76215222146832, 32.65672289502177)\n"
     ]
    }
   ],
   "source": [
    "print(ic_coords)"
   ]
  },
  {
   "cell_type": "code",
   "execution_count": null,
   "id": "2ab6b2ae",
   "metadata": {},
   "outputs": [],
   "source": []
  }
 ],
 "metadata": {
  "kernelspec": {
   "display_name": "Python 3 (ipykernel)",
   "language": "python",
   "name": "python3"
  },
  "language_info": {
   "codemirror_mode": {
    "name": "ipython",
    "version": 3
   },
   "file_extension": ".py",
   "mimetype": "text/x-python",
   "name": "python",
   "nbconvert_exporter": "python",
   "pygments_lexer": "ipython3",
   "version": "3.7.7"
  }
 },
 "nbformat": 4,
 "nbformat_minor": 5
}
