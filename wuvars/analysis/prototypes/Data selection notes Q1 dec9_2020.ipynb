{
 "cells": [
  {
   "cell_type": "markdown",
   "metadata": {},
   "source": [
    "# Prototyping variability_selection\n",
    "\n",
    "Goal: figure out precisely which criteria we will use to select \"valid\" stars (Q2, Q1, etc) and \n",
    "One change I am considering making: expanding the \"Q1\" criterion to include stars who may not have any 100% bands, but who are like 90% good in each band. (I'd like to compute variability stats on ONLY their `good` data in these cases, which might require adding some columns to spreadsheet_maker.)\n",
    "\n",
    "One consideration: backwards compatibility, at least with the 2015 orion paper. At the very very least, let's confirm that we can reproduce those results to some degree.\n",
    "\n",
    "I'm looking at [\"official_star_counter\" from wuvsars-orion](https://github.com/tomr-stargazer/wuvars-orion/blob/master/official_star_counter.py).\n",
    "\n",
    "(We'll also, someday, be interested in splitting off WSERV5-SE and treating it as its own thing, too.)"
   ]
  },
  {
   "cell_type": "markdown",
   "metadata": {},
   "source": [
    "### First: Can we, like, re-run wuvsars-orion's official star counter?\n",
    "\n",
    "official star counter lives here:\n",
    "/Users/tsrice/Documents/Code/wuvars-orion/official_star_counter.py\n"
   ]
  },
  {
   "cell_type": "code",
   "execution_count": 2,
   "metadata": {},
   "outputs": [
    {
     "name": "stdout",
     "output_type": "stream",
     "text": [
      "Auto-detected table type: fits\n",
      "Auto-detected table type: fits\n",
      "Auto-detected table type: fits\n",
      "Auto-detected table type: fits\n",
      "Number of detected sources in the dataset:\n",
      "40630\n",
      "Number of stars that meet absolute minimum considerations for valid data:\n",
      "(i.e., have at least 50 recorded observations in at least one band)\n",
      "14728\n",
      "Maximum possible number of variables: 3141\n",
      "Number of stars automatically classed as variables: 868\n",
      "Number of stars that have the data quality for auto-classification: 3592\n",
      "Auto-detected table type: fits\n",
      "\n",
      "Number of probably-variable stars requiring subjective verification due to imperfect data quality: 2273\n",
      "Number of new subjectives: 94\n",
      "\n",
      "Number of STRICT autovariables: 553\n",
      "Number of STRICT autocandidates: 2348\n",
      "\n",
      " Q: Statistically, what fraction of our stars are variables?\n",
      " A: 23.55%, drawn from the tightest-controlled sample;\n",
      "    24.16%, drawn from a looser sample.\n",
      "\n",
      "Number of possible variables with detected periods: 585\n",
      "Number of autovariables that are periodic: 354\n",
      "Number of STRICT autovariables that are periodic: 233\n",
      "Number of possible periodic variables requiring subjective validation: 231\n",
      "\n",
      " Q: Statistically, what fraction of our variables are periodic?\n",
      " A: 42.13%, drawn from the tightest-controlled sample;\n",
      "    40.78%, drawn from a looser sample.\n",
      "\n",
      " Q: What fraction of stars in this dataset are periodic variables?\n",
      " A: 9.92%, drawn from the tightest-controlled sample;\n",
      "    9.86%, drawn from a looser sample.\n",
      "Maximum possible number of LOW-variables: 1522\n",
      "Number of stars automatically classed as LOW variables: 560\n",
      "Number of stars that have the data quality for auto-classification: 3592\n",
      "Auto-detected table type: fits\n",
      "Number of LOW strict variables: 506\n",
      "Number of LOW periodic-strict stars: 55\n"
     ]
    }
   ],
   "source": [
    "%run /Users/tsrice/Documents/Code/wuvars-orion/official_star_counter.py"
   ]
  },
  {
   "cell_type": "markdown",
   "metadata": {},
   "source": [
    "### Stats from \"old\" official star counter:\n",
    "\n",
    "- Q0 stars (at least 50 observations in at least one band): \n",
    " - 14728\n",
    "- Total detected sources:\n",
    " - 40630\n",
    "- Q2 stars:\n",
    " - 2348\n",
    "- Q1 + Q2 stars:\n",
    " - 3592"
   ]
  },
  {
   "cell_type": "markdown",
   "metadata": {},
   "source": [
    "# Question 1: \n",
    "\n",
    "Given that we've shifted away from old \"summary spreadsheet\" code from ~2012 (which used ATpy internally) to new code which uses Pandas internally (for a huge boost in performance, maintainability/clarity, and compatibility with Python 3), can we reproduce the numbers from Table 1 of Rice et al 2015? In other words, **can we verify that the new code produces the same output as the old code**, given the same photometric data and the same definitions for \"quality bins\"?"
   ]
  },
  {
   "cell_type": "code",
   "execution_count": 1,
   "metadata": {},
   "outputs": [],
   "source": [
    "import numpy as np\n",
    "import pandas as pd\n",
    "import matplotlib.pyplot as plt\n",
    "from astropy.table import Table\n"
   ]
  },
  {
   "cell_type": "code",
   "execution_count": 2,
   "metadata": {},
   "outputs": [
    {
     "name": "stdout",
     "output_type": "stream",
     "text": [
      "\n",
      "   WSERV5: \n",
      "\n",
      "WSERV5: /Users/tsrice/Documents/Variability_Project_2020/wuvars/Data/analysis_artifacts/wserv5_v2012/WSERV5_fdece_graded_clipped0.8_scrubbed0.1_dusted0.5_summary_spreadsheet.h5\n",
      "Total detected sources: 40630\n",
      "Total sources with at least 50 obs in one band: 14728\n"
     ]
    }
   ],
   "source": [
    "# Let's re-implement the above for WSERV5, in my new reduction.\n",
    "\n",
    "spreadsheet_root = \"/Users/tsrice/Documents/Variability_Project_2020/wuvars/Data/analysis_artifacts\"\n",
    "wserv_ids = [5]\n",
    "\n",
    "for wserv in wserv_ids[::-1]:\n",
    "    \n",
    "    print(f\"\\n   WSERV{wserv}: \\n\")\n",
    "\n",
    "    spreadsheet_path = os.path.join(\n",
    "        spreadsheet_root,\n",
    "        f\"wserv{str(wserv)}\",\n",
    "        f\"WSERV{str(wserv)}_graded_clipped0.95_scrubbed0.1_dusted0.5_summary_spreadsheet.h5\",\n",
    "    )\n",
    "    if wserv==5:\n",
    "        spreadsheet_path = os.path.join(\n",
    "            spreadsheet_root, \n",
    "            \"wserv5_v2012\",\n",
    "            f\"WSERV{str(wserv)}_fdece_graded_clipped0.8_scrubbed0.1_dusted0.5_summary_spreadsheet.h5\")\n",
    "        print(f\"WSERV5: {spreadsheet_path}\")\n",
    "    \n",
    "    ds = pd.read_hdf(spreadsheet_path, key='table')\n",
    "\n",
    "    q0 = (\n",
    "        (ds[\"count\"][\"N_J\"] >= 50)\n",
    "        | (ds[\"count\"][\"N_H\"] >= 50)\n",
    "        | (ds[\"count\"][\"N_K\"] >= 50)\n",
    "    )\n",
    "    \n",
    "    print(\"Total detected sources:\", len(ds))\n",
    "    print(\"Total sources with at least 50 obs in one band:\", len(ds[q0]))\n"
   ]
  },
  {
   "cell_type": "markdown",
   "metadata": {},
   "source": [
    "# Answer to Question 1 (updated!! as of 12/9/20):\n",
    "\n",
    "Okay, the good: we are picking up **exactly** the same number of detected sources for WSERV5 as before. (40630)\n",
    "\n",
    "(Context: this is the version of the spreadsheet which uses the old, '80% graded' data, as an exact copy from 2012.)\n",
    "\n",
    "~~The mostly-good: we are picking up very nearly the same number of Q0 sources (15,101 versus the old 14,728). I'm not sure where these 373 newcomers came from, actually, we should find out.~~\n",
    "\n",
    "## UPDATE\n",
    "\n",
    "**Now we have 14728 Q=0 sources in this dataset**. This means we are reproducing, exactly, the output of the older code, and can be confident that, moving forward (as we apply this code to the other datasets), we are bringing forward our experience-tested criteria."
   ]
  },
  {
   "cell_type": "code",
   "execution_count": null,
   "metadata": {},
   "outputs": [],
   "source": []
  }
 ],
 "metadata": {
  "kernelspec": {
   "display_name": "Python 3",
   "language": "python",
   "name": "python3"
  },
  "language_info": {
   "codemirror_mode": {
    "name": "ipython",
    "version": 3
   },
   "file_extension": ".py",
   "mimetype": "text/x-python",
   "name": "python",
   "nbconvert_exporter": "python",
   "pygments_lexer": "ipython3",
   "version": "3.7.7"
  }
 },
 "nbformat": 4,
 "nbformat_minor": 4
}
