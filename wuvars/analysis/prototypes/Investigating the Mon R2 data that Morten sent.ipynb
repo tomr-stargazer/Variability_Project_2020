{
 "cells": [
  {
   "cell_type": "markdown",
   "id": "handed-dollar",
   "metadata": {},
   "source": [
    "# Investigating Morten's Mon R2 file\n",
    "\n",
    "On June 6, Morten sent a data file with the following description:\n",
    "\n",
    "> \"I've attached a file that has the HST photometry\n",
    "for all sources, whether it is consistent with having a circumstellar\n",
    "disk, the extinction, and the mass estimated.\n",
    "A few caveats: I ran the extinction and mass determination on the\n",
    "whole list with no restrictions. so until extinction cuts etc are made\n",
    "the samples will differ. Also, masses close to 1.4 Msun or very low\n",
    "mass brown dwarfs are limits since the closest mass on the isochrone\n",
    "in terms of J band magnitude is used for the excess sources and the\n",
    "weighted average for the two closest points for the non-excess sample.\""
   ]
  },
  {
   "cell_type": "code",
   "execution_count": 1,
   "id": "tired-relay",
   "metadata": {},
   "outputs": [],
   "source": [
    "import os\n",
    "import numpy as np\n",
    "import matplotlib.pyplot as plt\n",
    "import astropy.table"
   ]
  },
  {
   "cell_type": "code",
   "execution_count": 2,
   "id": "opposite-indianapolis",
   "metadata": {},
   "outputs": [],
   "source": [
    "location = \"/Users/tsrice/Documents/Variability_Project_2020/wuvars/data/auxiliary_catalogs/MonR2\""
   ]
  },
  {
   "cell_type": "code",
   "execution_count": 3,
   "id": "wrapped-morgan",
   "metadata": {},
   "outputs": [],
   "source": [
    "filepath = os.path.join(location, \"MortenAndersen/phot_ruby_edited.dat\")\n",
    "filepath_published = os.path.join(location, \"Andersen_2006AJ_132_2296A_table2.fit\")\n",
    "\n",
    "monr2_table_raw = astropy.table.Table.read(\n",
    "    filepath, format='ascii', header_start=0, data_start=1\n",
    ")\n",
    "\n",
    "too_faint = (monr2_table_raw['eF110W']>10)\n",
    "# Here, we remove about six rows from the table. \n",
    "# - One for a star with enormous photometric errors (row 34)\n",
    "# - Five for apparent duplicates at the end of the table\n",
    "monr2_table = monr2_table_raw[~too_faint][:181]\n",
    "\n",
    "monr2_published_table = astropy.table.Table.read(filepath_published)\n"
   ]
  },
  {
   "cell_type": "code",
   "execution_count": 4,
   "id": "patent-sheffield",
   "metadata": {},
   "outputs": [
    {
     "data": {
      "text/html": [
       "<i>Table length=181</i>\n",
       "<table id=\"table140435571917328-427018\" class=\"table-striped table-bordered table-condensed\">\n",
       "<thead><tr><th>idx</th><th>__AMO2006_</th><th>RAJ2000</th><th>DEJ2000</th><th>F110W</th><th>e_F110W</th><th>F160W</th><th>e_F160W</th><th>F165M</th><th>e_F165M</th><th>F207M</th><th>e_F207M</th><th>_2MASS</th></tr></thead>\n",
       "<thead><tr><th></th><th></th><th>deg</th><th>deg</th><th>mag</th><th>mag</th><th>mag</th><th>mag</th><th>mag</th><th>mag</th><th>mag</th><th>mag</th><th></th></tr></thead>\n",
       "<tr><td>0</td><td>1</td><td>91.93742</td><td>-6.39050</td><td>23.11</td><td>0.51</td><td>17.32</td><td>0.050</td><td>17.10</td><td>0.05</td><td>14.47</td><td>0.06</td><td>06074492-0623257</td></tr>\n",
       "<tr><td>1</td><td>2</td><td>91.94012</td><td>-6.39031</td><td>24.55</td><td>1.21</td><td>19.77</td><td>0.070</td><td>19.41</td><td>0.07</td><td>17.07</td><td>0.07</td><td></td></tr>\n",
       "<tr><td>2</td><td>3</td><td>91.93287</td><td>-6.39078</td><td>18.58</td><td>0.03</td><td>16.20</td><td>0.040</td><td>15.90</td><td>0.04</td><td>15.48</td><td>0.06</td><td></td></tr>\n",
       "<tr><td>3</td><td>4</td><td>91.93675</td><td>-6.39050</td><td>17.34</td><td>0.03</td><td>14.77</td><td>0.030</td><td>14.55</td><td>0.03</td><td>13.89</td><td>0.05</td><td>06074483-0623260</td></tr>\n",
       "<tr><td>4</td><td>5</td><td>91.93442</td><td>-6.39042</td><td>16.12</td><td>0.04</td><td>13.81</td><td>0.040</td><td>13.58</td><td>0.04</td><td>13.04</td><td>0.06</td><td>06074426-0623256</td></tr>\n",
       "<tr><td>5</td><td>6</td><td>91.94862</td><td>-6.38944</td><td>20.17</td><td>0.04</td><td>18.45</td><td>0.040</td><td>18.15</td><td>0.04</td><td>17.90</td><td>0.08</td><td></td></tr>\n",
       "<tr><td>6</td><td>7</td><td>91.94200</td><td>-6.38939</td><td>18.62</td><td>0.03</td><td>15.92</td><td>0.030</td><td>15.68</td><td>0.03</td><td>15.01</td><td>0.05</td><td></td></tr>\n",
       "<tr><td>7</td><td>8</td><td>91.93742</td><td>-6.38942</td><td>21.13</td><td>0.05</td><td>17.56</td><td>0.030</td><td>17.29</td><td>0.03</td><td>16.17</td><td>0.05</td><td></td></tr>\n",
       "<tr><td>8</td><td>9</td><td>91.94679</td><td>-6.38856</td><td>20.88</td><td>0.05</td><td>18.74</td><td>0.040</td><td>18.51</td><td>0.04</td><td>18.03</td><td>0.08</td><td></td></tr>\n",
       "<tr><td>9</td><td>10</td><td>91.93554</td><td>-6.38928</td><td>17.75</td><td>0.04</td><td>14.96</td><td>0.040</td><td>14.67</td><td>0.04</td><td>13.63</td><td>0.06</td><td>06074454-0623214</td></tr>\n",
       "<tr><td>10</td><td>11</td><td>91.93879</td><td>-6.38894</td><td>15.51</td><td>0.04</td><td>12.99</td><td>0.040</td><td>12.76</td><td>0.04</td><td>12.13</td><td>0.06</td><td>06074531-0623202</td></tr>\n",
       "<tr><td>11</td><td>12</td><td>91.93258</td><td>-6.38931</td><td>21.76</td><td>0.11</td><td>18.46</td><td>0.040</td><td>18.14</td><td>0.04</td><td>17.08</td><td>0.07</td><td></td></tr>\n",
       "<tr><td>12</td><td>13</td><td>91.93837</td><td>-6.38875</td><td>18.62</td><td>0.04</td><td>16.35</td><td>0.040</td><td>16.06</td><td>0.04</td><td>15.62</td><td>0.07</td><td></td></tr>\n",
       "<tr><td>13</td><td>14</td><td>91.94433</td><td>-6.38814</td><td>15.26</td><td>0.04</td><td>12.80</td><td>0.040</td><td>12.90</td><td>0.04</td><td>12.09</td><td>0.06</td><td>06074665-0623175</td></tr>\n",
       "<tr><td>14</td><td>15</td><td>91.94033</td><td>-6.38825</td><td>18.91</td><td>0.04</td><td>16.26</td><td>0.040</td><td>16.02</td><td>0.04</td><td>15.37</td><td>0.07</td><td></td></tr>\n",
       "<tr><td>15</td><td>16</td><td>91.93317</td><td>-6.38847</td><td>17.00</td><td>0.04</td><td>14.52</td><td>0.040</td><td>14.29</td><td>0.04</td><td>13.71</td><td>0.06</td><td>06074396-0623184</td></tr>\n",
       "<tr><td>16</td><td>17</td><td>91.93375</td><td>-6.38839</td><td>21.25</td><td>0.06</td><td>18.47</td><td>0.040</td><td>18.28</td><td>0.04</td><td>17.26</td><td>0.07</td><td></td></tr>\n",
       "<tr><td>17</td><td>18</td><td>91.93954</td><td>-6.38778</td><td>16.32</td><td>0.04</td><td>14.06</td><td>0.040</td><td>13.84</td><td>0.04</td><td>13.43</td><td>0.06</td><td>06074549-0623160</td></tr>\n",
       "<tr><td>18</td><td>19</td><td>91.93729</td><td>-6.38789</td><td>22.56</td><td>0.16</td><td>19.34</td><td>0.050</td><td>19.06</td><td>0.05</td><td>17.05</td><td>0.05</td><td></td></tr>\n",
       "<tr><td>19</td><td>20</td><td>91.94296</td><td>-6.38714</td><td>18.43</td><td>0.04</td><td>16.00</td><td>0.040</td><td>15.72</td><td>0.04</td><td>15.21</td><td>0.07</td><td>06074631-0623128</td></tr>\n",
       "<tr><td>20</td><td>21</td><td>91.93592</td><td>-6.38758</td><td>22.75</td><td>0.15</td><td>17.75</td><td>0.040</td><td>17.42</td><td>0.04</td><td>15.56</td><td>0.06</td><td></td></tr>\n",
       "<tr><td>21</td><td>22</td><td>91.94021</td><td>-6.38725</td><td>18.46</td><td>0.04</td><td>16.29</td><td>0.040</td><td>16.06</td><td>0.04</td><td>15.71</td><td>0.07</td><td></td></tr>\n",
       "<tr><td>22</td><td>23</td><td>91.93487</td><td>-6.38761</td><td>nan</td><td>nan</td><td>20.90</td><td>0.170</td><td>20.79</td><td>0.18</td><td>18.54</td><td>0.12</td><td></td></tr>\n",
       "<tr><td>23</td><td>24</td><td>91.93533</td><td>-6.38756</td><td>nan</td><td>nan</td><td>20.43</td><td>0.120</td><td>20.40</td><td>0.14</td><td>17.49</td><td>0.08</td><td></td></tr>\n",
       "<tr><td>24</td><td>25</td><td>91.94892</td><td>-6.38661</td><td>16.98</td><td>0.04</td><td>15.01</td><td>0.040</td><td>14.77</td><td>0.04</td><td>14.45</td><td>0.06</td><td></td></tr>\n",
       "<tr><td>25</td><td>26</td><td>91.94633</td><td>-6.38672</td><td>21.33</td><td>0.07</td><td>18.75</td><td>0.050</td><td>18.47</td><td>0.05</td><td>17.74</td><td>0.09</td><td></td></tr>\n",
       "<tr><td>26</td><td>27</td><td>91.94454</td><td>-6.38683</td><td>15.84</td><td>0.04</td><td>13.58</td><td>0.040</td><td>13.35</td><td>0.04</td><td>12.87</td><td>0.06</td><td>06074669-0623125</td></tr>\n",
       "<tr><td>27</td><td>28</td><td>91.93667</td><td>-6.38733</td><td>16.95</td><td>0.03</td><td>13.79</td><td>0.030</td><td>13.59</td><td>0.03</td><td>12.59</td><td>0.05</td><td>06074482-0623144</td></tr>\n",
       "<tr><td>28</td><td>29</td><td>91.94304</td><td>-6.38669</td><td>20.55</td><td>0.05</td><td>16.52</td><td>0.040</td><td>16.21</td><td>0.04</td><td>14.37</td><td>0.06</td><td></td></tr>\n",
       "<tr><td>29</td><td>30</td><td>91.93942</td><td>-6.38692</td><td>21.62</td><td>0.14</td><td>18.59</td><td>0.080</td><td>18.33</td><td>0.08</td><td>17.50</td><td>0.12</td><td></td></tr>\n",
       "<tr><td>30</td><td>31</td><td>91.94692</td><td>-6.38625</td><td>24.16</td><td>0.67</td><td>21.84</td><td>0.690</td><td>22.11</td><td>1.15</td><td>18.99</td><td>0.24</td><td></td></tr>\n",
       "<tr><td>31</td><td>32</td><td>91.93312</td><td>-6.38694</td><td>21.38</td><td>0.07</td><td>16.62</td><td>0.040</td><td>16.40</td><td>0.04</td><td>14.10</td><td>0.06</td><td>06074393-0623130</td></tr>\n",
       "<tr><td>32</td><td>33</td><td>91.94262</td><td>-6.38622</td><td>nan</td><td>nan</td><td>nan</td><td>nan</td><td>nan</td><td>nan</td><td>17.91</td><td>0.18</td><td></td></tr>\n",
       "<tr><td>33</td><td>34</td><td>91.94054</td><td>-6.38636</td><td>20.83</td><td>0.05</td><td>17.38</td><td>0.030</td><td>17.06</td><td>0.03</td><td>15.79</td><td>0.05</td><td>06074579-0623113</td></tr>\n",
       "<tr><td>34</td><td>35</td><td>91.93796</td><td>-6.38633</td><td>20.79</td><td>0.06</td><td>16.52</td><td>0.040</td><td>16.07</td><td>0.04</td><td>14.16</td><td>0.06</td><td>06074593-0623110</td></tr>\n",
       "<tr><td>35</td><td>36</td><td>91.94083</td><td>-6.38600</td><td>20.79</td><td>0.04</td><td>16.93</td><td>0.020</td><td>16.63</td><td>0.02</td><td>15.24</td><td>0.04</td><td>06074500-0623113</td></tr>\n",
       "<tr><td>36</td><td>37</td><td>91.94150</td><td>-6.38589</td><td>21.37</td><td>0.14</td><td>17.80</td><td>0.040</td><td>17.63</td><td>0.04</td><td>15.67</td><td>0.04</td><td></td></tr>\n",
       "<tr><td>37</td><td>38</td><td>91.94233</td><td>-6.38583</td><td>nan</td><td>nan</td><td>19.18</td><td>0.090</td><td>19.02</td><td>0.09</td><td>16.35</td><td>0.06</td><td></td></tr>\n",
       "<tr><td>38</td><td>39</td><td>91.94525</td><td>-6.38553</td><td>16.73</td><td>0.02</td><td>14.64</td><td>0.020</td><td>14.39</td><td>0.02</td><td>13.90</td><td>0.03</td><td>06074686-0623076</td></tr>\n",
       "<tr><td>39</td><td>40</td><td>91.93329</td><td>-6.38628</td><td>19.51</td><td>0.03</td><td>16.63</td><td>0.030</td><td>16.36</td><td>0.03</td><td>15.60</td><td>0.05</td><td></td></tr>\n",
       "<tr><td>40</td><td>41</td><td>91.93200</td><td>-6.38622</td><td>17.50</td><td>0.03</td><td>15.12</td><td>0.030</td><td>14.84</td><td>0.03</td><td>14.29</td><td>0.05</td><td>06074370-0623107</td></tr>\n",
       "<tr><td>41</td><td>42</td><td>91.93817</td><td>-6.38575</td><td>20.17</td><td>0.04</td><td>16.42</td><td>0.030</td><td>16.16</td><td>0.03</td><td>14.96</td><td>0.05</td><td>06074516-0623103</td></tr>\n",
       "<tr><td>42</td><td>43</td><td>91.93925</td><td>-6.38561</td><td>19.23</td><td>0.03</td><td>15.62</td><td>0.030</td><td>15.11</td><td>0.03</td><td>13.86</td><td>0.05</td><td>06074542-0623092</td></tr>\n",
       "<tr><td>43</td><td>44</td><td>91.93671</td><td>-6.38567</td><td>24.04</td><td>0.68</td><td>19.33</td><td>0.040</td><td>19.08</td><td>0.03</td><td>16.69</td><td>0.04</td><td></td></tr>\n",
       "<tr><td>44</td><td>45</td><td>91.94121</td><td>-6.38536</td><td>22.60</td><td>0.16</td><td>19.47</td><td>0.040</td><td>19.21</td><td>0.04</td><td>17.65</td><td>0.05</td><td></td></tr>\n",
       "<tr><td>45</td><td>46</td><td>91.94433</td><td>-6.38497</td><td>20.61</td><td>0.12</td><td>17.02</td><td>0.070</td><td>16.78</td><td>0.07</td><td>15.41</td><td>0.08</td><td>06074661-0623058</td></tr>\n",
       "<tr><td>46</td><td>47</td><td>91.94687</td><td>-6.38475</td><td>21.95</td><td>0.15</td><td>19.59</td><td>0.080</td><td>19.27</td><td>0.08</td><td>18.18</td><td>0.15</td><td></td></tr>\n",
       "<tr><td>47</td><td>48</td><td>91.94425</td><td>-6.38492</td><td>21.01</td><td>0.19</td><td>18.23</td><td>0.090</td><td>17.94</td><td>0.09</td><td>16.45</td><td>0.08</td><td></td></tr>\n",
       "<tr><td>48</td><td>49</td><td>91.94017</td><td>-6.38514</td><td>20.92</td><td>0.05</td><td>16.55</td><td>0.030</td><td>16.23</td><td>0.03</td><td>14.78</td><td>0.05</td><td></td></tr>\n",
       "<tr><td>49</td><td>50</td><td>91.94933</td><td>-6.38436</td><td>16.52</td><td>0.03</td><td>13.82</td><td>0.030</td><td>13.58</td><td>0.03</td><td>12.82</td><td>0.05</td><td>06074784-0623038</td></tr>\n",
       "<tr><td>50</td><td>51</td><td>91.93762</td><td>-6.38514</td><td>20.49</td><td>0.04</td><td>16.78</td><td>0.030</td><td>16.68</td><td>0.03</td><td>15.49</td><td>0.05</td><td>06074503-0623060</td></tr>\n",
       "<tr><td>51</td><td>52</td><td>91.93783</td><td>-6.38500</td><td>21.60</td><td>0.11</td><td>17.03</td><td>0.040</td><td>16.71</td><td>0.04</td><td>15.18</td><td>0.07</td><td></td></tr>\n",
       "<tr><td>52</td><td>53</td><td>91.94221</td><td>-6.38458</td><td>17.19</td><td>0.04</td><td>12.83</td><td>0.040</td><td>12.57</td><td>0.04</td><td>10.78</td><td>0.06</td><td>06074615-0623046</td></tr>\n",
       "<tr><td>53</td><td>54</td><td>91.93592</td><td>-6.38481</td><td>19.96</td><td>0.04</td><td>16.66</td><td>0.040</td><td>16.39</td><td>0.04</td><td>15.25</td><td>0.07</td><td>06074470-0623044</td></tr>\n",
       "<tr><td>54</td><td>55</td><td>91.95029</td><td>-6.38386</td><td>23.92</td><td>0.81</td><td>18.65</td><td>0.040</td><td>18.34</td><td>0.04</td><td>16.13</td><td>0.05</td><td>06074807-0623017</td></tr>\n",
       "<tr><td>55</td><td>56</td><td>91.93667</td><td>-6.38475</td><td>17.33</td><td>0.04</td><td>15.51</td><td>0.040</td><td>15.27</td><td>0.04</td><td>15.19</td><td>0.07</td><td>06074470-0623044</td></tr>\n",
       "<tr><td>56</td><td>57</td><td>91.94117</td><td>-6.38431</td><td>22.96</td><td>0.38</td><td>18.92</td><td>0.040</td><td>18.56</td><td>0.04</td><td>16.06</td><td>0.05</td><td></td></tr>\n",
       "<tr><td>57</td><td>58</td><td>91.94862</td><td>-6.38364</td><td>18.91</td><td>0.04</td><td>16.95</td><td>0.070</td><td>16.64</td><td>0.07</td><td>16.56</td><td>0.28</td><td></td></tr>\n",
       "<tr><td>58</td><td>59</td><td>91.93858</td><td>-6.38422</td><td>22.02</td><td>0.10</td><td>17.65</td><td>0.040</td><td>17.58</td><td>0.04</td><td>15.31</td><td>0.06</td><td></td></tr>\n",
       "<tr><td>59</td><td>60</td><td>91.93592</td><td>-6.38442</td><td>nan</td><td>nan</td><td>19.66</td><td>0.140</td><td>19.21</td><td>0.11</td><td>16.52</td><td>0.08</td><td></td></tr>\n",
       "<tr><td>60</td><td>61</td><td>91.94258</td><td>-6.38386</td><td>12.34</td><td>0.04</td><td>11.57</td><td>0.040</td><td>11.45</td><td>0.04</td><td>11.63</td><td>0.06</td><td>06074622-0623022</td></tr>\n",
       "<tr><td>61</td><td>62</td><td>91.94175</td><td>-6.38378</td><td>nan</td><td>nan</td><td>18.52</td><td>0.070</td><td>18.31</td><td>0.06</td><td>14.78</td><td>0.06</td><td></td></tr>\n",
       "<tr><td>62</td><td>63</td><td>91.94029</td><td>-6.38386</td><td>23.57</td><td>0.47</td><td>19.77</td><td>0.090</td><td>19.48</td><td>0.09</td><td>17.01</td><td>0.08</td><td></td></tr>\n",
       "<tr><td>63</td><td>64</td><td>91.94104</td><td>-6.38372</td><td>25.11</td><td>3.73</td><td>21.61</td><td>0.290</td><td>20.85</td><td>0.18</td><td>18.57</td><td>0.13</td><td></td></tr>\n",
       "<tr><td>64</td><td>65</td><td>91.94162</td><td>-6.38364</td><td>21.89</td><td>0.17</td><td>20.78</td><td>0.190</td><td>20.26</td><td>0.17</td><td>18.08</td><td>0.11</td><td></td></tr>\n",
       "<tr><td>65</td><td>66</td><td>91.93767</td><td>-6.38383</td><td>21.59</td><td>0.18</td><td>18.76</td><td>0.110</td><td>18.43</td><td>0.09</td><td>17.49</td><td>0.13</td><td>06074495-0623010</td></tr>\n",
       "<tr><td>66</td><td>67</td><td>91.94233</td><td>-6.38344</td><td>22.44</td><td>0.38</td><td>18.79</td><td>0.070</td><td>18.41</td><td>0.06</td><td>16.12</td><td>0.07</td><td></td></tr>\n",
       "<tr><td>67</td><td>68</td><td>91.94021</td><td>-6.38356</td><td>26.05</td><td>3.84</td><td>21.88</td><td>0.560</td><td>21.53</td><td>0.46</td><td>18.51</td><td>0.17</td><td></td></tr>\n",
       "<tr><td>68</td><td>69</td><td>91.94171</td><td>-6.38342</td><td>23.67</td><td>1.21</td><td>nan</td><td>nan</td><td>23.56</td><td>4.82</td><td>21.81</td><td>3.48</td><td></td></tr>\n",
       "<tr><td>69</td><td>70</td><td>91.94158</td><td>-6.38331</td><td>23.32</td><td>0.82</td><td>nan</td><td>nan</td><td>nan</td><td>nan</td><td>19.46</td><td>0.46</td><td></td></tr>\n",
       "<tr><td>70</td><td>71</td><td>91.94046</td><td>-6.38333</td><td>22.59</td><td>0.22</td><td>18.03</td><td>0.030</td><td>17.69</td><td>0.03</td><td>15.05</td><td>0.05</td><td></td></tr>\n",
       "<tr><td>71</td><td>72</td><td>91.94017</td><td>-6.38317</td><td>23.07</td><td>0.23</td><td>21.15</td><td>0.290</td><td>20.38</td><td>0.16</td><td>19.48</td><td>0.43</td><td></td></tr>\n",
       "<tr><td>72</td><td>73</td><td>91.94479</td><td>-6.38267</td><td>21.64</td><td>0.17</td><td>18.45</td><td>0.100</td><td>18.07</td><td>0.10</td><td>16.49</td><td>0.10</td><td></td></tr>\n",
       "<tr><td>73</td><td>74</td><td>91.94467</td><td>-6.38264</td><td>20.21</td><td>0.08</td><td>16.54</td><td>0.070</td><td>16.19</td><td>0.07</td><td>14.95</td><td>0.07</td><td>06074674-0622562</td></tr>\n",
       "<tr><td>74</td><td>75</td><td>91.94804</td><td>-6.38236</td><td>17.33</td><td>0.04</td><td>15.11</td><td>0.040</td><td>14.84</td><td>0.04</td><td>14.35</td><td>0.07</td><td></td></tr>\n",
       "<tr><td>75</td><td>76</td><td>91.94537</td><td>-6.38250</td><td>20.58</td><td>0.06</td><td>18.54</td><td>0.040</td><td>18.25</td><td>0.04</td><td>17.72</td><td>0.08</td><td></td></tr>\n",
       "<tr><td>76</td><td>77</td><td>91.94933</td><td>-6.38225</td><td>14.23</td><td>0.04</td><td>10.43</td><td>0.040</td><td>10.16</td><td>0.04</td><td>8.21</td><td>0.06</td><td>06074786-0622559</td></tr>\n",
       "<tr><td>77</td><td>78</td><td>91.94892</td><td>-6.38225</td><td>17.89</td><td>0.05</td><td>14.75</td><td>0.040</td><td>14.45</td><td>0.04</td><td>13.04</td><td>0.06</td><td></td></tr>\n",
       "<tr><td>78</td><td>79</td><td>91.94283</td><td>-6.38253</td><td>nan</td><td>nan</td><td>18.05</td><td>0.040</td><td>18.22</td><td>0.05</td><td>15.31</td><td>0.06</td><td></td></tr>\n",
       "<tr><td>79</td><td>80</td><td>91.94954</td><td>-6.38200</td><td>15.25</td><td>0.04</td><td>11.91</td><td>0.040</td><td>11.68</td><td>0.04</td><td>9.73</td><td>0.06</td><td></td></tr>\n",
       "<tr><td>80</td><td>81</td><td>91.94346</td><td>-6.38231</td><td>22.72</td><td>0.25</td><td>19.58</td><td>0.070</td><td>19.19</td><td>0.06</td><td>17.69</td><td>0.08</td><td></td></tr>\n",
       "<tr><td>81</td><td>82</td><td>91.94867</td><td>-6.38194</td><td>15.70</td><td>0.04</td><td>13.66</td><td>0.040</td><td>13.34</td><td>0.04</td><td>12.78</td><td>0.06</td><td></td></tr>\n",
       "<tr><td>82</td><td>83</td><td>91.94537</td><td>-6.38211</td><td>19.27</td><td>0.04</td><td>18.27</td><td>0.040</td><td>18.07</td><td>0.04</td><td>18.15</td><td>0.08</td><td></td></tr>\n",
       "<tr><td>83</td><td>84</td><td>91.93758</td><td>-6.38247</td><td>22.39</td><td>0.12</td><td>18.05</td><td>0.050</td><td>17.76</td><td>0.05</td><td>16.14</td><td>0.07</td><td>06074488-0622563</td></tr>\n",
       "<tr><td>84</td><td>85</td><td>91.94954</td><td>-6.38167</td><td>17.08</td><td>0.04</td><td>13.85</td><td>0.040</td><td>13.71</td><td>0.04</td><td>12.42</td><td>0.08</td><td></td></tr>\n",
       "<tr><td>85</td><td>86</td><td>91.94454</td><td>-6.38189</td><td>19.66</td><td>0.05</td><td>15.88</td><td>0.040</td><td>15.61</td><td>0.04</td><td>14.42</td><td>0.06</td><td></td></tr>\n",
       "<tr><td>86</td><td>87</td><td>91.94742</td><td>-6.38164</td><td>17.61</td><td>0.04</td><td>15.05</td><td>0.040</td><td>14.81</td><td>0.04</td><td>14.03</td><td>0.06</td><td></td></tr>\n",
       "<tr><td>87</td><td>88</td><td>91.93937</td><td>-6.38214</td><td>23.27</td><td>0.34</td><td>19.46</td><td>0.090</td><td>19.08</td><td>0.08</td><td>17.65</td><td>0.11</td><td></td></tr>\n",
       "<tr><td>88</td><td>89</td><td>91.94050</td><td>-6.38194</td><td>23.12</td><td>0.30</td><td>18.90</td><td>0.040</td><td>18.62</td><td>0.04</td><td>15.44</td><td>0.05</td><td></td></tr>\n",
       "<tr><td>89</td><td>90</td><td>91.94862</td><td>-6.38139</td><td>20.85</td><td>0.08</td><td>18.02</td><td>0.100</td><td>17.74</td><td>0.10</td><td>16.04</td><td>0.09</td><td></td></tr>\n",
       "<tr><td>90</td><td>91</td><td>91.94179</td><td>-6.38181</td><td>25.26</td><td>2.81</td><td>19.39</td><td>0.090</td><td>19.00</td><td>0.08</td><td>16.60</td><td>0.07</td><td></td></tr>\n",
       "<tr><td>91</td><td>92</td><td>91.94321</td><td>-6.38167</td><td>22.33</td><td>0.20</td><td>19.59</td><td>0.090</td><td>19.24</td><td>0.08</td><td>17.83</td><td>0.09</td><td></td></tr>\n",
       "<tr><td>92</td><td>93</td><td>91.94208</td><td>-6.38169</td><td>nan</td><td>nan</td><td>18.57</td><td>0.040</td><td>18.40</td><td>0.04</td><td>15.39</td><td>0.05</td><td></td></tr>\n",
       "<tr><td>93</td><td>94</td><td>91.94017</td><td>-6.38175</td><td>24.30</td><td>0.67</td><td>18.46</td><td>0.040</td><td>18.30</td><td>0.04</td><td>15.97</td><td>0.05</td><td></td></tr>\n",
       "<tr><td>94</td><td>95</td><td>91.93392</td><td>-6.38208</td><td>23.41</td><td>0.29</td><td>20.73</td><td>0.170</td><td>20.32</td><td>0.15</td><td>19.14</td><td>0.24</td><td></td></tr>\n",
       "<tr><td>95</td><td>96</td><td>91.94083</td><td>-6.38147</td><td>19.54</td><td>0.02</td><td>14.59</td><td>0.020</td><td>14.52</td><td>0.02</td><td>9.77</td><td>0.03</td><td></td></tr>\n",
       "<tr><td>96</td><td>97</td><td>91.94171</td><td>-6.38139</td><td>23.28</td><td>0.36</td><td>19.93</td><td>0.090</td><td>19.75</td><td>0.08</td><td>16.99</td><td>0.06</td><td></td></tr>\n",
       "<tr><td>97</td><td>98</td><td>91.94417</td><td>-6.38122</td><td>19.67</td><td>0.03</td><td>16.12</td><td>0.030</td><td>15.77</td><td>0.03</td><td>14.69</td><td>0.05</td><td></td></tr>\n",
       "<tr><td>98</td><td>99</td><td>91.94037</td><td>-6.38122</td><td>22.92</td><td>0.31</td><td>18.80</td><td>0.040</td><td>18.87</td><td>0.04</td><td>15.42</td><td>0.04</td><td></td></tr>\n",
       "<tr><td>99</td><td>100</td><td>91.94062</td><td>-6.38103</td><td>22.53</td><td>0.19</td><td>20.97</td><td>0.190</td><td>21.18</td><td>0.34</td><td>16.68</td><td>0.07</td><td></td></tr>\n",
       "<tr><td>100</td><td>101</td><td>91.94342</td><td>-6.38078</td><td>22.43</td><td>0.14</td><td>19.91</td><td>0.130</td><td>19.75</td><td>0.13</td><td>18.33</td><td>0.19</td><td></td></tr>\n",
       "<tr><td>101</td><td>102</td><td>91.93558</td><td>-6.38128</td><td>23.87</td><td>0.60</td><td>20.54</td><td>0.130</td><td>20.20</td><td>0.12</td><td>17.76</td><td>0.06</td><td>06074443-0622523</td></tr>\n",
       "<tr><td>102</td><td>103</td><td>91.94362</td><td>-6.38067</td><td>21.84</td><td>0.08</td><td>17.90</td><td>0.030</td><td>17.60</td><td>0.03</td><td>16.03</td><td>0.05</td><td></td></tr>\n",
       "<tr><td>103</td><td>104</td><td>91.93183</td><td>-6.38125</td><td>16.40</td><td>0.04</td><td>13.84</td><td>0.040</td><td>13.64</td><td>0.04</td><td>12.80</td><td>0.06</td><td>06074361-0622519*</td></tr>\n",
       "<tr><td>104</td><td>105</td><td>91.94325</td><td>-6.38042</td><td>21.53</td><td>0.08</td><td>18.22</td><td>0.040</td><td>17.83</td><td>0.04</td><td>16.50</td><td>0.06</td><td></td></tr>\n",
       "<tr><td>105</td><td>106</td><td>91.94242</td><td>-6.38044</td><td>23.01</td><td>0.24</td><td>19.87</td><td>0.160</td><td>19.50</td><td>0.14</td><td>17.52</td><td>0.16</td><td></td></tr>\n",
       "<tr><td>106</td><td>107</td><td>91.94000</td><td>-6.38058</td><td>21.99</td><td>0.10</td><td>17.74</td><td>0.030</td><td>17.48</td><td>0.03</td><td>15.70</td><td>0.05</td><td></td></tr>\n",
       "<tr><td>107</td><td>108</td><td>91.94275</td><td>-6.38039</td><td>23.11</td><td>0.28</td><td>17.94</td><td>0.050</td><td>17.61</td><td>0.05</td><td>15.46</td><td>0.07</td><td></td></tr>\n",
       "<tr><td>108</td><td>109</td><td>91.94042</td><td>-6.38039</td><td>21.68</td><td>0.09</td><td>17.13</td><td>0.030</td><td>16.79</td><td>0.03</td><td>15.11</td><td>0.05</td><td></td></tr>\n",
       "<tr><td>109</td><td>110</td><td>91.93375</td><td>-6.38081</td><td>22.68</td><td>0.25</td><td>19.63</td><td>0.070</td><td>19.25</td><td>0.06</td><td>18.04</td><td>0.09</td><td></td></tr>\n",
       "<tr><td>110</td><td>111</td><td>91.93167</td><td>-6.38092</td><td>15.61</td><td>0.04</td><td>13.15</td><td>0.040</td><td>12.93</td><td>0.04</td><td>12.43</td><td>0.06</td><td>06074361-0622519*</td></tr>\n",
       "<tr><td>111</td><td>112</td><td>91.93983</td><td>-6.38036</td><td>22.61</td><td>0.19</td><td>17.51</td><td>0.040</td><td>17.19</td><td>0.04</td><td>14.94</td><td>0.07</td><td></td></tr>\n",
       "<tr><td>112</td><td>113</td><td>91.94304</td><td>-6.37967</td><td>20.40</td><td>0.05</td><td>17.12</td><td>0.040</td><td>16.78</td><td>0.04</td><td>15.87</td><td>0.07</td><td>06074636-0622467</td></tr>\n",
       "<tr><td>113</td><td>114</td><td>91.93875</td><td>-6.37975</td><td>22.72</td><td>0.20</td><td>18.70</td><td>0.060</td><td>18.41</td><td>0.05</td><td>16.19</td><td>0.07</td><td></td></tr>\n",
       "<tr><td>114</td><td>115</td><td>91.94279</td><td>-6.37933</td><td>21.50</td><td>0.11</td><td>17.99</td><td>0.060</td><td>17.72</td><td>0.05</td><td>16.40</td><td>0.08</td><td></td></tr>\n",
       "<tr><td>115</td><td>116</td><td>91.94371</td><td>-6.37917</td><td>22.63</td><td>0.17</td><td>17.62</td><td>0.040</td><td>17.41</td><td>0.04</td><td>15.09</td><td>0.07</td><td></td></tr>\n",
       "<tr><td>116</td><td>117</td><td>91.93779</td><td>-6.37953</td><td>20.86</td><td>0.06</td><td>16.71</td><td>0.040</td><td>16.48</td><td>0.04</td><td>14.87</td><td>0.06</td><td></td></tr>\n",
       "<tr><td>117</td><td>118</td><td>91.93737</td><td>-6.37956</td><td>21.44</td><td>0.08</td><td>17.52</td><td>0.040</td><td>17.23</td><td>0.04</td><td>15.92</td><td>0.07</td><td></td></tr>\n",
       "<tr><td>118</td><td>119</td><td>91.93817</td><td>-6.37936</td><td>22.76</td><td>0.23</td><td>20.80</td><td>0.160</td><td>20.37</td><td>0.13</td><td>19.45</td><td>0.34</td><td></td></tr>\n",
       "<tr><td>119</td><td>120</td><td>91.93225</td><td>-6.37964</td><td>16.92</td><td>0.09</td><td>14.71</td><td>0.090</td><td>14.40</td><td>0.09</td><td>14.00</td><td>0.10</td><td>06074374-0622467</td></tr>\n",
       "<tr><td>120</td><td>121</td><td>91.93229</td><td>-6.37956</td><td>17.77</td><td>0.09</td><td>15.41</td><td>0.090</td><td>15.15</td><td>0.09</td><td>14.70</td><td>0.10</td><td></td></tr>\n",
       "<tr><td>121</td><td>122</td><td>91.93521</td><td>-6.37911</td><td>22.07</td><td>0.13</td><td>17.42</td><td>0.040</td><td>17.14</td><td>0.04</td><td>15.49</td><td>0.06</td><td></td></tr>\n",
       "<tr><td>122</td><td>123</td><td>91.94333</td><td>-6.37853</td><td>17.74</td><td>0.04</td><td>15.21</td><td>0.040</td><td>15.00</td><td>0.04</td><td>14.42</td><td>0.06</td><td>06074640-0622432</td></tr>\n",
       "<tr><td>123</td><td>124</td><td>91.93146</td><td>-6.37906</td><td>19.28</td><td>0.09</td><td>16.04</td><td>0.090</td><td>15.74</td><td>0.09</td><td>14.58</td><td>0.10</td><td>06074356-0622448*</td></tr>\n",
       "<tr><td>124</td><td>125</td><td>91.93150</td><td>-6.37906</td><td>18.74</td><td>0.09</td><td>15.46</td><td>0.090</td><td>15.17</td><td>0.09</td><td>14.20</td><td>0.10</td><td>06074356-0622448*</td></tr>\n",
       "<tr><td>125</td><td>126</td><td>91.93292</td><td>-6.37894</td><td>22.41</td><td>0.20</td><td>20.15</td><td>0.070</td><td>19.84</td><td>0.07</td><td>18.93</td><td>0.12</td><td></td></tr>\n",
       "<tr><td>126</td><td>127</td><td>91.94558</td><td>-6.37803</td><td>21.87</td><td>0.09</td><td>17.79</td><td>0.030</td><td>17.49</td><td>0.03</td><td>16.10</td><td>0.05</td><td></td></tr>\n",
       "<tr><td>127</td><td>128</td><td>91.94279</td><td>-6.37806</td><td>23.00</td><td>0.27</td><td>20.57</td><td>0.200</td><td>20.00</td><td>0.16</td><td>18.91</td><td>0.33</td><td></td></tr>\n",
       "<tr><td>128</td><td>129</td><td>91.93746</td><td>-6.37839</td><td>24.44</td><td>1.09</td><td>19.35</td><td>0.070</td><td>18.97</td><td>0.06</td><td>17.48</td><td>0.08</td><td></td></tr>\n",
       "<tr><td>129</td><td>130</td><td>91.94087</td><td>-6.37817</td><td>24.99</td><td>1.97</td><td>19.06</td><td>0.050</td><td>18.88</td><td>0.05</td><td>16.53</td><td>0.05</td><td></td></tr>\n",
       "<tr><td>130</td><td>131</td><td>91.93650</td><td>-6.37819</td><td>24.28</td><td>0.96</td><td>20.88</td><td>0.120</td><td>20.82</td><td>0.13</td><td>18.33</td><td>0.08</td><td></td></tr>\n",
       "<tr><td>131</td><td>132</td><td>91.94762</td><td>-6.37736</td><td>24.01</td><td>0.44</td><td>23.40</td><td>1.120</td><td>24.70</td><td>4.58</td><td>18.28</td><td>0.09</td><td></td></tr>\n",
       "<tr><td>132</td><td>133</td><td>91.93533</td><td>-6.37811</td><td>18.30</td><td>0.04</td><td>15.11</td><td>0.040</td><td>14.88</td><td>0.04</td><td>13.93</td><td>0.06</td><td>06074449-0622414</td></tr>\n",
       "<tr><td>133</td><td>134</td><td>91.94317</td><td>-6.37744</td><td>21.17</td><td>0.07</td><td>17.37</td><td>0.040</td><td>17.03</td><td>0.04</td><td>15.79</td><td>0.07</td><td></td></tr>\n",
       "<tr><td>134</td><td>135</td><td>91.93733</td><td>-6.37778</td><td>16.57</td><td>0.03</td><td>13.86</td><td>0.030</td><td>13.90</td><td>0.03</td><td>13.02</td><td>0.05</td><td>06074496-0622401</td></tr>\n",
       "<tr><td>135</td><td>136</td><td>91.94300</td><td>-6.37733</td><td>18.28</td><td>0.02</td><td>15.13</td><td>0.020</td><td>14.82</td><td>0.02</td><td>13.43</td><td>0.03</td><td></td></tr>\n",
       "<tr><td>136</td><td>137</td><td>91.94412</td><td>-6.37700</td><td>22.06</td><td>0.12</td><td>19.68</td><td>0.100</td><td>19.47</td><td>0.11</td><td>18.05</td><td>0.12</td><td></td></tr>\n",
       "<tr><td>137</td><td>138</td><td>91.93208</td><td>-6.37781</td><td>20.22</td><td>0.04</td><td>15.90</td><td>0.030</td><td>15.65</td><td>0.03</td><td>13.46</td><td>0.05</td><td>06074371-0622402</td></tr>\n",
       "<tr><td>138</td><td>139</td><td>91.94075</td><td>-6.37711</td><td>17.95</td><td>0.03</td><td>15.52</td><td>0.030</td><td>15.06</td><td>0.03</td><td>14.51</td><td>0.05</td><td></td></tr>\n",
       "<tr><td>139</td><td>140</td><td>91.93187</td><td>-6.37714</td><td>22.41</td><td>0.11</td><td>19.36</td><td>0.050</td><td>19.13</td><td>0.05</td><td>17.40</td><td>0.07</td><td></td></tr>\n",
       "<tr><td>140</td><td>141</td><td>91.94408</td><td>-6.37689</td><td>22.16</td><td>0.14</td><td>20.05</td><td>0.080</td><td>19.76</td><td>0.08</td><td>18.40</td><td>0.08</td><td>06074658-0622370</td></tr>\n",
       "<tr><td>141</td><td>142</td><td>91.94000</td><td>-6.37706</td><td>17.58</td><td>0.03</td><td>13.26</td><td>0.030</td><td>13.04</td><td>0.03</td><td>11.03</td><td>0.05</td><td>06074563-0622380</td></tr>\n",
       "<tr><td>142</td><td>143</td><td>91.94587</td><td>-6.37650</td><td>19.83</td><td>0.03</td><td>16.74</td><td>0.030</td><td>16.42</td><td>0.03</td><td>15.62</td><td>0.05</td><td></td></tr>\n",
       "<tr><td>143</td><td>144</td><td>91.93267</td><td>-6.37733</td><td>22.91</td><td>0.22</td><td>19.27</td><td>0.030</td><td>18.79</td><td>0.03</td><td>17.01</td><td>0.05</td><td></td></tr>\n",
       "<tr><td>144</td><td>145</td><td>91.94783</td><td>-6.37622</td><td>22.98</td><td>0.17</td><td>20.56</td><td>0.080</td><td>20.13</td><td>0.06</td><td>19.66</td><td>0.25</td><td></td></tr>\n",
       "<tr><td>145</td><td>146</td><td>91.94058</td><td>-6.37647</td><td>22.73</td><td>0.18</td><td>18.24</td><td>0.020</td><td>18.03</td><td>0.02</td><td>15.56</td><td>0.03</td><td>06074565-0622355</td></tr>\n",
       "<tr><td>146</td><td>147</td><td>91.93146</td><td>-6.37694</td><td>18.23</td><td>0.04</td><td>15.47</td><td>0.040</td><td>15.11</td><td>0.04</td><td>14.51</td><td>0.06</td><td>06074355-0622371</td></tr>\n",
       "<tr><td>147</td><td>148</td><td>91.94417</td><td>-6.37597</td><td>16.28</td><td>0.04</td><td>13.56</td><td>0.040</td><td>13.41</td><td>0.04</td><td>12.45</td><td>0.06</td><td>06074660-0622335</td></tr>\n",
       "<tr><td>148</td><td>149</td><td>91.94417</td><td>-6.37583</td><td>nan</td><td>nan</td><td>15.54</td><td>0.040</td><td>15.92</td><td>0.04</td><td>14.35</td><td>0.06</td><td></td></tr>\n",
       "<tr><td>149</td><td>150</td><td>91.94721</td><td>-6.37556</td><td>nan</td><td>nan</td><td>22.20</td><td>0.440</td><td>21.99</td><td>0.43</td><td>21.74</td><td>1.74</td><td></td></tr>\n",
       "<tr><td>150</td><td>151</td><td>91.93892</td><td>-6.37606</td><td>20.43</td><td>0.05</td><td>17.22</td><td>0.040</td><td>16.85</td><td>0.04</td><td>15.55</td><td>0.07</td><td>06074540-0622334</td></tr>\n",
       "<tr><td>151</td><td>152</td><td>91.93933</td><td>-6.37597</td><td>22.04</td><td>0.10</td><td>17.31</td><td>0.040</td><td>17.31</td><td>0.04</td><td>14.63</td><td>0.06</td><td></td></tr>\n",
       "<tr><td>152</td><td>153</td><td>91.93379</td><td>-6.37625</td><td>24.27</td><td>0.75</td><td>21.32</td><td>0.170</td><td>21.16</td><td>0.19</td><td>18.91</td><td>0.11</td><td></td></tr>\n",
       "<tr><td>153</td><td>154</td><td>91.94142</td><td>-6.37567</td><td>18.86</td><td>0.04</td><td>15.33</td><td>0.040</td><td>15.03</td><td>0.04</td><td>13.77</td><td>0.06</td><td></td></tr>\n",
       "<tr><td>154</td><td>155</td><td>91.94654</td><td>-6.37533</td><td>16.25</td><td>0.04</td><td>13.70</td><td>0.040</td><td>13.50</td><td>0.04</td><td>12.62</td><td>0.06</td><td>06074717-0622313</td></tr>\n",
       "<tr><td>155</td><td>156</td><td>91.93550</td><td>-6.37600</td><td>nan</td><td>nan</td><td>24.08</td><td>2.360</td><td>25.67</td><td>12.71</td><td>19.13</td><td>0.16</td><td></td></tr>\n",
       "<tr><td>156</td><td>157</td><td>91.94221</td><td>-6.37478</td><td>24.96</td><td>1.64</td><td>22.35</td><td>0.590</td><td>21.56</td><td>0.31</td><td>20.36</td><td>0.41</td><td></td></tr>\n",
       "<tr><td>157</td><td>158</td><td>91.93433</td><td>-6.37514</td><td>16.57</td><td>0.09</td><td>14.64</td><td>0.090</td><td>14.45</td><td>0.09</td><td>14.19</td><td>0.10</td><td>06074426-0622305*</td></tr>\n",
       "<tr><td>158</td><td>159</td><td>91.93442</td><td>-6.37508</td><td>15.91</td><td>0.09</td><td>14.05</td><td>0.090</td><td>13.83</td><td>0.09</td><td>13.63</td><td>0.10</td><td>06074426-0622305*</td></tr>\n",
       "<tr><td>159</td><td>160</td><td>91.94729</td><td>-6.37422</td><td>18.33</td><td>0.04</td><td>16.67</td><td>0.040</td><td>16.43</td><td>0.04</td><td>16.25</td><td>0.07</td><td></td></tr>\n",
       "<tr><td>160</td><td>161</td><td>91.93329</td><td>-6.37500</td><td>17.17</td><td>0.04</td><td>14.53</td><td>0.040</td><td>14.25</td><td>0.04</td><td>13.62</td><td>0.06</td><td>06074398-0622301</td></tr>\n",
       "<tr><td>161</td><td>162</td><td>91.93258</td><td>-6.37500</td><td>18.34</td><td>0.04</td><td>15.83</td><td>0.040</td><td>15.54</td><td>0.04</td><td>14.89</td><td>0.06</td><td></td></tr>\n",
       "<tr><td>162</td><td>163</td><td>91.93675</td><td>-6.37469</td><td>21.04</td><td>0.05</td><td>17.47</td><td>0.030</td><td>17.31</td><td>0.03</td><td>16.07</td><td>0.05</td><td>06074485-0622300</td></tr>\n",
       "<tr><td>163</td><td>164</td><td>91.93887</td><td>-6.37444</td><td>15.81</td><td>0.04</td><td>14.02</td><td>0.040</td><td>13.83</td><td>0.04</td><td>13.63</td><td>0.06</td><td>06074533-0622282</td></tr>\n",
       "<tr><td>164</td><td>165</td><td>91.94179</td><td>-6.37375</td><td>16.44</td><td>0.04</td><td>13.94</td><td>0.040</td><td>13.62</td><td>0.04</td><td>12.93</td><td>0.06</td><td>06074602-0622242*</td></tr>\n",
       "<tr><td>165</td><td>166</td><td>91.94333</td><td>-6.37344</td><td>17.79</td><td>0.04</td><td>14.75</td><td>0.040</td><td>14.51</td><td>0.04</td><td>13.60</td><td>0.06</td><td>06074641-0622245</td></tr>\n",
       "<tr><td>166</td><td>167</td><td>91.94021</td><td>-6.37364</td><td>23.09</td><td>0.29</td><td>21.22</td><td>0.300</td><td>21.07</td><td>0.23</td><td>18.81</td><td>0.17</td><td></td></tr>\n",
       "<tr><td>167</td><td>168</td><td>91.94625</td><td>-6.37317</td><td>25.87</td><td>3.04</td><td>nan</td><td>nan</td><td>22.14</td><td>0.43</td><td>19.19</td><td>0.15</td><td></td></tr>\n",
       "<tr><td>168</td><td>169</td><td>91.94175</td><td>-6.37325</td><td>15.82</td><td>0.04</td><td>13.15</td><td>0.040</td><td>12.84</td><td>0.04</td><td>12.07</td><td>0.06</td><td>06074602-0622242*</td></tr>\n",
       "<tr><td>169</td><td>170</td><td>91.94287</td><td>-6.37311</td><td>21.42</td><td>0.07</td><td>17.86</td><td>0.040</td><td>17.55</td><td>0.04</td><td>16.39</td><td>0.07</td><td></td></tr>\n",
       "<tr><td>170</td><td>171</td><td>91.94042</td><td>-6.37314</td><td>17.47</td><td>0.03</td><td>15.50</td><td>0.030</td><td>15.23</td><td>0.03</td><td>14.96</td><td>0.05</td><td>06074570-0622235</td></tr>\n",
       "<tr><td>171</td><td>172</td><td>91.94587</td><td>-6.37242</td><td>17.81</td><td>0.04</td><td>15.18</td><td>0.040</td><td>14.94</td><td>0.04</td><td>14.33</td><td>0.06</td><td>06074702-0622208</td></tr>\n",
       "<tr><td>172</td><td>173</td><td>91.94296</td><td>-6.37236</td><td>21.90</td><td>0.15</td><td>19.27</td><td>0.090</td><td>18.98</td><td>0.08</td><td>17.39</td><td>0.10</td><td></td></tr>\n",
       "<tr><td>173</td><td>174</td><td>91.94071</td><td>-6.37236</td><td>18.42</td><td>0.03</td><td>15.79</td><td>0.030</td><td>15.50</td><td>0.03</td><td>14.79</td><td>0.05</td><td></td></tr>\n",
       "<tr><td>174</td><td>175</td><td>91.93392</td><td>-6.37281</td><td>nan</td><td>nan</td><td>21.88</td><td>0.280</td><td>20.65</td><td>0.12</td><td>19.21</td><td>0.14</td><td></td></tr>\n",
       "<tr><td>175</td><td>176</td><td>91.93825</td><td>-6.37247</td><td>21.93</td><td>0.12</td><td>19.29</td><td>0.052</td><td>19.18</td><td>0.05</td><td>18.92</td><td>0.14</td><td></td></tr>\n",
       "<tr><td>176</td><td>177</td><td>91.94425</td><td>-6.37206</td><td>23.10</td><td>0.33</td><td>20.45</td><td>0.180</td><td>20.31</td><td>0.19</td><td>18.09</td><td>0.10</td><td></td></tr>\n",
       "<tr><td>177</td><td>178</td><td>91.94800</td><td>-6.37175</td><td>19.78</td><td>0.04</td><td>16.11</td><td>0.040</td><td>15.79</td><td>0.04</td><td>14.04</td><td>0.06</td><td>06074753-0622184</td></tr>\n",
       "<tr><td>178</td><td>179</td><td>91.93650</td><td>-6.37244</td><td>22.27</td><td>0.12</td><td>17.41</td><td>0.030</td><td>17.12</td><td>0.03</td><td>15.39</td><td>0.05</td><td></td></tr>\n",
       "<tr><td>179</td><td>180</td><td>91.94337</td><td>-6.37189</td><td>23.79</td><td>0.76</td><td>18.48</td><td>0.050</td><td>18.27</td><td>0.05</td><td>16.28</td><td>0.07</td><td></td></tr>\n",
       "<tr><td>180</td><td>181</td><td>91.94404</td><td>-6.37181</td><td>17.77</td><td>0.04</td><td>15.12</td><td>0.040</td><td>14.83</td><td>0.04</td><td>14.14</td><td>0.06</td><td>06074656-0622188</td></tr>\n",
       "</table><style>table.dataTable {clear: both; width: auto !important; margin: 0 !important;}\n",
       ".dataTables_info, .dataTables_length, .dataTables_filter, .dataTables_paginate{\n",
       "display: inline-block; margin-right: 1em; }\n",
       ".paginate_button { margin-right: 5px; }\n",
       "</style>\n",
       "<script>\n",
       "\n",
       "var astropy_sort_num = function(a, b) {\n",
       "    var a_num = parseFloat(a);\n",
       "    var b_num = parseFloat(b);\n",
       "\n",
       "    if (isNaN(a_num) && isNaN(b_num))\n",
       "        return ((a < b) ? -1 : ((a > b) ? 1 : 0));\n",
       "    else if (!isNaN(a_num) && !isNaN(b_num))\n",
       "        return ((a_num < b_num) ? -1 : ((a_num > b_num) ? 1 : 0));\n",
       "    else\n",
       "        return isNaN(a_num) ? -1 : 1;\n",
       "}\n",
       "\n",
       "require.config({paths: {\n",
       "    datatables: 'https://cdn.datatables.net/1.10.12/js/jquery.dataTables.min'\n",
       "}});\n",
       "require([\"datatables\"], function(){\n",
       "    console.log(\"$('#table140435571917328-427018').dataTable()\");\n",
       "    \n",
       "jQuery.extend( jQuery.fn.dataTableExt.oSort, {\n",
       "    \"optionalnum-asc\": astropy_sort_num,\n",
       "    \"optionalnum-desc\": function (a,b) { return -astropy_sort_num(a, b); }\n",
       "});\n",
       "\n",
       "    $('#table140435571917328-427018').dataTable({\n",
       "        order: [],\n",
       "        pageLength: 50,\n",
       "        lengthMenu: [[10, 25, 50, 100, 500, 1000, -1], [10, 25, 50, 100, 500, 1000, 'All']],\n",
       "        pagingType: \"full_numbers\",\n",
       "        columnDefs: [{targets: [0, 1, 2, 3, 4, 5, 6, 7, 8, 9, 10, 11], type: \"optionalnum\"}]\n",
       "    });\n",
       "});\n",
       "</script>\n"
      ],
      "text/plain": [
       "<IPython.core.display.HTML object>"
      ]
     },
     "execution_count": 4,
     "metadata": {},
     "output_type": "execute_result"
    }
   ],
   "source": [
    "monr2_published_table.show_in_notebook()"
   ]
  },
  {
   "cell_type": "code",
   "execution_count": 87,
   "id": "israeli-event",
   "metadata": {},
   "outputs": [
    {
     "data": {
      "text/html": [
       "<i>Table length=181</i>\n",
       "<table id=\"table140356766048400-171531\" class=\"table-striped table-bordered table-condensed\">\n",
       "<thead><tr><th>idx</th><th>F110W</th><th>eF110W</th><th>F160W</th><th>eF160W</th><th>F207M</th><th>eF207M</th><th>F165M</th><th>eF165M</th><th>Av</th><th>excess</th><th>mass</th></tr></thead>\n",
       "<tr><td>0</td><td>23.11</td><td>0.507</td><td>17.318</td><td>0.045</td><td>14.467</td><td>0.064</td><td>17.102</td><td>0.045</td><td>-269.637</td><td>1.0</td><td>0.006</td></tr>\n",
       "<tr><td>1</td><td>24.548</td><td>1.214</td><td>19.771</td><td>0.068</td><td>17.066</td><td>0.071</td><td>19.407</td><td>0.072</td><td>-303.211</td><td>1.0</td><td>0.006</td></tr>\n",
       "<tr><td>2</td><td>18.581</td><td>0.039</td><td>16.197</td><td>0.039</td><td>15.479</td><td>0.064</td><td>15.895</td><td>0.039</td><td>10.3965</td><td>0.0</td><td>0.126227</td></tr>\n",
       "<tr><td>3</td><td>17.343</td><td>0.027</td><td>14.774</td><td>0.028</td><td>13.888</td><td>0.045</td><td>14.549</td><td>0.028</td><td>12.0533</td><td>0.0</td><td>0.548328</td></tr>\n",
       "<tr><td>4</td><td>16.121</td><td>0.038</td><td>13.813</td><td>0.039</td><td>13.041</td><td>0.064</td><td>13.584</td><td>0.039</td><td>9.39457</td><td>0.0</td><td>0.775895</td></tr>\n",
       "<tr><td>5</td><td>20.172</td><td>0.043</td><td>18.454</td><td>0.041</td><td>17.895</td><td>0.081</td><td>18.152</td><td>0.041</td><td>1.41963</td><td>1.0</td><td>0.012</td></tr>\n",
       "<tr><td>6</td><td>18.619</td><td>0.027</td><td>15.922</td><td>0.028</td><td>15.014</td><td>0.045</td><td>15.678</td><td>0.028</td><td>13.5611</td><td>0.0</td><td>0.234454</td></tr>\n",
       "<tr><td>7</td><td>21.131</td><td>0.047</td><td>17.563</td><td>0.028</td><td>16.174</td><td>0.046</td><td>17.286</td><td>0.029</td><td>22.1018</td><td>0.0</td><td>0.202609</td></tr>\n",
       "<tr><td>8</td><td>20.88</td><td>0.05</td><td>18.743</td><td>0.043</td><td>18.025</td><td>0.08</td><td>18.512</td><td>0.044</td><td>6.07275</td><td>1.0</td><td>0.02</td></tr>\n",
       "<tr><td>9</td><td>17.75</td><td>0.038</td><td>14.955</td><td>0.039</td><td>13.629</td><td>0.064</td><td>14.671</td><td>0.039</td><td>12.4653</td><td>1.0</td><td>0.4</td></tr>\n",
       "<tr><td>10</td><td>15.513</td><td>0.038</td><td>12.985</td><td>0.039</td><td>12.13</td><td>0.064</td><td>12.764</td><td>0.039</td><td>0.0</td><td>0.0</td><td>0.0</td></tr>\n",
       "<tr><td>11</td><td>21.764</td><td>0.108</td><td>18.459</td><td>0.043</td><td>17.083</td><td>0.069</td><td>18.144</td><td>0.043</td><td>19.795</td><td>0.0</td><td>0.0931918</td></tr>\n",
       "<tr><td>12</td><td>18.615</td><td>0.039</td><td>16.348</td><td>0.039</td><td>15.622</td><td>0.065</td><td>16.056</td><td>0.039</td><td>9.44508</td><td>0.0</td><td>0.106651</td></tr>\n",
       "<tr><td>13</td><td>15.263</td><td>0.038</td><td>12.797</td><td>0.039</td><td>12.087</td><td>0.064</td><td>12.898</td><td>0.039</td><td>0.0</td><td>0.0</td><td>0.0</td></tr>\n",
       "<tr><td>14</td><td>18.907</td><td>0.038</td><td>16.258</td><td>0.039</td><td>15.365</td><td>0.065</td><td>16.024</td><td>0.039</td><td>13.152</td><td>0.0</td><td>0.162388</td></tr>\n",
       "<tr><td>15</td><td>16.995</td><td>0.038</td><td>14.519</td><td>0.039</td><td>13.711</td><td>0.064</td><td>14.287</td><td>0.039</td><td>10.9992</td><td>0.0</td><td>0.575852</td></tr>\n",
       "<tr><td>16</td><td>21.254</td><td>0.064</td><td>18.474</td><td>0.042</td><td>17.264</td><td>0.069</td><td>18.283</td><td>0.042</td><td>12.5812</td><td>1.0</td><td>0.04</td></tr>\n",
       "<tr><td>17</td><td>16.318</td><td>0.038</td><td>14.061</td><td>0.039</td><td>13.434</td><td>0.064</td><td>13.844</td><td>0.039</td><td>8.64278</td><td>0.0</td><td>0.583945</td></tr>\n",
       "<tr><td>18</td><td>22.558</td><td>0.16</td><td>19.34</td><td>0.049</td><td>17.048</td><td>0.051</td><td>19.06</td><td>0.049</td><td>15.1978</td><td>1.0</td><td>0.03</td></tr>\n",
       "<tr><td>19</td><td>18.427</td><td>0.038</td><td>16.004</td><td>0.039</td><td>15.206</td><td>0.066</td><td>15.717</td><td>0.039</td><td>11.0428</td><td>0.0</td><td>0.150121</td></tr>\n",
       "<tr><td>20</td><td>22.748</td><td>0.15</td><td>17.745</td><td>0.04</td><td>15.555</td><td>0.064</td><td>17.421</td><td>0.04</td><td>35.826</td><td>0.0</td><td>1.32395</td></tr>\n",
       "<tr><td>21</td><td>18.462</td><td>0.038</td><td>16.292</td><td>0.039</td><td>15.709</td><td>0.066</td><td>16.063</td><td>0.039</td><td>8.14569</td><td>0.0</td><td>0.0963702</td></tr>\n",
       "<tr><td>22</td><td>-1.0</td><td>-1.0</td><td>20.899</td><td>0.169</td><td>18.537</td><td>0.122</td><td>20.791</td><td>0.182</td><td>-317.968</td><td>1.0</td><td>0.006</td></tr>\n",
       "<tr><td>23</td><td>-1.0</td><td>-1.0</td><td>20.429</td><td>0.121</td><td>17.494</td><td>0.078</td><td>20.399</td><td>0.137</td><td>-312.879</td><td>1.0</td><td>0.006</td></tr>\n",
       "<tr><td>24</td><td>16.979</td><td>0.038</td><td>15.012</td><td>0.039</td><td>14.45</td><td>0.064</td><td>14.765</td><td>0.039</td><td>6.65205</td><td>0.0</td><td>0.175609</td></tr>\n",
       "<tr><td>25</td><td>21.327</td><td>0.07</td><td>18.747</td><td>0.054</td><td>17.739</td><td>0.094</td><td>18.469</td><td>0.05</td><td>12.4996</td><td>0.0</td><td>0.0401998</td></tr>\n",
       "<tr><td>26</td><td>15.843</td><td>0.038</td><td>13.584</td><td>0.039</td><td>12.867</td><td>0.064</td><td>13.354</td><td>0.039</td><td>8.77525</td><td>0.0</td><td>0.829298</td></tr>\n",
       "<tr><td>27</td><td>16.952</td><td>0.027</td><td>13.789</td><td>0.028</td><td>12.591</td><td>0.045</td><td>13.591</td><td>0.028</td><td>0.0</td><td>0.0</td><td>0.0</td></tr>\n",
       "<tr><td>28</td><td>20.554</td><td>0.052</td><td>16.523</td><td>0.039</td><td>14.371</td><td>0.064</td><td>16.205</td><td>0.039</td><td>25.2965</td><td>1.0</td><td>0.8</td></tr>\n",
       "<tr><td>29</td><td>21.618</td><td>0.138</td><td>18.593</td><td>0.078</td><td>17.497</td><td>0.117</td><td>18.327</td><td>0.075</td><td>16.4848</td><td>0.0</td><td>0.0609397</td></tr>\n",
       "<tr><td>30</td><td>24.16</td><td>0.667</td><td>21.841</td><td>0.685</td><td>18.992</td><td>0.242</td><td>22.105</td><td>1.146</td><td>0.0</td><td>0.0</td><td>0.0</td></tr>\n",
       "<tr><td>31</td><td>21.379</td><td>0.069</td><td>16.616</td><td>0.039</td><td>14.104</td><td>0.064</td><td>16.4</td><td>0.039</td><td>0.0</td><td>0.0</td><td>0.0</td></tr>\n",
       "<tr><td>32</td><td>-1.0</td><td>-1.0</td><td>-1.0</td><td>-1.0</td><td>17.913</td><td>0.181</td><td>-1.0</td><td>-1.0</td><td>0.0</td><td>0.0</td><td>0.0</td></tr>\n",
       "<tr><td>33</td><td>20.834</td><td>0.053</td><td>17.379</td><td>0.033</td><td>15.789</td><td>0.048</td><td>17.055</td><td>0.032</td><td>21.8561</td><td>0.0</td><td>0.25444</td></tr>\n",
       "<tr><td>34</td><td>20.789</td><td>0.057</td><td>16.519</td><td>0.039</td><td>14.157</td><td>0.064</td><td>16.069</td><td>0.039</td><td>27.6617</td><td>1.0</td><td>1.05</td></tr>\n",
       "<tr><td>35</td><td>20.789</td><td>0.039</td><td>16.927</td><td>0.023</td><td>15.24</td><td>0.035</td><td>16.628</td><td>0.023</td><td>24.8939</td><td>0.0</td><td>0.599937</td></tr>\n",
       "<tr><td>36</td><td>21.368</td><td>0.142</td><td>17.798</td><td>0.035</td><td>15.666</td><td>0.044</td><td>17.631</td><td>0.037</td><td>19.8197</td><td>1.0</td><td>0.11</td></tr>\n",
       "<tr><td>37</td><td>-1.0</td><td>-1.0</td><td>19.175</td><td>0.091</td><td>16.353</td><td>0.059</td><td>19.019</td><td>0.091</td><td>-295.249</td><td>1.0</td><td>0.006</td></tr>\n",
       "<tr><td>38</td><td>16.732</td><td>0.019</td><td>14.641</td><td>0.02</td><td>13.899</td><td>0.032</td><td>14.392</td><td>0.02</td><td>5.45948</td><td>1.0</td><td>0.175</td></tr>\n",
       "<tr><td>39</td><td>19.506</td><td>0.028</td><td>16.629</td><td>0.028</td><td>15.602</td><td>0.046</td><td>16.355</td><td>0.028</td><td>15.409</td><td>0.0</td><td>0.165666</td></tr>\n",
       "<tr><td>40</td><td>17.503</td><td>0.027</td><td>15.117</td><td>0.028</td><td>14.287</td><td>0.045</td><td>14.842</td><td>0.028</td><td>10.7775</td><td>0.0</td><td>0.327591</td></tr>\n",
       "<tr><td>41</td><td>20.146</td><td>0.037</td><td>16.422</td><td>0.029</td><td>14.956</td><td>0.046</td><td>16.16</td><td>0.029</td><td>23.0106</td><td>0.0</td><td>0.66085</td></tr>\n",
       "<tr><td>42</td><td>19.225</td><td>0.03</td><td>15.62</td><td>0.028</td><td>13.857</td><td>0.045</td><td>15.111</td><td>0.028</td><td>21.1416</td><td>1.0</td><td>0.85</td></tr>\n",
       "<tr><td>43</td><td>24.042</td><td>0.675</td><td>19.333</td><td>0.035</td><td>16.694</td><td>0.035</td><td>19.081</td><td>0.034</td><td>-296.979</td><td>1.0</td><td>0.006</td></tr>\n",
       "<tr><td>44</td><td>22.6</td><td>0.156</td><td>19.472</td><td>0.042</td><td>17.648</td><td>0.052</td><td>19.212</td><td>0.041</td><td>15.2683</td><td>1.0</td><td>0.03</td></tr>\n",
       "<tr><td>45</td><td>20.61</td><td>0.12</td><td>17.016</td><td>0.071</td><td>15.414</td><td>0.077</td><td>16.775</td><td>0.072</td><td>22.8415</td><td>0.0</td><td>0.414821</td></tr>\n",
       "<tr><td>46</td><td>21.954</td><td>0.152</td><td>19.593</td><td>0.083</td><td>18.175</td><td>0.149</td><td>19.267</td><td>0.075</td><td>7.03708</td><td>1.0</td><td>0.012</td></tr>\n",
       "<tr><td>47</td><td>21.007</td><td>0.188</td><td>18.229</td><td>0.087</td><td>16.452</td><td>0.083</td><td>17.944</td><td>0.086</td><td>11.1618</td><td>1.0</td><td>0.04</td></tr>\n",
       "<tr><td>48</td><td>20.921</td><td>0.045</td><td>16.548</td><td>0.028</td><td>14.781</td><td>0.046</td><td>16.233</td><td>0.028</td><td>29.4397</td><td>0.0</td><td>1.35165</td></tr>\n",
       "<tr><td>49</td><td>16.522</td><td>0.027</td><td>13.822</td><td>0.028</td><td>12.821</td><td>0.045</td><td>13.579</td><td>0.028</td><td>13.6229</td><td>0.0</td><td>1.34497</td></tr>\n",
       "<tr><td>50</td><td>20.485</td><td>0.035</td><td>16.781</td><td>0.028</td><td>15.49</td><td>0.046</td><td>16.68</td><td>0.028</td><td>22.5948</td><td>0.0</td><td>0.45165</td></tr>\n",
       "<tr><td>51</td><td>21.595</td><td>0.107</td><td>17.027</td><td>0.043</td><td>15.181</td><td>0.066</td><td>16.711</td><td>0.043</td><td>31.0486</td><td>0.0</td><td>1.20746</td></tr>\n",
       "<tr><td>52</td><td>17.189</td><td>0.038</td><td>12.827</td><td>0.039</td><td>10.784</td><td>0.064</td><td>12.571</td><td>0.039</td><td>0.0</td><td>0.0</td><td>0.0</td></tr>\n",
       "<tr><td>53</td><td>19.964</td><td>0.042</td><td>16.664</td><td>0.04</td><td>15.252</td><td>0.065</td><td>16.391</td><td>0.04</td><td>19.9524</td><td>0.0</td><td>0.356737</td></tr>\n",
       "<tr><td>54</td><td>23.917</td><td>0.812</td><td>18.645</td><td>0.041</td><td>16.132</td><td>0.047</td><td>18.342</td><td>0.038</td><td>-287.151</td><td>1.0</td><td>0.006</td></tr>\n",
       "<tr><td>55</td><td>17.327</td><td>0.038</td><td>15.51</td><td>0.039</td><td>15.194</td><td>0.068</td><td>15.267</td><td>0.039</td><td>4.47732</td><td>0.0</td><td>0.102108</td></tr>\n",
       "<tr><td>56</td><td>22.957</td><td>0.377</td><td>18.917</td><td>0.044</td><td>16.064</td><td>0.046</td><td>18.563</td><td>0.037</td><td>23.7021</td><td>1.0</td><td>0.09</td></tr>\n",
       "<tr><td>57</td><td>18.908</td><td>0.041</td><td>16.947</td><td>0.07</td><td>16.559</td><td>0.281</td><td>16.637</td><td>0.066</td><td>5.61386</td><td>0.0</td><td>0.0521228</td></tr>\n",
       "<tr><td>58</td><td>22.021</td><td>0.104</td><td>17.652</td><td>0.041</td><td>15.307</td><td>0.064</td><td>17.578</td><td>0.041</td><td>28.9046</td><td>1.0</td><td>0.57</td></tr>\n",
       "<tr><td>59</td><td>-1.0</td><td>-1.0</td><td>19.656</td><td>0.135</td><td>16.517</td><td>0.075</td><td>19.209</td><td>0.11</td><td>-302.671</td><td>1.0</td><td>0.006</td></tr>\n",
       "<tr><td>60</td><td>12.335</td><td>0.038</td><td>11.567</td><td>0.039</td><td>11.626</td><td>0.064</td><td>11.499</td><td>0.039</td><td>-8.48298</td><td>1.0</td><td>0.3</td></tr>\n",
       "<tr><td>61</td><td>-1.0</td><td>-1.0</td><td>18.516</td><td>0.067</td><td>14.775</td><td>0.064</td><td>18.307</td><td>0.062</td><td>-288.388</td><td>1.0</td><td>0.006</td></tr>\n",
       "<tr><td>62</td><td>23.536</td><td>0.466</td><td>19.765</td><td>0.093</td><td>17.008</td><td>0.077</td><td>19.478</td><td>0.085</td><td>20.6976</td><td>1.0</td><td>0.04</td></tr>\n",
       "<tr><td>63</td><td>25.105</td><td>3.732</td><td>21.608</td><td>0.286</td><td>18.571</td><td>0.128</td><td>20.851</td><td>0.184</td><td>-329.417</td><td>1.0</td><td>0.006</td></tr>\n",
       "<tr><td>64</td><td>21.885</td><td>0.17</td><td>20.784</td><td>0.19</td><td>18.076</td><td>0.112</td><td>20.257</td><td>0.171</td><td>-11.249</td><td>1.0</td><td>0.006</td></tr>\n",
       "<tr><td>65</td><td>21.588</td><td>0.176</td><td>18.759</td><td>0.108</td><td>17.489</td><td>0.131</td><td>18.431</td><td>0.094</td><td>13.015</td><td>1.0</td><td>0.04</td></tr>\n",
       "<tr><td>66</td><td>22.441</td><td>0.383</td><td>18.79</td><td>0.073</td><td>16.12</td><td>0.067</td><td>18.409</td><td>0.064</td><td>19.4606</td><td>1.0</td><td>0.06</td></tr>\n",
       "<tr><td>67</td><td>26.051</td><td>3.84</td><td>21.875</td><td>0.563</td><td>18.512</td><td>0.171</td><td>21.528</td><td>0.46</td><td>0.0</td><td>0.0</td><td>0.0</td></tr>\n",
       "<tr><td>68</td><td>23.673</td><td>1.206</td><td>-1.0</td><td>-1.0</td><td>21.808</td><td>3.48</td><td>23.599</td><td>4.818</td><td>0.0</td><td>0.0</td><td>0.0</td></tr>\n",
       "<tr><td>69</td><td>23.315</td><td>0.819</td><td>-1.0</td><td>-1.0</td><td>19.459</td><td>0.464</td><td>-1.0</td><td>-1.0</td><td>0.0</td><td>0.0</td><td>0.0</td></tr>\n",
       "<tr><td>70</td><td>22.586</td><td>0.216</td><td>18.027</td><td>0.032</td><td>15.053</td><td>0.046</td><td>17.688</td><td>0.031</td><td>29.6318</td><td>1.0</td><td>0.4</td></tr>\n",
       "<tr><td>71</td><td>23.066</td><td>0.233</td><td>21.154</td><td>0.287</td><td>19.477</td><td>0.433</td><td>20.379</td><td>0.162</td><td>1.01106</td><td>1.0</td><td>0.006</td></tr>\n",
       "<tr><td>72</td><td>21.64</td><td>0.169</td><td>18.447</td><td>0.096</td><td>16.487</td><td>0.103</td><td>18.074</td><td>0.097</td><td>15.7134</td><td>1.0</td><td>0.055</td></tr>\n",
       "<tr><td>73</td><td>20.213</td><td>0.075</td><td>16.535</td><td>0.065</td><td>14.949</td><td>0.072</td><td>16.188</td><td>0.067</td><td>23.0731</td><td>0.0</td><td>0.633113</td></tr>\n",
       "<tr><td>74</td><td>17.331</td><td>0.038</td><td>15.114</td><td>0.039</td><td>14.347</td><td>0.066</td><td>14.835</td><td>0.039</td><td>6.89904</td><td>1.0</td><td>0.15</td></tr>\n",
       "<tr><td>75</td><td>20.58</td><td>0.06</td><td>18.535</td><td>0.044</td><td>17.715</td><td>0.076</td><td>18.248</td><td>0.042</td><td>4.71369</td><td>1.0</td><td>0.02</td></tr>\n",
       "<tr><td>76</td><td>14.229</td><td>0.038</td><td>10.43</td><td>0.039</td><td>8.213</td><td>0.064</td><td>10.157</td><td>0.039</td><td>22.351</td><td>1.0</td><td>1.4</td></tr>\n",
       "<tr><td>77</td><td>17.887</td><td>0.048</td><td>14.753</td><td>0.041</td><td>13.038</td><td>0.064</td><td>14.447</td><td>0.04</td><td>15.6047</td><td>1.0</td><td>0.75</td></tr>\n",
       "<tr><td>78</td><td>-1.0</td><td>-1.0</td><td>18.045</td><td>0.043</td><td>15.305</td><td>0.064</td><td>18.224</td><td>0.047</td><td>-279.409</td><td>1.0</td><td>0.006</td></tr>\n",
       "<tr><td>79</td><td>15.249</td><td>0.038</td><td>11.907</td><td>0.039</td><td>9.727</td><td>0.064</td><td>11.677</td><td>0.039</td><td>16.9472</td><td>1.0</td><td>1.4</td></tr>\n",
       "<tr><td>80</td><td>22.717</td><td>0.245</td><td>19.584</td><td>0.074</td><td>17.688</td><td>0.081</td><td>19.186</td><td>0.063</td><td>15.1516</td><td>1.0</td><td>0.03</td></tr>\n",
       "<tr><td>81</td><td>15.708</td><td>0.038</td><td>13.66</td><td>0.039</td><td>12.783</td><td>0.064</td><td>13.335</td><td>0.039</td><td>4.5906</td><td>1.0</td><td>0.35</td></tr>\n",
       "<tr><td>82</td><td>19.267</td><td>0.035</td><td>18.267</td><td>0.038</td><td>18.147</td><td>0.079</td><td>18.068</td><td>0.038</td><td>-6.13413</td><td>1.0</td><td>0.007</td></tr>\n",
       "<tr><td>83</td><td>22.338</td><td>0.189</td><td>18.05</td><td>0.05</td><td>16.139</td><td>0.073</td><td>17.755</td><td>0.049</td><td>29.3098</td><td>0.0</td><td>0.453161</td></tr>\n",
       "<tr><td>84</td><td>17.084</td><td>0.04</td><td>13.853</td><td>0.043</td><td>12.417</td><td>0.081</td><td>13.705</td><td>0.043</td><td>0.0</td><td>0.0</td><td>0.0</td></tr>\n",
       "<tr><td>85</td><td>19.658</td><td>0.051</td><td>15.883</td><td>0.04</td><td>14.423</td><td>0.064</td><td>15.61</td><td>0.039</td><td>23.1781</td><td>0.0</td><td>0.949219</td></tr>\n",
       "<tr><td>86</td><td>17.611</td><td>0.038</td><td>15.049</td><td>0.039</td><td>14.029</td><td>0.064</td><td>14.811</td><td>0.039</td><td>10.4371</td><td>1.0</td><td>0.3</td></tr>\n",
       "<tr><td>87</td><td>23.271</td><td>0.336</td><td>19.462</td><td>0.092</td><td>17.645</td><td>0.108</td><td>19.077</td><td>0.079</td><td>25.2795</td><td>0.0</td><td>0.0937892</td></tr>\n",
       "<tr><td>88</td><td>23.116</td><td>0.304</td><td>18.898</td><td>0.042</td><td>15.437</td><td>0.048</td><td>18.623</td><td>0.039</td><td>24.327</td><td>1.0</td><td>0.09</td></tr>\n",
       "<tr><td>89</td><td>20.846</td><td>0.076</td><td>18.016</td><td>0.1</td><td>16.044</td><td>0.086</td><td>17.737</td><td>0.101</td><td>11.3156</td><td>1.0</td><td>0.04</td></tr>\n",
       "<tr><td>90</td><td>25.259</td><td>2.811</td><td>19.385</td><td>0.087</td><td>16.601</td><td>0.074</td><td>19.002</td><td>0.077</td><td>-298.059</td><td>1.0</td><td>0.006</td></tr>\n",
       "<tr><td>91</td><td>22.332</td><td>0.198</td><td>19.585</td><td>0.092</td><td>17.833</td><td>0.093</td><td>19.242</td><td>0.084</td><td>10.8703</td><td>1.0</td><td>0.02</td></tr>\n",
       "<tr><td>92</td><td>-1.0</td><td>-1.0</td><td>18.566</td><td>0.036</td><td>15.389</td><td>0.046</td><td>18.401</td><td>0.036</td><td>-287.698</td><td>1.0</td><td>0.006</td></tr>\n",
       "<tr><td>93</td><td>24.301</td><td>0.673</td><td>18.46</td><td>0.038</td><td>15.969</td><td>0.048</td><td>18.298</td><td>0.039</td><td>-284.556</td><td>1.0</td><td>0.006</td></tr>\n",
       "<tr><td>94</td><td>23.413</td><td>0.29</td><td>20.73</td><td>0.167</td><td>19.141</td><td>0.24</td><td>20.319</td><td>0.153</td><td>10.4955</td><td>1.0</td><td>0.008</td></tr>\n",
       "<tr><td>95</td><td>19.539</td><td>0.021</td><td>14.589</td><td>0.02</td><td>9.774</td><td>0.032</td><td>14.518</td><td>0.02</td><td>29.8036</td><td>1.0</td><td>1.4</td></tr>\n",
       "<tr><td>96</td><td>23.284</td><td>0.364</td><td>19.934</td><td>0.089</td><td>16.985</td><td>0.06</td><td>19.745</td><td>0.078</td><td>15.1632</td><td>1.0</td><td>0.02</td></tr>\n",
       "<tr><td>97</td><td>19.67</td><td>0.032</td><td>16.122</td><td>0.028</td><td>14.688</td><td>0.045</td><td>15.769</td><td>0.028</td><td>21.4951</td><td>0.0</td><td>0.686104</td></tr>\n",
       "<tr><td>98</td><td>22.92</td><td>0.309</td><td>18.803</td><td>0.035</td><td>15.417</td><td>0.035</td><td>18.866</td><td>0.042</td><td>23.3059</td><td>1.0</td><td>0.09</td></tr>\n",
       "<tr><td>99</td><td>22.526</td><td>0.193</td><td>20.968</td><td>0.188</td><td>16.678</td><td>0.071</td><td>21.177</td><td>0.343</td><td>-9.64317</td><td>1.0</td><td>0.006</td></tr>\n",
       "<tr><td>100</td><td>22.433</td><td>0.144</td><td>19.914</td><td>0.134</td><td>18.329</td><td>0.194</td><td>19.753</td><td>0.134</td><td>8.51397</td><td>1.0</td><td>0.012</td></tr>\n",
       "<tr><td>101</td><td>23.869</td><td>0.597</td><td>20.54</td><td>0.131</td><td>17.76</td><td>0.057</td><td>20.197</td><td>0.122</td><td>-314.037</td><td>1.0</td><td>0.006</td></tr>\n",
       "<tr><td>102</td><td>21.843</td><td>0.079</td><td>17.897</td><td>0.031</td><td>16.032</td><td>0.048</td><td>17.595</td><td>0.031</td><td>26.5998</td><td>0.0</td><td>0.346077</td></tr>\n",
       "<tr><td>103</td><td>16.402</td><td>0.038</td><td>13.836</td><td>0.039</td><td>12.796</td><td>0.064</td><td>13.637</td><td>0.039</td><td>10.4149</td><td>1.0</td><td>0.8</td></tr>\n",
       "<tr><td>104</td><td>21.527</td><td>0.083</td><td>18.217</td><td>0.043</td><td>16.502</td><td>0.063</td><td>17.829</td><td>0.041</td><td>17.7209</td><td>1.0</td><td>0.08</td></tr>\n",
       "<tr><td>105</td><td>23.005</td><td>0.236</td><td>19.872</td><td>0.158</td><td>17.515</td><td>0.157</td><td>19.498</td><td>0.138</td><td>14.0088</td><td>1.0</td><td>0.02</td></tr>\n",
       "<tr><td>106</td><td>21.987</td><td>0.097</td><td>17.741</td><td>0.029</td><td>15.699</td><td>0.05</td><td>17.48</td><td>0.029</td><td>29.1488</td><td>0.0</td><td>0.592914</td></tr>\n",
       "<tr><td>107</td><td>23.117</td><td>0.276</td><td>17.942</td><td>0.047</td><td>15.464</td><td>0.068</td><td>17.606</td><td>0.045</td><td>0.0</td><td>0.0</td><td>0.0</td></tr>\n",
       "<tr><td>108</td><td>21.683</td><td>0.091</td><td>17.127</td><td>0.029</td><td>15.111</td><td>0.047</td><td>16.789</td><td>0.029</td><td>31.5973</td><td>0.0</td><td>1.24877</td></tr>\n",
       "<tr><td>109</td><td>22.683</td><td>0.25</td><td>19.634</td><td>0.068</td><td>18.038</td><td>0.087</td><td>19.249</td><td>0.063</td><td>14.8573</td><td>1.0</td><td>0.03</td></tr>\n",
       "<tr><td>110</td><td>15.613</td><td>0.038</td><td>13.145</td><td>0.039</td><td>12.43</td><td>0.064</td><td>12.926</td><td>0.039</td><td>0.0</td><td>0.0</td><td>0.0</td></tr>\n",
       "<tr><td>111</td><td>22.608</td><td>0.189</td><td>17.511</td><td>0.041</td><td>14.94</td><td>0.065</td><td>17.191</td><td>0.041</td><td>0.0</td><td>0.0</td><td>0.0</td></tr>\n",
       "<tr><td>112</td><td>20.4</td><td>0.049</td><td>17.123</td><td>0.041</td><td>15.866</td><td>0.068</td><td>16.782</td><td>0.041</td><td>19.3602</td><td>0.0</td><td>0.196111</td></tr>\n",
       "<tr><td>113</td><td>22.722</td><td>0.198</td><td>18.698</td><td>0.055</td><td>16.192</td><td>0.068</td><td>18.413</td><td>0.054</td><td>24.3497</td><td>1.0</td><td>0.11</td></tr>\n",
       "<tr><td>114</td><td>21.496</td><td>0.106</td><td>17.988</td><td>0.057</td><td>16.403</td><td>0.075</td><td>17.715</td><td>0.054</td><td>22.2928</td><td>0.0</td><td>0.156232</td></tr>\n",
       "<tr><td>115</td><td>22.627</td><td>0.17</td><td>17.615</td><td>0.043</td><td>15.09</td><td>0.065</td><td>17.412</td><td>0.043</td><td>0.0</td><td>0.0</td><td>0.0</td></tr>\n",
       "<tr><td>116</td><td>20.862</td><td>0.055</td><td>16.713</td><td>0.04</td><td>14.869</td><td>0.064</td><td>16.479</td><td>0.04</td><td>27.436</td><td>0.0</td><td>0.942309</td></tr>\n",
       "<tr><td>117</td><td>21.437</td><td>0.077</td><td>17.521</td><td>0.042</td><td>15.917</td><td>0.067</td><td>17.231</td><td>0.042</td><td>25.4365</td><td>0.0</td><td>0.377266</td></tr>\n",
       "<tr><td>118</td><td>22.757</td><td>0.225</td><td>20.795</td><td>0.158</td><td>19.447</td><td>0.337</td><td>20.365</td><td>0.133</td><td>2.42931</td><td>1.0</td><td>0.006</td></tr>\n",
       "<tr><td>119</td><td>16.92</td><td>0.093</td><td>14.708</td><td>0.092</td><td>13.995</td><td>0.102</td><td>14.4</td><td>0.094</td><td>8.98211</td><td>0.0</td><td>0.354689</td></tr>\n",
       "<tr><td>120</td><td>17.767</td><td>0.093</td><td>15.408</td><td>0.092</td><td>14.695</td><td>0.102</td><td>15.153</td><td>0.094</td><td>10.2369</td><td>0.0</td><td>0.21722</td></tr>\n",
       "<tr><td>121</td><td>22.065</td><td>0.129</td><td>17.422</td><td>0.04</td><td>15.49</td><td>0.064</td><td>17.137</td><td>0.04</td><td>31.6391</td><td>0.0</td><td>0.936037</td></tr>\n",
       "<tr><td>122</td><td>17.737</td><td>0.038</td><td>15.208</td><td>0.039</td><td>14.415</td><td>0.064</td><td>14.966</td><td>0.039</td><td>11.7661</td><td>0.0</td><td>0.342586</td></tr>\n",
       "<tr><td>123</td><td>19.284</td><td>0.094</td><td>16.044</td><td>0.092</td><td>14.577</td><td>0.102</td><td>15.74</td><td>0.094</td><td>19.2705</td><td>0.0</td><td>0.576853</td></tr>\n",
       "<tr><td>124</td><td>18.742</td><td>0.093</td><td>15.456</td><td>0.092</td><td>14.198</td><td>0.102</td><td>15.168</td><td>0.094</td><td>18.7788</td><td>0.0</td><td>0.772819</td></tr>\n",
       "<tr><td>125</td><td>22.406</td><td>0.203</td><td>20.146</td><td>0.072</td><td>18.928</td><td>0.12</td><td>19.835</td><td>0.074</td><td>6.30679</td><td>1.0</td><td>0.008</td></tr>\n",
       "<tr><td>126</td><td>21.869</td><td>0.087</td><td>17.785</td><td>0.03</td><td>16.101</td><td>0.047</td><td>17.493</td><td>0.029</td><td>27.0314</td><td>0.0</td><td>0.3815</td></tr>\n",
       "<tr><td>127</td><td>23.0</td><td>0.27</td><td>20.566</td><td>0.199</td><td>18.914</td><td>0.328</td><td>19.999</td><td>0.159</td><td>7.33668</td><td>1.0</td><td>0.007</td></tr>\n",
       "<tr><td>128</td><td>24.439</td><td>1.094</td><td>19.349</td><td>0.066</td><td>17.48</td><td>0.075</td><td>18.969</td><td>0.058</td><td>-295.304</td><td>1.0</td><td>0.006</td></tr>\n",
       "<tr><td>129</td><td>24.985</td><td>1.971</td><td>19.06</td><td>0.046</td><td>16.527</td><td>0.05</td><td>18.883</td><td>0.049</td><td>-292.946</td><td>1.0</td><td>0.006</td></tr>\n",
       "<tr><td>130</td><td>24.284</td><td>0.956</td><td>20.876</td><td>0.124</td><td>18.329</td><td>0.076</td><td>20.815</td><td>0.125</td><td>-318.107</td><td>1.0</td><td>0.006</td></tr>\n",
       "<tr><td>131</td><td>24.011</td><td>0.443</td><td>23.395</td><td>1.118</td><td>18.279</td><td>0.09</td><td>24.695</td><td>4.583</td><td>0.0</td><td>0.0</td><td>0.0</td></tr>\n",
       "<tr><td>132</td><td>18.296</td><td>0.038</td><td>15.111</td><td>0.039</td><td>13.931</td><td>0.064</td><td>14.884</td><td>0.039</td><td>17.6556</td><td>0.0</td><td>0.840469</td></tr>\n",
       "<tr><td>133</td><td>21.173</td><td>0.073</td><td>17.366</td><td>0.041</td><td>15.789</td><td>0.066</td><td>17.026</td><td>0.041</td><td>24.4831</td><td>0.0</td><td>0.376374</td></tr>\n",
       "<tr><td>134</td><td>16.568</td><td>0.027</td><td>13.858</td><td>0.028</td><td>13.022</td><td>0.045</td><td>13.902</td><td>0.028</td><td>12.7245</td><td>0.0</td><td>1.10702</td></tr>\n",
       "<tr><td>135</td><td>18.282</td><td>0.019</td><td>15.134</td><td>0.02</td><td>13.429</td><td>0.033</td><td>14.819</td><td>0.02</td><td>15.7876</td><td>1.0</td><td>0.6</td></tr>\n",
       "<tr><td>136</td><td>22.057</td><td>0.123</td><td>19.681</td><td>0.102</td><td>18.046</td><td>0.115</td><td>19.468</td><td>0.105</td><td>6.68467</td><td>1.0</td><td>0.012</td></tr>\n",
       "<tr><td>137</td><td>20.222</td><td>0.044</td><td>15.903</td><td>0.028</td><td>13.461</td><td>0.045</td><td>15.647</td><td>0.028</td><td>28.0479</td><td>1.0</td><td>1.4</td></tr>\n",
       "<tr><td>138</td><td>17.946</td><td>0.027</td><td>15.524</td><td>0.028</td><td>14.51</td><td>0.045</td><td>15.056</td><td>0.028</td><td>8.77012</td><td>1.0</td><td>0.15</td></tr>\n",
       "<tr><td>139</td><td>22.411</td><td>0.106</td><td>19.361</td><td>0.049</td><td>17.395</td><td>0.067</td><td>19.13</td><td>0.045</td><td>13.9779</td><td>1.0</td><td>0.03</td></tr>\n",
       "<tr><td>140</td><td>22.159</td><td>0.139</td><td>20.053</td><td>0.078</td><td>18.386</td><td>0.083</td><td>19.759</td><td>0.075</td><td>3.36544</td><td>1.0</td><td>0.006</td></tr>\n",
       "<tr><td>141</td><td>17.582</td><td>0.027</td><td>13.259</td><td>0.028</td><td>11.033</td><td>0.045</td><td>13.041</td><td>0.028</td><td>0.0</td><td>0.0</td><td>0.0</td></tr>\n",
       "<tr><td>142</td><td>19.827</td><td>0.029</td><td>16.737</td><td>0.028</td><td>15.617</td><td>0.046</td><td>16.421</td><td>0.028</td><td>17.4113</td><td>0.0</td><td>0.202136</td></tr>\n",
       "<tr><td>143</td><td>22.914</td><td>0.22</td><td>19.269</td><td>0.034</td><td>17.006</td><td>0.048</td><td>18.793</td><td>0.033</td><td>20.3936</td><td>1.0</td><td>0.055</td></tr>\n",
       "<tr><td>144</td><td>22.975</td><td>0.166</td><td>20.564</td><td>0.076</td><td>19.658</td><td>0.25</td><td>20.126</td><td>0.064</td><td>8.89683</td><td>1.0</td><td>0.008</td></tr>\n",
       "<tr><td>145</td><td>22.732</td><td>0.184</td><td>18.243</td><td>0.024</td><td>15.557</td><td>0.034</td><td>18.031</td><td>0.024</td><td>29.4924</td><td>1.0</td><td>0.35</td></tr>\n",
       "<tr><td>146</td><td>18.232</td><td>0.039</td><td>15.468</td><td>0.039</td><td>14.509</td><td>0.064</td><td>15.109</td><td>0.039</td><td>14.123</td><td>0.0</td><td>0.395983</td></tr>\n",
       "<tr><td>147</td><td>16.283</td><td>0.038</td><td>13.562</td><td>0.039</td><td>12.449</td><td>0.064</td><td>13.406</td><td>0.039</td><td>12.1159</td><td>1.0</td><td>1.2</td></tr>\n",
       "<tr><td>148</td><td>-1.0</td><td>-1.0</td><td>15.544</td><td>0.039</td><td>14.351</td><td>0.064</td><td>15.917</td><td>0.039</td><td>-241.025</td><td>1.0</td><td>0.006</td></tr>\n",
       "<tr><td>149</td><td>-1.0</td><td>-1.0</td><td>22.202</td><td>0.439</td><td>21.735</td><td>1.741</td><td>21.994</td><td>0.432</td><td>0.0</td><td>0.0</td><td>0.0</td></tr>\n",
       "<tr><td>150</td><td>20.429</td><td>0.045</td><td>17.216</td><td>0.041</td><td>15.547</td><td>0.065</td><td>16.847</td><td>0.04</td><td>16.663</td><td>1.0</td><td>0.13</td></tr>\n",
       "<tr><td>151</td><td>22.042</td><td>0.103</td><td>17.308</td><td>0.04</td><td>14.626</td><td>0.064</td><td>17.306</td><td>0.04</td><td>32.4567</td><td>1.0</td><td>1.15</td></tr>\n",
       "<tr><td>152</td><td>24.266</td><td>0.745</td><td>21.319</td><td>0.167</td><td>18.909</td><td>0.112</td><td>21.155</td><td>0.191</td><td>-323.889</td><td>1.0</td><td>0.006</td></tr>\n",
       "<tr><td>153</td><td>18.862</td><td>0.039</td><td>15.33</td><td>0.039</td><td>13.773</td><td>0.064</td><td>15.029</td><td>0.039</td><td>22.0852</td><td>0.0</td><td>1.35168</td></tr>\n",
       "<tr><td>154</td><td>16.248</td><td>0.038</td><td>13.701</td><td>0.039</td><td>12.623</td><td>0.064</td><td>13.501</td><td>0.039</td><td>10.1203</td><td>1.0</td><td>0.9</td></tr>\n",
       "<tr><td>155</td><td>-1.0</td><td>-1.0</td><td>24.075</td><td>2.362</td><td>19.134</td><td>0.155</td><td>25.668</td><td>12.711</td><td>0.0</td><td>0.0</td><td>0.0</td></tr>\n",
       "<tr><td>156</td><td>24.955</td><td>1.64</td><td>22.349</td><td>0.592</td><td>20.36</td><td>0.405</td><td>21.556</td><td>0.305</td><td>0.0</td><td>0.0</td><td>0.0</td></tr>\n",
       "<tr><td>157</td><td>16.568</td><td>0.093</td><td>14.642</td><td>0.092</td><td>14.188</td><td>0.102</td><td>14.452</td><td>0.094</td><td>5.93652</td><td>0.0</td><td>0.217786</td></tr>\n",
       "<tr><td>158</td><td>15.913</td><td>0.093</td><td>14.052</td><td>0.092</td><td>13.626</td><td>0.102</td><td>13.825</td><td>0.094</td><td>5.24597</td><td>0.0</td><td>0.34519</td></tr>\n",
       "<tr><td>159</td><td>18.334</td><td>0.038</td><td>16.665</td><td>0.039</td><td>16.249</td><td>0.065</td><td>16.433</td><td>0.039</td><td>1.18286</td><td>1.0</td><td>0.04</td></tr>\n",
       "<tr><td>160</td><td>17.167</td><td>0.038</td><td>14.527</td><td>0.039</td><td>13.618</td><td>0.064</td><td>14.254</td><td>0.039</td><td>12.5378</td><td>0.0</td><td>0.690675</td></tr>\n",
       "<tr><td>161</td><td>18.395</td><td>0.038</td><td>15.827</td><td>0.039</td><td>14.887</td><td>0.064</td><td>15.54</td><td>0.039</td><td>12.6574</td><td>0.0</td><td>0.226778</td></tr>\n",
       "<tr><td>162</td><td>21.043</td><td>0.05</td><td>17.468</td><td>0.028</td><td>16.065</td><td>0.046</td><td>17.31</td><td>0.028</td><td>22.1833</td><td>0.0</td><td>0.228754</td></tr>\n",
       "<tr><td>163</td><td>15.805</td><td>0.038</td><td>14.024</td><td>0.039</td><td>13.63</td><td>0.064</td><td>13.831</td><td>0.039</td><td>4.52309</td><td>0.0</td><td>0.315335</td></tr>\n",
       "<tr><td>164</td><td>16.436</td><td>0.038</td><td>13.941</td><td>0.039</td><td>12.931</td><td>0.064</td><td>13.62</td><td>0.039</td><td>9.65174</td><td>1.0</td><td>0.7</td></tr>\n",
       "<tr><td>165</td><td>17.792</td><td>0.038</td><td>14.745</td><td>0.039</td><td>13.598</td><td>0.064</td><td>14.513</td><td>0.039</td><td>16.3555</td><td>0.0</td><td>0.939629</td></tr>\n",
       "<tr><td>166</td><td>23.09</td><td>0.289</td><td>21.217</td><td>0.301</td><td>18.805</td><td>0.165</td><td>21.072</td><td>0.231</td><td>-1.26305</td><td>1.0</td><td>0.006</td></tr>\n",
       "<tr><td>167</td><td>25.873</td><td>3.028</td><td>-1.0</td><td>-1.0</td><td>19.191</td><td>0.154</td><td>22.138</td><td>0.433</td><td>0.0</td><td>0.0</td><td>0.0</td></tr>\n",
       "<tr><td>168</td><td>15.815</td><td>0.038</td><td>13.152</td><td>0.039</td><td>12.067</td><td>0.064</td><td>12.844</td><td>0.039</td><td>11.4888</td><td>1.0</td><td>1.4</td></tr>\n",
       "<tr><td>169</td><td>21.42</td><td>0.069</td><td>17.857</td><td>0.04</td><td>16.394</td><td>0.065</td><td>17.545</td><td>0.04</td><td>22.3187</td><td>0.0</td><td>0.166462</td></tr>\n",
       "<tr><td>170</td><td>17.47</td><td>0.027</td><td>15.5</td><td>0.028</td><td>14.957</td><td>0.045</td><td>15.232</td><td>0.028</td><td>6.54014</td><td>0.0</td><td>0.128553</td></tr>\n",
       "<tr><td>171</td><td>17.814</td><td>0.038</td><td>15.182</td><td>0.039</td><td>14.329</td><td>0.064</td><td>14.94</td><td>0.039</td><td>12.7083</td><td>0.0</td><td>0.406606</td></tr>\n",
       "<tr><td>172</td><td>21.904</td><td>0.147</td><td>19.27</td><td>0.087</td><td>17.391</td><td>0.093</td><td>18.978</td><td>0.077</td><td>9.17232</td><td>1.0</td><td>0.02</td></tr>\n",
       "<tr><td>173</td><td>18.415</td><td>0.027</td><td>15.791</td><td>0.028</td><td>14.793</td><td>0.045</td><td>15.501</td><td>0.028</td><td>13.2768</td><td>0.0</td><td>0.264292</td></tr>\n",
       "<tr><td>174</td><td>-1.0</td><td>-1.0</td><td>21.884</td><td>0.284</td><td>19.205</td><td>0.14</td><td>20.645</td><td>0.124</td><td>-332.36</td><td>1.0</td><td>0.006</td></tr>\n",
       "<tr><td>175</td><td>21.925</td><td>0.118</td><td>19.293</td><td>0.052</td><td>18.915</td><td>0.14</td><td>19.178</td><td>0.052</td><td>10.2053</td><td>0.0</td><td>0.0238779</td></tr>\n",
       "<tr><td>176</td><td>23.097</td><td>0.325</td><td>20.453</td><td>0.175</td><td>18.094</td><td>0.1</td><td>20.308</td><td>0.191</td><td>8.12834</td><td>1.0</td><td>0.007</td></tr>\n",
       "<tr><td>177</td><td>19.781</td><td>0.041</td><td>16.113</td><td>0.039</td><td>14.043</td><td>0.064</td><td>15.786</td><td>0.039</td><td>21.1505</td><td>1.0</td><td>0.6</td></tr>\n",
       "<tr><td>178</td><td>22.268</td><td>0.121</td><td>17.414</td><td>0.028</td><td>15.389</td><td>0.045</td><td>17.122</td><td>0.028</td><td>34.0896</td><td>0.0</td><td>1.32386</td></tr>\n",
       "<tr><td>179</td><td>23.789</td><td>0.757</td><td>18.483</td><td>0.05</td><td>16.276</td><td>0.067</td><td>18.265</td><td>0.049</td><td>-284.166</td><td>1.0</td><td>0.006</td></tr>\n",
       "<tr><td>180</td><td>17.768</td><td>0.038</td><td>15.117</td><td>0.039</td><td>14.14</td><td>0.064</td><td>14.83</td><td>0.039</td><td>13.1444</td><td>0.0</td><td>0.484126</td></tr>\n",
       "</table><style>table.dataTable {clear: both; width: auto !important; margin: 0 !important;}\n",
       ".dataTables_info, .dataTables_length, .dataTables_filter, .dataTables_paginate{\n",
       "display: inline-block; margin-right: 1em; }\n",
       ".paginate_button { margin-right: 5px; }\n",
       "</style>\n",
       "<script>\n",
       "\n",
       "var astropy_sort_num = function(a, b) {\n",
       "    var a_num = parseFloat(a);\n",
       "    var b_num = parseFloat(b);\n",
       "\n",
       "    if (isNaN(a_num) && isNaN(b_num))\n",
       "        return ((a < b) ? -1 : ((a > b) ? 1 : 0));\n",
       "    else if (!isNaN(a_num) && !isNaN(b_num))\n",
       "        return ((a_num < b_num) ? -1 : ((a_num > b_num) ? 1 : 0));\n",
       "    else\n",
       "        return isNaN(a_num) ? -1 : 1;\n",
       "}\n",
       "\n",
       "require.config({paths: {\n",
       "    datatables: 'https://cdn.datatables.net/1.10.12/js/jquery.dataTables.min'\n",
       "}});\n",
       "require([\"datatables\"], function(){\n",
       "    console.log(\"$('#table140356766048400-171531').dataTable()\");\n",
       "    \n",
       "jQuery.extend( jQuery.fn.dataTableExt.oSort, {\n",
       "    \"optionalnum-asc\": astropy_sort_num,\n",
       "    \"optionalnum-desc\": function (a,b) { return -astropy_sort_num(a, b); }\n",
       "});\n",
       "\n",
       "    $('#table140356766048400-171531').dataTable({\n",
       "        order: [],\n",
       "        pageLength: 50,\n",
       "        lengthMenu: [[10, 25, 50, 100, 500, 1000, -1], [10, 25, 50, 100, 500, 1000, 'All']],\n",
       "        pagingType: \"full_numbers\",\n",
       "        columnDefs: [{targets: [0, 1, 2, 3, 4, 5, 6, 7, 8, 9, 10, 11], type: \"optionalnum\"}]\n",
       "    });\n",
       "});\n",
       "</script>\n"
      ],
      "text/plain": [
       "<IPython.core.display.HTML object>"
      ]
     },
     "execution_count": 87,
     "metadata": {},
     "output_type": "execute_result"
    }
   ],
   "source": [
    "monr2_table.show_in_notebook()"
   ]
  },
  {
   "cell_type": "code",
   "execution_count": 58,
   "id": "based-organization",
   "metadata": {},
   "outputs": [
    {
     "data": {
      "text/plain": [
       "[<matplotlib.lines.Line2D at 0x7fa75d858e10>]"
      ]
     },
     "execution_count": 58,
     "metadata": {},
     "output_type": "execute_result"
    },
    {
     "data": {
      "image/png": "[encoded data removed]",
      "text/plain": [
       "<Figure size 432x288 with 1 Axes>"
      ]
     },
     "metadata": {
      "needs_background": "light"
     },
     "output_type": "display_data"
    }
   ],
   "source": [
    "plt.plot(monr2_table['mass'], 'k.')\n",
    "plt.axhline(0.08)\n",
    "plt.plot(np.arange(len(monr2_table['mass']))[monr2_table['mass'] == 0], monr2_table['mass'][monr2_table['mass'] == 0], 'rx')\n"
   ]
  },
  {
   "cell_type": "code",
   "execution_count": 59,
   "id": "fundamental-amateur",
   "metadata": {},
   "outputs": [
    {
     "data": {
      "text/plain": [
       "<matplotlib.lines.Line2D at 0x7fa75e052650>"
      ]
     },
     "execution_count": 59,
     "metadata": {},
     "output_type": "execute_result"
    },
    {
     "data": {
      "image/png": "[encoded data removed]",
      "text/plain": [
       "<Figure size 432x288 with 1 Axes>"
      ]
     },
     "metadata": {
      "needs_background": "light"
     },
     "output_type": "display_data"
    }
   ],
   "source": [
    "plt.hist(monr2_table['mass'][monr2_table['mass']>0], bins=40)\n",
    "plt.axvline(0.08)"
   ]
  },
  {
   "cell_type": "code",
   "execution_count": 60,
   "id": "detailed-symposium",
   "metadata": {},
   "outputs": [
    {
     "data": {
      "text/plain": [
       "0.006"
      ]
     },
     "execution_count": 60,
     "metadata": {},
     "output_type": "execute_result"
    }
   ],
   "source": [
    "np.min(monr2_table['mass'][monr2_table['mass']>0])"
   ]
  },
  {
   "cell_type": "code",
   "execution_count": 106,
   "id": "standard-pioneer",
   "metadata": {},
   "outputs": [
    {
     "name": "stdout",
     "output_type": "stream",
     "text": [
      "Number of BDs (naively estimated): 63\n"
     ]
    }
   ],
   "source": [
    "mass = monr2_table['mass']\n",
    "\n",
    "number_of_bds = np.sum((mass > 0) & (mass <= 0.08))\n",
    "\n",
    "print(f\"Number of BDs (naively estimated): {number_of_bds}\")"
   ]
  },
  {
   "cell_type": "code",
   "execution_count": 103,
   "id": "palestinian-metropolitan",
   "metadata": {},
   "outputs": [
    {
     "data": {
      "text/plain": [
       "(11.654500198364257, 26.73549919128418)"
      ]
     },
     "execution_count": 103,
     "metadata": {},
     "output_type": "execute_result"
    },
    {
     "data": {
      "image/png": "[encoded data removed]",
      "text/plain": [
       "<Figure size 288x288 with 1 Axes>"
      ]
     },
     "metadata": {
      "needs_background": "light"
     },
     "output_type": "display_data"
    }
   ],
   "source": [
    "# Let's confirm that each and every row of the published table\n",
    "# matches each and every row of the custom table.\n",
    "\n",
    "fig, ax = plt.subplots(1, figsize=(4,4))\n",
    "ax.plot(monr2_table['F110W'], monr2_published_table['F110W'], 'k.')\n",
    "xlims = ax.get_xlim()\n",
    "ylims = ax.get_ylim()\n",
    "\n",
    "ax.plot([0,50], [0,50], ':')\n",
    "\n",
    "ax.set_xlim(xlims)\n",
    "ax.set_ylim(ylims)\n"
   ]
  },
  {
   "cell_type": "code",
   "execution_count": null,
   "id": "italic-alignment",
   "metadata": {},
   "outputs": [],
   "source": []
  },
  {
   "cell_type": "code",
   "execution_count": 88,
   "id": "greatest-nepal",
   "metadata": {
    "scrolled": false
   },
   "outputs": [
    {
     "name": "stdout",
     "output_type": "stream",
     "text": [
      "  0:  23.11  23.11  -0.00\n",
      "  1:  24.55  24.55  -0.00\n",
      "  2:  18.58  18.58  0.00\n",
      "  3:  17.34  17.34  0.00\n",
      "  4:  16.12  16.12  0.00\n",
      "  5:  20.17  20.17  0.00\n",
      "  6:  18.62  18.62  -0.00\n",
      "  7:  21.13  21.13  0.00\n",
      "  8:  20.88  20.88  0.00\n",
      "  9:  17.75  17.75  0.00\n",
      " 10:  15.51  15.51  0.00\n",
      " 11:  21.76  21.76  0.00\n",
      " 12:  18.61  18.62  -0.01\n",
      " 13:  15.26  15.26  0.00\n",
      " 14:  18.91  18.91  -0.00\n",
      " 15:  17.00  17.00  -0.00\n",
      " 16:  21.25  21.25  0.00\n",
      " 17:  16.32  16.32  -0.00\n",
      " 18:  22.56  22.56  -0.00\n",
      " 19:  18.43  18.43  -0.00\n",
      " 20:  22.75  22.75  -0.00\n",
      " 21:  18.46  18.46  0.00\n",
      " 22:  -1.00  nan  nan\n",
      " 23:  -1.00  nan  nan\n",
      " 24:  16.98  16.98  -0.00\n",
      " 25:  21.33  21.33  -0.00\n",
      " 26:  15.84  15.84  0.00\n",
      " 27:  16.95  16.95  0.00\n",
      " 28:  20.55  20.55  0.00\n",
      " 29:  21.62  21.62  -0.00\n",
      " 30:  24.16  24.16  0.00\n",
      " 31:  21.38  21.38  -0.00\n",
      " 32:  -1.00  nan  nan\n",
      " 33:  20.83  20.83  0.00\n",
      " 34:  20.79  20.79  -0.00\n",
      " 35:  20.79  20.79  -0.00\n",
      " 36:  21.37  21.37  -0.00\n",
      " 37:  -1.00  nan  nan\n",
      " 38:  16.73  16.73  0.00\n",
      " 39:  19.51  19.51  -0.00\n",
      " 40:  17.50  17.50  0.00\n",
      " 41:  20.15  20.17  -0.02\n",
      " 42:  19.23  19.23  -0.00\n",
      " 43:  24.04  24.04  0.00\n",
      " 44:  22.60  22.60  -0.00\n",
      " 45:  20.61  20.61  -0.00\n",
      " 46:  21.95  21.95  0.00\n",
      " 47:  21.01  21.01  -0.00\n",
      " 48:  20.92  20.92  0.00\n",
      " 49:  16.52  16.52  0.00\n",
      " 50:  20.48  20.49  -0.00\n",
      " 51:  21.59  21.60  -0.01\n",
      " 52:  17.19  17.19  -0.00\n",
      " 53:  19.96  19.96  0.00\n",
      " 54:  23.92  23.92  -0.00\n",
      " 55:  17.33  17.33  -0.00\n",
      " 56:  22.96  22.96  -0.00\n",
      " 57:  18.91  18.91  -0.00\n",
      " 58:  22.02  22.02  0.00\n",
      " 59:  -1.00  nan  nan\n",
      " 60:  12.34  12.34  -0.01\n",
      " 61:  -1.00  nan  nan\n",
      " 62:  23.54  23.57  -0.03\n",
      " 63:  25.11  25.11  -0.01\n",
      " 64:  21.89  21.89  -0.00\n",
      " 65:  21.59  21.59  -0.00\n",
      " 66:  22.44  22.44  0.00\n",
      " 67:  26.05  26.05  0.00\n",
      " 68:  23.67  23.67  0.00\n",
      " 69:  23.32  23.32  -0.00\n",
      " 70:  22.59  22.59  -0.00\n",
      " 71:  23.07  23.07  -0.00\n",
      " 72:  21.64  21.64  0.00\n",
      " 73:  20.21  20.21  0.00\n",
      " 74:  17.33  17.33  0.00\n",
      " 75:  20.58  20.58  0.00\n",
      " 76:  14.23  14.23  -0.00\n",
      " 77:  17.89  17.89  -0.00\n",
      " 78:  -1.00  nan  nan\n",
      " 79:  15.25  15.25  -0.00\n",
      " 80:  22.72  22.72  -0.00\n",
      " 81:  15.71  15.70  0.01\n",
      " 82:  19.27  19.27  -0.00\n",
      " 83:  22.34  22.39  -0.05\n",
      " 84:  17.08  17.08  0.00\n",
      " 85:  19.66  19.66  -0.00\n",
      " 86:  17.61  17.61  0.00\n",
      " 87:  23.27  23.27  0.00\n",
      " 88:  23.12  23.12  -0.00\n",
      " 89:  20.85  20.85  -0.00\n",
      " 90:  25.26  25.26  -0.00\n",
      " 91:  22.33  22.33  0.00\n",
      " 92:  -1.00  nan  nan\n",
      " 93:  24.30  24.30  0.00\n",
      " 94:  23.41  23.41  0.00\n",
      " 95:  19.54  19.54  -0.00\n",
      " 96:  23.28  23.28  0.00\n",
      " 97:  19.67  19.67  -0.00\n",
      " 98:  22.92  22.92  -0.00\n",
      " 99:  22.53  22.53  -0.00\n",
      "100:  22.43  22.43  0.00\n",
      "101:  23.87  23.87  -0.00\n",
      "102:  21.84  21.84  0.00\n",
      "103:  16.40  16.40  0.00\n",
      "104:  21.53  21.53  -0.00\n",
      "105:  23.00  23.01  -0.01\n",
      "106:  21.99  21.99  -0.00\n",
      "107:  23.12  23.11  0.01\n",
      "108:  21.68  21.68  0.00\n",
      "109:  22.68  22.68  0.00\n",
      "110:  15.61  15.61  0.00\n",
      "111:  22.61  22.61  -0.00\n",
      "112:  20.40  20.40  0.00\n",
      "113:  22.72  22.72  0.00\n",
      "114:  21.50  21.50  -0.00\n",
      "115:  22.63  22.63  -0.00\n",
      "116:  20.86  20.86  0.00\n",
      "117:  21.44  21.44  -0.00\n",
      "118:  22.76  22.76  -0.00\n",
      "119:  16.92  16.92  -0.00\n",
      "120:  17.77  17.77  -0.00\n",
      "121:  22.07  22.07  -0.00\n",
      "122:  17.74  17.74  -0.00\n",
      "123:  19.28  19.28  0.00\n",
      "124:  18.74  18.74  0.00\n",
      "125:  22.41  22.41  -0.00\n",
      "126:  21.87  21.87  -0.00\n",
      "127:  23.00  23.00  0.00\n",
      "128:  24.44  24.44  -0.00\n",
      "129:  24.98  24.99  -0.00\n",
      "130:  24.28  24.28  0.00\n",
      "131:  24.01  24.01  0.00\n",
      "132:  18.30  18.30  -0.00\n",
      "133:  21.17  21.17  0.00\n",
      "134:  16.57  16.57  -0.00\n",
      "135:  18.28  18.28  0.00\n",
      "136:  22.06  22.06  -0.00\n",
      "137:  20.22  20.22  0.00\n",
      "138:  17.95  17.95  -0.00\n",
      "139:  22.41  22.41  0.00\n",
      "140:  22.16  22.16  -0.00\n",
      "141:  17.58  17.58  0.00\n",
      "142:  19.83  19.83  -0.00\n",
      "143:  22.91  22.91  0.00\n",
      "144:  22.98  22.98  -0.00\n",
      "145:  22.73  22.73  0.00\n",
      "146:  18.23  18.23  0.00\n",
      "147:  16.28  16.28  0.00\n",
      "148:  -1.00  nan  nan\n",
      "149:  -1.00  nan  nan\n",
      "150:  20.43  20.43  -0.00\n",
      "151:  22.04  22.04  0.00\n",
      "152:  24.27  24.27  -0.00\n",
      "153:  18.86  18.86  0.00\n",
      "154:  16.25  16.25  -0.00\n",
      "155:  -1.00  nan  nan\n",
      "156:  24.95  24.96  -0.00\n",
      "157:  16.57  16.57  -0.00\n",
      "158:  15.91  15.91  0.00\n",
      "159:  18.33  18.33  0.00\n",
      "160:  17.17  17.17  -0.00\n",
      "161:  18.39  18.34  0.05\n",
      "162:  21.04  21.04  0.00\n",
      "163:  15.80  15.81  -0.01\n",
      "164:  16.44  16.44  -0.00\n",
      "165:  17.79  17.79  0.00\n",
      "166:  23.09  23.09  -0.00\n",
      "167:  25.87  25.87  0.00\n",
      "168:  15.81  15.82  -0.00\n",
      "169:  21.42  21.42  -0.00\n",
      "170:  17.47  17.47  0.00\n",
      "171:  17.81  17.81  0.00\n",
      "172:  21.90  21.90  0.00\n",
      "173:  18.41  18.42  -0.01\n",
      "174:  -1.00  nan  nan\n",
      "175:  21.93  21.93  -0.01\n",
      "176:  23.10  23.10  -0.00\n",
      "177:  19.78  19.78  0.00\n",
      "178:  22.27  22.27  -0.00\n",
      "179:  23.79  23.79  -0.00\n",
      "180:  17.77  17.77  -0.00\n"
     ]
    }
   ],
   "source": [
    "for i, (x, y) in enumerate(zip(monr2_table['F110W'], monr2_published_table['F110W'])):\n",
    "    print(f\"{i:3d}:  {x:2.2f}  {y:2.2f}  {x-y:2.2f}\")"
   ]
  },
  {
   "cell_type": "code",
   "execution_count": 83,
   "id": "through-stability",
   "metadata": {},
   "outputs": [
    {
     "data": {
      "text/html": [
       "&lt;Column name=&apos;eF110W&apos; dtype=&apos;float64&apos; length=1&gt;\n",
       "<table>\n",
       "<tr><td>46.375</td></tr>\n",
       "</table>"
      ],
      "text/plain": [
       "<Column name='eF110W' dtype='float64' length=1>\n",
       "46.375"
      ]
     },
     "execution_count": 83,
     "metadata": {},
     "output_type": "execute_result"
    }
   ],
   "source": [
    "monr2_table['eF110W'][monr2_table['eF110W']>10]"
   ]
  },
  {
   "cell_type": "code",
   "execution_count": 107,
   "id": "operational-metadata",
   "metadata": {},
   "outputs": [
    {
     "data": {
      "text/plain": [
       "[<matplotlib.lines.Line2D at 0x7fa7632368d0>]"
      ]
     },
     "execution_count": 107,
     "metadata": {},
     "output_type": "execute_result"
    },
    {
     "data": {
      "image/png": "[encoded data removed]",
      "text/plain": [
       "<Figure size 432x432 with 1 Axes>"
      ]
     },
     "metadata": {
      "needs_background": "light"
     },
     "output_type": "display_data"
    }
   ],
   "source": [
    "fig, ax = plt.subplots(1, figsize=(6,6))\n",
    "\n",
    "ax.plot(\n",
    "    monr2_published_table[\"RAJ2000\"], \n",
    "    monr2_published_table[\"DEJ2000\"], \n",
    "    'k.')\n",
    "\n",
    "bds = ((mass > 0) & (mass <= 0.08))\n",
    "\n",
    "ax.plot(\n",
    "    monr2_published_table[\"RAJ2000\"][bds], \n",
    "    monr2_published_table[\"DEJ2000\"][bds], \n",
    "    'mo')\n"
   ]
  },
  {
   "cell_type": "markdown",
   "id": "designed-inflation",
   "metadata": {},
   "source": [
    "# A quick note on the above map\n",
    "\n",
    "The objects in the above plot are scattered across an EXTREMELY small region: less than 0.02 degrees across (i.e., spanning the central ~2% of our field by width). So... this may not be that great."
   ]
  },
  {
   "cell_type": "code",
   "execution_count": 118,
   "id": "bigger-logistics",
   "metadata": {},
   "outputs": [
    {
     "data": {
      "text/plain": [
       "Text(0, 0.5, 'm_F110W')"
      ]
     },
     "execution_count": 118,
     "metadata": {},
     "output_type": "execute_result"
    },
    {
     "data": {
      "image/png": "[encoded data removed]",
      "text/plain": [
       "<Figure size 576x576 with 1 Axes>"
      ]
     },
     "metadata": {
      "needs_background": "light"
     },
     "output_type": "display_data"
    }
   ],
   "source": [
    "fig, ax = plt.subplots(1, figsize=(8,8))\n",
    "\n",
    "ax.errorbar(\n",
    "    monr2_published_table[\"F160W\"], \n",
    "    monr2_published_table[\"F110W\"], \n",
    "    xerr=monr2_published_table[\"e_F160W\"],\n",
    "    yerr=monr2_published_table[\"e_F110W\"],\n",
    "    fmt='k.')\n",
    "\n",
    "# bds = ((mass > 0) & (mass <= 0.08))\n",
    "\n",
    "ax.plot(\n",
    "    monr2_published_table[\"F160W\"][bds], \n",
    "    monr2_published_table[\"F110W\"][bds], \n",
    "    'mo')\n",
    "\n",
    "ax.invert_xaxis()\n",
    "ax.invert_yaxis()\n",
    "\n",
    "ax.set_xlabel(\"m_F160W\")\n",
    "ax.set_ylabel(\"m_F110W\")\n"
   ]
  },
  {
   "cell_type": "code",
   "execution_count": 134,
   "id": "romance-berry",
   "metadata": {},
   "outputs": [
    {
     "data": {
      "text/plain": [
       "Text(0.5, 1.0, 'Reproduction of Figure 2, Andersen+06')"
      ]
     },
     "execution_count": 134,
     "metadata": {},
     "output_type": "execute_result"
    },
    {
     "data": {
      "image/png": "[encoded data removed]",
      "text/plain": [
       "<Figure size 288x576 with 1 Axes>"
      ]
     },
     "metadata": {
      "needs_background": "light"
     },
     "output_type": "display_data"
    }
   ],
   "source": [
    "fig, ax = plt.subplots(1, figsize=(4,8))\n",
    "\n",
    "tab = monr2_published_table\n",
    "\n",
    "ax.errorbar(\n",
    "    tab[\"F165M\"] - tab[\"F160W\"], \n",
    "    tab[\"F110W\"] - tab[\"F160W\"], \n",
    "    xerr=(tab[\"e_F165M\"] + tab[\"e_F160W\"]**2)**0.5,\n",
    "    yerr=(tab[\"e_F110W\"] + tab[\"e_F160W\"]**2)**0.5,\n",
    "    fmt='k.',\n",
    "    elinewidth=0.15\n",
    "    )\n",
    "\n",
    "# bds = ((mass > 0) & (mass <= 0.08))\n",
    "\n",
    "ax.plot(\n",
    "    (tab[\"F165M\"] - tab[\"F160W\"])[bds], \n",
    "    (tab[\"F110W\"] - tab[\"F160W\"])[bds], \n",
    "    'mo')\n",
    "\n",
    "ax.set_xlabel(\"m_F165W - m_F160W\")\n",
    "ax.set_ylabel(\"m_F110W - m_F160W\")\n",
    "\n",
    "ax.set_xlim(-0.8, 0)\n",
    "ax.set_ylim(0, 6)\n",
    "ax.set_title(\"Reproduction of Figure 2, Andersen+06\")\n"
   ]
  },
  {
   "cell_type": "code",
   "execution_count": 135,
   "id": "perceived-worth",
   "metadata": {},
   "outputs": [
    {
     "data": {
      "text/plain": [
       "Text(0.5, 1.0, '~Reproduction of Figure 4, Andersen+06')"
      ]
     },
     "execution_count": 135,
     "metadata": {},
     "output_type": "execute_result"
    },
    {
     "data": {
      "image/png": "[encoded data removed]",
      "text/plain": [
       "<Figure size 288x576 with 1 Axes>"
      ]
     },
     "metadata": {
      "needs_background": "light"
     },
     "output_type": "display_data"
    }
   ],
   "source": [
    "fig, ax = plt.subplots(1, figsize=(4,8))\n",
    "\n",
    "tab = monr2_published_table\n",
    "\n",
    "ax.errorbar(\n",
    "    tab[\"F110W\"] - tab[\"F160W\"], \n",
    "    tab[\"F110W\"],\n",
    "    xerr=(tab[\"e_F110W\"] + tab[\"e_F160W\"]**2)**0.5,\n",
    "    yerr=tab[\"e_F110W\"],\n",
    "    fmt='k.',\n",
    "    elinewidth=0.15\n",
    "    )\n",
    "\n",
    "# bds = ((mass > 0) & (mass <= 0.08))\n",
    "\n",
    "ax.plot(\n",
    "    (tab[\"F110W\"] - tab[\"F160W\"])[bds], \n",
    "    tab[\"F110W\"][bds],\n",
    "    'mo')\n",
    "\n",
    "# ax.invert_xaxis()\n",
    "ax.invert_yaxis()\n",
    "\n",
    "ax.set_ylabel(\"m_F110W\")\n",
    "ax.set_xlabel(\"m_F110W - m_F160W\")\n",
    "\n",
    "ax.set_xlim(0, 7)\n",
    "ax.set_ylim(26, 10)\n",
    "ax.set_title(\"~Reproduction of Figure 4, Andersen+06\")\n"
   ]
  },
  {
   "cell_type": "markdown",
   "id": "apparent-bachelor",
   "metadata": {},
   "source": [
    "# Some thoughts on what to do next -\n",
    "\n",
    "I'll want to see which of the \"purple\" sources matches to sources in our own data with good photometry. Are they too faint to be useful?\n",
    "\n",
    "It seems that (in Figure 4) there are *really* not many objects in this CMD with J magnitudes above 17-18.\n",
    "BUT! Tom, we should remember: we have H and K mags, and these objects are likely (on average) to be notably brighter in those bandpasses. So, don't lose hope.\n",
    "\n",
    "I'll want to consider dealing with photometric errors in the Andersen data. I could consider a couple of things:\n",
    "(a) restrict my selection to only objects with errors below 0.06 mag, as Andersen does in Figure 2;\n",
    "(b) make a cut at the 90% completeness limit, like Andersen notes in Figure 4 - "
   ]
  }
 ],
 "metadata": {
  "kernelspec": {
   "display_name": "Python 3",
   "language": "python",
   "name": "python3"
  },
  "language_info": {
   "codemirror_mode": {
    "name": "ipython",
    "version": 3
   },
   "file_extension": ".py",
   "mimetype": "text/x-python",
   "name": "python",
   "nbconvert_exporter": "python",
   "pygments_lexer": "ipython3",
   "version": "3.7.7"
  }
 },
 "nbformat": 4,
 "nbformat_minor": 5
}
