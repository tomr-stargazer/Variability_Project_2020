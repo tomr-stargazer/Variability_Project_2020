{
 "cells": [
  {
   "cell_type": "markdown",
   "id": "960524d3",
   "metadata": {},
   "source": [
    "# Idea\n",
    "\n",
    "I have just discovered a clearly highly variable source whose light curve was not `approved` by my analysis due to high error bit flags (cross talk contamination, 528000+). But its light curve shows a real variable. \n",
    "\n",
    "How many of the light curves which I rejected at that step are also salvageable?"
   ]
  },
  {
   "cell_type": "markdown",
   "id": "e6511276",
   "metadata": {},
   "source": [
    "# Executive Decision\n",
    "\n",
    "Tom. Don't do this."
   ]
  },
  {
   "cell_type": "code",
   "execution_count": null,
   "id": "47fce9b9",
   "metadata": {},
   "outputs": [],
   "source": []
  }
 ],
 "metadata": {
  "kernelspec": {
   "display_name": "Python 3 (ipykernel)",
   "language": "python",
   "name": "python3"
  },
  "language_info": {
   "codemirror_mode": {
    "name": "ipython",
    "version": 3
   },
   "file_extension": ".py",
   "mimetype": "text/x-python",
   "name": "python",
   "nbconvert_exporter": "python",
   "pygments_lexer": "ipython3",
   "version": "3.7.7"
  }
 },
 "nbformat": 4,
 "nbformat_minor": 5
}
