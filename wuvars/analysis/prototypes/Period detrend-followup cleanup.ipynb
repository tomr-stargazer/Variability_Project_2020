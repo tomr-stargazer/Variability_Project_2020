{
 "cells": [
  {
   "cell_type": "markdown",
   "id": "2c9d3e49",
   "metadata": {},
   "source": [
    "# Motivation\n",
    "\n",
    "There might be a few \"stragglers\" that I somehow didn't classify properly. Let's take a look at them.\n"
   ]
  },
  {
   "cell_type": "code",
   "execution_count": 3,
   "id": "3a82787a",
   "metadata": {},
   "outputs": [],
   "source": [
    "import os\n",
    "import numpy as np\n",
    "import matplotlib.pyplot as plt\n",
    "import pandas as pd\n",
    "from wuvars.data.photometry import load_wserv_v2, group_wserv_v2"
   ]
  },
  {
   "cell_type": "code",
   "execution_count": 4,
   "id": "4c07a39f",
   "metadata": {},
   "outputs": [],
   "source": [
    "\n",
    "\n",
    "spreadsheet_dir = \"/Users/tsrice/Documents/Variability_Project_2020/wuvars/analysis/prototypes\"\n",
    "period_sheet_ic = pd.read_excel(\n",
    "    os.path.join(spreadsheet_dir, \"IC_source_properties_periods_inspected.xlsx\")\n",
    ")\n",
    "period_sheet_onc = pd.read_excel(\n",
    "    os.path.join(spreadsheet_dir, \"ONC_source_properties_periods_inspected.xlsx\")\n",
    ")\n",
    "period_sheet_ngc = pd.read_excel(\n",
    "    os.path.join(spreadsheet_dir, \"NGC_source_properties_periods_inspected.xlsx\")\n",
    ")\n"
   ]
  },
  {
   "cell_type": "code",
   "execution_count": null,
   "id": "08123583",
   "metadata": {},
   "outputs": [],
   "source": []
  },
  {
   "cell_type": "code",
   "execution_count": 5,
   "id": "b670a237",
   "metadata": {},
   "outputs": [
    {
     "name": "stdout",
     "output_type": "stream",
     "text": [
      "ONC:  (336 objects inspected)\n",
      "Yf: 0\n",
      "?f: 0\n",
      "\n",
      "NGC 1333: (103 objects inspected)\n",
      "Yf: 0\n",
      "?f: 0\n",
      "\n",
      "IC 348: (225 objects inspected)\n",
      "Yf: 0\n",
      "?f: 0\n",
      "\n",
      "Totals:\n",
      "Yf: 0 (0.0%)\n",
      "?f: 0 (0.0%)\n",
      "\n",
      "of 664 low-mass objects inspected\n"
     ]
    }
   ],
   "source": [
    "flags = ['Yf', '?f',]\n",
    "\n",
    "print (f\"ONC:  ({len(period_sheet_onc)} objects inspected)\")\n",
    "for flag in flags:\n",
    "    print(f\"{flag:2s}:\", np.sum(period_sheet_onc[\"Periodic?\"] == flag))\n",
    "    \n",
    "print (f\"\\nNGC 1333: ({len(period_sheet_ngc)} objects inspected)\")\n",
    "for flag in flags:\n",
    "    print(f\"{flag:2s}:\", np.sum(period_sheet_ngc[\"Periodic?\"] == flag))\n",
    "    \n",
    "print (f\"\\nIC 348: ({len(period_sheet_ic)} objects inspected)\")\n",
    "for flag in flags:\n",
    "    print(f\"{flag:2s}:\", np.sum(period_sheet_ic[\"Periodic?\"] == flag))\n",
    "    \n",
    "print(\"\\nTotals:\")\n",
    "for flag in flags:\n",
    "    flag_sum = np.sum(period_sheet_ic[\"Periodic?\"] == flag) + np.sum(period_sheet_onc[\"Periodic?\"] == flag) + np.sum(period_sheet_ngc[\"Periodic?\"] == flag)\n",
    "    flag_fraction = flag_sum / 664\n",
    "    flag_percent = flag_fraction*100\n",
    "    print(f\"{flag:2s}: {flag_sum} ({flag_percent:.1f}%)\")\n",
    "    \n",
    "print(f\"\\nof {len(period_sheet_ic)+len(period_sheet_ngc)+len(period_sheet_onc)} low-mass objects inspected\")\n"
   ]
  },
  {
   "cell_type": "code",
   "execution_count": 6,
   "id": "5d9e0ad1",
   "metadata": {},
   "outputs": [
    {
     "name": "stdout",
     "output_type": "stream",
     "text": [
      "ONC:  (336 objects inspected)\n",
      "Y : 35\n",
      "Yw: 7\n",
      "N : 38\n",
      "YfY: 26\n",
      "?fY: 10\n",
      "YfYw: 0\n",
      "?fYw: 0\n",
      "YfN: 0\n",
      "?fN: 3\n",
      "\n",
      "NGC 1333: (103 objects inspected)\n",
      "Y : 13\n",
      "Yw: 1\n",
      "N : 20\n",
      "YfY: 14\n",
      "?fY: 0\n",
      "YfYw: 1\n",
      "?fYw: 0\n",
      "YfN: 0\n",
      "?fN: 0\n",
      "\n",
      "IC 348: (225 objects inspected)\n",
      "Y : 14\n",
      "Yw: 3\n",
      "N : 23\n",
      "YfY: 8\n",
      "?fY: 0\n",
      "YfYw: 0\n",
      "?fYw: 0\n",
      "YfN: 1\n",
      "?fN: 4\n",
      "\n",
      "Totals:\n",
      "Y : 62 (9.3%)\n",
      "Yw: 11 (1.7%)\n",
      "N : 81 (12.2%)\n",
      "YfY: 48 (7.2%)\n",
      "?fY: 10 (1.5%)\n",
      "YfYw: 1 (0.2%)\n",
      "?fYw: 0 (0.0%)\n",
      "YfN: 1 (0.2%)\n",
      "?fN: 7 (1.1%)\n",
      "\n",
      "of 664 low-mass objects inspected\n"
     ]
    }
   ],
   "source": [
    "flags = ['Y', 'Yw', 'N', 'YfY', '?fY', 'YfYw', '?fYw', \"YfN\", \"?fN\"]\n",
    "\n",
    "print (f\"ONC:  ({len(period_sheet_onc)} objects inspected)\")\n",
    "for flag in flags:\n",
    "    print(f\"{flag:2s}:\", np.sum(period_sheet_onc[\"Periodic?\"] == flag))\n",
    "    \n",
    "print (f\"\\nNGC 1333: ({len(period_sheet_ngc)} objects inspected)\")\n",
    "for flag in flags:\n",
    "    print(f\"{flag:2s}:\", np.sum(period_sheet_ngc[\"Periodic?\"] == flag))\n",
    "    \n",
    "print (f\"\\nIC 348: ({len(period_sheet_ic)} objects inspected)\")\n",
    "for flag in flags:\n",
    "    print(f\"{flag:2s}:\", np.sum(period_sheet_ic[\"Periodic?\"] == flag))\n",
    "    \n",
    "print(\"\\nTotals:\")\n",
    "for flag in flags:\n",
    "    flag_sum = np.sum(period_sheet_ic[\"Periodic?\"] == flag) + np.sum(period_sheet_onc[\"Periodic?\"] == flag) + np.sum(period_sheet_ngc[\"Periodic?\"] == flag)\n",
    "    flag_fraction = flag_sum / 664\n",
    "    flag_percent = flag_fraction*100\n",
    "    print(f\"{flag:2s}: {flag_sum} ({flag_percent:.1f}%)\")\n",
    "    \n",
    "print(f\"\\nof {len(period_sheet_ic)+len(period_sheet_ngc)+len(period_sheet_onc)} low-mass objects inspected\")\n"
   ]
  },
  {
   "cell_type": "code",
   "execution_count": 1,
   "id": "01cf6af1",
   "metadata": {},
   "outputs": [
    {
     "data": {
      "text/plain": [
       "132"
      ]
     },
     "execution_count": 1,
     "metadata": {},
     "output_type": "execute_result"
    }
   ],
   "source": [
    "62 + 11 + 48 + 10 + 1 "
   ]
  },
  {
   "cell_type": "code",
   "execution_count": 31,
   "id": "6897cb24",
   "metadata": {},
   "outputs": [
    {
     "name": "stdout",
     "output_type": "stream",
     "text": [
      "ONC:  (336 objects inspected)\n",
      "78 (23.2%)\n",
      "\n",
      "NGC 1333: (103 objects inspected)\n",
      "29 (28.2%)\n",
      "\n",
      "IC 348: (225 objects inspected)\n",
      "25 (11.1%)\n"
     ]
    }
   ],
   "source": [
    "flags = ['Y', 'Yw', 'N', 'YfY', '?fY', 'YfYw', '?fYw', \"YfN\", \"?fN\"]\n",
    "\n",
    "print (f\"ONC:  ({len(period_sheet_onc)} objects inspected)\")\n",
    "# row in df.itertuples():\n",
    "periodics = 0\n",
    "for index, row in period_sheet_onc.iterrows():\n",
    "    try:\n",
    "        if row['Periodic?'][-1] in ('Y', 'w'):\n",
    "            periodics += 1\n",
    "    except TypeError:\n",
    "        pass\n",
    "print(periodics, f\"({periodics/len(period_sheet_onc)*100:.1f}%)\")    \n",
    "\n",
    "periodics = 0\n",
    "print (f\"\\nNGC 1333: ({len(period_sheet_ngc)} objects inspected)\")\n",
    "for index, row in period_sheet_ngc.iterrows():\n",
    "    try:\n",
    "        if row['Periodic?'][-1] in ('Y', 'w'):\n",
    "            periodics += 1\n",
    "    except TypeError:\n",
    "        pass\n",
    "print(periodics, f\"({periodics/len(period_sheet_ngc)*100:.1f}%)\")    \n",
    "\n",
    "periodics = 0\n",
    "print (f\"\\nIC 348: ({len(period_sheet_ic)} objects inspected)\")\n",
    "for index, row in period_sheet_ic.iterrows():\n",
    "    try:\n",
    "        if row['Periodic?'][-1] in ('Y', 'w'):\n",
    "            periodics += 1\n",
    "    except TypeError:\n",
    "        pass\n",
    "print(periodics, f\"({periodics/len(period_sheet_ic)*100:.1f}%)\")    \n",
    "\n",
    "# for flag in flags:\n",
    "#     print(f\"{flag:2s}:\", np.sum(period_sheet_onc[\"Periodic?\"] == 'Y'))\n",
    "    \n",
    "# print (f\"\\nNGC 1333: ({len(period_sheet_ngc)} objects inspected)\")\n",
    "# for flag in flags:\n",
    "#     print(f\"{flag:2s}:\", np.sum(period_sheet_ngc[\"Periodic?\"] == flag))\n",
    "    \n",
    "# print (f\"\\nIC 348: ({len(period_sheet_ic)} objects inspected)\")\n",
    "# for flag in flags:\n",
    "#     print(f\"{flag:2s}:\", np.sum(period_sheet_ic[\"Periodic?\"] == flag))\n",
    "    \n",
    "# print(\"\\nTotals:\")\n",
    "# for flag in flags:\n",
    "#     flag_sum = np.sum(period_sheet_ic[\"Periodic?\"] == flag) + np.sum(period_sheet_onc[\"Periodic?\"] == flag) + np.sum(period_sheet_ngc[\"Periodic?\"] == flag)\n",
    "#     flag_fraction = flag_sum / 664\n",
    "#     flag_percent = flag_fraction*100\n",
    "#     print(f\"{flag:2s}: {flag_sum} ({flag_percent:.1f}%)\")\n",
    "    \n",
    "# print(f\"\\nof {len(period_sheet_ic)+len(period_sheet_ngc)+len(period_sheet_onc)} low-mass objects inspected\")\n"
   ]
  },
  {
   "cell_type": "code",
   "execution_count": null,
   "id": "6851f9c7",
   "metadata": {},
   "outputs": [],
   "source": []
  }
 ],
 "metadata": {
  "kernelspec": {
   "display_name": "Python 3 (ipykernel)",
   "language": "python",
   "name": "python3"
  },
  "language_info": {
   "codemirror_mode": {
    "name": "ipython",
    "version": 3
   },
   "file_extension": ".py",
   "mimetype": "text/x-python",
   "name": "python",
   "nbconvert_exporter": "python",
   "pygments_lexer": "ipython3",
   "version": "3.7.7"
  }
 },
 "nbformat": 4,
 "nbformat_minor": 5
}
