{
 "cells": [
  {
   "cell_type": "code",
   "execution_count": 1,
   "metadata": {},
   "outputs": [
    {
     "data": {
      "text/plain": [
       "'/Users/tsrice/Documents/Variability_Project_2020/wuvars/analysis/prototypes'"
      ]
     },
     "execution_count": 1,
     "metadata": {},
     "output_type": "execute_result"
    }
   ],
   "source": [
    "pwd"
   ]
  },
  {
   "cell_type": "code",
   "execution_count": 2,
   "metadata": {},
   "outputs": [
    {
     "name": "stdout",
     "output_type": "stream",
     "text": [
      "INPUT / OUTPUT for WSERV11: /Users/tsrice/Documents/Variability_Project_2020/wuvars/Data/Raw_Downloads/WSERV11.fits.gz /Users/tsrice/Documents/Variability_Project_2020/wuvars/Data/analysis_artifacts/wserv11/WSERV11_uncleaned_summary_spreadsheet.h5\n",
      "Starting at: 2020-10-15 22:39:46.035859\n"
     ]
    },
    {
     "name": "stderr",
     "output_type": "stream",
     "text": [
      "/Users/tsrice/Documents/Variability_Project_2020/wuvars/analysis/variability_selection.py:223: RuntimeWarning: Mean of empty slice\n",
      "  d.append(fn(x[column]))\n",
      "/Users/tsrice/opt/anaconda3/lib/python3.7/site-packages/numpy/lib/nanfunctions.py:1116: RuntimeWarning: All-NaN slice encountered\n",
      "  overwrite_input=overwrite_input)\n",
      "/Users/tsrice/Documents/Variability_Project_2020/wuvars/analysis/variability_selection.py:223: RuntimeWarning: All-NaN axis encountered\n",
      "  d.append(fn(x[column]))\n",
      "/Users/tsrice/opt/anaconda3/lib/python3.7/site-packages/numpy/lib/nanfunctions.py:1667: RuntimeWarning: Degrees of freedom <= 0 for slice.\n",
      "  keepdims=keepdims)\n",
      "/Users/tsrice/Documents/Variability_Project_2020/wuvars/analysis/variability_selection.py:184: RuntimeWarning: All-NaN axis encountered\n",
      "  lambda x: np.nanmax(x) - np.nanmin(x),\n",
      "/Users/tsrice/opt/anaconda3/lib/python3.7/site-packages/numpy/lib/nanfunctions.py:1372: RuntimeWarning: All-NaN slice encountered\n",
      "  overwrite_input=overwrite_input, interpolation=interpolation\n",
      "/Users/tsrice/Documents/Variability_Project_2020/wuvars/analysis/variability_selection.py:140: RuntimeWarning: Mean of empty slice\n",
      "  return 1 / nu * np.nansum((mag - np.nanmean(mag)) ** 2 / err ** 2)\n"
     ]
    },
    {
     "name": "stdout",
     "output_type": "stream",
     "text": [
      "WSERV11 elapsed time:  0:23:26.325606\n",
      "INPUT / OUTPUT for WSERV8: /Users/tsrice/Documents/Variability_Project_2020/wuvars/Data/Raw_Downloads/WSERV8.fits.gz /Users/tsrice/Documents/Variability_Project_2020/wuvars/Data/analysis_artifacts/wserv8/WSERV8_uncleaned_summary_spreadsheet.h5\n",
      "Starting at: 2020-10-15 23:03:12.362453\n"
     ]
    },
    {
     "name": "stderr",
     "output_type": "stream",
     "text": [
      "/Users/tsrice/Documents/Variability_Project_2020/wuvars/analysis/variability_selection.py:223: RuntimeWarning: Mean of empty slice\n",
      "  d.append(fn(x[column]))\n",
      "/Users/tsrice/opt/anaconda3/lib/python3.7/site-packages/numpy/lib/nanfunctions.py:1116: RuntimeWarning: All-NaN slice encountered\n",
      "  overwrite_input=overwrite_input)\n",
      "/Users/tsrice/Documents/Variability_Project_2020/wuvars/analysis/variability_selection.py:223: RuntimeWarning: All-NaN axis encountered\n",
      "  d.append(fn(x[column]))\n",
      "/Users/tsrice/opt/anaconda3/lib/python3.7/site-packages/numpy/lib/nanfunctions.py:1667: RuntimeWarning: Degrees of freedom <= 0 for slice.\n",
      "  keepdims=keepdims)\n",
      "/Users/tsrice/Documents/Variability_Project_2020/wuvars/analysis/variability_selection.py:184: RuntimeWarning: All-NaN axis encountered\n",
      "  lambda x: np.nanmax(x) - np.nanmin(x),\n",
      "/Users/tsrice/opt/anaconda3/lib/python3.7/site-packages/numpy/lib/nanfunctions.py:1372: RuntimeWarning: All-NaN slice encountered\n",
      "  overwrite_input=overwrite_input, interpolation=interpolation\n",
      "/Users/tsrice/Documents/Variability_Project_2020/wuvars/analysis/variability_selection.py:140: RuntimeWarning: Mean of empty slice\n",
      "  return 1 / nu * np.nansum((mag - np.nanmean(mag)) ** 2 / err ** 2)\n"
     ]
    },
    {
     "name": "stdout",
     "output_type": "stream",
     "text": [
      "WSERV8 elapsed time:  0:16:35.854680\n",
      "INPUT / OUTPUT for WSERV7: /Users/tsrice/Documents/Variability_Project_2020/wuvars/Data/Raw_Downloads/WSERV7.fits.gz /Users/tsrice/Documents/Variability_Project_2020/wuvars/Data/analysis_artifacts/wserv7/WSERV7_uncleaned_summary_spreadsheet.h5\n",
      "Starting at: 2020-10-15 23:19:48.218035\n",
      "WSERV7 elapsed time:  0:13:14.781383\n",
      "INPUT / OUTPUT for WSERV5: /Users/tsrice/Documents/Variability_Project_2020/wuvars/Data/Raw_Downloads/WSERV5.fits.gz /Users/tsrice/Documents/Variability_Project_2020/wuvars/Data/analysis_artifacts/wserv5/WSERV5_uncleaned_summary_spreadsheet.h5\n",
      "Starting at: 2020-10-15 23:33:03.000358\n",
      "WSERV5 elapsed time:  0:23:07.996491\n",
      "INPUT / OUTPUT for WSERV1: /Users/tsrice/Documents/Variability_Project_2020/wuvars/Data/Raw_Downloads/WSERV1.fits.gz /Users/tsrice/Documents/Variability_Project_2020/wuvars/Data/analysis_artifacts/wserv1/WSERV1_uncleaned_summary_spreadsheet.h5\n",
      "Starting at: 2020-10-15 23:56:10.997913\n",
      "WSERV1 elapsed time:  2:14:36.406485\n"
     ]
    }
   ],
   "source": [
    "from wuvars.analysis.create_summary_spreadsheets import compute_spreadsheets_for_unclean_datasets\n",
    "compute_spreadsheets_for_unclean_datasets()"
   ]
  },
  {
   "cell_type": "code",
   "execution_count": null,
   "metadata": {},
   "outputs": [],
   "source": []
  },
  {
   "cell_type": "code",
   "execution_count": null,
   "metadata": {},
   "outputs": [],
   "source": [
    "%load_ext autoreload\n",
    "%autoreload 2"
   ]
  }
 ],
 "metadata": {
  "kernelspec": {
   "display_name": "Python 3",
   "language": "python",
   "name": "python3"
  },
  "language_info": {
   "codemirror_mode": {
    "name": "ipython",
    "version": 3
   },
   "file_extension": ".py",
   "mimetype": "text/x-python",
   "name": "python",
   "nbconvert_exporter": "python",
   "pygments_lexer": "ipython3",
   "version": "3.7.7"
  }
 },
 "nbformat": 4,
 "nbformat_minor": 4
}
