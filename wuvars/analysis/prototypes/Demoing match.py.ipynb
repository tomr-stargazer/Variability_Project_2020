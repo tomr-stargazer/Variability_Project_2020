{
 "cells": [
  {
   "cell_type": "code",
   "execution_count": 1,
   "id": "painful-melissa",
   "metadata": {},
   "outputs": [],
   "source": [
    "import os\n",
    "from collections import OrderedDict, namedtuple\n",
    "\n",
    "import numpy as np\n",
    "import pandas as pd\n",
    "\n",
    "import astropy.table\n",
    "from astropy import units as u\n",
    "from astropy.coordinates import SkyCoord"
   ]
  },
  {
   "cell_type": "code",
   "execution_count": 2,
   "id": "electrical-estonia",
   "metadata": {},
   "outputs": [],
   "source": [
    "import wuvars.analysis.match\n",
    "from importlib import reload\n",
    "reload(wuvars)\n",
    "reload(wuvars.analysis.match)\n",
    "from wuvars.analysis.match import TableMatcher, Table_and_coord\n"
   ]
  },
  {
   "cell_type": "code",
   "execution_count": 3,
   "id": "alone-orchestra",
   "metadata": {},
   "outputs": [],
   "source": [
    "# This is all setup.\n",
    "\n",
    "# we'll prototype what goes here in a jupyter notebook.\n",
    "# I'm mostly thinking it'll be NGC 1333 as an example.\n",
    "\n",
    "aux_path = \"/Users/tsrice/Documents/Variability_Project_2020/wuvars/data/auxiliary_catalogs/NGC1333\"\n",
    "\n",
    "filepath_table4 = os.path.join(aux_path, \"Scholz_2012ApJ_744_6S_table4.fit\")\n",
    "table4 = astropy.table.Table.read(filepath_table4)\n",
    "coords_table4 = SkyCoord(ra=table4[\"RAJ2000\"], dec=table4[\"DEJ2000\"])\n",
    "table4_tc = Table_and_coord(table4, coords_table4)\n",
    "\n",
    "filepath_table2 = os.path.join(aux_path, \"Scholz_2012ApJ_744_6S_table2.fit\")\n",
    "table2 = astropy.table.Table.read(filepath_table2)\n",
    "coords_table2 = SkyCoord(ra=table2[\"RAJ2000\"], dec=table2[\"DEJ2000\"])\n",
    "table2_tc = Table_and_coord(table2, coords_table2)\n",
    "\n",
    "# print(table2_tc.coords)\n",
    "# print(table4_tc.coords)\n",
    "\n",
    "filepath_table1 = os.path.join(aux_path, \"Scholz_2012ApJ_756_24S_table1.fit\")\n",
    "table1 = astropy.table.Table.read(filepath_table1)\n",
    "coords_table1 = SkyCoord(ra=table1[\"RAJ2000\"], dec=table1[\"DEJ2000\"])\n",
    "table1_tc = Table_and_coord(table1, coords_table1)\n",
    "\n",
    "# print(table1_tc.coords)\n",
    "\n",
    "# this is a sufficient basis for me to now build my thing around.\n",
    "\n",
    "aux_tables = OrderedDict()\n",
    "aux_tables[\"Scholz_12a_table2\"] = table2_tc\n",
    "aux_tables[\"Scholz_12a_table4\"] = table4_tc\n",
    "aux_tables[\"Scholz_12b_table1\"] = table1_tc\n",
    "\n",
    "# now we grab our spreadsheet\n",
    "from wuvars.data import spreadsheet\n",
    "\n",
    "wserv = 7  # for NGC 1333\n",
    "spread = spreadsheet.load_wserv_v2(wserv)\n",
    "spreadsheet_coordinates = SkyCoord(\n",
    "    ra=spread[\"median\"][\"RA\"].values * u.rad,\n",
    "    dec=spread[\"median\"][\"DEC\"].values * u.rad,\n",
    ")\n",
    "\n",
    "spread_tc = Table_and_coord(spread, spreadsheet_coordinates)"
   ]
  },
  {
   "cell_type": "code",
   "execution_count": null,
   "id": "blocked-rwanda",
   "metadata": {},
   "outputs": [],
   "source": []
  },
  {
   "cell_type": "code",
   "execution_count": 4,
   "id": "royal-algeria",
   "metadata": {},
   "outputs": [
    {
     "name": "stdout",
     "output_type": "stream",
     "text": [
      "Non-matches to Scholz_12a_table2: 0\n",
      "Non-matches to Scholz_12a_table4: 0\n",
      "Non-matches to Scholz_12b_table1: 0\n"
     ]
    }
   ],
   "source": [
    "perseus_tablematch = TableMatcher(spread_tc, aux_tables)\n",
    "perseus_tablematch.match()\n",
    "\n",
    "pt = perseus_tablematch"
   ]
  },
  {
   "cell_type": "code",
   "execution_count": null,
   "id": "heard-administration",
   "metadata": {},
   "outputs": [],
   "source": []
  },
  {
   "cell_type": "code",
   "execution_count": null,
   "id": "productive-clear",
   "metadata": {},
   "outputs": [],
   "source": []
  },
  {
   "cell_type": "code",
   "execution_count": null,
   "id": "tough-champagne",
   "metadata": {},
   "outputs": [],
   "source": []
  }
 ],
 "metadata": {
  "kernelspec": {
   "display_name": "Python 3",
   "language": "python",
   "name": "python3"
  },
  "language_info": {
   "codemirror_mode": {
    "name": "ipython",
    "version": 3
   },
   "file_extension": ".py",
   "mimetype": "text/x-python",
   "name": "python",
   "nbconvert_exporter": "python",
   "pygments_lexer": "ipython3",
   "version": "3.7.7"
  }
 },
 "nbformat": 4,
 "nbformat_minor": 5
}
