{
 "cells": [
  {
   "cell_type": "code",
   "execution_count": null,
   "id": "eb76bd84",
   "metadata": {},
   "outputs": [],
   "source": [
    "import numpy as np\n",
    "from astropy import units as u"
   ]
  },
  {
   "cell_type": "code",
   "execution_count": 1,
   "id": "a529c29b",
   "metadata": {},
   "outputs": [],
   "source": [
    "# Goal: write a \"celestial body\" class from which we can make objects from it.\n",
    "\n",
    "# each celestial body will have:\n",
    "# - a position vector\n",
    "# - a velocity vector\n",
    "# - a mass\n",
    "\n",
    "# in a Class, functions are called \"methods\"\n",
    "\n",
    "class Body(object):\n",
    "    \n",
    "    # the __init__ method allows you to set up a new object using Body()\n",
    "    def __init__(self, position, velocity, mass):\n",
    "        \n",
    "        self.position = position\n",
    "        self.velocity = velocity\n",
    "        self.mass = mass\n",
    "        \n",
    "    def update(self, list_of_other_bodies, timestep_size):\n",
    "        # figure this out\n",
    "        # calculate the net force of gravity on this body given all other bodies\n",
    "        \n",
    "        net_force = 0\n",
    "        for body in list_of_other_bodies:\n",
    "            # calculate the force from each body (given their respective positions and masses)\n",
    "            # add that force to the net force\n",
    "            pass\n",
    "\n",
    "        # calculate new velocity\n",
    "        # calculate new position\n",
    "        \n",
    "        # overwrite self.position with new position\n",
    "        # overwrite self.velocity with new velocity"
   ]
  },
  {
   "cell_type": "code",
   "execution_count": 9,
   "id": "d32f9b3f",
   "metadata": {},
   "outputs": [],
   "source": [
    "# currently we are assuming 2d plane - only x, y\n",
    "\n",
    "sun_position = np.array((0, 0))\n",
    "sun_velocity = np.array((0, 10))\n",
    "sun_mass = 100\n",
    "\n",
    "sun = Body(sun_position, sun_velocity, sun_mass)"
   ]
  },
  {
   "cell_type": "code",
   "execution_count": 10,
   "id": "afc2c477",
   "metadata": {},
   "outputs": [
    {
     "data": {
      "text/plain": [
       "array([0, 0])"
      ]
     },
     "execution_count": 10,
     "metadata": {},
     "output_type": "execute_result"
    }
   ],
   "source": [
    "sun.position"
   ]
  },
  {
   "cell_type": "code",
   "execution_count": 7,
   "id": "ad04a62c",
   "metadata": {},
   "outputs": [],
   "source": [
    "earth_position = np.array((1, 0))\n",
    "earth_velocity = np.array((-10, 100))\n",
    "earth_mass = sun_mass/100\n",
    "\n",
    "earth = Body(earth_position, earth_velocity, earth_mass)"
   ]
  },
  {
   "cell_type": "code",
   "execution_count": 8,
   "id": "5b373739",
   "metadata": {},
   "outputs": [
    {
     "data": {
      "text/plain": [
       "1.0"
      ]
     },
     "execution_count": 8,
     "metadata": {},
     "output_type": "execute_result"
    }
   ],
   "source": [
    "earth.mass"
   ]
  },
  {
   "cell_type": "code",
   "execution_count": 11,
   "id": "3ab51fe8",
   "metadata": {},
   "outputs": [],
   "source": [
    "list_of_bodies = [sun, earth]"
   ]
  },
  {
   "cell_type": "code",
   "execution_count": null,
   "id": "1c837fe7",
   "metadata": {},
   "outputs": [],
   "source": [
    "time = 0\n",
    "timestep = 1 * u.hr\n",
    "\n",
    "while time < 15000:\n",
    "    \n",
    "    for body in list_of_bodies:\n",
    "        \n",
    "        body.update(list_of_bodies, timestep)\n",
    "        \n",
    "        \n",
    "        \n",
    "        "
   ]
  },
  {
   "cell_type": "markdown",
   "id": "7e747c54",
   "metadata": {},
   "source": [
    "Notes on data types in Python\n",
    "\n",
    "int, float\n",
    "lists, tuples\n",
    "[1, 2, 3] (1, 2, 3)\n",
    "\n",
    "lists - appendable\n",
    "tuples - not appendable"
   ]
  },
  {
   "cell_type": "code",
   "execution_count": 13,
   "id": "12b9dc84",
   "metadata": {},
   "outputs": [
    {
     "name": "stdout",
     "output_type": "stream",
     "text": [
      "0\n",
      "2\n",
      "4\n",
      "6\n",
      "8\n",
      "10\n",
      "12\n",
      "14\n",
      "16\n",
      "18\n"
     ]
    }
   ],
   "source": [
    "my_list = range(0, 10)\n",
    "for item in my_list:\n",
    "    print(item*2)"
   ]
  },
  {
   "cell_type": "code",
   "execution_count": 17,
   "id": "274d5957",
   "metadata": {},
   "outputs": [],
   "source": [
    "position_vector_1 = np.array([-1, 2, 3])\n",
    "position_vector_2 = np.array([1, 2, -6])"
   ]
  },
  {
   "cell_type": "code",
   "execution_count": 21,
   "id": "20bbcacf",
   "metadata": {},
   "outputs": [
    {
     "data": {
      "text/plain": [
       "array([-2,  0,  9])"
      ]
     },
     "execution_count": 21,
     "metadata": {},
     "output_type": "execute_result"
    }
   ],
   "source": [
    "position_vector_1 - position_vector_2"
   ]
  },
  {
   "cell_type": "code",
   "execution_count": 24,
   "id": "2a0f89af",
   "metadata": {},
   "outputs": [
    {
     "data": {
      "text/plain": [
       "9.219544457292887"
      ]
     },
     "execution_count": 24,
     "metadata": {},
     "output_type": "execute_result"
    }
   ],
   "source": [
    "np.sqrt(np.sum((position_vector_1-position_vector_2)**2))"
   ]
  },
  {
   "cell_type": "code",
   "execution_count": null,
   "id": "7c83dacf",
   "metadata": {},
   "outputs": [],
   "source": [
    "# may want to look up how to calculate the x, y, z components of various vectors in 3d Euclidean space"
   ]
  }
 ],
 "metadata": {
  "kernelspec": {
   "display_name": "Python 3 (ipykernel)",
   "language": "python",
   "name": "python3"
  },
  "language_info": {
   "codemirror_mode": {
    "name": "ipython",
    "version": 3
   },
   "file_extension": ".py",
   "mimetype": "text/x-python",
   "name": "python",
   "nbconvert_exporter": "python",
   "pygments_lexer": "ipython3",
   "version": "3.7.7"
  }
 },
 "nbformat": 4,
 "nbformat_minor": 5
}
