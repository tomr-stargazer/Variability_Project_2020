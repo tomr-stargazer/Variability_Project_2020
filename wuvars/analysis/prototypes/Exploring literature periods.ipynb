{
 "cells": [
  {
   "cell_type": "markdown",
   "id": "a0561014",
   "metadata": {},
   "source": [
    "# The goal\n",
    "22 Sep 2024\n",
    "\n",
    "I want to make a reasonable comparison between the periods that I found in my analysis versus periods found by other monitoring programs in NGC 1333 and IC 348.\n",
    "\n",
    "I know of the following data sets:\n",
    "1. Rebull et al 2015\n",
    "2. Ghosh et al 2021\n",
    "3. Wang et al 2023\n",
    "4. Fritzewski et al 2016"
   ]
  },
  {
   "cell_type": "code",
   "execution_count": 86,
   "id": "bc0ff002",
   "metadata": {},
   "outputs": [],
   "source": [
    "import numpy as np\n",
    "import matplotlib.pyplot as plt\n",
    "import astropy.table\n",
    "from astropy.coordinates import SkyCoord"
   ]
  },
  {
   "cell_type": "code",
   "execution_count": 1,
   "id": "ff93eb1a",
   "metadata": {},
   "outputs": [],
   "source": [
    "# Let's make sure we can LOAD all of the tables.\n",
    "# And that we have the periods.\n",
    "# And that we can plot positions."
   ]
  },
  {
   "cell_type": "code",
   "execution_count": 92,
   "id": "f3e05cf9",
   "metadata": {},
   "outputs": [],
   "source": [
    "def box_sequence(ramin, ramax, demin, demax):\n",
    "\n",
    "    ra_sequence = [ramin, ramax, ramax, ramin, ramin]\n",
    "    de_sequence = [demin, demin, demax, demax, demin]\n",
    "\n",
    "    return ra_sequence, de_sequence\n",
    "\n",
    "# for ngc 1333\n",
    "bramin = 51.68\n",
    "bramax = 52.73\n",
    "bdemin = 30.84\n",
    "bdemax = 31.73\n",
    "\n",
    "# for ic 348\n",
    "ic_coords = (55.61903099876549, 56.68231041169733, 31.76215222146832, 32.65672289502177)\n"
   ]
  },
  {
   "cell_type": "code",
   "execution_count": 66,
   "id": "a0a9130c",
   "metadata": {},
   "outputs": [
    {
     "name": "stderr",
     "output_type": "stream",
     "text": [
      "WARNING: UnitsWarning: '[10-7W]' did not parse as cds unit: Syntax error If this is meant to be a custom unit, define it with 'u.def_unit'. To have it recognized inside a file reader or other code, enable it with 'u.add_enabled_units'. For details, see https://docs.astropy.org/en/latest/units/combining_and_defining.html [astropy.units.core]\n"
     ]
    }
   ],
   "source": [
    "# 1. Rebull\n",
    "\n",
    "r1 = astropy.table.Table.read(\"../literature_periods/Rebull2015_aj520633t1_mrt.txt\", format=\"ascii\")"
   ]
  },
  {
   "cell_type": "code",
   "execution_count": 67,
   "id": "943efc13",
   "metadata": {},
   "outputs": [
    {
     "data": {
      "text/html": [
       "<i>Table length=701</i>\n",
       "<table id=\"table140501256342736\" class=\"table-striped table-bordered table-condensed\">\n",
       "<thead><tr><th>Cat</th><th>RAdeg</th><th>DEdeg</th><th>umagCFHT</th><th>e_umagCFHT</th><th>gmagCFHT</th><th>e_gmagCFHT</th><th>rmagCFHT</th><th>e_rmagCFHT</th><th>imagCFHT</th><th>e_imagCFHT</th><th>imagSub</th><th>e_imagSub</th><th>zmagSub</th><th>e_zmagSub</th><th>l_Jmag</th><th>Jmag</th><th>e_Jmag</th><th>l_Hmag</th><th>Hmag</th><th>e_Hmag</th><th>l_Ksmag</th><th>Ksmag</th><th>e_Ksmag</th><th>l_3.6mag</th><th>3.6mag</th><th>e_3.6mag</th><th>l_4.5mag</th><th>4.5mag</th><th>e_4.5mag</th><th>l_5.8mag</th><th>5.8mag</th><th>e_5.8mag</th><th>l_8.0mag</th><th>8.0mag</th><th>e_8.0mag</th><th>l_24mag</th><th>24mag</th><th>e_24mag</th><th>l_70mag</th><th>70mag</th><th>e_70mag</th><th>logfx</th><th>e_logfx</th><th>logLx</th><th>SpType</th><th>r_SpType</th><th>Teff</th><th>Slope24</th><th>Class24</th><th>YSOlit</th><th>YSOstd</th><th>YSOx</th><th>YSOaug</th><th>CYvar</th><th>Var</th><th>VarMem</th><th>Npts-i1</th><th>Mean-i1</th><th>Median-i1</th><th>Sdev-i1</th><th>Max-i1</th><th>Min-i1</th><th>Range-i1</th><th>Amp-i1</th><th>Chisq-i1</th><th>TScale-i1</th><th>Period-i1</th><th>M-i1</th><th>Ms-i1</th><th>Q-i1</th><th>Qlt-i1</th><th>Npts-i2</th><th>Mean-i2</th><th>Median-i2</th><th>Sdev-i2</th><th>Max-i2</th><th>Min-i2</th><th>Range-i2</th><th>Amp-i2</th><th>Chisq-i2</th><th>Tscale-i2</th><th>Period-i2</th><th>M-i2</th><th>Ms-i2</th><th>Q-i2</th><th>Qlt-i2</th><th>Mean-i1i2</th><th>Sdev-i1i2</th><th>Period-i1i2</th><th>Stetson-i1i2</th><th>Cor-i1i1i2</th><th>CProb-i1i1i2</th><th>Cor-i2i1i2</th><th>CProb-i2i1i2</th></tr></thead>\n",
       "<thead><tr><th></th><th>deg</th><th>deg</th><th>mag</th><th>mag</th><th>mag</th><th>mag</th><th>mag</th><th>mag</th><th>mag</th><th>mag</th><th>mag</th><th>mag</th><th>mag</th><th>mag</th><th></th><th>mag</th><th>mag</th><th></th><th>mag</th><th>mag</th><th></th><th>mag</th><th>mag</th><th></th><th>mag</th><th>mag</th><th></th><th>mag</th><th>mag</th><th></th><th>mag</th><th>mag</th><th></th><th>mag</th><th>mag</th><th></th><th>mag</th><th>mag</th><th></th><th>mag</th><th>mag</th><th>dex(mW / m2)</th><th>dex(mW / m2)</th><th>[10-7W]</th><th></th><th></th><th>K</th><th></th><th></th><th></th><th></th><th></th><th></th><th></th><th></th><th></th><th></th><th>mag</th><th>mag</th><th>mag</th><th>mag</th><th>mag</th><th>d</th><th>mag</th><th></th><th>d</th><th>d</th><th></th><th></th><th></th><th></th><th></th><th>mag</th><th>mag</th><th>mag</th><th>mag</th><th>mag</th><th>d</th><th>mag</th><th></th><th>d</th><th>d</th><th></th><th></th><th></th><th></th><th>mag</th><th>mag</th><th>d</th><th></th><th></th><th></th><th></th><th></th></tr></thead>\n",
       "<thead><tr><th>str18</th><th>float64</th><th>float64</th><th>float64</th><th>float64</th><th>float64</th><th>float64</th><th>float64</th><th>float64</th><th>float64</th><th>float64</th><th>float64</th><th>float64</th><th>float64</th><th>float64</th><th>str1</th><th>float64</th><th>float64</th><th>str1</th><th>float64</th><th>float64</th><th>str1</th><th>float64</th><th>float64</th><th>str1</th><th>float64</th><th>float64</th><th>str1</th><th>float64</th><th>float64</th><th>str1</th><th>float64</th><th>float64</th><th>str1</th><th>float64</th><th>float64</th><th>str1</th><th>float64</th><th>float64</th><th>str1</th><th>float64</th><th>float64</th><th>float64</th><th>float64</th><th>float64</th><th>str11</th><th>str9</th><th>int64</th><th>float64</th><th>str4</th><th>int64</th><th>int64</th><th>int64</th><th>int64</th><th>int64</th><th>int64</th><th>int64</th><th>int64</th><th>float64</th><th>float64</th><th>float64</th><th>float64</th><th>float64</th><th>float64</th><th>float64</th><th>float64</th><th>float64</th><th>float64</th><th>float64</th><th>float64</th><th>float64</th><th>float64</th><th>int64</th><th>float64</th><th>float64</th><th>float64</th><th>float64</th><th>float64</th><th>float64</th><th>float64</th><th>float64</th><th>float64</th><th>float64</th><th>float64</th><th>float64</th><th>float64</th><th>float64</th><th>float64</th><th>float64</th><th>float64</th><th>float64</th><th>float64</th><th>float64</th><th>float64</th><th>float64</th></tr></thead>\n",
       "<tr><td>032831.48+312732.2</td><td>52.131169</td><td>31.458971</td><td>--</td><td>--</td><td>--</td><td>--</td><td>--</td><td>--</td><td>--</td><td>--</td><td>--</td><td>--</td><td>--</td><td>--</td><td>--</td><td>--</td><td>--</td><td>--</td><td>--</td><td>--</td><td>--</td><td>--</td><td>--</td><td>--</td><td>16.57</td><td>0.05</td><td>--</td><td>15.9</td><td>0.05</td><td>&gt;</td><td>15.82</td><td>--</td><td>&gt;</td><td>15.68</td><td>--</td><td>&gt;</td><td>11.62</td><td>--</td><td>--</td><td>--</td><td>--</td><td>--</td><td>--</td><td>--</td><td>--</td><td>--</td><td>--</td><td>-0.51</td><td>--</td><td>0</td><td>0</td><td>0</td><td>0</td><td>0</td><td>0</td><td>0</td><td>19</td><td>16.42</td><td>16.43</td><td>0.07</td><td>16.54</td><td>16.3</td><td>13.98</td><td>0.18</td><td>0.4</td><td>--</td><td>--</td><td>-0.36</td><td>-0.32</td><td>--</td><td>--</td><td>19</td><td>--</td><td>--</td><td>--</td><td>--</td><td>--</td><td>--</td><td>--</td><td>--</td><td>--</td><td>--</td><td>--</td><td>--</td><td>--</td><td>--</td><td>--</td><td>--</td><td>--</td><td>--</td><td>--</td><td>--</td><td>--</td><td>--</td></tr>\n",
       "<tr><td>032832.18+312820.9</td><td>52.134122</td><td>31.472489</td><td>--</td><td>--</td><td>--</td><td>--</td><td>--</td><td>--</td><td>--</td><td>--</td><td>--</td><td>--</td><td>--</td><td>--</td><td>--</td><td>--</td><td>--</td><td>--</td><td>--</td><td>--</td><td>--</td><td>--</td><td>--</td><td>--</td><td>16.43</td><td>0.04</td><td>--</td><td>16.11</td><td>0.06</td><td>--</td><td>15.21</td><td>0.17</td><td>&gt;</td><td>17.79</td><td>--</td><td>&gt;</td><td>11.41</td><td>--</td><td>--</td><td>--</td><td>--</td><td>--</td><td>--</td><td>--</td><td>--</td><td>--</td><td>--</td><td>-0.66</td><td>--</td><td>0</td><td>0</td><td>0</td><td>0</td><td>0</td><td>0</td><td>0</td><td>34</td><td>16.36</td><td>16.34</td><td>0.09</td><td>16.53</td><td>16.2</td><td>24.49</td><td>0.24</td><td>0.79</td><td>2.99</td><td>--</td><td>0.16</td><td>-0.02</td><td>1.64</td><td>2.02</td><td>34</td><td>--</td><td>--</td><td>--</td><td>--</td><td>--</td><td>--</td><td>--</td><td>--</td><td>--</td><td>--</td><td>--</td><td>--</td><td>--</td><td>--</td><td>--</td><td>--</td><td>--</td><td>--</td><td>--</td><td>--</td><td>--</td><td>--</td></tr>\n",
       "<tr><td>032832.28+312645.4</td><td>52.134534</td><td>31.44597</td><td>--</td><td>--</td><td>--</td><td>--</td><td>--</td><td>--</td><td>--</td><td>--</td><td>--</td><td>--</td><td>--</td><td>--</td><td>--</td><td>17.66</td><td>0.11</td><td>--</td><td>16.87</td><td>0.16</td><td>--</td><td>16.5</td><td>0.15</td><td>--</td><td>16.16</td><td>0.04</td><td>--</td><td>15.96</td><td>0.06</td><td>&gt;</td><td>17.44</td><td>--</td><td>&gt;</td><td>15.65</td><td>--</td><td>&gt;</td><td>12.21</td><td>--</td><td>--</td><td>--</td><td>--</td><td>--</td><td>--</td><td>--</td><td>--</td><td>--</td><td>--</td><td>-2.1</td><td>--</td><td>0</td><td>0</td><td>0</td><td>0</td><td>0</td><td>0</td><td>0</td><td>22</td><td>16.18</td><td>16.21</td><td>0.11</td><td>16.32</td><td>15.77</td><td>11.57</td><td>0.17</td><td>3.04</td><td>4.16</td><td>--</td><td>-0.96</td><td>-0.52</td><td>0.86</td><td>0.86</td><td>22</td><td>--</td><td>--</td><td>--</td><td>--</td><td>--</td><td>--</td><td>--</td><td>--</td><td>--</td><td>--</td><td>--</td><td>--</td><td>--</td><td>--</td><td>--</td><td>--</td><td>--</td><td>--</td><td>--</td><td>--</td><td>--</td><td>--</td></tr>\n",
       "<tr><td>032832.32+312707.9</td><td>52.134707</td><td>31.452215</td><td>--</td><td>--</td><td>--</td><td>--</td><td>--</td><td>--</td><td>--</td><td>--</td><td>--</td><td>--</td><td>--</td><td>--</td><td>--</td><td>12.8</td><td>0.02</td><td>--</td><td>11.88</td><td>0.03</td><td>--</td><td>11.52</td><td>0.02</td><td>--</td><td>11.3</td><td>0.01</td><td>--</td><td>11.31</td><td>0.01</td><td>--</td><td>11.26</td><td>0.01</td><td>--</td><td>11.27</td><td>0.01</td><td>&gt;</td><td>10.55</td><td>--</td><td>--</td><td>--</td><td>--</td><td>--</td><td>--</td><td>--</td><td>--</td><td>--</td><td>--</td><td>-2.63</td><td>--</td><td>0</td><td>0</td><td>0</td><td>0</td><td>0</td><td>0</td><td>0</td><td>34</td><td>11.34</td><td>11.34</td><td>0.01</td><td>11.38</td><td>11.3</td><td>16.22</td><td>0.02</td><td>1.76</td><td>11.1</td><td>--</td><td>0.23</td><td>-0.04</td><td>0.89</td><td>0.79</td><td>34</td><td>--</td><td>--</td><td>--</td><td>--</td><td>--</td><td>--</td><td>--</td><td>--</td><td>--</td><td>--</td><td>--</td><td>--</td><td>--</td><td>--</td><td>--</td><td>--</td><td>--</td><td>--</td><td>--</td><td>--</td><td>--</td><td>--</td></tr>\n",
       "<tr><td>032832.37+312723.5</td><td>52.134881</td><td>31.456535</td><td>--</td><td>--</td><td>--</td><td>--</td><td>22.46</td><td>0.1</td><td>21.23</td><td>0.01</td><td>21.06</td><td>0.01</td><td>20.31</td><td>0.02</td><td>--</td><td>18.45</td><td>0.22</td><td>--</td><td>16.84</td><td>0.15</td><td>--</td><td>16.25</td><td>0.12</td><td>--</td><td>15.72</td><td>0.03</td><td>--</td><td>15.39</td><td>0.04</td><td>--</td><td>15.27</td><td>0.32</td><td>&gt;</td><td>16.24</td><td>--</td><td>--</td><td>--</td><td>--</td><td>--</td><td>--</td><td>--</td><td>--</td><td>--</td><td>--</td><td>--</td><td>--</td><td>--</td><td>-1.83</td><td>--</td><td>0</td><td>0</td><td>0</td><td>0</td><td>0</td><td>0</td><td>0</td><td>41</td><td>15.71</td><td>15.71</td><td>0.07</td><td>15.83</td><td>15.57</td><td>19.12</td><td>0.16</td><td>1.63</td><td>8.18</td><td>--</td><td>-0.23</td><td>-0.29</td><td>0.97</td><td>0.93</td><td>41</td><td>--</td><td>--</td><td>--</td><td>--</td><td>--</td><td>--</td><td>--</td><td>--</td><td>--</td><td>--</td><td>--</td><td>--</td><td>--</td><td>--</td><td>--</td><td>--</td><td>--</td><td>--</td><td>--</td><td>--</td><td>--</td><td>--</td></tr>\n",
       "<tr><td>032832.42+312556.6</td><td>52.135088</td><td>31.432396</td><td>--</td><td>--</td><td>--</td><td>--</td><td>--</td><td>--</td><td>--</td><td>--</td><td>--</td><td>--</td><td>--</td><td>--</td><td>--</td><td>17.11</td><td>0.07</td><td>--</td><td>15.91</td><td>0.07</td><td>--</td><td>15.37</td><td>0.06</td><td>--</td><td>14.95</td><td>0.01</td><td>--</td><td>14.84</td><td>0.02</td><td>--</td><td>14.48</td><td>0.09</td><td>--</td><td>14.38</td><td>0.32</td><td>&gt;</td><td>12.5</td><td>--</td><td>--</td><td>--</td><td>--</td><td>--</td><td>--</td><td>--</td><td>--</td><td>--</td><td>--</td><td>-2.08</td><td>--</td><td>0</td><td>0</td><td>0</td><td>0</td><td>0</td><td>0</td><td>0</td><td>11</td><td>14.93</td><td>14.93</td><td>0.05</td><td>15.03</td><td>14.87</td><td>4.79</td><td>0.08</td><td>1.98</td><td>--</td><td>--</td><td>-0.07</td><td>-0.02</td><td>--</td><td>--</td><td>11</td><td>--</td><td>--</td><td>--</td><td>--</td><td>--</td><td>--</td><td>--</td><td>--</td><td>--</td><td>--</td><td>--</td><td>--</td><td>--</td><td>--</td><td>--</td><td>--</td><td>--</td><td>--</td><td>--</td><td>--</td><td>--</td><td>--</td></tr>\n",
       "<tr><td>...</td><td>...</td><td>...</td><td>...</td><td>...</td><td>...</td><td>...</td><td>...</td><td>...</td><td>...</td><td>...</td><td>...</td><td>...</td><td>...</td><td>...</td><td>...</td><td>...</td><td>...</td><td>...</td><td>...</td><td>...</td><td>...</td><td>...</td><td>...</td><td>...</td><td>...</td><td>...</td><td>...</td><td>...</td><td>...</td><td>...</td><td>...</td><td>...</td><td>...</td><td>...</td><td>...</td><td>...</td><td>...</td><td>...</td><td>...</td><td>...</td><td>...</td><td>...</td><td>...</td><td>...</td><td>...</td><td>...</td><td>...</td><td>...</td><td>...</td><td>...</td><td>...</td><td>...</td><td>...</td><td>...</td><td>...</td><td>...</td><td>...</td><td>...</td><td>...</td><td>...</td><td>...</td><td>...</td><td>...</td><td>...</td><td>...</td><td>...</td><td>...</td><td>...</td><td>...</td><td>...</td><td>...</td><td>...</td><td>...</td><td>...</td><td>...</td><td>...</td><td>...</td><td>...</td><td>...</td><td>...</td><td>...</td><td>...</td><td>...</td><td>...</td><td>...</td><td>...</td><td>...</td><td>...</td><td>...</td><td>...</td><td>...</td><td>...</td><td>...</td><td>...</td></tr>\n",
       "<tr><td>032938.74+311114.8</td><td>52.411442</td><td>31.187455</td><td>--</td><td>--</td><td>--</td><td>--</td><td>--</td><td>--</td><td>--</td><td>--</td><td>--</td><td>--</td><td>--</td><td>--</td><td>--</td><td>--</td><td>--</td><td>--</td><td>--</td><td>--</td><td>--</td><td>--</td><td>--</td><td>--</td><td>16.75</td><td>0.06</td><td>--</td><td>16.59</td><td>0.09</td><td>&gt;</td><td>16.13</td><td>--</td><td>&gt;</td><td>16.1</td><td>--</td><td>&gt;</td><td>11.48</td><td>--</td><td>--</td><td>--</td><td>--</td><td>--</td><td>--</td><td>--</td><td>--</td><td>--</td><td>--</td><td>-1.69</td><td>--</td><td>0</td><td>0</td><td>0</td><td>0</td><td>0</td><td>0</td><td>0</td><td>0</td><td>--</td><td>--</td><td>--</td><td>--</td><td>--</td><td>--</td><td>--</td><td>--</td><td>--</td><td>--</td><td>--</td><td>--</td><td>--</td><td>--</td><td>0</td><td>16.28</td><td>16.28</td><td>0.07</td><td>16.37</td><td>16.17</td><td>18.47</td><td>0.19</td><td>0.39</td><td>--</td><td>--</td><td>-0.34</td><td>-0.25</td><td>--</td><td>--</td><td>--</td><td>--</td><td>--</td><td>--</td><td>--</td><td>--</td><td>--</td><td>--</td></tr>\n",
       "<tr><td>032938.84+311141.0</td><td>52.411861</td><td>31.194746</td><td>--</td><td>--</td><td>--</td><td>--</td><td>--</td><td>--</td><td>--</td><td>--</td><td>--</td><td>--</td><td>--</td><td>--</td><td>--</td><td>--</td><td>--</td><td>--</td><td>--</td><td>--</td><td>--</td><td>--</td><td>--</td><td>--</td><td>15.98</td><td>0.03</td><td>--</td><td>15.6</td><td>0.05</td><td>--</td><td>15.44</td><td>0.33</td><td>--</td><td>--</td><td>--</td><td>&gt;</td><td>12.28</td><td>--</td><td>--</td><td>--</td><td>--</td><td>--</td><td>--</td><td>--</td><td>--</td><td>--</td><td>--</td><td>-1.86</td><td>--</td><td>0</td><td>0</td><td>0</td><td>0</td><td>0</td><td>0</td><td>0</td><td>0</td><td>--</td><td>--</td><td>--</td><td>--</td><td>--</td><td>--</td><td>--</td><td>--</td><td>--</td><td>--</td><td>--</td><td>--</td><td>--</td><td>--</td><td>0</td><td>15.54</td><td>15.55</td><td>0.07</td><td>15.66</td><td>15.39</td><td>19.63</td><td>0.17</td><td>1.62</td><td>11.68</td><td>--</td><td>-0.45</td><td>-0.23</td><td>0.51</td><td>0.76</td><td>--</td><td>--</td><td>--</td><td>--</td><td>--</td><td>--</td><td>--</td><td>--</td></tr>\n",
       "<tr><td>032939.28+311208.6</td><td>52.413702</td><td>31.202414</td><td>--</td><td>--</td><td>--</td><td>--</td><td>--</td><td>--</td><td>--</td><td>--</td><td>--</td><td>--</td><td>--</td><td>--</td><td>--</td><td>17.46</td><td>0.1</td><td>--</td><td>16.34</td><td>0.1</td><td>--</td><td>15.74</td><td>0.08</td><td>--</td><td>15.49</td><td>0.02</td><td>--</td><td>15.39</td><td>0.03</td><td>--</td><td>14.72</td><td>0.13</td><td>&gt;</td><td>15.34</td><td>--</td><td>&gt;</td><td>12.15</td><td>--</td><td>--</td><td>--</td><td>--</td><td>--</td><td>--</td><td>--</td><td>--</td><td>--</td><td>--</td><td>-1.99</td><td>--</td><td>0</td><td>0</td><td>0</td><td>0</td><td>0</td><td>0</td><td>0</td><td>0</td><td>--</td><td>--</td><td>--</td><td>--</td><td>--</td><td>--</td><td>--</td><td>--</td><td>--</td><td>--</td><td>--</td><td>--</td><td>--</td><td>--</td><td>0</td><td>15.4</td><td>15.4</td><td>0.05</td><td>15.47</td><td>15.26</td><td>12.82</td><td>0.14</td><td>1.19</td><td>3.46</td><td>--</td><td>-0.45</td><td>-0.03</td><td>0.45</td><td>0.59</td><td>--</td><td>--</td><td>--</td><td>--</td><td>--</td><td>--</td><td>--</td><td>--</td></tr>\n",
       "<tr><td>032939.49+311128.6</td><td>52.414545</td><td>31.191304</td><td>--</td><td>--</td><td>--</td><td>--</td><td>--</td><td>--</td><td>--</td><td>--</td><td>--</td><td>--</td><td>--</td><td>--</td><td>--</td><td>--</td><td>--</td><td>--</td><td>--</td><td>--</td><td>--</td><td>--</td><td>--</td><td>--</td><td>16.33</td><td>0.04</td><td>--</td><td>15.58</td><td>0.04</td><td>&gt;</td><td>15.65</td><td>--</td><td>--</td><td>12.87</td><td>0.05</td><td>--</td><td>10.43</td><td>0.21</td><td>--</td><td>--</td><td>--</td><td>--</td><td>--</td><td>--</td><td>--</td><td>--</td><td>--</td><td>-0.02</td><td>--</td><td>0</td><td>0</td><td>0</td><td>0</td><td>0</td><td>0</td><td>0</td><td>0</td><td>--</td><td>--</td><td>--</td><td>--</td><td>--</td><td>--</td><td>--</td><td>--</td><td>--</td><td>--</td><td>--</td><td>--</td><td>--</td><td>--</td><td>0</td><td>15.53</td><td>15.53</td><td>0.07</td><td>15.68</td><td>15.36</td><td>17.53</td><td>0.19</td><td>1.36</td><td>3.89</td><td>--</td><td>-0.3</td><td>0.04</td><td>0.63</td><td>-36.1</td><td>--</td><td>--</td><td>--</td><td>--</td><td>--</td><td>--</td><td>--</td><td>--</td></tr>\n",
       "<tr><td>032939.90+311118.9</td><td>52.416252</td><td>31.188592</td><td>--</td><td>--</td><td>--</td><td>--</td><td>--</td><td>--</td><td>--</td><td>--</td><td>--</td><td>--</td><td>--</td><td>--</td><td>--</td><td>15.35</td><td>0.03</td><td>--</td><td>14.62</td><td>0.03</td><td>--</td><td>14.32</td><td>0.03</td><td>--</td><td>14.09</td><td>0.01</td><td>--</td><td>14.01</td><td>0.01</td><td>--</td><td>13.91</td><td>0.06</td><td>--</td><td>13.87</td><td>0.12</td><td>--</td><td>--</td><td>--</td><td>--</td><td>--</td><td>--</td><td>--</td><td>--</td><td>--</td><td>--</td><td>--</td><td>--</td><td>-2.47</td><td>--</td><td>0</td><td>0</td><td>0</td><td>0</td><td>0</td><td>0</td><td>0</td><td>0</td><td>--</td><td>--</td><td>--</td><td>--</td><td>--</td><td>--</td><td>--</td><td>--</td><td>--</td><td>--</td><td>--</td><td>--</td><td>--</td><td>--</td><td>0</td><td>13.99</td><td>13.99</td><td>0.01</td><td>14.02</td><td>13.96</td><td>15.67</td><td>0.04</td><td>0.7</td><td>1.16</td><td>--</td><td>0.07</td><td>-0.06</td><td>1.75</td><td>1.52</td><td>--</td><td>--</td><td>--</td><td>--</td><td>--</td><td>--</td><td>--</td><td>--</td></tr>\n",
       "<tr><td>032940.14+311041.2</td><td>52.417275</td><td>31.178134</td><td>--</td><td>--</td><td>--</td><td>--</td><td>--</td><td>--</td><td>--</td><td>--</td><td>--</td><td>--</td><td>--</td><td>--</td><td>--</td><td>17.17</td><td>0.08</td><td>--</td><td>16.39</td><td>0.11</td><td>--</td><td>15.92</td><td>0.1</td><td>--</td><td>15.87</td><td>0.03</td><td>--</td><td>15.8</td><td>0.04</td><td>&gt;</td><td>16.04</td><td>--</td><td>--</td><td>--</td><td>--</td><td>--</td><td>--</td><td>--</td><td>--</td><td>--</td><td>--</td><td>--</td><td>--</td><td>--</td><td>--</td><td>--</td><td>--</td><td>-2.61</td><td>--</td><td>0</td><td>0</td><td>0</td><td>0</td><td>0</td><td>0</td><td>0</td><td>0</td><td>--</td><td>--</td><td>--</td><td>--</td><td>--</td><td>--</td><td>--</td><td>--</td><td>--</td><td>--</td><td>--</td><td>--</td><td>--</td><td>--</td><td>0</td><td>15.76</td><td>15.76</td><td>0.08</td><td>15.94</td><td>15.53</td><td>16.22</td><td>0.19</td><td>1.23</td><td>6.08</td><td>--</td><td>-0.14</td><td>-0.27</td><td>0.97</td><td>0.78</td><td>--</td><td>--</td><td>--</td><td>--</td><td>--</td><td>--</td><td>--</td><td>--</td></tr>\n",
       "<tr><td>032941.88+311048.4</td><td>52.424527</td><td>31.180125</td><td>--</td><td>--</td><td>--</td><td>--</td><td>--</td><td>--</td><td>--</td><td>--</td><td>--</td><td>--</td><td>--</td><td>--</td><td>--</td><td>17.01</td><td>0.07</td><td>--</td><td>15.95</td><td>0.07</td><td>--</td><td>15.36</td><td>0.06</td><td>--</td><td>14.94</td><td>0.02</td><td>--</td><td>14.83</td><td>0.02</td><td>&gt;</td><td>16.81</td><td>--</td><td>--</td><td>--</td><td>--</td><td>&gt;</td><td>11.03</td><td>--</td><td>--</td><td>--</td><td>--</td><td>--</td><td>--</td><td>--</td><td>--</td><td>--</td><td>--</td><td>-2.09</td><td>--</td><td>0</td><td>0</td><td>0</td><td>0</td><td>0</td><td>0</td><td>0</td><td>0</td><td>--</td><td>--</td><td>--</td><td>--</td><td>--</td><td>--</td><td>--</td><td>--</td><td>--</td><td>--</td><td>--</td><td>--</td><td>--</td><td>--</td><td>0</td><td>14.79</td><td>14.78</td><td>0.04</td><td>14.9</td><td>14.75</td><td>5.34</td><td>0.06</td><td>0.91</td><td>--</td><td>--</td><td>0.66</td><td>0.13</td><td>--</td><td>--</td><td>--</td><td>--</td><td>--</td><td>--</td><td>--</td><td>--</td><td>--</td><td>--</td></tr>\n",
       "</table>"
      ],
      "text/plain": [
       "<Table length=701>\n",
       "       Cat           RAdeg     DEdeg   ... CProb-i1i1i2 Cor-i2i1i2 CProb-i2i1i2\n",
       "                      deg       deg    ...                                     \n",
       "      str18         float64   float64  ...   float64     float64     float64   \n",
       "------------------ --------- --------- ... ------------ ---------- ------------\n",
       "032831.48+312732.2 52.131169 31.458971 ...           --         --           --\n",
       "032832.18+312820.9 52.134122 31.472489 ...           --         --           --\n",
       "032832.28+312645.4 52.134534  31.44597 ...           --         --           --\n",
       "032832.32+312707.9 52.134707 31.452215 ...           --         --           --\n",
       "032832.37+312723.5 52.134881 31.456535 ...           --         --           --\n",
       "032832.42+312556.6 52.135088 31.432396 ...           --         --           --\n",
       "               ...       ...       ... ...          ...        ...          ...\n",
       "032938.74+311114.8 52.411442 31.187455 ...           --         --           --\n",
       "032938.84+311141.0 52.411861 31.194746 ...           --         --           --\n",
       "032939.28+311208.6 52.413702 31.202414 ...           --         --           --\n",
       "032939.49+311128.6 52.414545 31.191304 ...           --         --           --\n",
       "032939.90+311118.9 52.416252 31.188592 ...           --         --           --\n",
       "032940.14+311041.2 52.417275 31.178134 ...           --         --           --\n",
       "032941.88+311048.4 52.424527 31.180125 ...           --         --           --"
      ]
     },
     "execution_count": 67,
     "metadata": {},
     "output_type": "execute_result"
    }
   ],
   "source": [
    "r1"
   ]
  },
  {
   "cell_type": "code",
   "execution_count": 80,
   "id": "e05d4c6c",
   "metadata": {},
   "outputs": [],
   "source": [
    "# r1_per = np.isfinite(r1['Period-i1']) | np.isfinite(r1['Period-i2']) | np.isfinite(r1['Period-i1i2'])\n",
    "r1_per = ~r1['Period-i1'].mask | ~r1['Period-i2'].mask | ~r1['Period-i1i2'].mask"
   ]
  },
  {
   "cell_type": "code",
   "execution_count": 82,
   "id": "91fb187b",
   "metadata": {},
   "outputs": [
    {
     "data": {
      "text/plain": [
       "24"
      ]
     },
     "execution_count": 82,
     "metadata": {},
     "output_type": "execute_result"
    }
   ],
   "source": [
    "np.sum(r1_per)"
   ]
  },
  {
   "cell_type": "code",
   "execution_count": 83,
   "id": "9be9b0b4",
   "metadata": {},
   "outputs": [
    {
     "data": {
      "image/png": "[encoded data removed]",
      "text/plain": [
       "<Figure size 288x288 with 1 Axes>"
      ]
     },
     "metadata": {
      "needs_background": "light"
     },
     "output_type": "display_data"
    }
   ],
   "source": [
    "r1_ra_deg = r1['RAdeg']\n",
    "r1_de_deg = r1['DEdeg']\n",
    "plt.figure(figsize=(4,4))\n",
    "plt.plot(*box_sequence(bramin, bramax, bdemin, bdemax))\n",
    "\n",
    "plt.plot(r1_ra_deg, r1_de_deg, 'k,')\n",
    "plt.plot(r1_ra_deg[r1_per], r1_de_deg[r1_per], 'r.')\n",
    "plt.gca().invert_xaxis()"
   ]
  },
  {
   "cell_type": "code",
   "execution_count": 13,
   "id": "0a7396d5",
   "metadata": {},
   "outputs": [
    {
     "data": {
      "text/plain": [
       "(array([2., 0., 0., 0., 0., 0., 0., 0., 0., 1.]),\n",
       " array([5.51 , 5.938, 6.366, 6.794, 7.222, 7.65 , 8.078, 8.506, 8.934,\n",
       "        9.362, 9.79 ]),\n",
       " <BarContainer object of 10 artists>)"
      ]
     },
     "execution_count": 13,
     "metadata": {},
     "output_type": "execute_result"
    },
    {
     "data": {
      "image/png": "[encoded data removed]",
      "text/plain": [
       "<Figure size 432x288 with 1 Axes>"
      ]
     },
     "metadata": {
      "needs_background": "light"
     },
     "output_type": "display_data"
    }
   ],
   "source": [
    "plt.hist(r1['Period-i1'])\n",
    "plt.hist(r1['Period-i2'], alpha=0.5)\n",
    "plt.hist(r1['Period-i1i2'], alpha=0.25)"
   ]
  },
  {
   "cell_type": "code",
   "execution_count": 163,
   "id": "0165a0cd",
   "metadata": {},
   "outputs": [],
   "source": [
    "stacked_periods = np.nanmean(np.ma.stack([ r1['Period-i1'], r1['Period-i2'], r1['Period-i1i2']]), axis=0)"
   ]
  },
  {
   "cell_type": "code",
   "execution_count": 148,
   "id": "a9ee284d",
   "metadata": {},
   "outputs": [
    {
     "data": {
      "text/plain": [
       "(701, 701)"
      ]
     },
     "execution_count": 148,
     "metadata": {},
     "output_type": "execute_result"
    }
   ],
   "source": [
    "len(np.nanmean( np.array([ r1['Period-i1'], r1['Period-i2'], r1['Period-i1i2']]), axis=0)), len(r1['Period-i1'])"
   ]
  },
  {
   "cell_type": "code",
   "execution_count": 164,
   "id": "c38040fa",
   "metadata": {},
   "outputs": [
    {
     "data": {
      "text/plain": [
       "[<matplotlib.lines.Line2D at 0x7fc902256790>]"
      ]
     },
     "execution_count": 164,
     "metadata": {},
     "output_type": "execute_result"
    },
    {
     "data": {
      "image/png": "[encoded data removed]",
      "text/plain": [
       "<Figure size 432x288 with 1 Axes>"
      ]
     },
     "metadata": {
      "needs_background": "light"
     },
     "output_type": "display_data"
    }
   ],
   "source": [
    "# plt.plot(np.nanmean( np.array([ r1['Period-i1'], r1['Period-i2'], r1['Period-i1i2']]), axis=0), r1['Period-i1'], 'k.')\n",
    "plt.plot(stacked_periods, r1['Period-i1'], 'k.')\n",
    "plt.plot([0,10], [0,10], '--')"
   ]
  },
  {
   "cell_type": "code",
   "execution_count": 146,
   "id": "b685603b",
   "metadata": {},
   "outputs": [
    {
     "name": "stdout",
     "output_type": "stream",
     "text": [
      "1.915 (1.92, 1.91, masked)\n",
      "11.3 (masked, 11.3, masked)\n",
      "1.41 (1.41, 1.41, masked)\n",
      "13.61 (13.36, 13.86, masked)\n",
      "4.44 (4.44, masked, masked)\n",
      "6.16 (6.16, masked, masked)\n",
      "5.96 (masked, 5.96, masked)\n",
      "3.23 (masked, 3.23, masked)\n",
      "1.56 (masked, 1.56, masked)\n",
      "8.06 (8.06, masked, masked)\n",
      "7.12 (masked, 7.12, masked)\n",
      "12.89 (12.89, 12.89, masked)\n",
      "5.77 (masked, 5.77, masked)\n",
      "4.365 (4.39, 4.34, masked)\n",
      "2.47 (2.47, masked, masked)\n",
      "5.68 (masked, masked, 5.68)\n",
      "4.67 (4.67, 4.67, masked)\n",
      "5.596666666666667 (5.6, 5.68, 5.51)\n",
      "5.47 (5.51, 5.43, masked)\n",
      "1.59 (1.58, 1.6, masked)\n",
      "9.79 (masked, masked, 9.79)\n",
      "9.53 (masked, 9.53, masked)\n",
      "11.13 (10.96, 11.3, masked)\n",
      "2.42 (masked, 2.42, masked)\n"
     ]
    },
    {
     "name": "stderr",
     "output_type": "stream",
     "text": [
      "/Users/tsrice/opt/anaconda3/lib/python3.7/site-packages/numpy/core/_asarray.py:171: UserWarning: Warning: converting a masked element to nan.\n",
      "  return array(a, dtype, copy=False, order=order, subok=True)\n"
     ]
    },
    {
     "data": {
      "text/plain": [
       "[None,\n",
       " None,\n",
       " None,\n",
       " None,\n",
       " None,\n",
       " None,\n",
       " None,\n",
       " None,\n",
       " None,\n",
       " None,\n",
       " None,\n",
       " None,\n",
       " None,\n",
       " None,\n",
       " None,\n",
       " None,\n",
       " None,\n",
       " None,\n",
       " None,\n",
       " None,\n",
       " None,\n",
       " None,\n",
       " None,\n",
       " None]"
      ]
     },
     "execution_count": 146,
     "metadata": {},
     "output_type": "execute_result"
    }
   ],
   "source": [
    "[print(np.nanmean([x, y, z]), (x, y, z)) for x, y, z in zip(r1['Period-i1'][r1_per], r1['Period-i2'][r1_per], r1['Period-i1i2'][r1_per])]"
   ]
  },
  {
   "cell_type": "code",
   "execution_count": 129,
   "id": "d6bb7ab2",
   "metadata": {},
   "outputs": [
    {
     "data": {
      "text/plain": [
       "[<matplotlib.lines.Line2D at 0x7fc901650c90>]"
      ]
     },
     "execution_count": 129,
     "metadata": {},
     "output_type": "execute_result"
    },
    {
     "data": {
      "image/png": "[encoded data removed]",
      "text/plain": [
       "<Figure size 432x288 with 1 Axes>"
      ]
     },
     "metadata": {
      "needs_background": "light"
     },
     "output_type": "display_data"
    }
   ],
   "source": [
    "plt.plot(r1['Period-i1'], r1['Period-i2'], 'k.')\n",
    "plt.plot(r1['Period-i1'], r1['Period-i1i2'], 'r.')\n",
    "plt.plot(r1['Period-i2'], r1['Period-i1i2'], 'b.')"
   ]
  },
  {
   "cell_type": "code",
   "execution_count": null,
   "id": "110cc0bc",
   "metadata": {},
   "outputs": [],
   "source": [
    "# 2. Ghosh"
   ]
  },
  {
   "cell_type": "code",
   "execution_count": 4,
   "id": "0d20f7fc",
   "metadata": {},
   "outputs": [],
   "source": [
    "g1 = astropy.table.Table.read(\"../literature_periods/Ghosh21_Fast photometric variability of very low mass stars in IC 348_ detection of superflare in an M dwarf _ Oxford Academic.html\", format='ascii.html')"
   ]
  },
  {
   "cell_type": "code",
   "execution_count": 84,
   "id": "c44fa957",
   "metadata": {},
   "outputs": [
    {
     "data": {
      "text/html": [
       "<i>Table length=22</i>\n",
       "<table id=\"table140501213897936\" class=\"table-striped table-bordered table-condensed\">\n",
       "<thead><tr><th>Star\n",
       "            .</th><th>LRL\n",
       "            .</th><th>Identifier\n",
       "            .</th><th>RA\n",
       "            .</th><th>Dec.\n",
       "            .</th><th>Tempb, c, h\n",
       "            .</th><th>J (maga)\n",
       "            .</th><th>I(magb, e, i)\n",
       "            .</th><th>SpTb\n",
       "            .</th><th>Period\n",
       "            .</th><th>Period (h)\n",
       "            .</th><th>Rms\n",
       "            .</th></tr></thead>\n",
       "<thead><tr><th>int64</th><th>int64</th><th>str24</th><th>str11</th><th>str12</th><th>str4</th><th>str7</th><th>float64</th><th>str6</th><th>str5</th><th>str5</th><th>float64</th></tr></thead>\n",
       "<tr><td>1</td><td>1679</td><td>2MASS J03445205+3158252</td><td>03 44 52.05</td><td>+31 58 25.2</td><td>3342</td><td>13.796</td><td>16.86</td><td>M3.5f</td><td>–</td><td>3.52</td><td>0.091</td></tr>\n",
       "<tr><td>3</td><td>1881</td><td>2MASS J03443379+3158302</td><td>03:44:33.64</td><td>+31:58:29.1</td><td>3270</td><td>13.488</td><td>16.04</td><td>M3.75f</td><td>3.9c</td><td>5.72</td><td>0.026</td></tr>\n",
       "<tr><td>4</td><td>--</td><td>[AMB2013] CFHT-IC 348 17</td><td>03:44:49.43</td><td>+31:58:44.3</td><td>–</td><td>15.598g</td><td>17.91</td><td>–</td><td>–</td><td>–</td><td>0.041</td></tr>\n",
       "<tr><td>9</td><td>363</td><td>2MASS J03441726+3200152</td><td>03:44:17.27</td><td>+32:00:15.4</td><td>2600</td><td>14.92</td><td>17.95</td><td>M8</td><td>–</td><td>–</td><td>0.058</td></tr>\n",
       "<tr><td>12</td><td>205</td><td>2MASS J03442980+3200545</td><td>03:44:29.80</td><td>+32:00:54.6</td><td>2840</td><td>13.668</td><td>16.66</td><td>M6j</td><td>--</td><td>10.92</td><td>0.014</td></tr>\n",
       "<tr><td>25</td><td>140</td><td>2MASS J03443568+3203035</td><td>03 44 35.68</td><td>+32 03 03.5</td><td>3380</td><td>14.128</td><td>17.36</td><td>M3.25</td><td>12c</td><td>–</td><td>0.07</td></tr>\n",
       "<tr><td>29</td><td>300</td><td>2MASS J03443896+3203196</td><td>03 44 38.98</td><td>+32 03 19.8</td><td>2990</td><td>14.127</td><td>17.24</td><td>M5</td><td>–</td><td>10.26</td><td>0.016</td></tr>\n",
       "<tr><td>...</td><td>...</td><td>...</td><td>...</td><td>...</td><td>...</td><td>...</td><td>...</td><td>...</td><td>...</td><td>...</td><td>...</td></tr>\n",
       "<tr><td>172</td><td>116</td><td>2MASS J03442155+3210174</td><td>03 44 21.56</td><td>+32 10 17.4</td><td>3632</td><td>12.620</td><td>15.28</td><td>M1.5</td><td>7.0c</td><td>–</td><td>0.058</td></tr>\n",
       "<tr><td>176</td><td>75</td><td>2MASS J03444376+3210304</td><td>03 44 43.76</td><td>+32 10 30.4</td><td>–</td><td>12.294</td><td>14.91</td><td>M1.25</td><td>10.6c</td><td>–</td><td>0.089</td></tr>\n",
       "<tr><td>181</td><td>41</td><td>2MASS J03442161+3210376</td><td>03:44:21.61</td><td>+32:10:37.7</td><td>4060</td><td>12.490</td><td>14.99</td><td>K7b</td><td>2.8c</td><td>9.93</td><td>0.025</td></tr>\n",
       "<tr><td>233</td><td>157</td><td>2MASS J03441857+3212530</td><td>03:44:18.58</td><td>+32:12:53.1</td><td>3451</td><td>13.816</td><td>15.92</td><td>M2.75</td><td>–</td><td>–</td><td>0.087</td></tr>\n",
       "<tr><td>322</td><td>437</td><td>2MASS J03435638+3209591</td><td>03:43:56.39</td><td>+32:09:59.1</td><td>2838</td><td>15.473</td><td>18.61</td><td>M7.25b</td><td>–</td><td>4.24</td><td>0.0105</td></tr>\n",
       "<tr><td>323</td><td>478</td><td>2MASS J03443593+3211175</td><td>03:44:35.94</td><td>+32:11:17.5</td><td>2810</td><td>15.890</td><td>18.52</td><td>M6.25h</td><td>–</td><td>–</td><td>0.088</td></tr>\n",
       "<tr><td>327</td><td>--</td><td>Cl* IC 348 LNB 298</td><td>03:44:39.92</td><td>+32:06:12.87</td><td>–</td><td>15.9</td><td>19.02</td><td>–</td><td>–</td><td>8.63</td><td>0.1</td></tr>\n",
       "</table>"
      ],
      "text/plain": [
       "<Table length=22>\n",
       "Star\n",
       "            . LRL\n",
       "            . ... Rms\n",
       "            .\n",
       "      int64              int64       ...      float64     \n",
       "------------------ ----------------- ... -----------------\n",
       "                 1              1679 ...             0.091\n",
       "                 3              1881 ...             0.026\n",
       "                 4                -- ...             0.041\n",
       "                 9               363 ...             0.058\n",
       "                12               205 ...             0.014\n",
       "                25               140 ...              0.07\n",
       "                29               300 ...             0.016\n",
       "               ...               ... ...               ...\n",
       "               172               116 ...             0.058\n",
       "               176                75 ...             0.089\n",
       "               181                41 ...             0.025\n",
       "               233               157 ...             0.087\n",
       "               322               437 ...            0.0105\n",
       "               323               478 ...             0.088\n",
       "               327                -- ...               0.1"
      ]
     },
     "execution_count": 84,
     "metadata": {},
     "output_type": "execute_result"
    }
   ],
   "source": [
    "g1"
   ]
  },
  {
   "cell_type": "code",
   "execution_count": 97,
   "id": "977f1cbd",
   "metadata": {},
   "outputs": [],
   "source": [
    "g1_ra_str = g1['RA\\n            .']\n",
    "g1_de_str = g1['Dec.\\n            .']\n",
    "\n",
    "g1_c = SkyCoord(ra=g1_ra_str, dec=g1_de_str,  unit=(u.hourangle, u.deg))"
   ]
  },
  {
   "cell_type": "code",
   "execution_count": 98,
   "id": "b4f5d848",
   "metadata": {},
   "outputs": [
    {
     "data": {
      "text/plain": [
       "<SkyCoord (ICRS): (ra, dec) in deg\n",
       "    [(56.216875  , 31.97366667), (56.14016667, 31.97475   ),\n",
       "     (56.20595833, 31.97897222), (56.07195833, 32.00427778),\n",
       "     (56.12416667, 32.01516667), (56.14866667, 32.05097222),\n",
       "     (56.16241667, 32.0555    ), (56.134875  , 32.05761111),\n",
       "     (56.08775   , 32.10447222), (56.141875  , 32.11580556),\n",
       "     (56.12129167, 32.13083333), (56.18575   , 32.13680556),\n",
       "     (56.16333333, 32.13711111), (56.06491667, 32.15605556),\n",
       "     (56.07583333, 32.16647222), (56.08983333, 32.1715    ),\n",
       "     (56.18233333, 32.17511111), (56.09004167, 32.17713889),\n",
       "     (56.07741667, 32.21475   ), (55.98495833, 32.16641667),\n",
       "     (56.14975   , 32.18819444), (56.16633333, 32.103575  )]>"
      ]
     },
     "execution_count": 98,
     "metadata": {},
     "output_type": "execute_result"
    }
   ],
   "source": [
    "g1_c"
   ]
  },
  {
   "cell_type": "code",
   "execution_count": 38,
   "id": "70de2166",
   "metadata": {},
   "outputs": [
    {
     "data": {
      "text/plain": [
       "['Star\\n            .',\n",
       " 'LRL\\n            .',\n",
       " 'Identifier\\n            .',\n",
       " 'RA\\n            .',\n",
       " 'Dec.\\n            .',\n",
       " 'Tempb, c, h\\n            .',\n",
       " 'J (maga)\\n            .',\n",
       " 'I(magb, e, i)\\n            .',\n",
       " 'SpTb\\n            .',\n",
       " 'Period\\n            .',\n",
       " 'Period (h)\\n            .',\n",
       " 'Rms\\n            .']"
      ]
     },
     "execution_count": 38,
     "metadata": {},
     "output_type": "execute_result"
    }
   ],
   "source": [
    "g1.colnames"
   ]
  },
  {
   "cell_type": "code",
   "execution_count": 46,
   "id": "488a94b1",
   "metadata": {},
   "outputs": [
    {
     "data": {
      "text/plain": [
       "[numpy.str_,\n",
       " numpy.str_,\n",
       " numpy.str_,\n",
       " numpy.str_,\n",
       " numpy.ma.core.MaskedConstant,\n",
       " numpy.str_,\n",
       " numpy.str_,\n",
       " numpy.str_,\n",
       " numpy.str_,\n",
       " numpy.str_,\n",
       " numpy.str_,\n",
       " numpy.str_,\n",
       " numpy.str_,\n",
       " numpy.str_,\n",
       " numpy.str_,\n",
       " numpy.str_,\n",
       " numpy.str_,\n",
       " numpy.str_,\n",
       " numpy.str_,\n",
       " numpy.str_,\n",
       " numpy.str_,\n",
       " numpy.str_]"
      ]
     },
     "execution_count": 46,
     "metadata": {},
     "output_type": "execute_result"
    }
   ],
   "source": [
    "[type(x) for x in g1['Period\\n            .']]"
   ]
  },
  {
   "cell_type": "code",
   "execution_count": 189,
   "id": "afea8a91",
   "metadata": {},
   "outputs": [],
   "source": [
    "# per_str = [(x[:-1]) for x in g1['Period\\n            .'] if type(x)==np.str_]\n",
    "per_str = [(x[:-1]) if type(x)==np.str_ else '' for x in g1['Period\\n            .']]\n",
    "per_str2 = ['nan' if x=='' else x for x in per_str]\n",
    "per = [float(x) for x in per_str if len(x) > 1]\n",
    "\n",
    "g1_is_per = (g1['Period\\n            .'] != '–') | (g1['Period (h)\\n            .'] != '–')"
   ]
  },
  {
   "cell_type": "code",
   "execution_count": 179,
   "id": "05fa3cb0",
   "metadata": {},
   "outputs": [],
   "source": [
    "# per_hr = [float(x) for x in g1['Period (h)\\n            .'] if x != '–']\n",
    "# per_str = [(x[:-1]) if type(x)==np.str_ else '' for x in g1['Period\\n            .']]\n",
    "per_hr = [float(x) if x != '–' else np.nan for x in g1['Period (h)\\n            .']]\n"
   ]
  },
  {
   "cell_type": "code",
   "execution_count": 194,
   "id": "4b2de040",
   "metadata": {},
   "outputs": [
    {
     "data": {
      "text/plain": [
       "array([ nan,  3.9,  nan,  nan,  nan, 12. ,  nan,  1.6,  nan,  3.4,  nan,\n",
       "        nan,  nan,  0.6,  2.7,  7. , 10.6,  2.8,  nan,  nan,  nan,  nan])"
      ]
     },
     "execution_count": 194,
     "metadata": {},
     "output_type": "execute_result"
    }
   ],
   "source": [
    "np.array(per_str2).astype(float)"
   ]
  },
  {
   "cell_type": "code",
   "execution_count": 193,
   "id": "83fb9e03",
   "metadata": {},
   "outputs": [
    {
     "data": {
      "text/plain": [
       "[<matplotlib.lines.Line2D at 0x7fc8e5c94c10>]"
      ]
     },
     "execution_count": 193,
     "metadata": {},
     "output_type": "execute_result"
    },
    {
     "data": {
      "image/png": "[encoded data removed]",
      "text/plain": [
       "<Figure size 432x288 with 1 Axes>"
      ]
     },
     "metadata": {
      "needs_background": "light"
     },
     "output_type": "display_data"
    }
   ],
   "source": [
    "# per_str, per_hr\n",
    "\n",
    "plt.plot(np.array(per_str2).astype(float), np.array(per_hr)/24, 'k.')\n",
    "# plt.plot([0,10], [0,10], '--')"
   ]
  },
  {
   "cell_type": "code",
   "execution_count": 207,
   "id": "acfe5eb6",
   "metadata": {},
   "outputs": [
    {
     "name": "stderr",
     "output_type": "stream",
     "text": [
      "/Users/tsrice/opt/anaconda3/lib/python3.7/site-packages/ipykernel_launcher.py:1: RuntimeWarning: All-NaN axis encountered\n",
      "  \"\"\"Entry point for launching an IPython kernel.\n"
     ]
    },
    {
     "data": {
      "text/plain": [
       "array([ 0.14666667,  3.9       ,         nan,         nan,  0.455     ,\n",
       "       12.        ,  0.4275    ,  1.6       ,  0.46208333,  3.4       ,\n",
       "        0.33333333,  0.39333333,         nan,  0.6       ,  2.7       ,\n",
       "        7.        , 10.6       ,  2.8       ,         nan,  0.17666667,\n",
       "               nan,  0.35958333])"
      ]
     },
     "execution_count": 207,
     "metadata": {},
     "output_type": "execute_result"
    }
   ],
   "source": [
    "g1_periods = np.nanmax([np.array(per_str2).astype(float), np.array(per_hr)/24] , axis=0)\n",
    "g1_periods"
   ]
  },
  {
   "cell_type": "code",
   "execution_count": 203,
   "id": "0babba9c",
   "metadata": {},
   "outputs": [
    {
     "name": "stdout",
     "output_type": "stream",
     "text": [
      "P (d)  P (d)  P (hr)\n",
      "--------------------\n",
      "  nan,  0.15,  3.52\n",
      " 3.90,  0.24,  5.72\n",
      "  nan,   nan,   nan\n",
      "  nan,   nan,   nan\n",
      "  nan,  0.46, 10.92\n",
      "12.00,   nan,   nan\n",
      "  nan,  0.43, 10.26\n",
      " 1.60,   nan,   nan\n",
      "  nan,  0.46, 11.09\n",
      " 3.40,   nan,   nan\n",
      "  nan,  0.33,  8.00\n",
      "  nan,  0.39,  9.44\n",
      "  nan,   nan,   nan\n",
      " 0.60,   nan,   nan\n",
      " 2.70,   nan,   nan\n",
      " 7.00,   nan,   nan\n",
      "10.60,   nan,   nan\n",
      " 2.80,  0.41,  9.93\n",
      "  nan,   nan,   nan\n",
      "  nan,  0.18,  4.24\n",
      "  nan,   nan,   nan\n",
      "  nan,  0.36,  8.63\n"
     ]
    }
   ],
   "source": [
    "print(\"P (d)  P (d)  P (hr)\")\n",
    "print(\"--------------------\")\n",
    "for (x, y, z) in zip(np.array(per_str2).astype(float), np.array(per_hr)/24, per_hr):\n",
    "    print(f\"{x:5.2f}, {y:5.2f}, {z:5.2f}\")"
   ]
  },
  {
   "cell_type": "code",
   "execution_count": 101,
   "id": "43607e7c",
   "metadata": {},
   "outputs": [
    {
     "data": {
      "image/png": "[encoded data removed]",
      "text/plain": [
       "<Figure size 288x288 with 1 Axes>"
      ]
     },
     "metadata": {
      "needs_background": "light"
     },
     "output_type": "display_data"
    }
   ],
   "source": [
    "# map for g1\n",
    "\n",
    "# r1_ra_deg = r1['RAdeg']\n",
    "# r1_de_deg = r1['DEdeg']\n",
    "plt.figure(figsize=(4,4))\n",
    "# plt.plot(*box_sequence(bramin, bramax, bdemin, bdemax))\n",
    "plt.plot(*box_sequence(*ic_coords))\n",
    "\n",
    "\n",
    "plt.plot(g1_c.ra, g1_c.dec, 'k.')\n",
    "plt.plot(g1_c.ra[g1_is_per], g1_c.dec[g1_is_per], 'r.')\n",
    "# plt.plot(r1_ra_deg[r1_per], r1_de_deg[r1_per], 'r.')\n",
    "plt.gca().invert_xaxis()"
   ]
  },
  {
   "cell_type": "code",
   "execution_count": 63,
   "id": "ed4406fc",
   "metadata": {},
   "outputs": [
    {
     "data": {
      "text/plain": [
       "(array([10.,  0.,  0.,  0.,  0.,  0.,  0.,  0.,  0.,  0.]),\n",
       " array([ 0. ,  1.2,  2.4,  3.6,  4.8,  6. ,  7.2,  8.4,  9.6, 10.8, 12. ]),\n",
       " <BarContainer object of 10 artists>)"
      ]
     },
     "execution_count": 63,
     "metadata": {},
     "output_type": "execute_result"
    },
    {
     "data": {
      "image/png": "[encoded data removed]",
      "text/plain": [
       "<Figure size 432x288 with 1 Axes>"
      ]
     },
     "metadata": {
      "needs_background": "light"
     },
     "output_type": "display_data"
    }
   ],
   "source": [
    "plt.hist(per, range=[0, 12])\n",
    "plt.hist(np.array(per_hr) / 24, range=[0, 12])\n"
   ]
  },
  {
   "cell_type": "code",
   "execution_count": 59,
   "id": "3374a8ac",
   "metadata": {},
   "outputs": [
    {
     "name": "stdout",
     "output_type": "stream",
     "text": [
      "[3.52, 5.72, 10.92, 10.26, 11.09, 8.0, 9.44, 9.93, 4.24, 8.63]\n"
     ]
    }
   ],
   "source": []
  },
  {
   "cell_type": "code",
   "execution_count": null,
   "id": "bf2c7113",
   "metadata": {},
   "outputs": [],
   "source": [
    "plt.hist(g1[])"
   ]
  },
  {
   "cell_type": "code",
   "execution_count": null,
   "id": "ebcc642d",
   "metadata": {},
   "outputs": [],
   "source": [
    "# 3. Wang."
   ]
  },
  {
   "cell_type": "code",
   "execution_count": 108,
   "id": "19687931",
   "metadata": {},
   "outputs": [],
   "source": [
    "w1 = astropy.table.Table.read(\"../literature_periods/Wang2023_raaacd58bt3_ascii.txt\", format='ascii', delimiter='\\t', header_start=2, data_start=4, data_end=238)"
   ]
  },
  {
   "cell_type": "code",
   "execution_count": 109,
   "id": "464b0209",
   "metadata": {},
   "outputs": [
    {
     "data": {
      "text/html": [
       "<i>Table length=234</i>\n",
       "<table id=\"table140501273803280\" class=\"table-striped table-bordered table-condensed\">\n",
       "<thead><tr><th>Identifier</th><th>R.A.</th><th>Decl.</th><th>SPT</th><th>Disk ^a</th><th>CTTS ^b</th><th>$\\left\\langle r\\right\\rangle $</th><th>nu</th><th>Amplitude</th><th>Timescale</th><th>Q</th><th>M</th><th>Category</th><th>Angle</th></tr></thead>\n",
       "<thead><tr><th>str28</th><th>float64</th><th>float64</th><th>str4</th><th>str1</th><th>str5</th><th>float64</th><th>float64</th><th>float64</th><th>float64</th><th>float64</th><th>float64</th><th>str6</th><th>str5</th></tr></thead>\n",
       "<tr><td>Gaia EDR3 124009935063344128</td><td>51.245429</td><td>31.010398</td><td>M3.1</td><td>N</td><td>N</td><td>16.12</td><td>0.0078</td><td>0.19</td><td>50.36</td><td>0.81</td><td>0.08</td><td>QPS</td><td>68.7</td></tr>\n",
       "<tr><td>Gaia EDR3 123994679339516800</td><td>51.281136</td><td>30.828328</td><td>M2.8</td><td>N</td><td>N</td><td>16.59</td><td>0.0065</td><td>0.18</td><td>3.18</td><td>0.85</td><td>-0.04</td><td>QPS</td><td>41.0</td></tr>\n",
       "<tr><td>2MASS J03250943+3046215</td><td>51.289291</td><td>30.772661</td><td>K9.3</td><td>Y</td><td>Y</td><td>18.12</td><td>0.0299</td><td>0.96</td><td>8.31</td><td>0.92</td><td>-0.16</td><td>S</td><td>62.1</td></tr>\n",
       "<tr><td>Gaia EDR3 123998252752298752</td><td>51.302425</td><td>30.989481</td><td>K9.5</td><td>Y</td><td>Y</td><td>13.29</td><td>0.025</td><td>0.31</td><td>11.9</td><td>0.88</td><td>-0.09</td><td>S</td><td>50.9</td></tr>\n",
       "<tr><td>Gaia EDR3 123996874066752640</td><td>51.379737</td><td>30.918846</td><td>M5.2</td><td>N</td><td>N</td><td>17.62</td><td>0.009</td><td>0.33</td><td>34.59</td><td>0.65</td><td>-0.24</td><td>QPS</td><td>44.9</td></tr>\n",
       "<tr><td>2MASS J03253315+3055443</td><td>51.388165</td><td>30.928993</td><td>M0.9</td><td>Y</td><td>Y</td><td>15.74</td><td>0.0701</td><td>1.61</td><td>4.78</td><td>0.72</td><td>0.14</td><td>QPS</td><td>68.2</td></tr>\n",
       "<tr><td>Gaia EDR3 124018318839496064</td><td>51.407963</td><td>31.139139</td><td>M0.2</td><td>Y</td><td>Y</td><td>15.61</td><td>0.0576</td><td>1.1</td><td>0.86</td><td>0.93</td><td>0.45</td><td>APD</td><td>78.0</td></tr>\n",
       "<tr><td>Gaia EDR3 123999936379477504</td><td>51.445275</td><td>30.955693</td><td>M4.6</td><td>Y</td><td>Y</td><td>16.83</td><td>0.0353</td><td>0.86</td><td>121.39</td><td>0.85</td><td>0.4</td><td>L</td><td>71.9</td></tr>\n",
       "<tr><td>2MASS J03254886+3057258</td><td>51.45359</td><td>30.957169</td><td>K4.5</td><td>Y</td><td>cdots</td><td>14.58</td><td>0.0516</td><td>1.03</td><td>143.26</td><td>0.93</td><td>0.53</td><td>L</td><td>34.2</td></tr>\n",
       "<tr><td>2MASS J03255275+3054490</td><td>51.469818</td><td>30.913614</td><td>K5.8</td><td>Y</td><td>N</td><td>15.05</td><td>0.0184</td><td>0.28</td><td>1.17</td><td>0.88</td><td>0.68</td><td>APD</td><td>79.1</td></tr>\n",
       "<tr><td>Gaia EDR3 124002856957227648</td><td>51.582532</td><td>31.110303</td><td>K7</td><td>Y</td><td>N</td><td>16.09</td><td>0.0351</td><td>0.72</td><td>9.68</td><td>0.8</td><td>0.77</td><td>QPD</td><td>77.4</td></tr>\n",
       "<tr><td>Gaia EDR3 124030138589484672</td><td>51.617565</td><td>31.202155</td><td>K7</td><td>Y</td><td>Y</td><td>14.47</td><td>0.0653</td><td>1.24</td><td>5.76</td><td>0.78</td><td>0.72</td><td>QPD</td><td>78.1</td></tr>\n",
       "<tr><td>2MASS J03274148+3020166</td><td>51.922852</td><td>30.337971</td><td>K8.1</td><td>Y</td><td>Y</td><td>14.61</td><td>0.0185</td><td>0.38</td><td>3.15</td><td>0.65</td><td>0.19</td><td>QPS</td><td>72.9</td></tr>\n",
       "<tr><td>Gaia EDR3 124034399197073024</td><td>51.926947</td><td>31.285487</td><td>M2.8</td><td>N</td><td>N</td><td>16.23</td><td>0.0074</td><td>0.24</td><td>9.61</td><td>0.06</td><td>0.01</td><td>P</td><td>cdots</td></tr>\n",
       "<tr><td>Gaia EDR3 124034399197072896</td><td>51.93086</td><td>31.288977</td><td>K4.5</td><td>N</td><td>N</td><td>14.36</td><td>0.0054</td><td>0.15</td><td>0.82</td><td>0.61</td><td>-0.41</td><td>B</td><td>cdots</td></tr>\n",
       "<tr><td>...</td><td>...</td><td>...</td><td>...</td><td>...</td><td>...</td><td>...</td><td>...</td><td>...</td><td>...</td><td>...</td><td>...</td><td>...</td><td>...</td></tr>\n",
       "<tr><td>2MASS J03451782+3212058</td><td>56.324292</td><td>32.201639</td><td>M3.8</td><td>Y</td><td>cdots</td><td>18.32</td><td>0.0148</td><td>0.73</td><td>198.99</td><td>0.48</td><td>-0.53</td><td>L</td><td>51.9</td></tr>\n",
       "<tr><td>2MASS J03451799+3219330</td><td>56.325</td><td>32.325833</td><td>M3.5</td><td>N</td><td>N</td><td>17.99</td><td>0.0136</td><td>0.62</td><td>7.67</td><td>0.74</td><td>-0.29</td><td>QPS ^c</td><td>44.6</td></tr>\n",
       "<tr><td>2MASS J03452046+3206344</td><td>56.33525</td><td>32.109556</td><td>M1</td><td>Y</td><td>N</td><td>15.19</td><td>0.0206</td><td>0.41</td><td>3.16</td><td>0.86</td><td>0.54</td><td>QPD</td><td>69.0</td></tr>\n",
       "<tr><td>Gaia EDR3 216729139294155520</td><td>56.340596</td><td>32.535158</td><td>M3.6</td><td>N</td><td>N</td><td>17.57</td><td>0.0082</td><td>0.43</td><td>5.08</td><td>0.69</td><td>-0.08</td><td>QPS</td><td>45.4</td></tr>\n",
       "<tr><td>2MASS J03452214+3202040</td><td>56.342292</td><td>32.034444</td><td>M4</td><td>N</td><td>N</td><td>17.38</td><td>0.0057</td><td>0.31</td><td>0.97</td><td>0.79</td><td>-0.13</td><td>MP</td><td>43.6</td></tr>\n",
       "<tr><td>Gaia EDR3 216714158448241792</td><td>56.347417</td><td>32.410264</td><td>K5.6</td><td>N</td><td>N</td><td>15.77</td><td>0.0073</td><td>0.18</td><td>8.51</td><td>0.76</td><td>0.36</td><td>QPD</td><td>43.6</td></tr>\n",
       "<tr><td>2MASS J03452514+3209301</td><td>56.354792</td><td>32.158389</td><td>M3.8</td><td>Y</td><td>Y</td><td>16.52</td><td>0.0184</td><td>0.79</td><td>119.02</td><td>0.83</td><td>-0.91</td><td>L</td><td>60.2</td></tr>\n",
       "<tr><td>2MASS J03453061+3201557</td><td>56.377542</td><td>32.032111</td><td>K6</td><td>N</td><td>N</td><td>14.49</td><td>0.007</td><td>0.14</td><td>2.24</td><td>0.68</td><td>-0.04</td><td>QPS</td><td>49.4</td></tr>\n",
       "<tr><td>2MASS J03453230+3203150</td><td>56.384583</td><td>32.054139</td><td>M3</td><td>N</td><td>cdots</td><td>16.33</td><td>0.0108</td><td>0.33</td><td>0.71</td><td>0.08</td><td>-0.5</td><td>P ^c</td><td>86.7</td></tr>\n",
       "<tr><td>2MASS J03453545+3203259</td><td>56.397708</td><td>32.057167</td><td>M4</td><td>N</td><td>cdots</td><td>17.1</td><td>0.008</td><td>0.26</td><td>1.57</td><td>0.49</td><td>-0.06</td><td>P ^c</td><td>cdots</td></tr>\n",
       "<tr><td>2MASS J03453551+3156257</td><td>56.397968</td><td>31.940475</td><td>K8</td><td>N</td><td>N</td><td>16.94</td><td>0.0171</td><td>0.31</td><td>9.3</td><td>0.88</td><td>-0.2</td><td>QPS ^c</td><td>25.7</td></tr>\n",
       "<tr><td>2MASS J03454675+3228487</td><td>56.444813</td><td>32.480206</td><td>K7.5</td><td>N</td><td>N</td><td>17.42</td><td>0.0109</td><td>0.55</td><td>10.42</td><td>0.53</td><td>-0.17</td><td>P ^c</td><td>cdots</td></tr>\n",
       "<tr><td>Gaia EDR3 216418321101566464</td><td>56.521716</td><td>31.647741</td><td>M0.3</td><td>N</td><td>N</td><td>16.53</td><td>0.0065</td><td>0.28</td><td>7.46</td><td>0.58</td><td>-0.1</td><td>QPS</td><td>49.6</td></tr>\n",
       "<tr><td>Gaia EDR3 216643480466527744</td><td>56.693603</td><td>32.030345</td><td>K7</td><td>N</td><td>N</td><td>15.04</td><td>0.0072</td><td>0.14</td><td>4.44</td><td>0.83</td><td>0.01</td><td>QPS</td><td>47.6</td></tr>\n",
       "<tr><td>2MASS J03465739+3249173</td><td>56.739124</td><td>32.821499</td><td>M5.3</td><td>Y</td><td>cdots</td><td>18.54</td><td>0.0089</td><td>0.71</td><td>30.06</td><td>0.7</td><td>-0.12</td><td>QPS</td><td>42.5</td></tr>\n",
       "<tr><td>2MASS J03474711+3304034</td><td>56.946308</td><td>33.067616</td><td>K4.9</td><td>Y</td><td>Y</td><td>15.41</td><td>0.0242</td><td>0.32</td><td>118.25</td><td>0.82</td><td>0.97</td><td>L</td><td>79.2</td></tr>\n",
       "</table>"
      ],
      "text/plain": [
       "<Table length=234>\n",
       "         Identifier             R.A.     Decl.   SPT  ...    Q       M    Category Angle\n",
       "           str28              float64   float64  str4 ... float64 float64   str6    str5\n",
       "---------------------------- --------- --------- ---- ... ------- ------- -------- -----\n",
       "Gaia EDR3 124009935063344128 51.245429 31.010398 M3.1 ...    0.81    0.08      QPS  68.7\n",
       "Gaia EDR3 123994679339516800 51.281136 30.828328 M2.8 ...    0.85   -0.04      QPS  41.0\n",
       "     2MASS J03250943+3046215 51.289291 30.772661 K9.3 ...    0.92   -0.16        S  62.1\n",
       "Gaia EDR3 123998252752298752 51.302425 30.989481 K9.5 ...    0.88   -0.09        S  50.9\n",
       "Gaia EDR3 123996874066752640 51.379737 30.918846 M5.2 ...    0.65   -0.24      QPS  44.9\n",
       "     2MASS J03253315+3055443 51.388165 30.928993 M0.9 ...    0.72    0.14      QPS  68.2\n",
       "Gaia EDR3 124018318839496064 51.407963 31.139139 M0.2 ...    0.93    0.45      APD  78.0\n",
       "Gaia EDR3 123999936379477504 51.445275 30.955693 M4.6 ...    0.85     0.4        L  71.9\n",
       "     2MASS J03254886+3057258  51.45359 30.957169 K4.5 ...    0.93    0.53        L  34.2\n",
       "     2MASS J03255275+3054490 51.469818 30.913614 K5.8 ...    0.88    0.68      APD  79.1\n",
       "Gaia EDR3 124002856957227648 51.582532 31.110303   K7 ...     0.8    0.77      QPD  77.4\n",
       "Gaia EDR3 124030138589484672 51.617565 31.202155   K7 ...    0.78    0.72      QPD  78.1\n",
       "     2MASS J03274148+3020166 51.922852 30.337971 K8.1 ...    0.65    0.19      QPS  72.9\n",
       "Gaia EDR3 124034399197073024 51.926947 31.285487 M2.8 ...    0.06    0.01        P cdots\n",
       "Gaia EDR3 124034399197072896  51.93086 31.288977 K4.5 ...    0.61   -0.41        B cdots\n",
       "                         ...       ...       ...  ... ...     ...     ...      ...   ...\n",
       "     2MASS J03451782+3212058 56.324292 32.201639 M3.8 ...    0.48   -0.53        L  51.9\n",
       "     2MASS J03451799+3219330    56.325 32.325833 M3.5 ...    0.74   -0.29   QPS ^c  44.6\n",
       "     2MASS J03452046+3206344  56.33525 32.109556   M1 ...    0.86    0.54      QPD  69.0\n",
       "Gaia EDR3 216729139294155520 56.340596 32.535158 M3.6 ...    0.69   -0.08      QPS  45.4\n",
       "     2MASS J03452214+3202040 56.342292 32.034444   M4 ...    0.79   -0.13       MP  43.6\n",
       "Gaia EDR3 216714158448241792 56.347417 32.410264 K5.6 ...    0.76    0.36      QPD  43.6\n",
       "     2MASS J03452514+3209301 56.354792 32.158389 M3.8 ...    0.83   -0.91        L  60.2\n",
       "     2MASS J03453061+3201557 56.377542 32.032111   K6 ...    0.68   -0.04      QPS  49.4\n",
       "     2MASS J03453230+3203150 56.384583 32.054139   M3 ...    0.08    -0.5     P ^c  86.7\n",
       "     2MASS J03453545+3203259 56.397708 32.057167   M4 ...    0.49   -0.06     P ^c cdots\n",
       "     2MASS J03453551+3156257 56.397968 31.940475   K8 ...    0.88    -0.2   QPS ^c  25.7\n",
       "     2MASS J03454675+3228487 56.444813 32.480206 K7.5 ...    0.53   -0.17     P ^c cdots\n",
       "Gaia EDR3 216418321101566464 56.521716 31.647741 M0.3 ...    0.58    -0.1      QPS  49.6\n",
       "Gaia EDR3 216643480466527744 56.693603 32.030345   K7 ...    0.83    0.01      QPS  47.6\n",
       "     2MASS J03465739+3249173 56.739124 32.821499 M5.3 ...     0.7   -0.12      QPS  42.5\n",
       "     2MASS J03474711+3304034 56.946308 33.067616 K4.9 ...    0.82    0.97        L  79.2"
      ]
     },
     "execution_count": 109,
     "metadata": {},
     "output_type": "execute_result"
    }
   ],
   "source": [
    "w1"
   ]
  },
  {
   "cell_type": "code",
   "execution_count": 111,
   "id": "49991948",
   "metadata": {},
   "outputs": [
    {
     "data": {
      "text/html": [
       "&lt;Column name=&apos;R.A.&apos; dtype=&apos;float64&apos; length=234&gt;\n",
       "<table>\n",
       "<tr><td>51.245429</td></tr>\n",
       "<tr><td>51.281136</td></tr>\n",
       "<tr><td>51.289291</td></tr>\n",
       "<tr><td>51.302425</td></tr>\n",
       "<tr><td>51.379737</td></tr>\n",
       "<tr><td>51.388165</td></tr>\n",
       "<tr><td>51.407963</td></tr>\n",
       "<tr><td>51.445275</td></tr>\n",
       "<tr><td>51.45359</td></tr>\n",
       "<tr><td>51.469818</td></tr>\n",
       "<tr><td>51.582532</td></tr>\n",
       "<tr><td>51.617565</td></tr>\n",
       "<tr><td>51.922852</td></tr>\n",
       "<tr><td>51.926947</td></tr>\n",
       "<tr><td>51.93086</td></tr>\n",
       "<tr><td>52.107437</td></tr>\n",
       "<tr><td>52.176777</td></tr>\n",
       "<tr><td>52.192458</td></tr>\n",
       "<tr><td>...</td></tr>\n",
       "<tr><td>56.318125</td></tr>\n",
       "<tr><td>56.324292</td></tr>\n",
       "<tr><td>56.325</td></tr>\n",
       "<tr><td>56.33525</td></tr>\n",
       "<tr><td>56.340596</td></tr>\n",
       "<tr><td>56.342292</td></tr>\n",
       "<tr><td>56.347417</td></tr>\n",
       "<tr><td>56.354792</td></tr>\n",
       "<tr><td>56.377542</td></tr>\n",
       "<tr><td>56.384583</td></tr>\n",
       "<tr><td>56.397708</td></tr>\n",
       "<tr><td>56.397968</td></tr>\n",
       "<tr><td>56.444813</td></tr>\n",
       "<tr><td>56.521716</td></tr>\n",
       "<tr><td>56.693603</td></tr>\n",
       "<tr><td>56.739124</td></tr>\n",
       "<tr><td>56.946308</td></tr>\n",
       "</table>"
      ],
      "text/plain": [
       "<Column name='R.A.' dtype='float64' length=234>\n",
       "51.245429\n",
       "51.281136\n",
       "51.289291\n",
       "51.302425\n",
       "51.379737\n",
       "51.388165\n",
       "51.407963\n",
       "51.445275\n",
       " 51.45359\n",
       "51.469818\n",
       "51.582532\n",
       "51.617565\n",
       "51.922852\n",
       "51.926947\n",
       " 51.93086\n",
       "52.107437\n",
       "52.176777\n",
       "52.192458\n",
       "      ...\n",
       "56.318125\n",
       "56.324292\n",
       "   56.325\n",
       " 56.33525\n",
       "56.340596\n",
       "56.342292\n",
       "56.347417\n",
       "56.354792\n",
       "56.377542\n",
       "56.384583\n",
       "56.397708\n",
       "56.397968\n",
       "56.444813\n",
       "56.521716\n",
       "56.693603\n",
       "56.739124\n",
       "56.946308"
      ]
     },
     "execution_count": 111,
     "metadata": {},
     "output_type": "execute_result"
    }
   ],
   "source": [
    "w1['R.A.'].astype(float)\n"
   ]
  },
  {
   "cell_type": "code",
   "execution_count": 118,
   "id": "23581482",
   "metadata": {},
   "outputs": [],
   "source": [
    "w1_p = (w1['Category'] == 'P') | (w1['Category'] == 'P ^c')"
   ]
  },
  {
   "cell_type": "code",
   "execution_count": 119,
   "id": "40b2f564",
   "metadata": {},
   "outputs": [
    {
     "data": {
      "image/png": "[encoded data removed]",
      "text/plain": [
       "<Figure size 504x288 with 1 Axes>"
      ]
     },
     "metadata": {
      "needs_background": "light"
     },
     "output_type": "display_data"
    }
   ],
   "source": [
    "w1_ra_deg = w1['R.A.'].astype(float)\n",
    "w1_de_deg = w1['Decl.'].astype(float)\n",
    "plt.figure(figsize=(7,4))\n",
    "plt.plot(*box_sequence(bramin, bramax, bdemin, bdemax))\n",
    "plt.plot(*box_sequence(*ic_coords))\n",
    "\n",
    "plt.plot(w1_ra_deg, w1_de_deg, 'k.', ms=1.5)\n",
    "plt.plot(w1_ra_deg[w1_p], w1_de_deg[w1_p], 'r.')\n",
    "# plt.plot(r1_ra_deg[r1_per], r1_de_deg[r1_per], 'r.')\n",
    "\n",
    "# plt.plot(r1_ra_deg, r1_de_deg, 'k,')\n",
    "# plt.plot(r1_ra_deg[r1_per], r1_de_deg[r1_per], 'r.')\n",
    "plt.gca().invert_xaxis()"
   ]
  },
  {
   "cell_type": "code",
   "execution_count": 33,
   "id": "9a6a57f2",
   "metadata": {},
   "outputs": [
    {
     "data": {
      "text/plain": [
       "{'APD',\n",
       " 'B',\n",
       " 'B ^c',\n",
       " 'EYE',\n",
       " 'L',\n",
       " 'L ^c',\n",
       " 'MP',\n",
       " 'P',\n",
       " 'P ^c',\n",
       " 'QPD',\n",
       " 'QPD ^c',\n",
       " 'QPS',\n",
       " 'QPS ^c',\n",
       " 'S',\n",
       " 'U'}"
      ]
     },
     "execution_count": 33,
     "metadata": {},
     "output_type": "execute_result"
    }
   ],
   "source": [
    "set(w1['Category'])"
   ]
  },
  {
   "cell_type": "code",
   "execution_count": 36,
   "id": "4bdfa683",
   "metadata": {},
   "outputs": [
    {
     "data": {
      "text/plain": [
       "(array([14.,  5., 10.,  7.,  7.,  5.,  1.,  1.,  0.,  3.]),\n",
       " array([ 0.71 ,  2.356,  4.002,  5.648,  7.294,  8.94 , 10.586, 12.232,\n",
       "        13.878, 15.524, 17.17 ]),\n",
       " <BarContainer object of 10 artists>)"
      ]
     },
     "execution_count": 36,
     "metadata": {},
     "output_type": "execute_result"
    },
    {
     "data": {
      "image/png": "[encoded data removed]",
      "text/plain": [
       "<Figure size 432x288 with 1 Axes>"
      ]
     },
     "metadata": {
      "needs_background": "light"
     },
     "output_type": "display_data"
    }
   ],
   "source": [
    "plt.hist(s[w1_p])"
   ]
  },
  {
   "cell_type": "code",
   "execution_count": 6,
   "id": "981c0ab4",
   "metadata": {},
   "outputs": [],
   "source": [
    "#4.  Fritzy 2016"
   ]
  },
  {
   "cell_type": "code",
   "execution_count": 22,
   "id": "37b69711",
   "metadata": {},
   "outputs": [],
   "source": [
    "f1 = astropy.table.Table.read(\n",
    "    \"../literature_periods/Fritzewski16_Long-term photometry of IC 348 with the Young Exoplanet Transit Initiative network _ Oxford Academic.html\", \n",
    "    format='ascii.html')"
   ]
  },
  {
   "cell_type": "code",
   "execution_count": 120,
   "id": "31447219",
   "metadata": {},
   "outputs": [
    {
     "data": {
      "text/plain": [
       "['ID\\n            .',\n",
       " 'RA\\n            .',\n",
       " 'Dec.\\n            .',\n",
       " 'Identifier\\n            .',\n",
       " 'CB\\n            .',\n",
       " 'LRL\\n            .',\n",
       " 'P\\n            .',\n",
       " 'ΔP\\n            .',\n",
       " 'PCB\\n            .',\n",
       " 'Amplitude\\n            .',\n",
       " 'R\\n            .',\n",
       " '(V\\xa0−\\xa0R)\\n            .']"
      ]
     },
     "execution_count": 120,
     "metadata": {},
     "output_type": "execute_result"
    }
   ],
   "source": [
    "f1.colnames"
   ]
  },
  {
   "cell_type": "code",
   "execution_count": 122,
   "id": "16adce4e",
   "metadata": {},
   "outputs": [],
   "source": [
    "f1_ra_deg = f1[ 'RA\\n            .',]\n",
    "f1_de_deg = f1[ 'Dec.\\n            .',]"
   ]
  },
  {
   "cell_type": "code",
   "execution_count": 127,
   "id": "4f4c16a9",
   "metadata": {},
   "outputs": [
    {
     "data": {
      "image/png": "[encoded data removed]",
      "text/plain": [
       "<Figure size 288x288 with 1 Axes>"
      ]
     },
     "metadata": {
      "needs_background": "light"
     },
     "output_type": "display_data"
    }
   ],
   "source": [
    "plt.figure(figsize=(4,4))\n",
    "# plt.plot(*box_sequence(bramin, bramax, bdemin, bdemax))\n",
    "plt.plot(*box_sequence(*ic_coords))\n",
    "\n",
    "plt.plot(f1_ra_deg, f1_de_deg, 'r.')\n",
    "# plt.plot(w1_ra_deg[w1_p], w1_de_deg[w1_p], 'r.')\n",
    "# plt.plot(r1_ra_deg[r1_per], r1_de_deg[r1_per], 'r.')\n",
    "\n",
    "# plt.plot(r1_ra_deg, r1_de_deg, 'k,')\n",
    "# plt.plot(r1_ra_deg[r1_per], r1_de_deg[r1_per], 'r.')\n",
    "plt.gca().invert_xaxis()"
   ]
  },
  {
   "cell_type": "code",
   "execution_count": 23,
   "id": "dfa232b7",
   "metadata": {},
   "outputs": [
    {
     "data": {
      "text/html": [
       "<i>Table length=148</i>\n",
       "<table id=\"table140501235002576\" class=\"table-striped table-bordered table-condensed\">\n",
       "<thead><tr><th>ID\n",
       "            .</th><th>RA\n",
       "            .</th><th>Dec.\n",
       "            .</th><th>Identifier\n",
       "            .</th><th>CB\n",
       "            .</th><th>LRL\n",
       "            .</th><th>P\n",
       "            .</th><th>ΔP\n",
       "            .</th><th>PCB\n",
       "            .</th><th>Amplitude\n",
       "            .</th><th>R\n",
       "            .</th><th>(V − R)\n",
       "            .</th></tr></thead>\n",
       "<thead><tr><th>int64</th><th>float64</th><th>float64</th><th>str24</th><th>int64</th><th>str6</th><th>float64</th><th>float64</th><th>float64</th><th>float64</th><th>float64</th><th>float64</th></tr></thead>\n",
       "<tr><td>25</td><td>56.1632</td><td>32.1552</td><td>2MASS J03443916+3209182</td><td>109</td><td>9</td><td>1.64</td><td>0.02</td><td>1.6</td><td>0.094</td><td>13.3</td><td>1.4</td></tr>\n",
       "<tr><td>27</td><td>56.1539</td><td>32.1127</td><td>2MASS J03443694+3206453</td><td>95</td><td>6</td><td>1.69</td><td>0.02</td><td>1.7</td><td>0.072</td><td>11.7</td><td>1.1</td></tr>\n",
       "<tr><td>30</td><td>55.9635</td><td>32.2193</td><td>2MASS J03435123+3213091</td><td>--</td><td>22</td><td>0.788</td><td>0.003</td><td>--</td><td>0.12</td><td>11.9</td><td>0.9</td></tr>\n",
       "<tr><td>31</td><td>55.8851</td><td>32.5134</td><td>2MASS J03433241+3230477</td><td>--</td><td>--</td><td>0.78</td><td>0.01</td><td>--</td><td>0.019</td><td>11.9</td><td>1.4</td></tr>\n",
       "<tr><td>36</td><td>56.1</td><td>32.1834</td><td>2MASS J03442398+3211000</td><td>--</td><td>38</td><td>0.71</td><td>0.01</td><td>--</td><td>0.027</td><td>12.4</td><td>0.9</td></tr>\n",
       "<tr><td>38</td><td>55.7496</td><td>32.1541</td><td>2MASS J03425992+3209144</td><td>--</td><td>--</td><td>45.5</td><td>0.5</td><td>--</td><td>0.21</td><td>12.5</td><td>2.4</td></tr>\n",
       "<tr><td>49</td><td>55.5409</td><td>32.3859</td><td>2MASS J03420982+3223086</td><td>--</td><td>--</td><td>39.1</td><td>0.4</td><td>--</td><td>0.16</td><td>12.8</td><td>1.6</td></tr>\n",
       "<tr><td>...</td><td>...</td><td>...</td><td>...</td><td>...</td><td>...</td><td>...</td><td>...</td><td>...</td><td>...</td><td>...</td><td>...</td></tr>\n",
       "<tr><td>972</td><td>56.1083</td><td>32.275</td><td>2MASS J03442595+3216306</td><td>--</td><td>(972)</td><td>7.56</td><td>0.08</td><td>--</td><td>0.032</td><td>14.2</td><td>0.8</td></tr>\n",
       "<tr><td>973</td><td>56.0406</td><td>32.2868</td><td>2MASS J03440973+3217130</td><td>--</td><td>--</td><td>9.58</td><td>0.1</td><td>--</td><td>0.2</td><td>15.5</td><td>0.5</td></tr>\n",
       "<tr><td>974</td><td>55.6466</td><td>32.565</td><td>2MASS J03423520+3233544</td><td>6</td><td>--</td><td>0.422</td><td>0.002</td><td>0.2</td><td>0.25</td><td>--</td><td>--</td></tr>\n",
       "<tr><td>975</td><td>55.8014</td><td>32.5698</td><td>2MASS J03431233+3234114</td><td>17</td><td>--</td><td>0.446</td><td>0.002</td><td>0.2</td><td>0.35</td><td>--</td><td>--</td></tr>\n",
       "<tr><td>996</td><td>56.1153</td><td>32.5637</td><td>2MASS J03442766+3233495</td><td>73</td><td>--</td><td>1.59</td><td>0.02</td><td>2.6</td><td>0.094</td><td>15.8</td><td>1.5</td></tr>\n",
       "<tr><td>998</td><td>56.0927</td><td>32.5625</td><td>2MASS J03442225+3233449</td><td>--</td><td>--</td><td>12.13</td><td>0.12</td><td>--</td><td>0.043</td><td>14.5</td><td>1.0</td></tr>\n",
       "<tr><td>1001</td><td>56.4838</td><td>32.572</td><td>2MASS J03455608+3234190</td><td>--</td><td>--</td><td>11.88</td><td>0.12</td><td>--</td><td>0.13</td><td>15.8</td><td>1.2</td></tr>\n",
       "</table>"
      ],
      "text/plain": [
       "<Table length=148>\n",
       "ID\n",
       "            . RA\n",
       "            . ... R\n",
       "            . (V − R)\n",
       "            .\n",
       "     int64           float64      ...     float64            float64       \n",
       "---------------- ---------------- ... --------------- ---------------------\n",
       "              25          56.1632 ...            13.3                   1.4\n",
       "              27          56.1539 ...            11.7                   1.1\n",
       "              30          55.9635 ...            11.9                   0.9\n",
       "              31          55.8851 ...            11.9                   1.4\n",
       "              36             56.1 ...            12.4                   0.9\n",
       "              38          55.7496 ...            12.5                   2.4\n",
       "              49          55.5409 ...            12.8                   1.6\n",
       "             ...              ... ...             ...                   ...\n",
       "             972          56.1083 ...            14.2                   0.8\n",
       "             973          56.0406 ...            15.5                   0.5\n",
       "             974          55.6466 ...              --                    --\n",
       "             975          55.8014 ...              --                    --\n",
       "             996          56.1153 ...            15.8                   1.5\n",
       "             998          56.0927 ...            14.5                   1.0\n",
       "            1001          56.4838 ...            15.8                   1.2"
      ]
     },
     "execution_count": 23,
     "metadata": {},
     "output_type": "execute_result"
    }
   ],
   "source": [
    "f1"
   ]
  },
  {
   "cell_type": "code",
   "execution_count": 32,
   "id": "2c04ff07",
   "metadata": {},
   "outputs": [
    {
     "data": {
      "text/plain": [
       "(array([27., 27., 20., 19., 16., 12.,  6.,  4.,  3.,  1.]),\n",
       " array([ 0.,  2.,  4.,  6.,  8., 10., 12., 14., 16., 18., 20.]),\n",
       " <BarContainer object of 10 artists>)"
      ]
     },
     "execution_count": 32,
     "metadata": {},
     "output_type": "execute_result"
    },
    {
     "data": {
      "image/png": "[encoded data removed]",
      "text/plain": [
       "<Figure size 432x288 with 1 Axes>"
      ]
     },
     "metadata": {
      "needs_background": "light"
     },
     "output_type": "display_data"
    }
   ],
   "source": [
    "plt.hist(f1[\"P\\n            .\"], range=[0,20])"
   ]
  },
  {
   "cell_type": "code",
   "execution_count": 126,
   "id": "199fa421",
   "metadata": {
    "scrolled": false
   },
   "outputs": [
    {
     "name": "stdout",
     "output_type": "stream",
     "text": [
      "1.64\n",
      "1.69\n",
      "0.788\n",
      "0.78\n",
      "0.71\n",
      "45.5\n",
      "39.1\n",
      "0.1132\n",
      "4.13\n",
      "0.84\n",
      "3.01\n",
      "4.91\n",
      "32.7\n",
      "15.3\n",
      "11.51\n",
      "2.26\n",
      "21.5\n",
      "1.88\n",
      "5.48\n",
      "28.1\n",
      "7.89\n",
      "2.24\n",
      "7.01\n",
      "5.21\n",
      "11.0\n",
      "1.26\n",
      "5.49\n",
      "2.14\n",
      "12.15\n",
      "16.4\n",
      "8.37\n",
      "11.91\n",
      "21.0\n",
      "8.93\n",
      "2.18\n",
      "11.5\n",
      "6.28\n",
      "4.04\n",
      "4.04\n",
      "0.28\n",
      "29.9\n",
      "0.434\n",
      "3.34\n",
      "39.1\n",
      "6.11\n",
      "28.5\n",
      "8.69\n",
      "4.39\n",
      "14.04\n",
      "3.75\n",
      "0.766\n",
      "10.5\n",
      "8.23\n",
      "1.15\n",
      "2.67\n",
      "6.55\n",
      "0.6508\n",
      "9.5\n",
      "7.69\n",
      "9.7\n",
      "13.5\n",
      "3.91\n",
      "9.68\n",
      "0.705\n",
      "7.56\n",
      "5.06\n",
      "26.9\n",
      "6.96\n",
      "0.83\n",
      "12.1\n",
      "3.09\n",
      "2.47\n",
      "10.0\n",
      "1.67\n",
      "4.86\n",
      "6.14\n",
      "25.7\n",
      "7.09\n",
      "6.4\n",
      "12.1\n",
      "11.9\n",
      "8.62\n",
      "2.84\n",
      "8.17\n",
      "3.31\n",
      "9.28\n",
      "4.03\n",
      "4.94\n",
      "6.9\n",
      "8.14\n",
      "10.9\n",
      "7.59\n",
      "17.1\n",
      "17.3\n",
      "4.34\n",
      "2.88\n",
      "7.25\n",
      "7.55\n",
      "1.57\n",
      "220.0\n",
      "3.26\n",
      "8.67\n",
      "12.2\n",
      "0.47375\n",
      "7.7\n",
      "0.78\n",
      "3.34\n",
      "0.579\n",
      "4.95\n",
      "5.07\n",
      "2.61\n",
      "11.7\n",
      "2.39\n",
      "5.58\n",
      "2.39\n",
      "0.4882\n",
      "4.4\n",
      "10.33\n",
      "20.0\n",
      "10.69\n",
      "4.85\n",
      "2.34\n",
      "2.46\n",
      "3.25\n",
      "14.4\n",
      "7.72\n",
      "0.638\n",
      "6.96\n",
      "8.62\n",
      "4.6\n",
      "5.28\n",
      "1.82\n",
      "2.22\n",
      "2.62\n",
      "2.41\n",
      "2.79\n",
      "8.34\n",
      "3.98\n",
      "15.8\n",
      "8.36\n",
      "44.7\n",
      "7.56\n",
      "9.58\n",
      "0.422\n",
      "0.446\n",
      "1.59\n",
      "12.13\n",
      "11.88\n"
     ]
    },
    {
     "data": {
      "text/plain": [
       "[None,\n",
       " None,\n",
       " None,\n",
       " None,\n",
       " None,\n",
       " None,\n",
       " None,\n",
       " None,\n",
       " None,\n",
       " None,\n",
       " None,\n",
       " None,\n",
       " None,\n",
       " None,\n",
       " None,\n",
       " None,\n",
       " None,\n",
       " None,\n",
       " None,\n",
       " None,\n",
       " None,\n",
       " None,\n",
       " None,\n",
       " None,\n",
       " None,\n",
       " None,\n",
       " None,\n",
       " None,\n",
       " None,\n",
       " None,\n",
       " None,\n",
       " None,\n",
       " None,\n",
       " None,\n",
       " None,\n",
       " None,\n",
       " None,\n",
       " None,\n",
       " None,\n",
       " None,\n",
       " None,\n",
       " None,\n",
       " None,\n",
       " None,\n",
       " None,\n",
       " None,\n",
       " None,\n",
       " None,\n",
       " None,\n",
       " None,\n",
       " None,\n",
       " None,\n",
       " None,\n",
       " None,\n",
       " None,\n",
       " None,\n",
       " None,\n",
       " None,\n",
       " None,\n",
       " None,\n",
       " None,\n",
       " None,\n",
       " None,\n",
       " None,\n",
       " None,\n",
       " None,\n",
       " None,\n",
       " None,\n",
       " None,\n",
       " None,\n",
       " None,\n",
       " None,\n",
       " None,\n",
       " None,\n",
       " None,\n",
       " None,\n",
       " None,\n",
       " None,\n",
       " None,\n",
       " None,\n",
       " None,\n",
       " None,\n",
       " None,\n",
       " None,\n",
       " None,\n",
       " None,\n",
       " None,\n",
       " None,\n",
       " None,\n",
       " None,\n",
       " None,\n",
       " None,\n",
       " None,\n",
       " None,\n",
       " None,\n",
       " None,\n",
       " None,\n",
       " None,\n",
       " None,\n",
       " None,\n",
       " None,\n",
       " None,\n",
       " None,\n",
       " None,\n",
       " None,\n",
       " None,\n",
       " None,\n",
       " None,\n",
       " None,\n",
       " None,\n",
       " None,\n",
       " None,\n",
       " None,\n",
       " None,\n",
       " None,\n",
       " None,\n",
       " None,\n",
       " None,\n",
       " None,\n",
       " None,\n",
       " None,\n",
       " None,\n",
       " None,\n",
       " None,\n",
       " None,\n",
       " None,\n",
       " None,\n",
       " None,\n",
       " None,\n",
       " None,\n",
       " None,\n",
       " None,\n",
       " None,\n",
       " None,\n",
       " None,\n",
       " None,\n",
       " None,\n",
       " None,\n",
       " None,\n",
       " None,\n",
       " None,\n",
       " None,\n",
       " None,\n",
       " None,\n",
       " None,\n",
       " None,\n",
       " None,\n",
       " None]"
      ]
     },
     "execution_count": 126,
     "metadata": {},
     "output_type": "execute_result"
    }
   ],
   "source": [
    "[print(x) for x in f1[\"P\\n            .\"]]"
   ]
  },
  {
   "cell_type": "code",
   "execution_count": 137,
   "id": "07916ad5",
   "metadata": {},
   "outputs": [
    {
     "name": "stderr",
     "output_type": "stream",
     "text": [
      "/Users/tsrice/Documents/Variability_Project_2020/wuvars/analysis/load_periodics_v4.py:38: SettingWithCopyWarning: \n",
      "A value is trying to be set on a copy of a slice from a DataFrame\n",
      "\n",
      "See the caveats in the documentation: https://pandas.pydata.org/pandas-docs/stable/user_guide/indexing.html#returning-a-view-versus-a-copy\n",
      "  _periods['Period'][i] = row[per_col]\n",
      "/Users/tsrice/Documents/Variability_Project_2020/wuvars/analysis/load_periodics_v4.py:39: SettingWithCopyWarning: \n",
      "A value is trying to be set on a copy of a slice from a DataFrame\n",
      "\n",
      "See the caveats in the documentation: https://pandas.pydata.org/pandas-docs/stable/user_guide/indexing.html#returning-a-view-versus-a-copy\n",
      "  _periods[\"Amp\"][i] = row[amp_col]\n"
     ]
    }
   ],
   "source": [
    "from wuvars.analysis.load_periodics_v4 import (ic_periods, ngc_periods,\n",
    "                                               select_periodic_variables_v4)\n"
   ]
  },
  {
   "cell_type": "code",
   "execution_count": 138,
   "id": "d82fc1fd",
   "metadata": {},
   "outputs": [
    {
     "data": {
      "text/html": [
       "<div>\n",
       "<style scoped>\n",
       "    .dataframe tbody tr th:only-of-type {\n",
       "        vertical-align: middle;\n",
       "    }\n",
       "\n",
       "    .dataframe tbody tr th {\n",
       "        vertical-align: top;\n",
       "    }\n",
       "\n",
       "    .dataframe thead th {\n",
       "        text-align: right;\n",
       "    }\n",
       "</style>\n",
       "<table border=\"1\" class=\"dataframe\">\n",
       "  <thead>\n",
       "    <tr style=\"text-align: right;\">\n",
       "      <th></th>\n",
       "      <th>index</th>\n",
       "      <th>SOURCEID</th>\n",
       "      <th>shortname</th>\n",
       "      <th>A/S/C</th>\n",
       "      <th>RA_deg</th>\n",
       "      <th>DE_deg</th>\n",
       "      <th>J_mag</th>\n",
       "      <th>H_mag</th>\n",
       "      <th>K_mag</th>\n",
       "      <th>SpT</th>\n",
       "      <th>...</th>\n",
       "      <th>poly4_per_amp_H</th>\n",
       "      <th>poly4_per_fap_H</th>\n",
       "      <th>poly4_period_K</th>\n",
       "      <th>poly4_per_amp_K</th>\n",
       "      <th>poly4_per_fap_K</th>\n",
       "      <th>Periodic?</th>\n",
       "      <th>Period</th>\n",
       "      <th>Amp</th>\n",
       "      <th>Method</th>\n",
       "      <th>Best Band</th>\n",
       "    </tr>\n",
       "  </thead>\n",
       "  <tbody>\n",
       "    <tr>\n",
       "      <th>0</th>\n",
       "      <td>0</td>\n",
       "      <td>44989782447631</td>\n",
       "      <td>ic_000C_M2.5_Q2</td>\n",
       "      <td>C</td>\n",
       "      <td>55.704998</td>\n",
       "      <td>31.836398</td>\n",
       "      <td>12.994136</td>\n",
       "      <td>11.785688</td>\n",
       "      <td>11.122093</td>\n",
       "      <td>2.50</td>\n",
       "      <td>...</td>\n",
       "      <td>0.010245</td>\n",
       "      <td>0.114331</td>\n",
       "      <td>0.843522</td>\n",
       "      <td>0.010898</td>\n",
       "      <td>1.839996e-01</td>\n",
       "      <td>NaN</td>\n",
       "      <td>NaN</td>\n",
       "      <td>NaN</td>\n",
       "      <td>NaN</td>\n",
       "      <td>NaN</td>\n",
       "    </tr>\n",
       "    <tr>\n",
       "      <th>1</th>\n",
       "      <td>1</td>\n",
       "      <td>44989782490916</td>\n",
       "      <td>ic_001C_M5.2_Q2</td>\n",
       "      <td>C</td>\n",
       "      <td>55.756031</td>\n",
       "      <td>32.037304</td>\n",
       "      <td>14.454513</td>\n",
       "      <td>13.744124</td>\n",
       "      <td>13.216278</td>\n",
       "      <td>5.25</td>\n",
       "      <td>...</td>\n",
       "      <td>0.010009</td>\n",
       "      <td>0.000033</td>\n",
       "      <td>0.155661</td>\n",
       "      <td>0.005688</td>\n",
       "      <td>4.746235e-02</td>\n",
       "      <td>NaN</td>\n",
       "      <td>NaN</td>\n",
       "      <td>NaN</td>\n",
       "      <td>NaN</td>\n",
       "      <td>NaN</td>\n",
       "    </tr>\n",
       "    <tr>\n",
       "      <th>2</th>\n",
       "      <td>2</td>\n",
       "      <td>44989782447074</td>\n",
       "      <td>ic_002A_M3.0_Q0</td>\n",
       "      <td>A</td>\n",
       "      <td>55.778295</td>\n",
       "      <td>31.805697</td>\n",
       "      <td>12.189659</td>\n",
       "      <td>11.220586</td>\n",
       "      <td>10.713430</td>\n",
       "      <td>3.00</td>\n",
       "      <td>...</td>\n",
       "      <td>0.008407</td>\n",
       "      <td>0.038218</td>\n",
       "      <td>0.159200</td>\n",
       "      <td>0.007751</td>\n",
       "      <td>1.434303e-01</td>\n",
       "      <td>NaN</td>\n",
       "      <td>NaN</td>\n",
       "      <td>NaN</td>\n",
       "      <td>NaN</td>\n",
       "      <td>NaN</td>\n",
       "    </tr>\n",
       "    <tr>\n",
       "      <th>3</th>\n",
       "      <td>3</td>\n",
       "      <td>44989782490480</td>\n",
       "      <td>ic_003C_M1.0_Q2</td>\n",
       "      <td>C</td>\n",
       "      <td>55.807149</td>\n",
       "      <td>32.012534</td>\n",
       "      <td>13.809516</td>\n",
       "      <td>12.368745</td>\n",
       "      <td>11.617155</td>\n",
       "      <td>1.00</td>\n",
       "      <td>...</td>\n",
       "      <td>0.102904</td>\n",
       "      <td>0.369073</td>\n",
       "      <td>0.981254</td>\n",
       "      <td>0.082804</td>\n",
       "      <td>7.374471e-02</td>\n",
       "      <td>NaN</td>\n",
       "      <td>NaN</td>\n",
       "      <td>NaN</td>\n",
       "      <td>NaN</td>\n",
       "      <td>NaN</td>\n",
       "    </tr>\n",
       "    <tr>\n",
       "      <th>4</th>\n",
       "      <td>4</td>\n",
       "      <td>44989782490350</td>\n",
       "      <td>ic_004C_M4.0_Q2</td>\n",
       "      <td>C</td>\n",
       "      <td>55.815885</td>\n",
       "      <td>32.179310</td>\n",
       "      <td>16.037905</td>\n",
       "      <td>15.077047</td>\n",
       "      <td>14.259602</td>\n",
       "      <td>4.00</td>\n",
       "      <td>...</td>\n",
       "      <td>0.020823</td>\n",
       "      <td>0.017334</td>\n",
       "      <td>0.134437</td>\n",
       "      <td>0.019349</td>\n",
       "      <td>1.030449e-01</td>\n",
       "      <td>N</td>\n",
       "      <td>NaN</td>\n",
       "      <td>NaN</td>\n",
       "      <td>NaN</td>\n",
       "      <td>NaN</td>\n",
       "    </tr>\n",
       "    <tr>\n",
       "      <th>...</th>\n",
       "      <td>...</td>\n",
       "      <td>...</td>\n",
       "      <td>...</td>\n",
       "      <td>...</td>\n",
       "      <td>...</td>\n",
       "      <td>...</td>\n",
       "      <td>...</td>\n",
       "      <td>...</td>\n",
       "      <td>...</td>\n",
       "      <td>...</td>\n",
       "      <td>...</td>\n",
       "      <td>...</td>\n",
       "      <td>...</td>\n",
       "      <td>...</td>\n",
       "      <td>...</td>\n",
       "      <td>...</td>\n",
       "      <td>...</td>\n",
       "      <td>...</td>\n",
       "      <td>...</td>\n",
       "      <td>...</td>\n",
       "      <td>...</td>\n",
       "    </tr>\n",
       "    <tr>\n",
       "      <th>382</th>\n",
       "      <td>382</td>\n",
       "      <td>44989782496783</td>\n",
       "      <td>ic_382C_M4.0_Q2</td>\n",
       "      <td>C</td>\n",
       "      <td>56.397747</td>\n",
       "      <td>32.057172</td>\n",
       "      <td>13.125061</td>\n",
       "      <td>12.487868</td>\n",
       "      <td>12.164846</td>\n",
       "      <td>4.00</td>\n",
       "      <td>...</td>\n",
       "      <td>0.008740</td>\n",
       "      <td>0.110549</td>\n",
       "      <td>0.052660</td>\n",
       "      <td>0.012751</td>\n",
       "      <td>5.354210e-03</td>\n",
       "      <td>NaN</td>\n",
       "      <td>NaN</td>\n",
       "      <td>NaN</td>\n",
       "      <td>NaN</td>\n",
       "      <td>NaN</td>\n",
       "    </tr>\n",
       "    <tr>\n",
       "      <th>383</th>\n",
       "      <td>383</td>\n",
       "      <td>44989782497379</td>\n",
       "      <td>ic_383C_M4.2_Q2</td>\n",
       "      <td>C</td>\n",
       "      <td>56.398515</td>\n",
       "      <td>31.998451</td>\n",
       "      <td>13.636544</td>\n",
       "      <td>12.506397</td>\n",
       "      <td>11.898871</td>\n",
       "      <td>4.25</td>\n",
       "      <td>...</td>\n",
       "      <td>0.012152</td>\n",
       "      <td>0.250488</td>\n",
       "      <td>0.075140</td>\n",
       "      <td>0.017589</td>\n",
       "      <td>2.435946e-02</td>\n",
       "      <td>NaN</td>\n",
       "      <td>NaN</td>\n",
       "      <td>NaN</td>\n",
       "      <td>NaN</td>\n",
       "      <td>NaN</td>\n",
       "    </tr>\n",
       "    <tr>\n",
       "      <th>384</th>\n",
       "      <td>384</td>\n",
       "      <td>44989782459277</td>\n",
       "      <td>ic_384S_M4.5_Q1JHK</td>\n",
       "      <td>S</td>\n",
       "      <td>56.399668</td>\n",
       "      <td>32.244880</td>\n",
       "      <td>13.799328</td>\n",
       "      <td>12.962640</td>\n",
       "      <td>12.418676</td>\n",
       "      <td>4.50</td>\n",
       "      <td>...</td>\n",
       "      <td>0.011841</td>\n",
       "      <td>0.000019</td>\n",
       "      <td>50.251047</td>\n",
       "      <td>0.021736</td>\n",
       "      <td>3.003296e-07</td>\n",
       "      <td>Q</td>\n",
       "      <td>NaN</td>\n",
       "      <td>NaN</td>\n",
       "      <td>poly4</td>\n",
       "      <td>K</td>\n",
       "    </tr>\n",
       "    <tr>\n",
       "      <th>385</th>\n",
       "      <td>385</td>\n",
       "      <td>44989782474172</td>\n",
       "      <td>ic_385A_M6.5_Q0</td>\n",
       "      <td>A</td>\n",
       "      <td>56.431685</td>\n",
       "      <td>32.208823</td>\n",
       "      <td>15.594571</td>\n",
       "      <td>15.035449</td>\n",
       "      <td>14.566342</td>\n",
       "      <td>6.50</td>\n",
       "      <td>...</td>\n",
       "      <td>0.009076</td>\n",
       "      <td>0.081435</td>\n",
       "      <td>0.330490</td>\n",
       "      <td>0.008269</td>\n",
       "      <td>1.499653e-02</td>\n",
       "      <td>N</td>\n",
       "      <td>NaN</td>\n",
       "      <td>NaN</td>\n",
       "      <td>NaN</td>\n",
       "      <td>NaN</td>\n",
       "    </tr>\n",
       "    <tr>\n",
       "      <th>386</th>\n",
       "      <td>386</td>\n",
       "      <td>44989782480555</td>\n",
       "      <td>ic_386C_M3.5_Q2</td>\n",
       "      <td>C</td>\n",
       "      <td>56.492729</td>\n",
       "      <td>32.446532</td>\n",
       "      <td>13.586432</td>\n",
       "      <td>12.719941</td>\n",
       "      <td>12.124292</td>\n",
       "      <td>3.50</td>\n",
       "      <td>...</td>\n",
       "      <td>0.085208</td>\n",
       "      <td>0.110353</td>\n",
       "      <td>0.075805</td>\n",
       "      <td>0.078922</td>\n",
       "      <td>1.824553e-02</td>\n",
       "      <td>NaN</td>\n",
       "      <td>NaN</td>\n",
       "      <td>NaN</td>\n",
       "      <td>NaN</td>\n",
       "      <td>NaN</td>\n",
       "    </tr>\n",
       "  </tbody>\n",
       "</table>\n",
       "<p>387 rows × 46 columns</p>\n",
       "</div>"
      ],
      "text/plain": [
       "     index        SOURCEID           shortname A/S/C     RA_deg     DE_deg  \\\n",
       "0        0  44989782447631     ic_000C_M2.5_Q2     C  55.704998  31.836398   \n",
       "1        1  44989782490916     ic_001C_M5.2_Q2     C  55.756031  32.037304   \n",
       "2        2  44989782447074     ic_002A_M3.0_Q0     A  55.778295  31.805697   \n",
       "3        3  44989782490480     ic_003C_M1.0_Q2     C  55.807149  32.012534   \n",
       "4        4  44989782490350     ic_004C_M4.0_Q2     C  55.815885  32.179310   \n",
       "..     ...             ...                 ...   ...        ...        ...   \n",
       "382    382  44989782496783     ic_382C_M4.0_Q2     C  56.397747  32.057172   \n",
       "383    383  44989782497379     ic_383C_M4.2_Q2     C  56.398515  31.998451   \n",
       "384    384  44989782459277  ic_384S_M4.5_Q1JHK     S  56.399668  32.244880   \n",
       "385    385  44989782474172     ic_385A_M6.5_Q0     A  56.431685  32.208823   \n",
       "386    386  44989782480555     ic_386C_M3.5_Q2     C  56.492729  32.446532   \n",
       "\n",
       "         J_mag      H_mag      K_mag   SpT  ...  poly4_per_amp_H  \\\n",
       "0    12.994136  11.785688  11.122093  2.50  ...         0.010245   \n",
       "1    14.454513  13.744124  13.216278  5.25  ...         0.010009   \n",
       "2    12.189659  11.220586  10.713430  3.00  ...         0.008407   \n",
       "3    13.809516  12.368745  11.617155  1.00  ...         0.102904   \n",
       "4    16.037905  15.077047  14.259602  4.00  ...         0.020823   \n",
       "..         ...        ...        ...   ...  ...              ...   \n",
       "382  13.125061  12.487868  12.164846  4.00  ...         0.008740   \n",
       "383  13.636544  12.506397  11.898871  4.25  ...         0.012152   \n",
       "384  13.799328  12.962640  12.418676  4.50  ...         0.011841   \n",
       "385  15.594571  15.035449  14.566342  6.50  ...         0.009076   \n",
       "386  13.586432  12.719941  12.124292  3.50  ...         0.085208   \n",
       "\n",
       "     poly4_per_fap_H  poly4_period_K  poly4_per_amp_K  poly4_per_fap_K  \\\n",
       "0           0.114331        0.843522         0.010898     1.839996e-01   \n",
       "1           0.000033        0.155661         0.005688     4.746235e-02   \n",
       "2           0.038218        0.159200         0.007751     1.434303e-01   \n",
       "3           0.369073        0.981254         0.082804     7.374471e-02   \n",
       "4           0.017334        0.134437         0.019349     1.030449e-01   \n",
       "..               ...             ...              ...              ...   \n",
       "382         0.110549        0.052660         0.012751     5.354210e-03   \n",
       "383         0.250488        0.075140         0.017589     2.435946e-02   \n",
       "384         0.000019       50.251047         0.021736     3.003296e-07   \n",
       "385         0.081435        0.330490         0.008269     1.499653e-02   \n",
       "386         0.110353        0.075805         0.078922     1.824553e-02   \n",
       "\n",
       "     Periodic?  Period  Amp  Method  Best Band  \n",
       "0          NaN     NaN  NaN     NaN        NaN  \n",
       "1          NaN     NaN  NaN     NaN        NaN  \n",
       "2          NaN     NaN  NaN     NaN        NaN  \n",
       "3          NaN     NaN  NaN     NaN        NaN  \n",
       "4            N     NaN  NaN     NaN        NaN  \n",
       "..         ...     ...  ...     ...        ...  \n",
       "382        NaN     NaN  NaN     NaN        NaN  \n",
       "383        NaN     NaN  NaN     NaN        NaN  \n",
       "384          Q     NaN  NaN   poly4          K  \n",
       "385          N     NaN  NaN     NaN        NaN  \n",
       "386        NaN     NaN  NaN     NaN        NaN  \n",
       "\n",
       "[387 rows x 46 columns]"
      ]
     },
     "execution_count": 138,
     "metadata": {},
     "output_type": "execute_result"
    }
   ],
   "source": [
    "ic_periods"
   ]
  },
  {
   "cell_type": "code",
   "execution_count": 67,
   "id": "7bb1aff9",
   "metadata": {
    "scrolled": false
   },
   "outputs": [
    {
     "name": "stderr",
     "output_type": "stream",
     "text": [
      "WARNING: UnitsWarning: '[10-7W]' did not parse as cds unit: Syntax error If this is meant to be a custom unit, define it with 'u.def_unit'. To have it recognized inside a file reader or other code, enable it with 'u.add_enabled_units'. For details, see https://docs.astropy.org/en/latest/units/combining_and_defining.html [astropy.units.core]\n",
      "/Users/tsrice/Documents/Variability_Project_2020/wuvars/analysis/period_match.py:76: RuntimeWarning: All-NaN axis encountered\n",
      "  [np.array(g1_per_str2).astype(float), np.array(g1_per_hr) / 24], axis=0\n"
     ]
    },
    {
     "name": "stdout",
     "output_type": "stream",
     "text": [
      "NGC 1333\n",
      "54 periodic objects\n",
      "\n",
      "  Matches to Rebull et al. 2015: 103\n",
      "    Of these, 16 were identified by R15 as periodic\n",
      "  Closest match: 0.01 arcsec\n",
      "  Farthest used match: 0.54 arcsec\n",
      "  Number of overlapping periods: 8\n",
      "\n",
      "  Number of our new periods [relative to Rebull et al. 2015]: 46\n",
      "    Of which 29 were affirmatively not identified by R15 as periodic\n",
      "  Number of periods we missed [relative to Rebull et al. 2015]: 8\n",
      "\n",
      "\n",
      "  Matches to Wang et al. 2023: 17\n",
      "    Of these, 4 were identified by W23 as periodic\n",
      "  Closest match: 0.02 arcsec\n",
      "  Farthest used match: 0.25 arcsec\n",
      "  Number of overlapping periods: 4\n",
      "\n",
      "  Number of our new periods [relative to Wang et al. 2023]: 50\n",
      "    Of which 5 were affirmatively not identified by W23 as periodic\n",
      "  Number of periods we missed [relative to Wang et al. 2023]: 0\n",
      "\n",
      "\n",
      "Total number of sources (periodic and not) in NGC 1333: 152\n",
      "Number of periodics: 54\n",
      "  Of these, 11 were previously identified as periodic by ['R15', 'W23']\n",
      "******** ********** ******** ****** ********\n",
      "Number of **new** periodics we found: 43\n",
      "******** ********** ******** ****** ********\n",
      "\n",
      "Number of known periodics we missed: 8\n",
      "\n",
      "\n",
      "IC 348\n",
      "89 periodic objects\n",
      "\n",
      "  Matches to Fritzewski et al. 2016: 58\n",
      "    Of these, 58 were identified by F16 as periodic\n",
      "  Closest match: 0.05 arcsec\n",
      "  Farthest used match: 0.98 arcsec\n",
      "  Number of overlapping periods: 33\n",
      "\n",
      "  Number of our new periods [relative to Fritzewski et al. 2016]: 56\n",
      "    Of which 0 were affirmatively not identified by F16 as periodic\n",
      "  Number of periods we missed [relative to Fritzewski et al. 2016]: 25\n",
      "\n",
      "\n",
      "  Matches to Wang et al. 2023: 95\n",
      "    Of these, 25 were identified by W23 as periodic\n",
      "  Closest match: 0.01 arcsec\n",
      "  Farthest used match: 0.37 arcsec\n",
      "  Number of overlapping periods: 20\n",
      "\n",
      "  Number of our new periods [relative to Wang et al. 2023]: 69\n",
      "    Of which 19 were affirmatively not identified by W23 as periodic\n",
      "  Number of periods we missed [relative to Wang et al. 2023]: 5\n",
      "\n",
      "\n",
      "  Matches to Ghosh et al. 2021: 16\n",
      "    Of these, 12 were identified by G21 as periodic\n",
      "  Closest match: 0.01 arcsec\n",
      "  Farthest used match: 0.16 arcsec\n",
      "  Number of overlapping periods: 3\n",
      "\n",
      "  Number of our new periods [relative to Ghosh et al. 2021]: 86\n",
      "    Of which 0 were affirmatively not identified by G21 as periodic\n",
      "  Number of periods we missed [relative to Ghosh et al. 2021]: 9\n",
      "\n",
      "\n",
      "Total number of sources (periodic and not) in IC 348: 387\n",
      "Number of periodics: 89\n",
      "  Of these, 35 were previously identified as periodic by ['F16', 'W23', 'G21']\n",
      "******** ********** ******** ****** ********\n",
      "Number of **new** periodics we found: 54\n",
      "******** ********** ******** ****** ********\n",
      "\n",
      "Number of known periodics we missed: 34\n",
      "\n",
      "\n"
     ]
    },
    {
     "name": "stderr",
     "output_type": "stream",
     "text": [
      "/Users/tsrice/Documents/Variability_Project_2020/wuvars/analysis/period_match.py:377: UserWarning: The handle <matplotlib.lines.Line2D object at 0x7ff624fff150> has a label of '_line4' which cannot be automatically added to the legend.\n",
      "/Users/tsrice/Documents/Variability_Project_2020/wuvars/analysis/period_match.py:377: UserWarning: The handle <matplotlib.lines.Line2D object at 0x7ff624674ed0> has a label of '_line6' which cannot be automatically added to the legend.\n",
      "/Users/tsrice/Documents/Variability_Project_2020/wuvars/analysis/period_match.py:377: UserWarning: The handle <matplotlib.lines.Line2D object at 0x7ff624674150> has a label of '_line7' which cannot be automatically added to the legend.\n",
      "/Users/tsrice/Documents/Variability_Project_2020/wuvars/analysis/period_match.py:377: UserWarning: The handle <matplotlib.lines.Line2D object at 0x7ff624a513d0> has a label of '_line5' which cannot be automatically added to the legend.\n",
      "/Users/tsrice/Documents/Variability_Project_2020/wuvars/analysis/period_match.py:377: UserWarning: The handle <matplotlib.lines.Line2D object at 0x7ff623a56f10> has a label of '_line7' which cannot be automatically added to the legend.\n",
      "/Users/tsrice/Documents/Variability_Project_2020/wuvars/analysis/period_match.py:377: UserWarning: The handle <matplotlib.lines.Line2D object at 0x7ff62689efd0> has a label of '_line8' which cannot be automatically added to the legend.\n"
     ]
    },
    {
     "data": {
      "image/png": "[encoded data removed]",
      "text/plain": [
       "<Figure size 750x750 with 1 Axes>"
      ]
     },
     "metadata": {
      "needs_background": "light"
     },
     "output_type": "display_data"
    },
    {
     "data": {
      "image/png": "[encoded data removed]",
      "text/plain": [
       "<Figure size 750x750 with 1 Axes>"
      ]
     },
     "metadata": {
      "needs_background": "light"
     },
     "output_type": "display_data"
    }
   ],
   "source": [
    "%run ../period_match.py"
   ]
  },
  {
   "cell_type": "code",
   "execution_count": 57,
   "id": "6daf8368",
   "metadata": {},
   "outputs": [
    {
     "data": {
      "text/plain": [
       "0"
      ]
     },
     "execution_count": 57,
     "metadata": {},
     "output_type": "execute_result"
    }
   ],
   "source": [
    "np.sum(np.isnan(_periods[\"Period\"].values) & was_periodic)"
   ]
  },
  {
   "cell_type": "code",
   "execution_count": 62,
   "id": "e42b9318",
   "metadata": {
    "scrolled": false
   },
   "outputs": [
    {
     "name": "stdout",
     "output_type": "stream",
     "text": [
      "nan [False False False]\n",
      "nan [False False False]\n",
      "nan [False False False]\n",
      "nan [False False False]\n",
      "nan [False False False]\n",
      "nan [False False False]\n",
      "nan [False False False]\n",
      "nan [False False False]\n",
      "nan [False False False]\n",
      "nan [False False False]\n",
      "nan [False False False]\n",
      "nan [False False False]\n",
      "nan [False False False]\n",
      "nan [False False False]\n",
      "nan [False False False]\n",
      "nan [False False False]\n",
      "7.21497715247715 [False False False]\n",
      "nan [False False False]\n",
      "nan [False False False]\n",
      "nan [False False False]\n",
      "nan [False False False]\n",
      "nan [False False False]\n",
      "nan [False False False]\n",
      "nan [False False False]\n",
      "nan [False False False]\n",
      "nan [False False False]\n",
      "nan [False False False]\n",
      "2.87685797851937 [ True  True False]\n",
      "12.9031720430107 [ True  True False]\n",
      "nan [False False False]\n",
      "nan [False False False]\n",
      "2.16918835864063 [False False False]\n",
      "nan [False False False]\n",
      "nan [False False False]\n",
      "2.24063596982597 [False False False]\n",
      "nan [False False False]\n",
      "nan [False False False]\n",
      "0.617738963017873 [False False  True]\n",
      "nan [False False False]\n",
      "0.681846333924269 [False False False]\n",
      "2.17958987213019 [False False False]\n",
      "nan [False False False]\n",
      "nan [False False False]\n",
      "6.75216632905694 [False False False]\n",
      "nan [False False False]\n",
      "nan [False False False]\n",
      "7.59298278916729 [ True  True False]\n",
      "nan [False False False]\n",
      "14.0055438842203 [ True False False]\n",
      "nan [False False False]\n",
      "nan [False False False]\n",
      "nan [False False False]\n",
      "nan [False False False]\n",
      "nan [False False False]\n",
      "6.11244396903015 [ True  True False]\n",
      "nan [False False False]\n",
      "nan [False False False]\n",
      "nan [False False False]\n",
      "nan [False False False]\n",
      "nan [False False False]\n",
      "1.92085254193878 [False False False]\n",
      "nan [False False False]\n",
      "10.0907753111335 [ True  True False]\n",
      "nan [False False False]\n",
      "nan [False False False]\n",
      "nan [False False False]\n",
      "nan [False False False]\n",
      "nan [False False False]\n",
      "nan [False False False]\n",
      "nan [False False False]\n",
      "nan [False False False]\n",
      "nan [False False False]\n",
      "nan [False False False]\n",
      "2.3380777024394 [ True False False]\n",
      "nan [False False False]\n",
      "4.65764244682502 [False False False]\n",
      "nan [False False False]\n",
      "nan [False False False]\n",
      "nan [False False False]\n",
      "nan [False False False]\n",
      "0.705862803228159 [False False False]\n",
      "nan [False False False]\n",
      "nan [False False False]\n",
      "3.3112444812362 [ True False False]\n",
      "nan [False False False]\n",
      "1.32607854837996 [False False False]\n",
      "nan [False False False]\n",
      "nan [False False False]\n",
      "14.3060920362422 [False False False]\n",
      "0.636210607795733 [False False False]\n",
      "nan [False False False]\n",
      "nan [False False False]\n",
      "nan [False False False]\n",
      "nan [False False False]\n",
      "nan [False False False]\n",
      "nan [False False False]\n",
      "nan [False False False]\n",
      "nan [False False False]\n",
      "nan [False False False]\n",
      "0.866097205381373 [False False False]\n",
      "4.38210268770084 [ True  True False]\n",
      "1.54726262313683 [False False False]\n",
      "nan [False False False]\n",
      "nan [False False False]\n",
      "nan [False False False]\n",
      "nan [False False False]\n",
      "nan [False False False]\n",
      "nan [False False False]\n",
      "nan [False False False]\n",
      "1.78954157718921 [False False False]\n",
      "nan [False False False]\n",
      "nan [False False False]\n",
      "0.863554260218768 [False False False]\n",
      "nan [False False False]\n",
      "nan [False False False]\n",
      "8.6654751588677 [ True  True False]\n",
      "nan [False False False]\n",
      "2.27789483675018 [False False False]\n",
      "nan [False False False]\n",
      "nan [False False False]\n",
      "6.87282359679266 [False False False]\n",
      "nan [False False False]\n",
      "8.12344300027078 [ True False False]\n",
      "7.10224313446969 [ True  True  True]\n",
      "8.38219474713607 [ True False False]\n",
      "nan [False False False]\n",
      "nan [False False False]\n",
      "nan [False False False]\n",
      "nan [False False False]\n",
      "nan [False False False]\n",
      "nan [False False False]\n",
      "nan [False False False]\n",
      "nan [False False False]\n",
      "5.0812796409214 [ True  True False]\n",
      "nan [False False False]\n",
      "nan [False False False]\n",
      "nan [False False False]\n",
      "9.65246943371943 [ True  True False]\n",
      "nan [False False False]\n",
      "4.94069087615283 [ True  True False]\n",
      "nan [False False False]\n",
      "nan [False False False]\n",
      "nan [False False False]\n",
      "7.43491325898389 [False False False]\n",
      "8.39627064091799 [ True  True False]\n",
      "nan [False False False]\n",
      "2.69758789677187 [False False False]\n",
      "nan [False False False]\n",
      "nan [False False False]\n",
      "1.47253104599224 [ True False False]\n",
      "nan [False False False]\n",
      "9.29364157372986 [False False False]\n",
      "nan [False False False]\n",
      "nan [False False False]\n",
      "1.12295994759498 [ True False False]\n",
      "nan [False False False]\n",
      "2.43485715445174 [False False False]\n",
      "nan [False False False]\n",
      "nan [False False False]\n",
      "nan [False False False]\n",
      "nan [False False False]\n",
      "nan [False False False]\n",
      "1.93347995617427 [False False False]\n",
      "1.69922826394789 [False False False]\n",
      "2.67307092577742 [ True  True False]\n",
      "8.87307749186631 [False False False]\n",
      "nan [False False False]\n",
      "nan [False False False]\n",
      "nan [False False False]\n",
      "nan [False False False]\n",
      "nan [False False False]\n",
      "nan [False False False]\n",
      "nan [False False False]\n",
      "nan [False False False]\n",
      "nan [False False False]\n",
      "8.68051938657407 [ True  True False]\n",
      "nan [False False False]\n",
      "0.900653727220871 [False False False]\n",
      "nan [False False False]\n",
      "nan [False False False]\n",
      "6.61372905643739 [False False False]\n",
      "nan [False False False]\n",
      "nan [False False False]\n",
      "2.60347782695478 [False False False]\n",
      "nan [False False False]\n",
      "nan [False False False]\n",
      "nan [False False False]\n",
      "nan [False False False]\n",
      "nan [False False False]\n",
      "2.30254624299639 [False False False]\n",
      "4.8099847683181 [False False False]\n",
      "nan [False False False]\n",
      "nan [False False False]\n",
      "nan [False False False]\n",
      "3.10364938961307 [False False False]\n",
      "nan [False False False]\n",
      "nan [False False False]\n",
      "nan [False False False]\n",
      "5.29098324514991 [ True  True False]\n",
      "nan [False False False]\n",
      "nan [False False False]\n",
      "nan [False False False]\n",
      "nan [False False False]\n",
      "nan [False False False]\n",
      "nan [False False False]\n",
      "nan [False False False]\n",
      "nan [False False False]\n",
      "nan [False False False]\n",
      "15.8981849496555 [ True  True False]\n",
      "nan [False False False]\n",
      "nan [False False False]\n",
      "nan [False False False]\n",
      "nan [False False False]\n",
      "nan [False False False]\n",
      "nan [False False False]\n",
      "nan [False False False]\n",
      "nan [False False False]\n",
      "nan [False False False]\n",
      "3.47945662259336 [False False False]\n",
      "nan [False False False]\n",
      "5.6882584376185 [False False False]\n",
      "nan [False False False]\n",
      "nan [False False False]\n",
      "nan [False False False]\n",
      "nan [False False False]\n",
      "nan [False False False]\n",
      "nan [False False False]\n",
      "nan [False False False]\n",
      "nan [False False False]\n",
      "nan [False False False]\n",
      "nan [False False False]\n",
      "nan [False False False]\n",
      "1.44947939314876 [False False False]\n",
      "nan [False False False]\n",
      "nan [False False False]\n",
      "2.45880460617982 [False False False]\n",
      "1.15472959969207 [False False False]\n",
      "nan [False False False]\n",
      "nan [False False False]\n",
      "nan [False False False]\n",
      "3.24990521070306 [ True False False]\n",
      "nan [False False False]\n",
      "nan [False False False]\n",
      "nan [False False False]\n",
      "nan [False False False]\n",
      "nan [False False False]\n",
      "4.84728954596865 [ True  True False]\n",
      "nan [False False False]\n",
      "nan [False False False]\n",
      "nan [False False False]\n",
      "nan [False False False]\n",
      "3.98404714475431 [ True  True False]\n",
      "nan [False False False]\n",
      "nan [False False False]\n",
      "nan [False False False]\n",
      "nan [False False False]\n",
      "nan [False False False]\n",
      "nan [False False False]\n",
      "nan [False False False]\n",
      "1.77461549837326 [False False False]\n",
      "2.43307988645579 [False False False]\n",
      "nan [False False False]\n",
      "nan [False False False]\n",
      "nan [False False False]\n",
      "nan [False False False]\n",
      "nan [False False False]\n",
      "nan [False False False]\n",
      "nan [False False False]\n",
      "nan [False False False]\n",
      "nan [False False False]\n",
      "1.79050283497463 [False False False]\n",
      "1.26134691389169 [False False False]\n",
      "nan [False False False]\n",
      "nan [False False False]\n",
      "11.7232805783509 [ True False False]\n",
      "nan [False False False]\n",
      "nan [False False False]\n",
      "nan [False False False]\n",
      "2.70854776092452 [False False False]\n",
      "8.0971322537112 [ True False False]\n",
      "nan [False False False]\n",
      "nan [False False False]\n",
      "nan [False False False]\n",
      "nan [False False False]\n",
      "nan [False False False]\n",
      "nan [False False False]\n",
      "nan [False False False]\n",
      "nan [False False False]\n",
      "nan [False False False]\n",
      "nan [False False False]\n",
      "nan [False False False]\n",
      "nan [False False False]\n",
      "nan [False False False]\n",
      "nan [False False False]\n",
      "nan [False False False]\n",
      "nan [False False False]\n",
      "nan [False False False]\n",
      "8.49614131973945 [False False False]\n",
      "nan [False False False]\n",
      "nan [False False False]\n",
      "8.72596713205351 [False False False]\n",
      "1.38946204437033 [False False False]\n",
      "6.90604857274401 [ True  True False]\n",
      "nan [False False False]\n",
      "nan [False False False]\n",
      "nan [False False False]\n",
      "nan [False False False]\n",
      "nan [False False False]\n",
      "nan [False False False]\n",
      "12.135871763754 [ True False False]\n",
      "nan [False False False]\n",
      "nan [False False False]\n",
      "4.77324980111376 [False False  True]\n",
      "2.89518191468828 [False False False]\n",
      "nan [False False False]\n",
      "6.67108627974205 [False False False]\n",
      "9.35449797318366 [False False False]\n",
      "nan [False False False]\n",
      "nan [False False False]\n",
      "3.30467889402952 [ True False False]\n",
      "nan [False False False]\n",
      "nan [False False False]\n",
      "nan [False False False]\n",
      "nan [False False False]\n",
      "nan [False False False]\n",
      "2.30360707978192 [False False False]\n",
      "nan [False False False]\n",
      "nan [False False False]\n",
      "nan [False False False]\n",
      "nan [False False False]\n",
      "nan [False False False]\n",
      "nan [False False False]\n",
      "nan [False False False]\n",
      "nan [False False False]\n",
      "nan [False False False]\n",
      "nan [False False False]\n",
      "nan [False False False]\n",
      "nan [False False False]\n",
      "nan [False False False]\n",
      "nan [False False False]\n",
      "nan [False False False]\n",
      "nan [False False False]\n",
      "nan [False False False]\n",
      "nan [False False False]\n",
      "nan [False False False]\n",
      "4.50245760168092 [False False False]\n",
      "nan [False False False]\n",
      "4.9553807400066 [ True False False]\n",
      "nan [False False False]\n",
      "nan [False False False]\n",
      "nan [False False False]\n",
      "nan [False False False]\n",
      "nan [False False False]\n",
      "nan [False False False]\n",
      "nan [False False False]\n",
      "nan [False False False]\n",
      "0.704569740952112 [False False False]\n",
      "nan [False False False]\n",
      "nan [False False False]\n",
      "nan [False False False]\n",
      "nan [False False False]\n",
      "0.823448479358805 [False False False]\n",
      "nan [False False False]\n",
      "nan [False False False]\n",
      "nan [False False False]\n",
      "nan [False False False]\n",
      "nan [False False False]\n",
      "nan [False False False]\n",
      "nan [False False False]\n",
      "nan [False False False]\n",
      "1.65370569428366 [False False False]\n",
      "5.0200594042838 [False False False]\n",
      "nan [False False False]\n",
      "nan [False False False]\n",
      "nan [False False False]\n",
      "nan [False False False]\n",
      "nan [False False False]\n",
      "6.48505728491137 [False False False]\n",
      "nan [False False False]\n",
      "nan [False False False]\n",
      "nan [False False False]\n",
      "0.705464432686654 [ True  True False]\n",
      "nan [False False False]\n",
      "nan [False False False]\n",
      "nan [False False False]\n",
      "nan [False False False]\n",
      "nan [False False False]\n"
     ]
    },
    {
     "data": {
      "text/plain": [
       "[None,\n",
       " None,\n",
       " None,\n",
       " None,\n",
       " None,\n",
       " None,\n",
       " None,\n",
       " None,\n",
       " None,\n",
       " None,\n",
       " None,\n",
       " None,\n",
       " None,\n",
       " None,\n",
       " None,\n",
       " None,\n",
       " None,\n",
       " None,\n",
       " None,\n",
       " None,\n",
       " None,\n",
       " None,\n",
       " None,\n",
       " None,\n",
       " None,\n",
       " None,\n",
       " None,\n",
       " None,\n",
       " None,\n",
       " None,\n",
       " None,\n",
       " None,\n",
       " None,\n",
       " None,\n",
       " None,\n",
       " None,\n",
       " None,\n",
       " None,\n",
       " None,\n",
       " None,\n",
       " None,\n",
       " None,\n",
       " None,\n",
       " None,\n",
       " None,\n",
       " None,\n",
       " None,\n",
       " None,\n",
       " None,\n",
       " None,\n",
       " None,\n",
       " None,\n",
       " None,\n",
       " None,\n",
       " None,\n",
       " None,\n",
       " None,\n",
       " None,\n",
       " None,\n",
       " None,\n",
       " None,\n",
       " None,\n",
       " None,\n",
       " None,\n",
       " None,\n",
       " None,\n",
       " None,\n",
       " None,\n",
       " None,\n",
       " None,\n",
       " None,\n",
       " None,\n",
       " None,\n",
       " None,\n",
       " None,\n",
       " None,\n",
       " None,\n",
       " None,\n",
       " None,\n",
       " None,\n",
       " None,\n",
       " None,\n",
       " None,\n",
       " None,\n",
       " None,\n",
       " None,\n",
       " None,\n",
       " None,\n",
       " None,\n",
       " None,\n",
       " None,\n",
       " None,\n",
       " None,\n",
       " None,\n",
       " None,\n",
       " None,\n",
       " None,\n",
       " None,\n",
       " None,\n",
       " None,\n",
       " None,\n",
       " None,\n",
       " None,\n",
       " None,\n",
       " None,\n",
       " None,\n",
       " None,\n",
       " None,\n",
       " None,\n",
       " None,\n",
       " None,\n",
       " None,\n",
       " None,\n",
       " None,\n",
       " None,\n",
       " None,\n",
       " None,\n",
       " None,\n",
       " None,\n",
       " None,\n",
       " None,\n",
       " None,\n",
       " None,\n",
       " None,\n",
       " None,\n",
       " None,\n",
       " None,\n",
       " None,\n",
       " None,\n",
       " None,\n",
       " None,\n",
       " None,\n",
       " None,\n",
       " None,\n",
       " None,\n",
       " None,\n",
       " None,\n",
       " None,\n",
       " None,\n",
       " None,\n",
       " None,\n",
       " None,\n",
       " None,\n",
       " None,\n",
       " None,\n",
       " None,\n",
       " None,\n",
       " None,\n",
       " None,\n",
       " None,\n",
       " None,\n",
       " None,\n",
       " None,\n",
       " None,\n",
       " None,\n",
       " None,\n",
       " None,\n",
       " None,\n",
       " None,\n",
       " None,\n",
       " None,\n",
       " None,\n",
       " None,\n",
       " None,\n",
       " None,\n",
       " None,\n",
       " None,\n",
       " None,\n",
       " None,\n",
       " None,\n",
       " None,\n",
       " None,\n",
       " None,\n",
       " None,\n",
       " None,\n",
       " None,\n",
       " None,\n",
       " None,\n",
       " None,\n",
       " None,\n",
       " None,\n",
       " None,\n",
       " None,\n",
       " None,\n",
       " None,\n",
       " None,\n",
       " None,\n",
       " None,\n",
       " None,\n",
       " None,\n",
       " None,\n",
       " None,\n",
       " None,\n",
       " None,\n",
       " None,\n",
       " None,\n",
       " None,\n",
       " None,\n",
       " None,\n",
       " None,\n",
       " None,\n",
       " None,\n",
       " None,\n",
       " None,\n",
       " None,\n",
       " None,\n",
       " None,\n",
       " None,\n",
       " None,\n",
       " None,\n",
       " None,\n",
       " None,\n",
       " None,\n",
       " None,\n",
       " None,\n",
       " None,\n",
       " None,\n",
       " None,\n",
       " None,\n",
       " None,\n",
       " None,\n",
       " None,\n",
       " None,\n",
       " None,\n",
       " None,\n",
       " None,\n",
       " None,\n",
       " None,\n",
       " None,\n",
       " None,\n",
       " None,\n",
       " None,\n",
       " None,\n",
       " None,\n",
       " None,\n",
       " None,\n",
       " None,\n",
       " None,\n",
       " None,\n",
       " None,\n",
       " None,\n",
       " None,\n",
       " None,\n",
       " None,\n",
       " None,\n",
       " None,\n",
       " None,\n",
       " None,\n",
       " None,\n",
       " None,\n",
       " None,\n",
       " None,\n",
       " None,\n",
       " None,\n",
       " None,\n",
       " None,\n",
       " None,\n",
       " None,\n",
       " None,\n",
       " None,\n",
       " None,\n",
       " None,\n",
       " None,\n",
       " None,\n",
       " None,\n",
       " None,\n",
       " None,\n",
       " None,\n",
       " None,\n",
       " None,\n",
       " None,\n",
       " None,\n",
       " None,\n",
       " None,\n",
       " None,\n",
       " None,\n",
       " None,\n",
       " None,\n",
       " None,\n",
       " None,\n",
       " None,\n",
       " None,\n",
       " None,\n",
       " None,\n",
       " None,\n",
       " None,\n",
       " None,\n",
       " None,\n",
       " None,\n",
       " None,\n",
       " None,\n",
       " None,\n",
       " None,\n",
       " None,\n",
       " None,\n",
       " None,\n",
       " None,\n",
       " None,\n",
       " None,\n",
       " None,\n",
       " None,\n",
       " None,\n",
       " None,\n",
       " None,\n",
       " None,\n",
       " None,\n",
       " None,\n",
       " None,\n",
       " None,\n",
       " None,\n",
       " None,\n",
       " None,\n",
       " None,\n",
       " None,\n",
       " None,\n",
       " None,\n",
       " None,\n",
       " None,\n",
       " None,\n",
       " None,\n",
       " None,\n",
       " None,\n",
       " None,\n",
       " None,\n",
       " None,\n",
       " None,\n",
       " None,\n",
       " None,\n",
       " None,\n",
       " None,\n",
       " None,\n",
       " None,\n",
       " None,\n",
       " None,\n",
       " None,\n",
       " None,\n",
       " None,\n",
       " None,\n",
       " None,\n",
       " None,\n",
       " None,\n",
       " None,\n",
       " None,\n",
       " None,\n",
       " None,\n",
       " None,\n",
       " None,\n",
       " None,\n",
       " None,\n",
       " None,\n",
       " None,\n",
       " None,\n",
       " None,\n",
       " None,\n",
       " None,\n",
       " None,\n",
       " None,\n",
       " None,\n",
       " None,\n",
       " None,\n",
       " None,\n",
       " None,\n",
       " None,\n",
       " None,\n",
       " None,\n",
       " None,\n",
       " None,\n",
       " None,\n",
       " None,\n",
       " None,\n",
       " None,\n",
       " None,\n",
       " None,\n",
       " None,\n",
       " None,\n",
       " None,\n",
       " None,\n",
       " None,\n",
       " None,\n",
       " None,\n",
       " None,\n",
       " None,\n",
       " None,\n",
       " None,\n",
       " None,\n",
       " None,\n",
       " None]"
      ]
     },
     "execution_count": 62,
     "metadata": {},
     "output_type": "execute_result"
    }
   ],
   "source": [
    "[print(x, y) for (x, y) in zip( _periods[\"Period\"], was_periodic_any.T)]"
   ]
  },
  {
   "cell_type": "code",
   "execution_count": 167,
   "id": "e73ca2ea",
   "metadata": {},
   "outputs": [
    {
     "data": {
      "text/plain": [
       "(array([ 42,  42,  58,  68,  58,  68,  58,  58,  42,  58,  16,  28,  58,\n",
       "        119,  58,  49,  68, 119,  81,  82,  84,  97, 109, 110, 111, 112,\n",
       "        122, 123, 132, 146, 149, 153, 154, 155, 159, 161, 183, 184, 187,\n",
       "        189, 191, 192, 193, 194, 195, 196, 198, 199, 202, 212, 219, 222,\n",
       "        223, 226, 239, 254, 256, 258, 264, 268, 283, 290, 292, 299, 300,\n",
       "        304, 305, 310, 313, 318, 327, 328, 333, 338, 346, 347, 348, 349,\n",
       "        349, 354, 359, 362, 376, 385, 391, 393, 396, 421, 400, 403, 409,\n",
       "        412, 413, 420, 421, 431, 433, 436, 441, 433, 450, 452, 456, 460,\n",
       "        469, 454, 479, 513, 514, 516, 517, 536, 537, 519, 571, 575, 576,\n",
       "        581, 583, 591, 561, 596, 575, 600, 526, 592, 617, 561, 575, 644,\n",
       "        487, 651, 619, 653, 561, 575, 592, 561, 631, 664, 575, 621, 664,\n",
       "        668, 621, 653, 668, 668, 653, 653, 592, 700]),\n",
       " <Angle [1.17329680e-01, 1.03855628e-01, 6.20353708e-02, 6.24426381e-02,\n",
       "         5.02244000e-02, 4.14046973e-02, 3.48699674e-02, 3.12140352e-02,\n",
       "         2.09456489e-02, 2.86400161e-02, 3.22903802e-05, 6.47363584e-03,\n",
       "         2.35895625e-02, 4.15537962e-02, 5.02234545e-03, 2.15972834e-05,\n",
       "         7.85890299e-03, 2.18900574e-02, 2.75808103e-05, 2.70252835e-05,\n",
       "         3.34942469e-05, 1.45699703e-05, 1.45292754e-05, 2.55235876e-05,\n",
       "         6.81342688e-06, 1.74507426e-05, 1.90806741e-05, 1.50080592e-05,\n",
       "         1.46703568e-05, 2.43289145e-05, 2.76575162e-05, 1.63823688e-05,\n",
       "         2.55423265e-05, 2.36717609e-05, 3.46597374e-05, 1.15643806e-05,\n",
       "         8.94688189e-06, 9.79610114e-06, 2.09137214e-05, 1.51096589e-05,\n",
       "         2.38669919e-05, 1.10813700e-05, 2.23090312e-05, 2.10849179e-05,\n",
       "         1.24913883e-05, 2.27474831e-05, 1.17309524e-05, 1.32124967e-05,\n",
       "         9.67778514e-06, 4.50601079e-05, 6.77073273e-06, 2.79870895e-05,\n",
       "         2.07043580e-05, 6.65578340e-06, 2.95017456e-05, 5.20936515e-06,\n",
       "         1.03252264e-05, 1.41038815e-05, 6.15825598e-06, 1.43556300e-05,\n",
       "         6.49155577e-05, 5.37475327e-06, 3.65927408e-06, 1.71903164e-05,\n",
       "         2.07409492e-05, 1.36572301e-05, 1.17445414e-05, 1.16215898e-05,\n",
       "         3.82742467e-05, 6.32444432e-06, 1.84361981e-05, 2.12416544e-05,\n",
       "         1.49012139e-05, 1.49710228e-04, 2.28087445e-05, 1.15206018e-05,\n",
       "         7.04948202e-06, 1.80616524e-05, 5.97751609e-04, 1.52098761e-05,\n",
       "         2.38643321e-05, 1.63218811e-05, 1.75210705e-05, 1.04728612e-05,\n",
       "         2.17163604e-05, 3.19329214e-05, 1.12179485e-05, 7.70402687e-03,\n",
       "         5.64009918e-06, 2.06179930e-05, 1.96084154e-05, 1.66101938e-05,\n",
       "         1.74850564e-05, 1.10239451e-05, 3.25922993e-05, 1.97414879e-05,\n",
       "         1.45412417e-05, 9.52860750e-06, 9.20476928e-06, 4.34764231e-03,\n",
       "         8.22370215e-06, 2.34471335e-05, 2.76575316e-05, 1.62734902e-05,\n",
       "         2.53127797e-05, 4.04283629e-03, 3.34072231e-03, 1.14146221e-05,\n",
       "         2.74130692e-05, 3.78756794e-05, 2.24346514e-05, 1.44777777e-05,\n",
       "         1.73489004e-05, 1.21343824e-02, 2.20079274e-05, 3.34619695e-05,\n",
       "         1.71179058e-05, 6.14422179e-05, 3.43305019e-05, 1.33675777e-05,\n",
       "         1.08804656e-02, 2.09859548e-05, 7.83777219e-03, 3.23009129e-05,\n",
       "         2.27025116e-02, 6.41608509e-03, 3.69863963e-05, 2.26543460e-02,\n",
       "         2.31228390e-02, 4.07507370e-05, 1.77066455e-01, 3.20645842e-05,\n",
       "         1.34647983e-02, 4.84770868e-03, 3.85282907e-02, 3.58880734e-02,\n",
       "         3.51684965e-02, 4.51148967e-02, 2.60201038e-02, 1.24601357e-02,\n",
       "         5.12934764e-02, 3.41355387e-02, 1.89216280e-02, 1.17668178e-01,\n",
       "         4.29408450e-02, 5.29718499e-02, 9.74616984e-02, 9.82230767e-02,\n",
       "         6.61359777e-02, 9.23235677e-02, 1.27493909e-01, 1.59987140e-01] deg>,\n",
       " <Quantity [2.04778887e-03, 1.81262241e-03, 1.08272142e-03, 1.08982957e-03,\n",
       "            8.76581117e-04, 7.22648278e-04, 6.08595731e-04, 5.44787681e-04,\n",
       "            3.65570535e-04, 4.99862574e-04, 5.63573451e-07, 1.12986260e-04,\n",
       "            4.11715533e-04, 7.25250544e-04, 8.76564642e-05, 3.76943705e-07,\n",
       "            1.37163733e-04, 3.82053572e-04, 4.81375951e-07, 4.71680178e-07,\n",
       "            5.84584888e-07, 2.54293953e-07, 2.53583693e-07, 4.45470640e-07,\n",
       "            1.18916732e-07, 3.04572916e-07, 3.33020586e-07, 2.61940048e-07,\n",
       "            2.56046028e-07, 4.24619661e-07, 4.82714721e-07, 2.85926275e-07,\n",
       "            4.45797696e-07, 4.13150167e-07, 6.04926536e-07, 2.01836518e-07,\n",
       "            1.56152547e-07, 1.70974219e-07, 3.65013298e-07, 2.63713296e-07,\n",
       "            4.16557591e-07, 1.93406393e-07, 3.89366047e-07, 3.68001240e-07,\n",
       "            2.18015855e-07, 3.97018477e-07, 2.04743743e-07, 2.30601569e-07,\n",
       "            1.68909215e-07, 7.86447244e-07, 1.18171579e-07, 4.88466859e-07,\n",
       "            3.61359217e-07, 1.16165335e-07, 5.14902597e-07, 9.09205738e-08,\n",
       "            1.80209197e-07, 2.46159169e-07, 1.07481843e-07, 2.50553009e-07,\n",
       "            1.13299022e-06, 9.38071411e-08, 6.38663809e-08, 3.00027621e-07,\n",
       "            3.61997854e-07, 2.38363632e-07, 2.04980917e-07, 2.02835006e-07,\n",
       "            6.68011623e-07, 1.10382377e-07, 3.21772359e-07, 3.70736808e-07,\n",
       "            2.60075245e-07, 2.61293641e-06, 3.98087689e-07, 2.01072433e-07,\n",
       "            1.23036672e-07, 3.15235302e-07, 1.04327337e-05, 2.65462417e-07,\n",
       "            4.16511170e-07, 2.84870565e-07, 3.05800369e-07, 1.82785910e-07,\n",
       "            3.79021990e-07, 5.57334619e-07, 1.95790136e-07, 1.34460634e-04,\n",
       "            9.84383009e-08, 3.59851864e-07, 3.42231409e-07, 2.89902572e-07,\n",
       "            3.05171804e-07, 1.92404139e-07, 5.68842934e-07, 3.44553963e-07,\n",
       "            2.53792545e-07, 1.66305574e-07, 1.60653531e-07, 7.58806730e-05,\n",
       "            1.43530679e-07, 4.09229680e-07, 4.82714989e-07, 2.84025985e-07,\n",
       "            4.41791349e-07, 7.05608043e-05, 5.83066037e-05, 1.99222739e-07,\n",
       "            4.78448316e-07, 6.61055313e-07, 3.91558533e-07, 2.52684889e-07,\n",
       "            3.02795434e-07, 2.11784925e-04, 3.84110794e-07, 5.84021543e-07,\n",
       "            2.98763817e-07, 1.07236900e-06, 5.99180293e-07, 2.33308244e-07,\n",
       "            1.89899949e-04, 3.66274008e-07, 1.36794931e-04, 5.63757282e-07,\n",
       "            3.96233573e-04, 1.11981810e-04, 6.45534393e-07, 3.95392925e-04,\n",
       "            4.03569670e-04, 7.11234533e-07, 3.09039141e-03, 5.59632567e-07,\n",
       "            2.35005063e-04, 8.46084775e-05, 6.72445515e-04, 6.26365033e-04,\n",
       "            6.13806047e-04, 7.87403469e-04, 4.54136479e-04, 2.17470393e-04,\n",
       "            8.95240019e-04, 5.95777534e-04, 3.30244708e-04, 2.05369676e-03,\n",
       "            7.49459111e-04, 9.24533158e-04, 1.70102733e-03, 1.71431588e-03,\n",
       "            1.15429050e-03, 1.61135006e-03, 2.22518803e-03, 2.79230144e-03]>)"
      ]
     },
     "execution_count": 167,
     "metadata": {},
     "output_type": "execute_result"
    }
   ],
   "source": [
    "idx, d2d, d3d"
   ]
  },
  {
   "cell_type": "code",
   "execution_count": 169,
   "id": "cc37d750",
   "metadata": {},
   "outputs": [
    {
     "ename": "ValueError",
     "evalue": "Cannot create TableLoc object with no indices",
     "output_type": "error",
     "traceback": [
      "\u001b[0;31m---------------------------------------------------------------------------\u001b[0m",
      "\u001b[0;31mValueError\u001b[0m                                Traceback (most recent call last)",
      "\u001b[0;32m/var/folders/_v/s9cr1q_d6kj1m6f7d08s0_cr0000gn/T/ipykernel_80609/1954061062.py\u001b[0m in \u001b[0;36m<module>\u001b[0;34m\u001b[0m\n\u001b[0;32m----> 1\u001b[0;31m \u001b[0mmatches\u001b[0m \u001b[0;34m=\u001b[0m \u001b[0mr1_litpertable\u001b[0m\u001b[0;34m.\u001b[0m\u001b[0mtable\u001b[0m\u001b[0;34m.\u001b[0m\u001b[0miloc\u001b[0m\u001b[0;34m[\u001b[0m\u001b[0midx\u001b[0m\u001b[0;34m[\u001b[0m\u001b[0msep_constraint\u001b[0m\u001b[0;34m]\u001b[0m\u001b[0;34m]\u001b[0m\u001b[0;34m\u001b[0m\u001b[0;34m\u001b[0m\u001b[0m\n\u001b[0m",
      "\u001b[0;32m~/opt/anaconda3/lib/python3.7/site-packages/astropy/table/table.py\u001b[0m in \u001b[0;36miloc\u001b[0;34m(self)\u001b[0m\n\u001b[1;32m    775\u001b[0m         \u001b[0mindexed\u001b[0m \u001b[0mrows\u001b[0m \u001b[0;32min\u001b[0m \u001b[0mthe\u001b[0m \u001b[0morder\u001b[0m \u001b[0mthey\u001b[0m \u001b[0mappear\u001b[0m \u001b[0;32min\u001b[0m \u001b[0mthe\u001b[0m \u001b[0mindex\u001b[0m\u001b[0;34m.\u001b[0m\u001b[0;34m\u001b[0m\u001b[0;34m\u001b[0m\u001b[0m\n\u001b[1;32m    776\u001b[0m         '''\n\u001b[0;32m--> 777\u001b[0;31m         \u001b[0;32mreturn\u001b[0m \u001b[0mTableILoc\u001b[0m\u001b[0;34m(\u001b[0m\u001b[0mself\u001b[0m\u001b[0;34m)\u001b[0m\u001b[0;34m\u001b[0m\u001b[0;34m\u001b[0m\u001b[0m\n\u001b[0m\u001b[1;32m    778\u001b[0m \u001b[0;34m\u001b[0m\u001b[0m\n\u001b[1;32m    779\u001b[0m     \u001b[0;32mdef\u001b[0m \u001b[0madd_index\u001b[0m\u001b[0;34m(\u001b[0m\u001b[0mself\u001b[0m\u001b[0;34m,\u001b[0m \u001b[0mcolnames\u001b[0m\u001b[0;34m,\u001b[0m \u001b[0mengine\u001b[0m\u001b[0;34m=\u001b[0m\u001b[0;32mNone\u001b[0m\u001b[0;34m,\u001b[0m \u001b[0munique\u001b[0m\u001b[0;34m=\u001b[0m\u001b[0;32mFalse\u001b[0m\u001b[0;34m)\u001b[0m\u001b[0;34m:\u001b[0m\u001b[0;34m\u001b[0m\u001b[0;34m\u001b[0m\u001b[0m\n",
      "\u001b[0;32m~/opt/anaconda3/lib/python3.7/site-packages/astropy/table/index.py\u001b[0m in \u001b[0;36m__init__\u001b[0;34m(self, table)\u001b[0m\n\u001b[1;32m    946\u001b[0m \u001b[0;34m\u001b[0m\u001b[0m\n\u001b[1;32m    947\u001b[0m     \u001b[0;32mdef\u001b[0m \u001b[0m__init__\u001b[0m\u001b[0;34m(\u001b[0m\u001b[0mself\u001b[0m\u001b[0;34m,\u001b[0m \u001b[0mtable\u001b[0m\u001b[0;34m)\u001b[0m\u001b[0;34m:\u001b[0m\u001b[0;34m\u001b[0m\u001b[0;34m\u001b[0m\u001b[0m\n\u001b[0;32m--> 948\u001b[0;31m         \u001b[0msuper\u001b[0m\u001b[0;34m(\u001b[0m\u001b[0;34m)\u001b[0m\u001b[0;34m.\u001b[0m\u001b[0m__init__\u001b[0m\u001b[0;34m(\u001b[0m\u001b[0mtable\u001b[0m\u001b[0;34m)\u001b[0m\u001b[0;34m\u001b[0m\u001b[0;34m\u001b[0m\u001b[0m\n\u001b[0m\u001b[1;32m    949\u001b[0m \u001b[0;34m\u001b[0m\u001b[0m\n\u001b[1;32m    950\u001b[0m     \u001b[0;32mdef\u001b[0m \u001b[0m__getitem__\u001b[0m\u001b[0;34m(\u001b[0m\u001b[0mself\u001b[0m\u001b[0;34m,\u001b[0m \u001b[0mitem\u001b[0m\u001b[0;34m)\u001b[0m\u001b[0;34m:\u001b[0m\u001b[0;34m\u001b[0m\u001b[0;34m\u001b[0m\u001b[0m\n",
      "\u001b[0;32m~/opt/anaconda3/lib/python3.7/site-packages/astropy/table/index.py\u001b[0m in \u001b[0;36m__init__\u001b[0;34m(self, table)\u001b[0m\n\u001b[1;32m    827\u001b[0m         \u001b[0mself\u001b[0m\u001b[0;34m.\u001b[0m\u001b[0mindices\u001b[0m \u001b[0;34m=\u001b[0m \u001b[0mtable\u001b[0m\u001b[0;34m.\u001b[0m\u001b[0mindices\u001b[0m\u001b[0;34m\u001b[0m\u001b[0;34m\u001b[0m\u001b[0m\n\u001b[1;32m    828\u001b[0m         \u001b[0;32mif\u001b[0m \u001b[0mlen\u001b[0m\u001b[0;34m(\u001b[0m\u001b[0mself\u001b[0m\u001b[0;34m.\u001b[0m\u001b[0mindices\u001b[0m\u001b[0;34m)\u001b[0m \u001b[0;34m==\u001b[0m \u001b[0;36m0\u001b[0m\u001b[0;34m:\u001b[0m\u001b[0;34m\u001b[0m\u001b[0;34m\u001b[0m\u001b[0m\n\u001b[0;32m--> 829\u001b[0;31m             \u001b[0;32mraise\u001b[0m \u001b[0mValueError\u001b[0m\u001b[0;34m(\u001b[0m\u001b[0;34m\"Cannot create TableLoc object with no indices\"\u001b[0m\u001b[0;34m)\u001b[0m\u001b[0;34m\u001b[0m\u001b[0;34m\u001b[0m\u001b[0m\n\u001b[0m\u001b[1;32m    830\u001b[0m \u001b[0;34m\u001b[0m\u001b[0m\n\u001b[1;32m    831\u001b[0m     \u001b[0;32mdef\u001b[0m \u001b[0m_get_rows\u001b[0m\u001b[0;34m(\u001b[0m\u001b[0mself\u001b[0m\u001b[0;34m,\u001b[0m \u001b[0mitem\u001b[0m\u001b[0;34m)\u001b[0m\u001b[0;34m:\u001b[0m\u001b[0;34m\u001b[0m\u001b[0;34m\u001b[0m\u001b[0m\n",
      "\u001b[0;31mValueError\u001b[0m: Cannot create TableLoc object with no indices"
     ]
    }
   ],
   "source": [
    "matches = r1_litpertable.table.iloc[idx[sep_constraint]]\n"
   ]
  },
  {
   "cell_type": "code",
   "execution_count": 171,
   "id": "bfbcbcea",
   "metadata": {},
   "outputs": [
    {
     "data": {
      "text/html": [
       "<i>Table length=103</i>\n",
       "<table id=\"table140501309842256\" class=\"table-striped table-bordered table-condensed\">\n",
       "<thead><tr><th>Cat</th><th>RAdeg</th><th>DEdeg</th><th>umagCFHT</th><th>e_umagCFHT</th><th>gmagCFHT</th><th>e_gmagCFHT</th><th>rmagCFHT</th><th>e_rmagCFHT</th><th>imagCFHT</th><th>e_imagCFHT</th><th>imagSub</th><th>e_imagSub</th><th>zmagSub</th><th>e_zmagSub</th><th>l_Jmag</th><th>Jmag</th><th>e_Jmag</th><th>l_Hmag</th><th>Hmag</th><th>e_Hmag</th><th>l_Ksmag</th><th>Ksmag</th><th>e_Ksmag</th><th>l_3.6mag</th><th>3.6mag</th><th>e_3.6mag</th><th>l_4.5mag</th><th>4.5mag</th><th>e_4.5mag</th><th>l_5.8mag</th><th>5.8mag</th><th>e_5.8mag</th><th>l_8.0mag</th><th>8.0mag</th><th>e_8.0mag</th><th>l_24mag</th><th>24mag</th><th>e_24mag</th><th>l_70mag</th><th>70mag</th><th>e_70mag</th><th>logfx</th><th>e_logfx</th><th>logLx</th><th>SpType</th><th>r_SpType</th><th>Teff</th><th>Slope24</th><th>Class24</th><th>YSOlit</th><th>YSOstd</th><th>YSOx</th><th>YSOaug</th><th>CYvar</th><th>Var</th><th>VarMem</th><th>Npts-i1</th><th>Mean-i1</th><th>Median-i1</th><th>Sdev-i1</th><th>Max-i1</th><th>Min-i1</th><th>Range-i1</th><th>Amp-i1</th><th>Chisq-i1</th><th>TScale-i1</th><th>Period-i1</th><th>M-i1</th><th>Ms-i1</th><th>Q-i1</th><th>Qlt-i1</th><th>Npts-i2</th><th>Mean-i2</th><th>Median-i2</th><th>Sdev-i2</th><th>Max-i2</th><th>Min-i2</th><th>Range-i2</th><th>Amp-i2</th><th>Chisq-i2</th><th>Tscale-i2</th><th>Period-i2</th><th>M-i2</th><th>Ms-i2</th><th>Q-i2</th><th>Qlt-i2</th><th>Mean-i1i2</th><th>Sdev-i1i2</th><th>Period-i1i2</th><th>Stetson-i1i2</th><th>Cor-i1i1i2</th><th>CProb-i1i1i2</th><th>Cor-i2i1i2</th><th>CProb-i2i1i2</th></tr></thead>\n",
       "<thead><tr><th></th><th>deg</th><th>deg</th><th>mag</th><th>mag</th><th>mag</th><th>mag</th><th>mag</th><th>mag</th><th>mag</th><th>mag</th><th>mag</th><th>mag</th><th>mag</th><th>mag</th><th></th><th>mag</th><th>mag</th><th></th><th>mag</th><th>mag</th><th></th><th>mag</th><th>mag</th><th></th><th>mag</th><th>mag</th><th></th><th>mag</th><th>mag</th><th></th><th>mag</th><th>mag</th><th></th><th>mag</th><th>mag</th><th></th><th>mag</th><th>mag</th><th></th><th>mag</th><th>mag</th><th>dex(mW / m2)</th><th>dex(mW / m2)</th><th>[10-7W]</th><th></th><th></th><th>K</th><th></th><th></th><th></th><th></th><th></th><th></th><th></th><th></th><th></th><th></th><th>mag</th><th>mag</th><th>mag</th><th>mag</th><th>mag</th><th>d</th><th>mag</th><th></th><th>d</th><th>d</th><th></th><th></th><th></th><th></th><th></th><th>mag</th><th>mag</th><th>mag</th><th>mag</th><th>mag</th><th>d</th><th>mag</th><th></th><th>d</th><th>d</th><th></th><th></th><th></th><th></th><th>mag</th><th>mag</th><th>d</th><th></th><th></th><th></th><th></th><th></th></tr></thead>\n",
       "<thead><tr><th>str18</th><th>float64</th><th>float64</th><th>float64</th><th>float64</th><th>float64</th><th>float64</th><th>float64</th><th>float64</th><th>float64</th><th>float64</th><th>float64</th><th>float64</th><th>float64</th><th>float64</th><th>str1</th><th>float64</th><th>float64</th><th>str1</th><th>float64</th><th>float64</th><th>str1</th><th>float64</th><th>float64</th><th>str1</th><th>float64</th><th>float64</th><th>str1</th><th>float64</th><th>float64</th><th>str1</th><th>float64</th><th>float64</th><th>str1</th><th>float64</th><th>float64</th><th>str1</th><th>float64</th><th>float64</th><th>str1</th><th>float64</th><th>float64</th><th>float64</th><th>float64</th><th>float64</th><th>str11</th><th>str9</th><th>int64</th><th>float64</th><th>str4</th><th>int64</th><th>int64</th><th>int64</th><th>int64</th><th>int64</th><th>int64</th><th>int64</th><th>int64</th><th>float64</th><th>float64</th><th>float64</th><th>float64</th><th>float64</th><th>float64</th><th>float64</th><th>float64</th><th>float64</th><th>float64</th><th>float64</th><th>float64</th><th>float64</th><th>float64</th><th>int64</th><th>float64</th><th>float64</th><th>float64</th><th>float64</th><th>float64</th><th>float64</th><th>float64</th><th>float64</th><th>float64</th><th>float64</th><th>float64</th><th>float64</th><th>float64</th><th>float64</th><th>float64</th><th>float64</th><th>float64</th><th>float64</th><th>float64</th><th>float64</th><th>float64</th><th>float64</th></tr></thead>\n",
       "<tr><td>032836.94+312312.0</td><td>52.153925</td><td>31.38669</td><td>20.25</td><td>0.01</td><td>17.47</td><td>0.01</td><td>15.75</td><td>0.01</td><td>15.12</td><td>0.01</td><td>15.19</td><td>0.01</td><td>14.55</td><td>0.02</td><td>--</td><td>11.78</td><td>0.02</td><td>--</td><td>10.82</td><td>0.02</td><td>--</td><td>10.5</td><td>0.02</td><td>--</td><td>10.29</td><td>0.01</td><td>--</td><td>10.25</td><td>0.01</td><td>--</td><td>10.18</td><td>0.01</td><td>--</td><td>10.12</td><td>0.01</td><td>--</td><td>10.11</td><td>0.08</td><td>--</td><td>--</td><td>--</td><td>-4.88</td><td>0.03</td><td>29.79</td><td>M1</td><td>Winston10</td><td>3900</td><td>-2.76</td><td>III</td><td>1</td><td>1</td><td>1</td><td>1</td><td>0</td><td>1</td><td>0</td><td>17</td><td>10.27</td><td>10.27</td><td>0.03</td><td>10.33</td><td>10.19</td><td>8.63</td><td>0.11</td><td>6.0</td><td>--</td><td>--</td><td>-0.5</td><td>-0.27</td><td>--</td><td>--</td><td>17</td><td>--</td><td>--</td><td>--</td><td>--</td><td>--</td><td>--</td><td>--</td><td>--</td><td>--</td><td>--</td><td>--</td><td>--</td><td>--</td><td>--</td><td>--</td><td>--</td><td>--</td><td>--</td><td>--</td><td>--</td><td>--</td><td>--</td></tr>\n",
       "<tr><td>032844.07+312052.8</td><td>52.183651</td><td>31.348019</td><td>--</td><td>--</td><td>23.62</td><td>0.14</td><td>21.24</td><td>0.03</td><td>18.49</td><td>0.01</td><td>18.25</td><td>0.01</td><td>16.97</td><td>0.02</td><td>--</td><td>14.24</td><td>0.03</td><td>--</td><td>13.21</td><td>0.03</td><td>--</td><td>12.63</td><td>0.03</td><td>--</td><td>11.9</td><td>0.01</td><td>--</td><td>11.64</td><td>0.01</td><td>--</td><td>11.31</td><td>0.02</td><td>--</td><td>10.57</td><td>0.02</td><td>--</td><td>8.04</td><td>0.03</td><td>--</td><td>--</td><td>--</td><td>-6.71</td><td>0.29</td><td>27.97</td><td>M7.5</td><td>Winston10</td><td>2710</td><td>-1.12</td><td>II</td><td>1</td><td>1</td><td>0</td><td>1</td><td>0</td><td>0</td><td>0</td><td>73</td><td>11.91</td><td>11.91</td><td>0.01</td><td>11.94</td><td>11.88</td><td>33.47</td><td>0.03</td><td>1.47</td><td>8.54</td><td>--</td><td>-0.34</td><td>-0.13</td><td>0.69</td><td>0.67</td><td>73</td><td>11.58</td><td>11.58</td><td>0.01</td><td>11.62</td><td>11.56</td><td>33.47</td><td>0.03</td><td>1.94</td><td>4.13</td><td>--</td><td>-0.11</td><td>0.06</td><td>0.73</td><td>0.6</td><td>0.33</td><td>0.01</td><td>--</td><td>0.07</td><td>0.66</td><td>0.03</td><td>-0.48</td><td>0.07</td></tr>\n",
       "<tr><td>032847.63+312406.1</td><td>52.198494</td><td>31.401701</td><td>--</td><td>--</td><td>23.25</td><td>0.12</td><td>20.97</td><td>0.03</td><td>18.68</td><td>0.01</td><td>18.4</td><td>0.01</td><td>17.08</td><td>0.02</td><td>--</td><td>14.2</td><td>0.04</td><td>--</td><td>12.6</td><td>0.03</td><td>--</td><td>11.66</td><td>0.02</td><td>--</td><td>10.34</td><td>0.01</td><td>--</td><td>10.05</td><td>0.01</td><td>--</td><td>9.77</td><td>0.01</td><td>--</td><td>9.3</td><td>0.01</td><td>--</td><td>6.55</td><td>0.03</td><td>--</td><td>--</td><td>--</td><td>-6.16</td><td>0.11</td><td>28.81</td><td>M4</td><td>Winston10</td><td>3340</td><td>-1.01</td><td>II</td><td>1</td><td>1</td><td>0</td><td>1</td><td>1</td><td>1</td><td>0</td><td>73</td><td>10.57</td><td>10.56</td><td>0.15</td><td>10.92</td><td>10.3</td><td>33.47</td><td>0.43</td><td>215.91</td><td>11.39</td><td>--</td><td>0.27</td><td>-0.02</td><td>0.86</td><td>0.6</td><td>73</td><td>--</td><td>--</td><td>--</td><td>--</td><td>--</td><td>--</td><td>--</td><td>--</td><td>--</td><td>--</td><td>--</td><td>--</td><td>--</td><td>--</td><td>--</td><td>--</td><td>--</td><td>--</td><td>--</td><td>--</td><td>--</td><td>--</td></tr>\n",
       "<tr><td>032847.65+312154.5</td><td>52.198567</td><td>31.365164</td><td>--</td><td>--</td><td>--</td><td>--</td><td>--</td><td>--</td><td>23.94</td><td>0.07</td><td>23.49</td><td>0.02</td><td>21.39</td><td>0.02</td><td>--</td><td>17.55</td><td>0.11</td><td>--</td><td>16.29</td><td>0.1</td><td>--</td><td>15.24</td><td>0.06</td><td>--</td><td>14.66</td><td>0.01</td><td>--</td><td>14.41</td><td>0.02</td><td>--</td><td>14.18</td><td>0.09</td><td>--</td><td>--</td><td>--</td><td>&gt;</td><td>10.52</td><td>--</td><td>--</td><td>--</td><td>--</td><td>--</td><td>--</td><td>--</td><td>M9.2</td><td>Scholz12</td><td>--</td><td>-1.8</td><td>III</td><td>1</td><td>0</td><td>0</td><td>1</td><td>0</td><td>0</td><td>0</td><td>73</td><td>14.59</td><td>14.59</td><td>0.02</td><td>14.64</td><td>14.53</td><td>33.47</td><td>0.06</td><td>1.2</td><td>8.25</td><td>--</td><td>-0.06</td><td>-0.2</td><td>0.65</td><td>-0.31</td><td>73</td><td>14.39</td><td>14.39</td><td>0.02</td><td>14.44</td><td>14.34</td><td>33.47</td><td>0.07</td><td>1.19</td><td>4.58</td><td>--</td><td>-0.33</td><td>-0.06</td><td>0.1</td><td>17.86</td><td>0.2</td><td>0.03</td><td>--</td><td>0.01</td><td>0.7</td><td>0.02</td><td>-0.73</td><td>0.01</td></tr>\n",
       "<tr><td>032847.82+311655.1</td><td>52.199259</td><td>31.281999</td><td>21.77</td><td>0.05</td><td>20.73</td><td>0.02</td><td>18.85</td><td>0.01</td><td>16.78</td><td>0.01</td><td>--</td><td>--</td><td>--</td><td>--</td><td>--</td><td>12.94</td><td>0.02</td><td>--</td><td>11.74</td><td>0.03</td><td>--</td><td>10.91</td><td>0.02</td><td>--</td><td>9.94</td><td>0.01</td><td>--</td><td>9.39</td><td>0.01</td><td>--</td><td>9.09</td><td>0.01</td><td>--</td><td>8.37</td><td>0.01</td><td>--</td><td>5.59</td><td>0.03</td><td>--</td><td>--</td><td>--</td><td>-5.87</td><td>0.08</td><td>28.83</td><td>M8</td><td>Winston10</td><td>2880</td><td>-0.87</td><td>II</td><td>1</td><td>1</td><td>0</td><td>1</td><td>0</td><td>1</td><td>0</td><td>73</td><td>9.89</td><td>9.9</td><td>0.08</td><td>10.04</td><td>9.73</td><td>33.47</td><td>0.23</td><td>38.02</td><td>--</td><td>--</td><td>-0.2</td><td>-0.03</td><td>--</td><td>--</td><td>73</td><td>9.28</td><td>9.29</td><td>0.08</td><td>9.42</td><td>9.13</td><td>33.47</td><td>0.21</td><td>55.37</td><td>--</td><td>--</td><td>-0.25</td><td>-0.0</td><td>--</td><td>--</td><td>0.61</td><td>0.02</td><td>--</td><td>0.63</td><td>0.24</td><td>0.19</td><td>-0.02</td><td>0.63</td></tr>\n",
       "<tr><td>...</td><td>...</td><td>...</td><td>...</td><td>...</td><td>...</td><td>...</td><td>...</td><td>...</td><td>...</td><td>...</td><td>...</td><td>...</td><td>...</td><td>...</td><td>...</td><td>...</td><td>...</td><td>...</td><td>...</td><td>...</td><td>...</td><td>...</td><td>...</td><td>...</td><td>...</td><td>...</td><td>...</td><td>...</td><td>...</td><td>...</td><td>...</td><td>...</td><td>...</td><td>...</td><td>...</td><td>...</td><td>...</td><td>...</td><td>...</td><td>...</td><td>...</td><td>...</td><td>...</td><td>...</td><td>...</td><td>...</td><td>...</td><td>...</td><td>...</td><td>...</td><td>...</td><td>...</td><td>...</td><td>...</td><td>...</td><td>...</td><td>...</td><td>...</td><td>...</td><td>...</td><td>...</td><td>...</td><td>...</td><td>...</td><td>...</td><td>...</td><td>...</td><td>...</td><td>...</td><td>...</td><td>...</td><td>...</td><td>...</td><td>...</td><td>...</td><td>...</td><td>...</td><td>...</td><td>...</td><td>...</td><td>...</td><td>...</td><td>...</td><td>...</td><td>...</td><td>...</td><td>...</td><td>...</td><td>...</td><td>...</td><td>...</td><td>...</td><td>...</td><td>...</td></tr>\n",
       "<tr><td>032923.15+312030.3</td><td>52.346475</td><td>31.341764</td><td>19.74</td><td>0.01</td><td>18.12</td><td>0.01</td><td>16.76</td><td>0.01</td><td>15.82</td><td>0.01</td><td>16.12</td><td>0.01</td><td>15.26</td><td>0.02</td><td>--</td><td>12.4</td><td>0.02</td><td>--</td><td>11.64</td><td>0.03</td><td>--</td><td>11.23</td><td>0.02</td><td>--</td><td>10.51</td><td>0.01</td><td>--</td><td>10.12</td><td>0.01</td><td>--</td><td>9.82</td><td>0.01</td><td>--</td><td>8.98</td><td>0.01</td><td>--</td><td>5.92</td><td>0.03</td><td>--</td><td>--</td><td>--</td><td>-6.65</td><td>0.24</td><td>28.98</td><td>M4.5</td><td>Winston10</td><td>3120</td><td>-0.83</td><td>II</td><td>1</td><td>1</td><td>0</td><td>1</td><td>0</td><td>1</td><td>0</td><td>73</td><td>10.5</td><td>10.5</td><td>0.04</td><td>10.6</td><td>10.42</td><td>33.47</td><td>0.1</td><td>17.05</td><td>10.47</td><td>10.96</td><td>0.2</td><td>-0.08</td><td>0.54</td><td>0.44</td><td>73</td><td>10.11</td><td>10.11</td><td>0.04</td><td>10.19</td><td>10.04</td><td>33.47</td><td>0.1</td><td>28.45</td><td>10.34</td><td>11.3</td><td>0.11</td><td>0.01</td><td>0.62</td><td>0.51</td><td>0.39</td><td>0.01</td><td>--</td><td>0.6</td><td>0.38</td><td>0.06</td><td>0.04</td><td>0.6</td></tr>\n",
       "<tr><td>032923.49+312330.9</td><td>52.347914</td><td>31.391944</td><td>22.91</td><td>0.08</td><td>19.49</td><td>0.01</td><td>17.61</td><td>0.01</td><td>--</td><td>--</td><td>16.37</td><td>0.01</td><td>15.49</td><td>0.02</td><td>--</td><td>12.85</td><td>0.02</td><td>--</td><td>11.72</td><td>0.03</td><td>--</td><td>11.36</td><td>0.02</td><td>--</td><td>11.09</td><td>0.01</td><td>--</td><td>11.03</td><td>0.01</td><td>--</td><td>10.94</td><td>0.02</td><td>--</td><td>10.96</td><td>0.06</td><td>&gt;</td><td>10.8</td><td>--</td><td>--</td><td>--</td><td>--</td><td>-4.85</td><td>0.02</td><td>29.92</td><td>M3.5</td><td>Winston10</td><td>3690</td><td>-2.52</td><td>III</td><td>1</td><td>1</td><td>1</td><td>1</td><td>0</td><td>0</td><td>0</td><td>17</td><td>11.03</td><td>11.03</td><td>0.01</td><td>11.05</td><td>11.01</td><td>7.94</td><td>0.04</td><td>1.17</td><td>--</td><td>--</td><td>-0.53</td><td>-0.22</td><td>--</td><td>--</td><td>17</td><td>10.97</td><td>10.97</td><td>0.01</td><td>10.99</td><td>10.95</td><td>24.26</td><td>0.02</td><td>1.41</td><td>17.35</td><td>--</td><td>-0.19</td><td>-0.4</td><td>1.06</td><td>0.99</td><td>0.07</td><td>0.02</td><td>--</td><td>0.11</td><td>0.91</td><td>0.09</td><td>-0.83</td><td>0.11</td></tr>\n",
       "<tr><td>032924.08+311957.7</td><td>52.350336</td><td>31.332706</td><td>--</td><td>--</td><td>--</td><td>--</td><td>20.48</td><td>0.02</td><td>19.17</td><td>0.01</td><td>19.33</td><td>0.01</td><td>18.44</td><td>0.02</td><td>--</td><td>15.55</td><td>0.04</td><td>--</td><td>14.25</td><td>0.04</td><td>--</td><td>13.59</td><td>0.03</td><td>--</td><td>12.87</td><td>0.01</td><td>--</td><td>12.44</td><td>0.01</td><td>--</td><td>11.88</td><td>0.01</td><td>--</td><td>10.75</td><td>0.01</td><td>--</td><td>5.03</td><td>0.01</td><td>--</td><td>--</td><td>--</td><td>--</td><td>--</td><td>--</td><td>M2.6</td><td>Wilking04</td><td>--</td><td>0.49</td><td>I</td><td>1</td><td>1</td><td>0</td><td>1</td><td>0</td><td>0</td><td>0</td><td>73</td><td>12.84</td><td>12.84</td><td>0.01</td><td>12.87</td><td>12.82</td><td>33.47</td><td>0.04</td><td>1.57</td><td>6.33</td><td>--</td><td>0.23</td><td>-0.07</td><td>0.3</td><td>-0.46</td><td>73</td><td>12.44</td><td>12.43</td><td>0.02</td><td>12.47</td><td>12.4</td><td>33.47</td><td>0.04</td><td>2.91</td><td>3.24</td><td>--</td><td>0.22</td><td>-0.09</td><td>0.6</td><td>0.31</td><td>0.41</td><td>0.01</td><td>--</td><td>0.09</td><td>0.39</td><td>0.19</td><td>-0.48</td><td>0.09</td></tr>\n",
       "<tr><td>032925.84+311641.8</td><td>52.357688</td><td>31.278286</td><td>--</td><td>--</td><td>--</td><td>--</td><td>--</td><td>--</td><td>23.64</td><td>0.07</td><td>23.48</td><td>0.03</td><td>21.67</td><td>0.02</td><td>--</td><td>18.53</td><td>0.6</td><td>--</td><td>--</td><td>--</td><td>--</td><td>17.07</td><td>0.6</td><td>--</td><td>16.48</td><td>0.04</td><td>--</td><td>16.21</td><td>0.06</td><td>--</td><td>15.33</td><td>0.18</td><td>&gt;</td><td>15.33</td><td>--</td><td>&gt;</td><td>11.72</td><td>--</td><td>--</td><td>--</td><td>--</td><td>--</td><td>--</td><td>--</td><td>~L3</td><td>Scholz12</td><td>--</td><td>-1.28</td><td>II</td><td>1</td><td>0</td><td>0</td><td>1</td><td>0</td><td>0</td><td>0</td><td>48</td><td>16.4</td><td>16.42</td><td>0.09</td><td>16.58</td><td>16.17</td><td>25.22</td><td>0.21</td><td>0.79</td><td>2.27</td><td>--</td><td>-0.4</td><td>-0.16</td><td>1.89</td><td>1.34</td><td>48</td><td>16.04</td><td>16.04</td><td>0.09</td><td>16.22</td><td>15.81</td><td>33.47</td><td>0.24</td><td>1.23</td><td>4.16</td><td>--</td><td>-0.15</td><td>-0.15</td><td>1.03</td><td>0.95</td><td>0.37</td><td>0.12</td><td>--</td><td>0.06</td><td>0.71</td><td>0.12</td><td>-0.72</td><td>0.06</td></tr>\n",
       "<tr><td>032928.15+311628.6</td><td>52.367328</td><td>31.27462</td><td>22.12</td><td>0.07</td><td>20.38</td><td>0.01</td><td>18.88</td><td>0.01</td><td>16.64</td><td>0.01</td><td>16.88</td><td>0.01</td><td>15.84</td><td>0.02</td><td>--</td><td>13.05</td><td>0.02</td><td>--</td><td>12.43</td><td>0.03</td><td>--</td><td>12.09</td><td>0.02</td><td>--</td><td>11.67</td><td>0.01</td><td>--</td><td>11.6</td><td>0.01</td><td>--</td><td>11.55</td><td>0.02</td><td>--</td><td>11.47</td><td>0.02</td><td>&gt;</td><td>10.92</td><td>--</td><td>--</td><td>--</td><td>--</td><td>-5.37</td><td>0.04</td><td>29.19</td><td>M7.5</td><td>Winston10</td><td>2610</td><td>-2.36</td><td>III</td><td>1</td><td>1</td><td>1</td><td>1</td><td>0</td><td>1</td><td>0</td><td>0</td><td>--</td><td>--</td><td>--</td><td>--</td><td>--</td><td>--</td><td>--</td><td>--</td><td>--</td><td>--</td><td>--</td><td>--</td><td>--</td><td>--</td><td>0</td><td>11.5</td><td>11.5</td><td>0.02</td><td>11.54</td><td>11.47</td><td>33.47</td><td>0.06</td><td>7.22</td><td>2.42</td><td>2.42</td><td>0.16</td><td>0.11</td><td>0.02</td><td>0.04</td><td>--</td><td>--</td><td>--</td><td>--</td><td>--</td><td>--</td><td>--</td><td>--</td></tr>\n",
       "<tr><td>032929.26+311834.8</td><td>52.371937</td><td>31.309672</td><td>21.99</td><td>0.06</td><td>18.92</td><td>0.01</td><td>16.92</td><td>0.01</td><td>16.11</td><td>0.01</td><td>16.33</td><td>0.01</td><td>15.56</td><td>0.02</td><td>--</td><td>12.59</td><td>0.02</td><td>--</td><td>11.4</td><td>0.03</td><td>--</td><td>10.96</td><td>0.02</td><td>--</td><td>10.67</td><td>0.01</td><td>--</td><td>10.66</td><td>0.01</td><td>--</td><td>10.59</td><td>0.01</td><td>--</td><td>10.07</td><td>0.01</td><td>--</td><td>4.72</td><td>0.03</td><td>--</td><td>1.06</td><td>0.11</td><td>-4.55</td><td>0.01</td><td>30.26</td><td>K7.5</td><td>Winston10</td><td>4150</td><td>-0.49</td><td>II</td><td>1</td><td>1</td><td>0</td><td>1</td><td>0</td><td>0</td><td>0</td><td>53</td><td>10.62</td><td>10.62</td><td>0.01</td><td>10.64</td><td>10.59</td><td>25.66</td><td>0.03</td><td>1.25</td><td>12.17</td><td>--</td><td>-0.18</td><td>-0.26</td><td>-0.04</td><td>-0.7</td><td>53</td><td>10.57</td><td>10.57</td><td>0.01</td><td>10.6</td><td>10.55</td><td>33.47</td><td>0.02</td><td>1.57</td><td>1.23</td><td>--</td><td>0.1</td><td>0.06</td><td>0.57</td><td>-1.48</td><td>0.05</td><td>0.01</td><td>--</td><td>0.11</td><td>0.82</td><td>0.01</td><td>-0.56</td><td>0.11</td></tr>\n",
       "</table>"
      ],
      "text/plain": [
       "<Table length=103>\n",
       "       Cat           RAdeg     DEdeg   ... CProb-i1i1i2 Cor-i2i1i2 CProb-i2i1i2\n",
       "                      deg       deg    ...                                     \n",
       "      str18         float64   float64  ...   float64     float64     float64   \n",
       "------------------ --------- --------- ... ------------ ---------- ------------\n",
       "032836.94+312312.0 52.153925  31.38669 ...           --         --           --\n",
       "032844.07+312052.8 52.183651 31.348019 ...         0.03      -0.48         0.07\n",
       "032847.63+312406.1 52.198494 31.401701 ...           --         --           --\n",
       "032847.65+312154.5 52.198567 31.365164 ...         0.02      -0.73         0.01\n",
       "032847.82+311655.1 52.199259 31.281999 ...         0.19      -0.02         0.63\n",
       "               ...       ...       ... ...          ...        ...          ...\n",
       "032923.15+312030.3 52.346475 31.341764 ...         0.06       0.04          0.6\n",
       "032923.49+312330.9 52.347914 31.391944 ...         0.09      -0.83         0.11\n",
       "032924.08+311957.7 52.350336 31.332706 ...         0.19      -0.48         0.09\n",
       "032925.84+311641.8 52.357688 31.278286 ...         0.12      -0.72         0.06\n",
       "032928.15+311628.6 52.367328  31.27462 ...           --         --           --\n",
       "032929.26+311834.8 52.371937 31.309672 ...         0.01      -0.56         0.11"
      ]
     },
     "execution_count": 171,
     "metadata": {},
     "output_type": "execute_result"
    }
   ],
   "source": [
    "r1_litpertable.table[idx[sep_constraint]]"
   ]
  },
  {
   "cell_type": "code",
   "execution_count": 174,
   "id": "75af556d",
   "metadata": {},
   "outputs": [
    {
     "data": {
      "text/plain": [
       "[<matplotlib.lines.Line2D at 0x7fc904aa22d0>]"
      ]
     },
     "execution_count": 174,
     "metadata": {},
     "output_type": "execute_result"
    },
    {
     "data": {
      "image/png": "[encoded data removed]",
      "text/plain": [
       "<Figure size 432x288 with 1 Axes>"
      ]
     },
     "metadata": {
      "needs_background": "light"
     },
     "output_type": "display_data"
    }
   ],
   "source": [
    "plt.plot(r1_litpertable.period[idx[sep_constraint]], ngc_periods['Period'][sep_constraint], 'k.')"
   ]
  },
  {
   "cell_type": "code",
   "execution_count": 232,
   "id": "df36c6ce",
   "metadata": {},
   "outputs": [
    {
     "data": {
      "text/latex": [
       "$3.0264361 \\; \\mathrm{{}^{\\circ}}$"
      ],
      "text/plain": [
       "<Quantity 3.02643611 deg>"
      ]
     },
     "execution_count": 232,
     "metadata": {},
     "output_type": "execute_result"
    }
   ],
   "source": [
    "(10895.17 *u.arcsec).to(u.deg)"
   ]
  },
  {
   "cell_type": "code",
   "execution_count": 243,
   "id": "504f58b4",
   "metadata": {},
   "outputs": [
    {
     "data": {
      "text/plain": [
       "(148, 1)"
      ]
     },
     "execution_count": 243,
     "metadata": {},
     "output_type": "execute_result"
    }
   ],
   "source": [
    "f1_litpertable.coords.shape"
   ]
  },
  {
   "cell_type": "code",
   "execution_count": 248,
   "id": "876cedc7",
   "metadata": {},
   "outputs": [
    {
     "data": {
      "text/plain": [
       "(148,)"
      ]
     },
     "execution_count": 248,
     "metadata": {},
     "output_type": "execute_result"
    }
   ],
   "source": [
    "np.shape(f1_de_deg)"
   ]
  },
  {
   "cell_type": "code",
   "execution_count": 244,
   "id": "950bcf24",
   "metadata": {},
   "outputs": [],
   "source": [
    "f1_coords = SkyCoord(ra=f1_ra_deg, dec=f1_de_deg, unit=(u.deg, u.deg))\n",
    "\n"
   ]
  },
  {
   "cell_type": "code",
   "execution_count": 253,
   "id": "840dc4a5",
   "metadata": {},
   "outputs": [
    {
     "data": {
      "text/plain": [
       "<SkyCoord (ICRS): (ra, dec) in deg\n",
       "    [(56.1632, 32.1552), (56.1539, 32.1127), (55.9635, 32.2193),\n",
       "     (55.8851, 32.5134), (56.1   , 32.1834), (55.7496, 32.1541),\n",
       "     (55.5409, 32.3859), (55.5155, 32.2742), (55.4924, 32.2384),\n",
       "     (55.8956, 32.5271), (56.0684, 32.1654), (55.9813, 32.159 ),\n",
       "     (55.7439, 32.41  ), (56.1809, 32.1382), (55.494 , 32.044 ),\n",
       "     (56.1462, 32.127 ), (56.0209, 32.165 ), (56.2563, 32.181 ),\n",
       "     (56.1452, 32.1093), (55.7419, 32.3678), (56.0369, 32.2697),\n",
       "     (56.3775, 32.0322), (56.1186, 32.123 ), (56.1602, 32.1266),\n",
       "     (55.5462, 32.3783), (56.4865, 32.162 ), (55.8836, 32.1049),\n",
       "     (56.1672, 32.1928), (56.0007, 32.3708), (56.2572, 32.2411),\n",
       "     (56.1066, 32.2084), (56.4391, 32.1445), (55.7459, 32.5015),\n",
       "     (56.1126, 32.0789), (55.6818, 31.9876), (56.1775, 32.1055),\n",
       "     (56.1558, 32.1033), (56.3166, 32.5146), (55.9618, 31.9059),\n",
       "     (56.4079, 32.1403), (55.6255, 31.7028), (56.4741, 32.4451),\n",
       "     (55.6693, 32.2859), (55.9531, 32.126 ), (56.0091, 32.3278),\n",
       "     (56.3181, 32.1056), (56.3474, 32.4104), (56.0746, 32.2057),\n",
       "     (55.9989, 32.2342), (55.9643, 32.5303), (56.0476, 32.3279),\n",
       "     (56.0469, 32.1034), (55.9843, 32.505 ), (55.6486, 32.2889),\n",
       "     (56.1172, 32.2667), (56.1162, 32.1255), (55.7311, 31.9535),\n",
       "     (56.1229, 32.4403), (56.1605, 32.1336), (56.0986, 32.113 ),\n",
       "     (56.1605, 32.2167), (55.9842, 32.1434), (55.9495, 32.2992),\n",
       "     (56.3845, 32.0542), (56.0901, 32.1772), (56.0957, 32.1993),\n",
       "     (56.1188, 31.9984), (56.1384, 32.2581), (56.093 , 32.2002),\n",
       "     (55.6923, 32.4549), (56.1111, 32.0662), (56.2907, 32.2268),\n",
       "     (56.017 , 32.1214), (56.5065, 32.1606), (56.1064, 32.192 ),\n",
       "     (55.7794, 32.1718), (56.1859, 32.1369), (56.0898, 32.1716),\n",
       "     (55.9558, 32.1778), (56.2123, 32.2693), (56.0929, 32.0953),\n",
       "     (55.7352, 31.7106), (55.5361, 32.4745), (56.0897, 32.2528),\n",
       "     (56.2338, 32.0991), (56.3981, 31.9406), (56.1691, 32.3865),\n",
       "     (56.1023, 32.0659), (56.2034, 32.2228), (56.1812, 32.1286),\n",
       "     (56.2198, 32.0158), (55.9983, 32.2654), (56.3444, 31.7239),\n",
       "     (55.6077, 32.3507), (55.6177, 32.5133), (55.9534, 32.2644),\n",
       "     (55.5846, 32.092 ), (56.0802, 32.1263), (56.3977, 32.0572),\n",
       "     (56.2081, 32.0628), (56.0906, 32.2087), (56.1249, 32.323 ),\n",
       "     (55.6342, 31.7272), (55.6703, 32.2264), (56.1495, 32.2645),\n",
       "     (56.3423, 32.0345), (56.0756, 32.0825), (55.6   , 31.9005),\n",
       "     (56.2718, 32.1653), (56.3406, 32.5352), (56.0283, 32.1318),\n",
       "     (55.8874, 32.4675), (56.262 , 32.1169), (56.3116, 32.4332),\n",
       "     (56.1584, 32.1937), (56.4146, 31.7148), (56.1134, 32.2393),\n",
       "     (56.4449, 32.4804), (56.1874, 32.2268), (55.6372, 31.7057),\n",
       "     (56.1616, 32.3183), (56.0312, 32.0691), (55.733 , 31.7464),\n",
       "     (56.1574, 32.205 ), (56.4328, 32.4098), (56.4929, 32.4466),\n",
       "     (55.9526, 32.2307), (56.0191, 32.4684), (56.0834, 32.1127),\n",
       "     (56.124 , 32.1777), (56.1363, 32.1545), (56.1355, 32.149 ),\n",
       "     (56.1311, 32.1457), (56.1363, 32.1438), (56.1611, 32.145 ),\n",
       "     (56.1614, 32.1489), (56.1558, 32.1504), (56.1633, 32.1623),\n",
       "     (56.1416, 32.1482), (56.0903, 32.107 ), (56.0939, 32.0314),\n",
       "     (56.1083, 32.275 ), (56.0406, 32.2868), (55.6466, 32.565 ),\n",
       "     (55.8014, 32.5698), (56.1153, 32.5637), (56.0927, 32.5625),\n",
       "     (56.4838, 32.572 )]>"
      ]
     },
     "execution_count": 253,
     "metadata": {},
     "output_type": "execute_result"
    }
   ],
   "source": [
    "f1_coords.flatten()"
   ]
  },
  {
   "cell_type": "code",
   "execution_count": null,
   "id": "84708b0f",
   "metadata": {},
   "outputs": [],
   "source": []
  }
 ],
 "metadata": {
  "kernelspec": {
   "display_name": "Python 3 (ipykernel)",
   "language": "python",
   "name": "python3"
  },
  "language_info": {
   "codemirror_mode": {
    "name": "ipython",
    "version": 3
   },
   "file_extension": ".py",
   "mimetype": "text/x-python",
   "name": "python",
   "nbconvert_exporter": "python",
   "pygments_lexer": "ipython3",
   "version": "3.7.7"
  }
 },
 "nbformat": 4,
 "nbformat_minor": 5
}
