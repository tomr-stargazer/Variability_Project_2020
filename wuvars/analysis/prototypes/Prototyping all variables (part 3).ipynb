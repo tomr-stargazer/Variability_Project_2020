{
 "cells": [
  {
   "cell_type": "markdown",
   "id": "7ee72ec4",
   "metadata": {},
   "source": [
    "# The big idea\n",
    "\n",
    "In this iteration (following parts 1 and 2), we are going to apply the variability selection criteria we developed in `stetson_vs_mag.py`.\n",
    "\n"
   ]
  },
  {
   "cell_type": "code",
   "execution_count": 1,
   "id": "5e692246",
   "metadata": {},
   "outputs": [],
   "source": [
    "import numpy as np\n",
    "import matplotlib.pyplot as plt\n",
    "import pandas as pd\n",
    "\n",
    "import warnings\n",
    "warnings.filterwarnings(\"ignore\")"
   ]
  },
  {
   "cell_type": "code",
   "execution_count": 2,
   "id": "83185241",
   "metadata": {},
   "outputs": [],
   "source": [
    "lc_dir = \"/Users/tsrice/Documents/Variability_Project_2020/wuvars/analysis/prototypes/BD_lcs_v3\"\n",
    "\n",
    "inspect_onc = pd.read_csv(os.path.join(lc_dir, \"inspection_onc.csv\"), skipinitialspace=True)\n",
    "inspect_ngc = pd.read_csv(os.path.join(lc_dir, \"inspection_ngc.csv\"), skipinitialspace=True)\n",
    "inspect_ic = pd.read_csv(os.path.join(lc_dir, \"inspection_ic.csv\"), skipinitialspace=True)\n",
    "\n",
    "approved_sources_onc = inspect_onc['SOURCEID'][inspect_onc['exclude?'] != 'yes']\n",
    "approved_sources_ngc = inspect_ngc['SOURCEID'][inspect_ngc['exclude?'] != 'yes']\n",
    "approved_sources_ic = inspect_ic['SOURCEID'][inspect_ic['exclude?'] != 'yes']\n",
    "\n",
    "approved = {}\n",
    "approved[5] = approved_sources_onc\n",
    "approved[7] = approved_sources_ngc\n",
    "approved[8] = approved_sources_ic"
   ]
  },
  {
   "cell_type": "code",
   "execution_count": 3,
   "id": "4cba0895",
   "metadata": {},
   "outputs": [],
   "source": [
    "spreadsheet_dir = \"/Users/tsrice/Documents/Variability_Project_2020/wuvars/analysis/prototypes\"\n",
    "period_sheet_ic = pd.read_excel(\n",
    "    os.path.join(spreadsheet_dir, \"IC_source_properties_periods_inspected.xlsx\")\n",
    ")\n",
    "period_sheet_onc = pd.read_excel(\n",
    "    os.path.join(spreadsheet_dir, \"ONC_source_properties_periods_inspected.xlsx\")\n",
    ")\n",
    "period_sheet_ngc = pd.read_excel(\n",
    "    os.path.join(spreadsheet_dir, \"NGC_source_properties_periods_inspected.xlsx\")\n",
    ")\n",
    "\n",
    "flags = ['Y', 'Yw', 'N', 'YfY', '?fY', 'YfYw', '?fYw', \"YfN\", \"?fN\"]\n",
    "periodic_flags = [flag for flag in flags if flag[-1] in ('Y', 'w')]\n",
    "\n",
    "periodic_onc = period_sheet_onc[np.in1d(period_sheet_onc['Periodic?'], periodic_flags)]\n",
    "periodic_ngc = period_sheet_ngc[np.in1d(period_sheet_ngc['Periodic?'], periodic_flags)]\n",
    "periodic_ic = period_sheet_ic[np.in1d(period_sheet_ic['Periodic?'], periodic_flags)]\n",
    "\n",
    "periodic = {}\n",
    "periodic[5] = periodic_onc\n",
    "periodic[7] = periodic_ngc\n",
    "periodic[8] = periodic_ic"
   ]
  },
  {
   "cell_type": "code",
   "execution_count": null,
   "id": "b7f591e7",
   "metadata": {},
   "outputs": [],
   "source": []
  }
 ],
 "metadata": {
  "kernelspec": {
   "display_name": "Python 3 (ipykernel)",
   "language": "python",
   "name": "python3"
  },
  "language_info": {
   "codemirror_mode": {
    "name": "ipython",
    "version": 3
   },
   "file_extension": ".py",
   "mimetype": "text/x-python",
   "name": "python",
   "nbconvert_exporter": "python",
   "pygments_lexer": "ipython3",
   "version": "3.7.7"
  }
 },
 "nbformat": 4,
 "nbformat_minor": 5
}
