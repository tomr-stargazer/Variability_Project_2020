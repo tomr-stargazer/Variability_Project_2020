{
 "cells": [
  {
   "cell_type": "code",
   "execution_count": 1,
   "metadata": {},
   "outputs": [
    {
     "name": "stdout",
     "output_type": "stream",
     "text": [
      "\n",
      "  Here are the filenames: \n",
      "/Users/tsrice/Documents/Variability_Project_2020/Data/Raw_Downloads/wserv1.fits.gz\n",
      "/Users/tsrice/Documents/Variability_Project_2020/Data/Raw_Downloads/wserv8.fits.gz\n",
      "/Users/tsrice/Documents/Variability_Project_2020/Data/Raw_Downloads/wserv11.fits.gz\n",
      "/Users/tsrice/Documents/Variability_Project_2020/Data/Raw_Downloads/wserv5.fits.gz\n",
      "/Users/tsrice/Documents/Variability_Project_2020/Data/Raw_Downloads/wserv7.fits.gz\n",
      "\n",
      "  Here are their sizes, in MB:\n",
      "wserv1.fits.gz: 797.3 MB\n",
      "wserv8.fits.gz: 76.7 MB\n",
      "wserv11.fits.gz: 144.0 MB\n",
      "wserv5.fits.gz: 99.4 MB\n",
      "wserv7.fits.gz: 107.6 MB\n",
      "\n",
      "  Load times and table sizes, in rows:\n",
      "wserv1.fits.gz took 22.88 s to load\n",
      "wserv1.fits.gz has 17427458 rows (17.4M rows)\n",
      "\n",
      "wserv8.fits.gz took 2.55 s to load\n",
      "wserv8.fits.gz has 1647989 rows (1.6M rows)\n",
      "\n",
      "wserv11.fits.gz took 4.12 s to load\n",
      "wserv11.fits.gz has 2989616 rows (3.0M rows)\n",
      "\n",
      "wserv5.fits.gz took 3.17 s to load\n",
      "wserv5.fits.gz has 2380878 rows (2.4M rows)\n",
      "\n",
      "wserv7.fits.gz took 3.33 s to load\n",
      "wserv7.fits.gz has 2319765 rows (2.3M rows)\n",
      "\n"
     ]
    }
   ],
   "source": [
    "%run print_sizes.py"
   ]
  },
  {
   "cell_type": "code",
   "execution_count": null,
   "metadata": {},
   "outputs": [],
   "source": []
  }
 ],
 "metadata": {
  "kernelspec": {
   "display_name": "Python 3",
   "language": "python",
   "name": "python3"
  },
  "language_info": {
   "codemirror_mode": {
    "name": "ipython",
    "version": 3
   },
   "file_extension": ".py",
   "mimetype": "text/x-python",
   "name": "python",
   "nbconvert_exporter": "python",
   "pygments_lexer": "ipython3",
   "version": "3.7.7"
  }
 },
 "nbformat": 4,
 "nbformat_minor": 2
}
