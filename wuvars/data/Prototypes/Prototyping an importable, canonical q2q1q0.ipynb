{
 "cells": [
  {
   "cell_type": "code",
   "execution_count": 1,
   "id": "eee888da",
   "metadata": {},
   "outputs": [],
   "source": [
    "wserv_ids = [1, 5, 7, 8, 11]\n",
    "n_obs_list = [130, 120, 171, 85, 110]\n",
    "\n",
    "n_min_list = [60, 35, 80, 55, 65]\n",
    "n_max_list = [100, 90, 160, 80, 100]"
   ]
  },
  {
   "cell_type": "code",
   "execution_count": 2,
   "id": "4dd228ea",
   "metadata": {},
   "outputs": [
    {
     "data": {
      "text/plain": [
       "35"
      ]
     },
     "execution_count": 2,
     "metadata": {},
     "output_type": "execute_result"
    }
   ],
   "source": [
    "n_min_list[1]"
   ]
  },
  {
   "cell_type": "code",
   "execution_count": 6,
   "id": "e4d1b012",
   "metadata": {},
   "outputs": [
    {
     "data": {
      "text/plain": [
       "array([35])"
      ]
     },
     "execution_count": 6,
     "metadata": {},
     "output_type": "execute_result"
    }
   ],
   "source": [
    "np.array(n_min_list)[np.array(wserv_ids) == 5]"
   ]
  },
  {
   "cell_type": "code",
   "execution_count": 4,
   "id": "84f09892",
   "metadata": {},
   "outputs": [
    {
     "data": {
      "text/plain": [
       "False"
      ]
     },
     "execution_count": 4,
     "metadata": {},
     "output_type": "execute_result"
    }
   ],
   "source": [
    "wserv_ids == 5"
   ]
  },
  {
   "cell_type": "code",
   "execution_count": 11,
   "id": "570906aa",
   "metadata": {},
   "outputs": [],
   "source": [
    "n_min_dict = {wserv : n_min for wserv, n_min in zip(wserv_ids, n_min_list)}\n",
    "n_max_dict = {wserv : n_max for wserv, n_max in zip(wserv_ids, n_max_list)}"
   ]
  },
  {
   "cell_type": "code",
   "execution_count": 12,
   "id": "f5fa54ef",
   "metadata": {},
   "outputs": [
    {
     "data": {
      "text/plain": [
       "{1: 60, 5: 35, 7: 80, 8: 55, 11: 65}"
      ]
     },
     "execution_count": 12,
     "metadata": {},
     "output_type": "execute_result"
    }
   ],
   "source": [
    "n_min_dict"
   ]
  },
  {
   "cell_type": "code",
   "execution_count": 13,
   "id": "ee08b5dd",
   "metadata": {},
   "outputs": [
    {
     "data": {
      "text/plain": [
       "{1: 100, 5: 90, 7: 160, 8: 80, 11: 100}"
      ]
     },
     "execution_count": 13,
     "metadata": {},
     "output_type": "execute_result"
    }
   ],
   "source": [
    "n_max_dict"
   ]
  },
  {
   "cell_type": "code",
   "execution_count": 14,
   "id": "93648220",
   "metadata": {},
   "outputs": [
    {
     "data": {
      "text/plain": [
       "35"
      ]
     },
     "execution_count": 14,
     "metadata": {},
     "output_type": "execute_result"
    }
   ],
   "source": [
    "n_min_dict[5]"
   ]
  },
  {
   "cell_type": "code",
   "execution_count": 15,
   "id": "27e964d3",
   "metadata": {},
   "outputs": [
    {
     "data": {
      "text/plain": [
       "90"
      ]
     },
     "execution_count": 15,
     "metadata": {},
     "output_type": "execute_result"
    }
   ],
   "source": [
    "n_max_dict[5]"
   ]
  },
  {
   "cell_type": "code",
   "execution_count": 16,
   "id": "16358057",
   "metadata": {},
   "outputs": [],
   "source": [
    "from recordclass import recordclass"
   ]
  },
  {
   "cell_type": "code",
   "execution_count": 19,
   "id": "b0deb88b",
   "metadata": {},
   "outputs": [],
   "source": [
    "Qualityset = recordclass(\n",
    "    \"Qualityset\",\n",
    "    [\"q2\", \"q1\", \"q1_j\", \"q1_h\", \"q1_k\", \"q0\"]\n",
    ")\n"
   ]
  },
  {
   "cell_type": "code",
   "execution_count": 18,
   "id": "07996035",
   "metadata": {},
   "outputs": [],
   "source": [
    "recordclass?"
   ]
  },
  {
   "cell_type": "code",
   "execution_count": 21,
   "id": "d5eb82c8",
   "metadata": {},
   "outputs": [],
   "source": [
    "%run ../quality_classes.py"
   ]
  },
  {
   "cell_type": "code",
   "execution_count": 23,
   "id": "f089f798",
   "metadata": {},
   "outputs": [],
   "source": [
    "wserv1 = load_q(1)"
   ]
  },
  {
   "cell_type": "code",
   "execution_count": 27,
   "id": "6f2f52c0",
   "metadata": {},
   "outputs": [
    {
     "data": {
      "text/plain": [
       "115858"
      ]
     },
     "execution_count": 27,
     "metadata": {},
     "output_type": "execute_result"
    }
   ],
   "source": [
    "np.sum(wserv1.q0)"
   ]
  },
  {
   "cell_type": "code",
   "execution_count": 28,
   "id": "a93e5235",
   "metadata": {},
   "outputs": [],
   "source": [
    "wserv5 = load_q(5)"
   ]
  },
  {
   "cell_type": "code",
   "execution_count": 34,
   "id": "db941dfc",
   "metadata": {},
   "outputs": [
    {
     "data": {
      "text/plain": [
       "15799"
      ]
     },
     "execution_count": 34,
     "metadata": {},
     "output_type": "execute_result"
    }
   ],
   "source": [
    "np.sum(wserv5.q0)"
   ]
  },
  {
   "cell_type": "code",
   "execution_count": null,
   "id": "e1eb7a41",
   "metadata": {},
   "outputs": [],
   "source": []
  }
 ],
 "metadata": {
  "kernelspec": {
   "display_name": "Python 3",
   "language": "python",
   "name": "python3"
  },
  "language_info": {
   "codemirror_mode": {
    "name": "ipython",
    "version": 3
   },
   "file_extension": ".py",
   "mimetype": "text/x-python",
   "name": "python",
   "nbconvert_exporter": "python",
   "pygments_lexer": "ipython3",
   "version": "3.7.7"
  }
 },
 "nbformat": 4,
 "nbformat_minor": 5
}
