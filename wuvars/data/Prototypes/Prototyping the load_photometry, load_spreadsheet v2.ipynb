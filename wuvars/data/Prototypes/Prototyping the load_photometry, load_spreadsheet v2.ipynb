{
 "cells": [
  {
   "cell_type": "code",
   "execution_count": 1,
   "id": "spatial-notification",
   "metadata": {},
   "outputs": [],
   "source": [
    "from wuvars.data import photometry, spreadsheet"
   ]
  },
  {
   "cell_type": "code",
   "execution_count": 2,
   "id": "funky-patent",
   "metadata": {},
   "outputs": [
    {
     "name": "stdout",
     "output_type": "stream",
     "text": [
      "Loading WSERV1 photometry data... DONE (elapsed time: 1.30s)\n",
      "Loading WSERV5 photometry data... DONE (elapsed time: 0.12s)\n",
      "Loading WSERV7 photometry data... DONE (elapsed time: 0.14s)\n",
      "Loading WSERV8 photometry data... DONE (elapsed time: 0.11s)\n",
      "Loading WSERV11 photometry data... DONE (elapsed time: 0.18s)\n"
     ]
    }
   ],
   "source": [
    "phot_v1 = photometry.load_v1()"
   ]
  },
  {
   "cell_type": "code",
   "execution_count": 3,
   "id": "organized-lecture",
   "metadata": {},
   "outputs": [
    {
     "name": "stdout",
     "output_type": "stream",
     "text": [
      "Grouping WSERV1 photometry data... DONE (elapsed time: 20.02s)\n",
      "Grouping WSERV5 photometry data... DONE (elapsed time: 2.11s)\n",
      "Grouping WSERV7 photometry data... DONE (elapsed time: 2.10s)\n",
      "Grouping WSERV8 photometry data... DONE (elapsed time: 1.49s)\n",
      "Grouping WSERV11 photometry data... DONE (elapsed time: 2.76s)\n"
     ]
    }
   ],
   "source": [
    "phot_v1_grouped = photometry.load_v1_grouped(phot_v1)"
   ]
  },
  {
   "cell_type": "code",
   "execution_count": 4,
   "id": "renewable-letter",
   "metadata": {},
   "outputs": [],
   "source": [
    "spread_v1 = spreadsheet.load_v1()"
   ]
  },
  {
   "cell_type": "code",
   "execution_count": 6,
   "id": "biological-symphony",
   "metadata": {},
   "outputs": [
    {
     "name": "stdout",
     "output_type": "stream",
     "text": [
      "[17427458, 1989527, 2319765, 1647989, 2989616]\n",
      "[227368, 32888, 21885, 27769, 37947]\n",
      "[17427458, 1989527, 2319765, 1647989, 2989616]\n"
     ]
    }
   ],
   "source": [
    "print([len(x) for x in phot_v1])\n",
    "print([len(x) for x in spread_v1])\n",
    "print([len(x) for x in phot_v1_grouped])"
   ]
  },
  {
   "cell_type": "code",
   "execution_count": 7,
   "id": "instrumental-input",
   "metadata": {},
   "outputs": [
    {
     "name": "stdout",
     "output_type": "stream",
     "text": [
      "Loading WSERV5 photometry data... DONE (elapsed time: 0.18s)\n",
      "Loading WSERV7 photometry data... DONE (elapsed time: 0.22s)\n",
      "Loading WSERV8 photometry data... DONE (elapsed time: 0.15s)\n",
      "Loading WSERV11 photometry data... DONE (elapsed time: 0.25s)\n",
      "Grouping WSERV5 photometry data... DONE (elapsed time: 1.96s)\n",
      "Grouping WSERV7 photometry data... DONE (elapsed time: 2.22s)\n",
      "Grouping WSERV8 photometry data... DONE (elapsed time: 1.54s)\n",
      "Grouping WSERV11 photometry data... DONE (elapsed time: 2.79s)\n"
     ]
    }
   ],
   "source": [
    "phot_v2 = photometry.load_v2()\n",
    "phot_v2_grouped = photometry.load_v2_grouped(phot_v2)"
   ]
  },
  {
   "cell_type": "code",
   "execution_count": 8,
   "id": "anticipated-blade",
   "metadata": {},
   "outputs": [
    {
     "name": "stdout",
     "output_type": "stream",
     "text": [
      "[1989527, 2319765, 1647989, 2989616]\n",
      "[1989527, 2319765, 1647989, 2989616]\n"
     ]
    }
   ],
   "source": [
    "print([len(x) for x in phot_v2])\n",
    "print([len(x) for x in phot_v2_grouped])"
   ]
  },
  {
   "cell_type": "code",
   "execution_count": null,
   "id": "essential-integer",
   "metadata": {},
   "outputs": [],
   "source": []
  }
 ],
 "metadata": {
  "kernelspec": {
   "display_name": "Python 3",
   "language": "python",
   "name": "python3"
  },
  "language_info": {
   "codemirror_mode": {
    "name": "ipython",
    "version": 3
   },
   "file_extension": ".py",
   "mimetype": "text/x-python",
   "name": "python",
   "nbconvert_exporter": "python",
   "pygments_lexer": "ipython3",
   "version": "3.7.7"
  }
 },
 "nbformat": 4,
 "nbformat_minor": 5
}
