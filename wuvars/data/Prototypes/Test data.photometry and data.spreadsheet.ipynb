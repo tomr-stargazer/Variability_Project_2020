{
 "cells": [
  {
   "cell_type": "code",
   "execution_count": 1,
   "id": "herbal-slovak",
   "metadata": {},
   "outputs": [
    {
     "name": "stdout",
     "output_type": "stream",
     "text": [
      "Loading WSERV1 photometry data... DONE (elapsed time: 1.49s)\n",
      "Loading WSERV5 photometry data... DONE (elapsed time: 0.22s)\n",
      "Loading WSERV7 photometry data... DONE (elapsed time: 0.45s)\n",
      "Loading WSERV8 photometry data... DONE (elapsed time: 0.54s)\n",
      "Loading WSERV11 photometry data... DONE (elapsed time: 0.48s)\n"
     ]
    }
   ],
   "source": [
    "from wuvars.data import photometry, spreadsheet"
   ]
  },
  {
   "cell_type": "code",
   "execution_count": 8,
   "id": "animated-sword",
   "metadata": {},
   "outputs": [
    {
     "name": "stdout",
     "output_type": "stream",
     "text": [
      "[17427458, 1989527, 2319765, 1647989, 2989616]\n",
      "[227368, 32888, 21885, 27769, 37947]\n"
     ]
    }
   ],
   "source": [
    "print([len(x) for x in photometry.v1])\n",
    "print([len(x) for x in spreadsheet.v1])"
   ]
  },
  {
   "cell_type": "code",
   "execution_count": null,
   "id": "piano-graduation",
   "metadata": {},
   "outputs": [],
   "source": []
  },
  {
   "cell_type": "code",
   "execution_count": null,
   "id": "human-gates",
   "metadata": {},
   "outputs": [],
   "source": []
  }
 ],
 "metadata": {
  "kernelspec": {
   "display_name": "Python 3",
   "language": "python",
   "name": "python3"
  },
  "language_info": {
   "codemirror_mode": {
    "name": "ipython",
    "version": 3
   },
   "file_extension": ".py",
   "mimetype": "text/x-python",
   "name": "python",
   "nbconvert_exporter": "python",
   "pygments_lexer": "ipython3",
   "version": "3.7.7"
  }
 },
 "nbformat": 4,
 "nbformat_minor": 5
}
