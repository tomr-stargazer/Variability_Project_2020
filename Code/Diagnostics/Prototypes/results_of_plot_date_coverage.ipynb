{
 "cells": [
  {
   "cell_type": "code",
   "execution_count": null,
   "metadata": {},
   "outputs": [
    {
     "name": "stdout",
     "output_type": "stream",
     "text": [
      "['wserv1.fits.gz', 'wserv8.fits.gz', 'wserv11.fits.gz', 'wserv5.fits.gz', 'wserv7.fits.gz']\n",
      "number of dates:  439\n",
      "Elapsed time for 0: 3.90 s\n",
      "number of dates:  378\n",
      "Elapsed time for 1: 2.26 s\n",
      "number of dates:  694\n",
      "Elapsed time for 2: 3.24 s\n",
      "number of dates:  498\n",
      "Elapsed time for 3: 3.18 s\n"
     ]
    }
   ],
   "source": [
    "%run plot_date_coverage.py"
   ]
  },
  {
   "cell_type": "code",
   "execution_count": 2,
   "metadata": {},
   "outputs": [],
   "source": []
  }
 ],
 "metadata": {
  "kernelspec": {
   "display_name": "Python 3",
   "language": "python",
   "name": "python3"
  },
  "language_info": {
   "codemirror_mode": {
    "name": "ipython",
    "version": 3
   },
   "file_extension": ".py",
   "mimetype": "text/x-python",
   "name": "python",
   "nbconvert_exporter": "python",
   "pygments_lexer": "ipython3",
   "version": "3.7.4"
  }
 },
 "nbformat": 4,
 "nbformat_minor": 2
}
